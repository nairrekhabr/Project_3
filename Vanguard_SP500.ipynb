{
 "cells": [
  {
   "cell_type": "code",
   "execution_count": 3,
   "id": "c87949c5-dc06-4387-aba9-79b122ff39a2",
   "metadata": {},
   "outputs": [
    {
     "name": "stdout",
     "output_type": "stream",
     "text": [
      "Collecting yfinance\n",
      "  Using cached yfinance-0.1.64.tar.gz (26 kB)\n",
      "Requirement already satisfied: pandas>=0.24 in /Users/vikramjindal/opt/anaconda3/lib/python3.8/site-packages (from yfinance) (1.0.3)\n",
      "Requirement already satisfied: numpy>=1.15 in /Users/vikramjindal/opt/anaconda3/lib/python3.8/site-packages (from yfinance) (1.19.5)\n",
      "Requirement already satisfied: requests>=2.20 in /Users/vikramjindal/opt/anaconda3/lib/python3.8/site-packages (from yfinance) (2.26.0)\n",
      "Collecting multitasking>=0.0.7\n",
      "  Using cached multitasking-0.0.9.tar.gz (8.1 kB)\n",
      "Requirement already satisfied: lxml>=4.5.1 in /Users/vikramjindal/opt/anaconda3/lib/python3.8/site-packages (from yfinance) (4.6.3)\n",
      "Requirement already satisfied: pytz>=2017.2 in /Users/vikramjindal/opt/anaconda3/lib/python3.8/site-packages (from pandas>=0.24->yfinance) (2021.1)\n",
      "Requirement already satisfied: python-dateutil>=2.6.1 in /Users/vikramjindal/opt/anaconda3/lib/python3.8/site-packages (from pandas>=0.24->yfinance) (2.8.2)\n",
      "Requirement already satisfied: six>=1.5 in /Users/vikramjindal/opt/anaconda3/lib/python3.8/site-packages (from python-dateutil>=2.6.1->pandas>=0.24->yfinance) (1.15.0)\n",
      "Requirement already satisfied: urllib3<1.27,>=1.21.1 in /Users/vikramjindal/opt/anaconda3/lib/python3.8/site-packages (from requests>=2.20->yfinance) (1.26.6)\n",
      "Requirement already satisfied: certifi>=2017.4.17 in /Users/vikramjindal/opt/anaconda3/lib/python3.8/site-packages (from requests>=2.20->yfinance) (2021.10.8)\n",
      "Requirement already satisfied: charset-normalizer~=2.0.0 in /Users/vikramjindal/opt/anaconda3/lib/python3.8/site-packages (from requests>=2.20->yfinance) (2.0.4)\n",
      "Requirement already satisfied: idna<4,>=2.5 in /Users/vikramjindal/opt/anaconda3/lib/python3.8/site-packages (from requests>=2.20->yfinance) (3.2)\n",
      "Building wheels for collected packages: yfinance, multitasking\n",
      "  Building wheel for yfinance (setup.py) ... \u001b[?25ldone\n",
      "\u001b[?25h  Created wheel for yfinance: filename=yfinance-0.1.64-py2.py3-none-any.whl size=24094 sha256=a749d0b52246966aff80a5b5e1321a5a711903caaaf54534f363ea9fa6d5e196\n",
      "  Stored in directory: /Users/vikramjindal/Library/Caches/pip/wheels/f9/e9/7e/8b13db3bf3aeb5049d759e10702736fb96753089ac950fddc0\n",
      "  Building wheel for multitasking (setup.py) ... \u001b[?25ldone\n",
      "\u001b[?25h  Created wheel for multitasking: filename=multitasking-0.0.9-py3-none-any.whl size=8367 sha256=3e898b456b43a4a5642da4de5d4d4bdd7d74c325afec87c6868b37989bacf773\n",
      "  Stored in directory: /Users/vikramjindal/Library/Caches/pip/wheels/57/6d/a3/a39b839cc75274d2acfb1c58bfead2f726c6577fe8c4723f13\n",
      "Successfully built yfinance multitasking\n",
      "Installing collected packages: multitasking, yfinance\n",
      "Successfully installed multitasking-0.0.9 yfinance-0.1.64\n"
     ]
    }
   ],
   "source": [
    "!pip install yfinance\n"
   ]
  },
  {
   "cell_type": "code",
   "execution_count": 132,
   "id": "8ea8800b-768c-4743-bab4-22cfa2bbec3d",
   "metadata": {},
   "outputs": [
    {
     "name": "stdout",
     "output_type": "stream",
     "text": [
      "Requirement already satisfied: hvplot in /Users/vikramjindal/opt/anaconda3/lib/python3.8/site-packages (0.6.0)\n",
      "Requirement already satisfied: bokeh>=1.0.0 in /Users/vikramjindal/opt/anaconda3/lib/python3.8/site-packages (from hvplot) (2.0.2)\n",
      "Requirement already satisfied: colorcet>=2 in /Users/vikramjindal/opt/anaconda3/lib/python3.8/site-packages (from hvplot) (2.0.6)\n",
      "Requirement already satisfied: holoviews>=1.11.0 in /Users/vikramjindal/opt/anaconda3/lib/python3.8/site-packages (from hvplot) (1.13.5)\n",
      "Requirement already satisfied: pandas in /Users/vikramjindal/opt/anaconda3/lib/python3.8/site-packages (from hvplot) (1.0.3)\n",
      "Requirement already satisfied: numpy>=1.15 in /Users/vikramjindal/opt/anaconda3/lib/python3.8/site-packages (from hvplot) (1.19.5)\n",
      "Requirement already satisfied: pillow>=4.0 in /Users/vikramjindal/opt/anaconda3/lib/python3.8/site-packages (from bokeh>=1.0.0->hvplot) (8.3.1)\n",
      "Requirement already satisfied: typing-extensions>=3.7.4 in /Users/vikramjindal/opt/anaconda3/lib/python3.8/site-packages (from bokeh>=1.0.0->hvplot) (3.7.4.3)\n",
      "Requirement already satisfied: PyYAML>=3.10 in /Users/vikramjindal/opt/anaconda3/lib/python3.8/site-packages (from bokeh>=1.0.0->hvplot) (5.4.1)\n",
      "Requirement already satisfied: Jinja2>=2.7 in /Users/vikramjindal/opt/anaconda3/lib/python3.8/site-packages (from bokeh>=1.0.0->hvplot) (2.11.3)\n",
      "Requirement already satisfied: packaging>=16.8 in /Users/vikramjindal/opt/anaconda3/lib/python3.8/site-packages (from bokeh>=1.0.0->hvplot) (21.0)\n",
      "Requirement already satisfied: tornado>=5 in /Users/vikramjindal/opt/anaconda3/lib/python3.8/site-packages (from bokeh>=1.0.0->hvplot) (6.1)\n",
      "Requirement already satisfied: python-dateutil>=2.1 in /Users/vikramjindal/opt/anaconda3/lib/python3.8/site-packages (from bokeh>=1.0.0->hvplot) (2.8.2)\n",
      "Requirement already satisfied: pyct>=0.4.4 in /Users/vikramjindal/opt/anaconda3/lib/python3.8/site-packages (from colorcet>=2->hvplot) (0.4.6)\n",
      "Requirement already satisfied: param>=1.7.0 in /Users/vikramjindal/opt/anaconda3/lib/python3.8/site-packages (from colorcet>=2->hvplot) (1.11.1)\n",
      "Requirement already satisfied: pyviz_comms>=0.7.3 in /Users/vikramjindal/opt/anaconda3/lib/python3.8/site-packages (from holoviews>=1.11.0->hvplot) (2.0.2)\n",
      "Requirement already satisfied: panel>=0.8.0 in /Users/vikramjindal/opt/anaconda3/lib/python3.8/site-packages (from holoviews>=1.11.0->hvplot) (0.9.5)\n",
      "Requirement already satisfied: MarkupSafe>=0.23 in /Users/vikramjindal/opt/anaconda3/lib/python3.8/site-packages (from Jinja2>=2.7->bokeh>=1.0.0->hvplot) (2.0.1)\n",
      "Requirement already satisfied: pyparsing>=2.0.2 in /Users/vikramjindal/opt/anaconda3/lib/python3.8/site-packages (from packaging>=16.8->bokeh>=1.0.0->hvplot) (2.4.7)\n",
      "Requirement already satisfied: markdown in /Users/vikramjindal/opt/anaconda3/lib/python3.8/site-packages (from panel>=0.8.0->holoviews>=1.11.0->hvplot) (3.3.4)\n",
      "Requirement already satisfied: tqdm in /Users/vikramjindal/opt/anaconda3/lib/python3.8/site-packages (from panel>=0.8.0->holoviews>=1.11.0->hvplot) (4.62.1)\n",
      "Requirement already satisfied: six>=1.5 in /Users/vikramjindal/opt/anaconda3/lib/python3.8/site-packages (from python-dateutil>=2.1->bokeh>=1.0.0->hvplot) (1.15.0)\n",
      "Requirement already satisfied: pytz>=2017.2 in /Users/vikramjindal/opt/anaconda3/lib/python3.8/site-packages (from pandas->hvplot) (2021.1)\n"
     ]
    }
   ],
   "source": [
    "!pip install hvplot"
   ]
  },
  {
   "cell_type": "code",
   "execution_count": 133,
   "id": "3dae9543-2065-4e72-bb0f-a0b816b40d0a",
   "metadata": {},
   "outputs": [],
   "source": [
    "# Import libraries and dependencies\n",
    "import pandas as pd\n",
    "from pathlib import Path\n",
    "import numpy as np\n",
    "import yfinance as yf\n",
    "%matplotlib inline\n",
    "from sklearn.linear_model import LinearRegression\n",
    "from sklearn.metrics import mean_squared_error, r2_score"
   ]
  },
  {
   "cell_type": "code",
   "execution_count": 134,
   "id": "40f606e0-f1b4-4714-84e9-951a81cb4518",
   "metadata": {},
   "outputs": [],
   "source": [
    "# Import hvplot\n",
    "import hvplot.pandas"
   ]
  },
  {
   "cell_type": "code",
   "execution_count": 135,
   "id": "93c0ba1c-da23-45b0-a83f-33b547904252",
   "metadata": {},
   "outputs": [],
   "source": [
    "def vanguard_data(ticker):\n",
    "    \n",
    "    ticker = yf.Ticker(ticker)\n",
    "    ticker_hist = ticker.history(period=\"4y\")\n",
    "    ticker_hist = ticker_hist.drop(columns=[\"Open\", \"High\", \"Low\", \"Volume\", \"Dividends\", \"Stock Splits\"])\n",
    "    ticker_hist['Close'] = ticker_hist['Close'].round(2)\n",
    "    \n",
    "    return ticker_hist"
   ]
  },
  {
   "cell_type": "code",
   "execution_count": 136,
   "id": "8d05a58b-5a0c-46e7-af45-dfdace9c2166",
   "metadata": {},
   "outputs": [
    {
     "data": {
      "text/html": [
       "<div>\n",
       "<style scoped>\n",
       "    .dataframe tbody tr th:only-of-type {\n",
       "        vertical-align: middle;\n",
       "    }\n",
       "\n",
       "    .dataframe tbody tr th {\n",
       "        vertical-align: top;\n",
       "    }\n",
       "\n",
       "    .dataframe thead th {\n",
       "        text-align: right;\n",
       "    }\n",
       "</style>\n",
       "<table border=\"1\" class=\"dataframe\">\n",
       "  <thead>\n",
       "    <tr style=\"text-align: right;\">\n",
       "      <th></th>\n",
       "      <th>Close</th>\n",
       "    </tr>\n",
       "    <tr>\n",
       "      <th>Date</th>\n",
       "      <th></th>\n",
       "    </tr>\n",
       "  </thead>\n",
       "  <tbody>\n",
       "    <tr>\n",
       "      <th>2017-10-30</th>\n",
       "      <td>219.32</td>\n",
       "    </tr>\n",
       "    <tr>\n",
       "      <th>2017-10-31</th>\n",
       "      <td>219.57</td>\n",
       "    </tr>\n",
       "    <tr>\n",
       "      <th>2017-11-01</th>\n",
       "      <td>219.95</td>\n",
       "    </tr>\n",
       "    <tr>\n",
       "      <th>2017-11-02</th>\n",
       "      <td>220.05</td>\n",
       "    </tr>\n",
       "    <tr>\n",
       "      <th>2017-11-03</th>\n",
       "      <td>220.78</td>\n",
       "    </tr>\n",
       "    <tr>\n",
       "      <th>...</th>\n",
       "      <td>...</td>\n",
       "    </tr>\n",
       "    <tr>\n",
       "      <th>2021-10-25</th>\n",
       "      <td>418.75</td>\n",
       "    </tr>\n",
       "    <tr>\n",
       "      <th>2021-10-26</th>\n",
       "      <td>419.15</td>\n",
       "    </tr>\n",
       "    <tr>\n",
       "      <th>2021-10-27</th>\n",
       "      <td>417.33</td>\n",
       "    </tr>\n",
       "    <tr>\n",
       "      <th>2021-10-28</th>\n",
       "      <td>421.41</td>\n",
       "    </tr>\n",
       "    <tr>\n",
       "      <th>2021-10-29</th>\n",
       "      <td>422.16</td>\n",
       "    </tr>\n",
       "  </tbody>\n",
       "</table>\n",
       "<p>1008 rows × 1 columns</p>\n",
       "</div>"
      ],
      "text/plain": [
       "             Close\n",
       "Date              \n",
       "2017-10-30  219.32\n",
       "2017-10-31  219.57\n",
       "2017-11-01  219.95\n",
       "2017-11-02  220.05\n",
       "2017-11-03  220.78\n",
       "...            ...\n",
       "2021-10-25  418.75\n",
       "2021-10-26  419.15\n",
       "2021-10-27  417.33\n",
       "2021-10-28  421.41\n",
       "2021-10-29  422.16\n",
       "\n",
       "[1008 rows x 1 columns]"
      ]
     },
     "execution_count": 136,
     "metadata": {},
     "output_type": "execute_result"
    }
   ],
   "source": [
    "#Create dataframe for Vanguard S&P 500\n",
    "vanguard_sp_500 = vanguard_data(\"VOO\")\n",
    "# Create csv file for Vanguard S&P 500\n",
    "vanguard_sp_500.to_csv('./Resources/vanguard_sp_500.csv')\n",
    "\n",
    "vanguard_sp_500"
   ]
  },
  {
   "cell_type": "code",
   "execution_count": 137,
   "id": "74ee34eb-c708-4d5e-bdf3-c691910c6894",
   "metadata": {},
   "outputs": [
    {
     "data": {
      "text/html": [
       "<div>\n",
       "<style scoped>\n",
       "    .dataframe tbody tr th:only-of-type {\n",
       "        vertical-align: middle;\n",
       "    }\n",
       "\n",
       "    .dataframe tbody tr th {\n",
       "        vertical-align: top;\n",
       "    }\n",
       "\n",
       "    .dataframe thead th {\n",
       "        text-align: right;\n",
       "    }\n",
       "</style>\n",
       "<table border=\"1\" class=\"dataframe\">\n",
       "  <thead>\n",
       "    <tr style=\"text-align: right;\">\n",
       "      <th></th>\n",
       "      <th>Close</th>\n",
       "    </tr>\n",
       "    <tr>\n",
       "      <th>Date</th>\n",
       "      <th></th>\n",
       "    </tr>\n",
       "  </thead>\n",
       "  <tbody>\n",
       "    <tr>\n",
       "      <th>2017-10-30</th>\n",
       "      <td>32.32</td>\n",
       "    </tr>\n",
       "    <tr>\n",
       "      <th>2017-10-31</th>\n",
       "      <td>32.39</td>\n",
       "    </tr>\n",
       "    <tr>\n",
       "      <th>2017-11-01</th>\n",
       "      <td>32.43</td>\n",
       "    </tr>\n",
       "    <tr>\n",
       "      <th>2017-11-02</th>\n",
       "      <td>32.46</td>\n",
       "    </tr>\n",
       "    <tr>\n",
       "      <th>2017-11-03</th>\n",
       "      <td>32.50</td>\n",
       "    </tr>\n",
       "  </tbody>\n",
       "</table>\n",
       "</div>"
      ],
      "text/plain": [
       "            Close\n",
       "Date             \n",
       "2017-10-30  32.32\n",
       "2017-10-31  32.39\n",
       "2017-11-01  32.43\n",
       "2017-11-02  32.46\n",
       "2017-11-03  32.50"
      ]
     },
     "execution_count": 137,
     "metadata": {},
     "output_type": "execute_result"
    }
   ],
   "source": [
    "#Create dataframe for Vanguard 2040\n",
    "vanguard_2040 = vanguard_data(\"VFORX\")\n",
    "# Create csv file for Vanguard 2040\n",
    "vanguard_2040.to_csv('./Resources/vanguard_2040.csv')\n",
    "\n",
    "vanguard_2040.head()"
   ]
  },
  {
   "cell_type": "code",
   "execution_count": 138,
   "id": "2c459a1e-9719-4acf-b997-b05cf7d2e156",
   "metadata": {},
   "outputs": [
    {
     "data": {
      "text/html": [
       "<div>\n",
       "<style scoped>\n",
       "    .dataframe tbody tr th:only-of-type {\n",
       "        vertical-align: middle;\n",
       "    }\n",
       "\n",
       "    .dataframe tbody tr th {\n",
       "        vertical-align: top;\n",
       "    }\n",
       "\n",
       "    .dataframe thead th {\n",
       "        text-align: right;\n",
       "    }\n",
       "</style>\n",
       "<table border=\"1\" class=\"dataframe\">\n",
       "  <thead>\n",
       "    <tr style=\"text-align: right;\">\n",
       "      <th></th>\n",
       "      <th>Close</th>\n",
       "    </tr>\n",
       "    <tr>\n",
       "      <th>Date</th>\n",
       "      <th></th>\n",
       "    </tr>\n",
       "  </thead>\n",
       "  <tbody>\n",
       "    <tr>\n",
       "      <th>2021-10-25</th>\n",
       "      <td>50.19</td>\n",
       "    </tr>\n",
       "    <tr>\n",
       "      <th>2021-10-26</th>\n",
       "      <td>50.21</td>\n",
       "    </tr>\n",
       "    <tr>\n",
       "      <th>2021-10-27</th>\n",
       "      <td>49.98</td>\n",
       "    </tr>\n",
       "    <tr>\n",
       "      <th>2021-10-28</th>\n",
       "      <td>50.35</td>\n",
       "    </tr>\n",
       "    <tr>\n",
       "      <th>2021-10-29</th>\n",
       "      <td>50.23</td>\n",
       "    </tr>\n",
       "  </tbody>\n",
       "</table>\n",
       "</div>"
      ],
      "text/plain": [
       "            Close\n",
       "Date             \n",
       "2021-10-25  50.19\n",
       "2021-10-26  50.21\n",
       "2021-10-27  49.98\n",
       "2021-10-28  50.35\n",
       "2021-10-29  50.23"
      ]
     },
     "execution_count": 138,
     "metadata": {},
     "output_type": "execute_result"
    }
   ],
   "source": [
    "vanguard_2040.tail()"
   ]
  },
  {
   "cell_type": "markdown",
   "id": "8674be89-84a5-4f6b-983b-417bc96e9500",
   "metadata": {},
   "source": [
    "Prepare Data"
   ]
  },
  {
   "cell_type": "code",
   "execution_count": 139,
   "id": "6e3cbe66-0d9b-4a67-bfc7-e5d36ce536ce",
   "metadata": {},
   "outputs": [
    {
     "name": "stdout",
     "output_type": "stream",
     "text": [
      "[*********************100%***********************]  1 of 1 completed\n"
     ]
    },
    {
     "data": {
      "text/html": [
       "<div>\n",
       "<style scoped>\n",
       "    .dataframe tbody tr th:only-of-type {\n",
       "        vertical-align: middle;\n",
       "    }\n",
       "\n",
       "    .dataframe tbody tr th {\n",
       "        vertical-align: top;\n",
       "    }\n",
       "\n",
       "    .dataframe thead th {\n",
       "        text-align: right;\n",
       "    }\n",
       "</style>\n",
       "<table border=\"1\" class=\"dataframe\">\n",
       "  <thead>\n",
       "    <tr style=\"text-align: right;\">\n",
       "      <th></th>\n",
       "      <th>Open</th>\n",
       "      <th>High</th>\n",
       "      <th>Low</th>\n",
       "      <th>Close</th>\n",
       "      <th>Adj Close</th>\n",
       "      <th>Volume</th>\n",
       "    </tr>\n",
       "    <tr>\n",
       "      <th>Date</th>\n",
       "      <th></th>\n",
       "      <th></th>\n",
       "      <th></th>\n",
       "      <th></th>\n",
       "      <th></th>\n",
       "      <th></th>\n",
       "    </tr>\n",
       "  </thead>\n",
       "  <tbody>\n",
       "    <tr>\n",
       "      <th>2015-01-02</th>\n",
       "      <td>29.730000</td>\n",
       "      <td>29.730000</td>\n",
       "      <td>29.730000</td>\n",
       "      <td>29.730000</td>\n",
       "      <td>25.821632</td>\n",
       "      <td>0</td>\n",
       "    </tr>\n",
       "    <tr>\n",
       "      <th>2015-01-05</th>\n",
       "      <td>29.250000</td>\n",
       "      <td>29.250000</td>\n",
       "      <td>29.250000</td>\n",
       "      <td>29.250000</td>\n",
       "      <td>25.404734</td>\n",
       "      <td>0</td>\n",
       "    </tr>\n",
       "    <tr>\n",
       "      <th>2015-01-06</th>\n",
       "      <td>29.010000</td>\n",
       "      <td>29.010000</td>\n",
       "      <td>29.010000</td>\n",
       "      <td>29.010000</td>\n",
       "      <td>25.196285</td>\n",
       "      <td>0</td>\n",
       "    </tr>\n",
       "    <tr>\n",
       "      <th>2015-01-07</th>\n",
       "      <td>29.290001</td>\n",
       "      <td>29.290001</td>\n",
       "      <td>29.290001</td>\n",
       "      <td>29.290001</td>\n",
       "      <td>25.439478</td>\n",
       "      <td>0</td>\n",
       "    </tr>\n",
       "    <tr>\n",
       "      <th>2015-01-08</th>\n",
       "      <td>29.730000</td>\n",
       "      <td>29.730000</td>\n",
       "      <td>29.730000</td>\n",
       "      <td>29.730000</td>\n",
       "      <td>25.821632</td>\n",
       "      <td>0</td>\n",
       "    </tr>\n",
       "  </tbody>\n",
       "</table>\n",
       "</div>"
      ],
      "text/plain": [
       "                 Open       High        Low      Close  Adj Close  Volume\n",
       "Date                                                                     \n",
       "2015-01-02  29.730000  29.730000  29.730000  29.730000  25.821632       0\n",
       "2015-01-05  29.250000  29.250000  29.250000  29.250000  25.404734       0\n",
       "2015-01-06  29.010000  29.010000  29.010000  29.010000  25.196285       0\n",
       "2015-01-07  29.290001  29.290001  29.290001  29.290001  25.439478       0\n",
       "2015-01-08  29.730000  29.730000  29.730000  29.730000  25.821632       0"
      ]
     },
     "execution_count": 139,
     "metadata": {},
     "output_type": "execute_result"
    }
   ],
   "source": [
    "vanguard_2040_returns = yf.download(\"VFORX\", start=\"2015-01-01\", end=\"2021-10-26\")\n",
    "vanguard_2040_returns.to_csv('./Resources/vanguard_2040_daily_returs.csv')\n",
    "vanguard_2040_returns.head()\n"
   ]
  },
  {
   "cell_type": "code",
   "execution_count": 140,
   "id": "fbc874e0-830b-4277-a2c8-026b70b20726",
   "metadata": {},
   "outputs": [
    {
     "data": {
      "text/html": [
       "<div>\n",
       "<style scoped>\n",
       "    .dataframe tbody tr th:only-of-type {\n",
       "        vertical-align: middle;\n",
       "    }\n",
       "\n",
       "    .dataframe tbody tr th {\n",
       "        vertical-align: top;\n",
       "    }\n",
       "\n",
       "    .dataframe thead th {\n",
       "        text-align: right;\n",
       "    }\n",
       "</style>\n",
       "<table border=\"1\" class=\"dataframe\">\n",
       "  <thead>\n",
       "    <tr style=\"text-align: right;\">\n",
       "      <th></th>\n",
       "      <th>Open</th>\n",
       "      <th>High</th>\n",
       "      <th>Low</th>\n",
       "      <th>Close</th>\n",
       "      <th>Adj Close</th>\n",
       "      <th>Volume</th>\n",
       "    </tr>\n",
       "    <tr>\n",
       "      <th>Date</th>\n",
       "      <th></th>\n",
       "      <th></th>\n",
       "      <th></th>\n",
       "      <th></th>\n",
       "      <th></th>\n",
       "      <th></th>\n",
       "    </tr>\n",
       "  </thead>\n",
       "  <tbody>\n",
       "    <tr>\n",
       "      <th>2021-10-19</th>\n",
       "      <td>49.930000</td>\n",
       "      <td>49.930000</td>\n",
       "      <td>49.930000</td>\n",
       "      <td>49.930000</td>\n",
       "      <td>49.930000</td>\n",
       "      <td>0</td>\n",
       "    </tr>\n",
       "    <tr>\n",
       "      <th>2021-10-20</th>\n",
       "      <td>50.060001</td>\n",
       "      <td>50.060001</td>\n",
       "      <td>50.060001</td>\n",
       "      <td>50.060001</td>\n",
       "      <td>50.060001</td>\n",
       "      <td>0</td>\n",
       "    </tr>\n",
       "    <tr>\n",
       "      <th>2021-10-21</th>\n",
       "      <td>50.040001</td>\n",
       "      <td>50.040001</td>\n",
       "      <td>50.040001</td>\n",
       "      <td>50.040001</td>\n",
       "      <td>50.040001</td>\n",
       "      <td>0</td>\n",
       "    </tr>\n",
       "    <tr>\n",
       "      <th>2021-10-22</th>\n",
       "      <td>50.049999</td>\n",
       "      <td>50.049999</td>\n",
       "      <td>50.049999</td>\n",
       "      <td>50.049999</td>\n",
       "      <td>50.049999</td>\n",
       "      <td>0</td>\n",
       "    </tr>\n",
       "    <tr>\n",
       "      <th>2021-10-25</th>\n",
       "      <td>50.189999</td>\n",
       "      <td>50.189999</td>\n",
       "      <td>50.189999</td>\n",
       "      <td>50.189999</td>\n",
       "      <td>50.189999</td>\n",
       "      <td>0</td>\n",
       "    </tr>\n",
       "  </tbody>\n",
       "</table>\n",
       "</div>"
      ],
      "text/plain": [
       "                 Open       High        Low      Close  Adj Close  Volume\n",
       "Date                                                                     \n",
       "2021-10-19  49.930000  49.930000  49.930000  49.930000  49.930000       0\n",
       "2021-10-20  50.060001  50.060001  50.060001  50.060001  50.060001       0\n",
       "2021-10-21  50.040001  50.040001  50.040001  50.040001  50.040001       0\n",
       "2021-10-22  50.049999  50.049999  50.049999  50.049999  50.049999       0\n",
       "2021-10-25  50.189999  50.189999  50.189999  50.189999  50.189999       0"
      ]
     },
     "execution_count": 140,
     "metadata": {},
     "output_type": "execute_result"
    }
   ],
   "source": [
    "vanguard_2040_returns.tail()"
   ]
  },
  {
   "cell_type": "code",
   "execution_count": 141,
   "id": "77bca7a5-937b-4767-a8fc-68cfa0f39868",
   "metadata": {},
   "outputs": [
    {
     "name": "stdout",
     "output_type": "stream",
     "text": [
      "[*********************100%***********************]  1 of 1 completed\n"
     ]
    },
    {
     "data": {
      "text/html": [
       "<div>\n",
       "<style scoped>\n",
       "    .dataframe tbody tr th:only-of-type {\n",
       "        vertical-align: middle;\n",
       "    }\n",
       "\n",
       "    .dataframe tbody tr th {\n",
       "        vertical-align: top;\n",
       "    }\n",
       "\n",
       "    .dataframe thead th {\n",
       "        text-align: right;\n",
       "    }\n",
       "</style>\n",
       "<table border=\"1\" class=\"dataframe\">\n",
       "  <thead>\n",
       "    <tr style=\"text-align: right;\">\n",
       "      <th></th>\n",
       "      <th>Open</th>\n",
       "      <th>High</th>\n",
       "      <th>Low</th>\n",
       "      <th>Close</th>\n",
       "      <th>Adj Close</th>\n",
       "      <th>Volume</th>\n",
       "    </tr>\n",
       "    <tr>\n",
       "      <th>Date</th>\n",
       "      <th></th>\n",
       "      <th></th>\n",
       "      <th></th>\n",
       "      <th></th>\n",
       "      <th></th>\n",
       "      <th></th>\n",
       "    </tr>\n",
       "  </thead>\n",
       "  <tbody>\n",
       "    <tr>\n",
       "      <th>2015-01-02</th>\n",
       "      <td>189.289993</td>\n",
       "      <td>189.720001</td>\n",
       "      <td>187.259995</td>\n",
       "      <td>188.399994</td>\n",
       "      <td>165.598755</td>\n",
       "      <td>1865000</td>\n",
       "    </tr>\n",
       "    <tr>\n",
       "      <th>2015-01-05</th>\n",
       "      <td>187.259995</td>\n",
       "      <td>187.410004</td>\n",
       "      <td>184.660004</td>\n",
       "      <td>185.089996</td>\n",
       "      <td>162.689362</td>\n",
       "      <td>2734700</td>\n",
       "    </tr>\n",
       "    <tr>\n",
       "      <th>2015-01-06</th>\n",
       "      <td>185.369995</td>\n",
       "      <td>185.880005</td>\n",
       "      <td>182.360001</td>\n",
       "      <td>183.270004</td>\n",
       "      <td>161.089645</td>\n",
       "      <td>2245300</td>\n",
       "    </tr>\n",
       "    <tr>\n",
       "      <th>2015-01-07</th>\n",
       "      <td>184.729996</td>\n",
       "      <td>185.910004</td>\n",
       "      <td>184.229996</td>\n",
       "      <td>185.559998</td>\n",
       "      <td>163.102493</td>\n",
       "      <td>2305600</td>\n",
       "    </tr>\n",
       "    <tr>\n",
       "      <th>2015-01-08</th>\n",
       "      <td>187.130005</td>\n",
       "      <td>189.050003</td>\n",
       "      <td>187.070007</td>\n",
       "      <td>188.820007</td>\n",
       "      <td>165.967957</td>\n",
       "      <td>1740600</td>\n",
       "    </tr>\n",
       "  </tbody>\n",
       "</table>\n",
       "</div>"
      ],
      "text/plain": [
       "                  Open        High         Low       Close   Adj Close  \\\n",
       "Date                                                                     \n",
       "2015-01-02  189.289993  189.720001  187.259995  188.399994  165.598755   \n",
       "2015-01-05  187.259995  187.410004  184.660004  185.089996  162.689362   \n",
       "2015-01-06  185.369995  185.880005  182.360001  183.270004  161.089645   \n",
       "2015-01-07  184.729996  185.910004  184.229996  185.559998  163.102493   \n",
       "2015-01-08  187.130005  189.050003  187.070007  188.820007  165.967957   \n",
       "\n",
       "             Volume  \n",
       "Date                 \n",
       "2015-01-02  1865000  \n",
       "2015-01-05  2734700  \n",
       "2015-01-06  2245300  \n",
       "2015-01-07  2305600  \n",
       "2015-01-08  1740600  "
      ]
     },
     "execution_count": 141,
     "metadata": {},
     "output_type": "execute_result"
    }
   ],
   "source": [
    "vanguard_sp500_returns = yf.download(\"VOO\", start=\"2015-01-01\", end=\"2021-10-27\")\n",
    "vanguard_sp500_returns.to_csv('./Resources/vanguard_SP500_daily_returs.csv')\n",
    "vanguard_sp500_returns.head()"
   ]
  },
  {
   "cell_type": "code",
   "execution_count": 142,
   "id": "e3052469-856e-4f6d-9396-5f7a8250590f",
   "metadata": {},
   "outputs": [
    {
     "data": {
      "text/html": [
       "<div>\n",
       "<style scoped>\n",
       "    .dataframe tbody tr th:only-of-type {\n",
       "        vertical-align: middle;\n",
       "    }\n",
       "\n",
       "    .dataframe tbody tr th {\n",
       "        vertical-align: top;\n",
       "    }\n",
       "\n",
       "    .dataframe thead th {\n",
       "        text-align: right;\n",
       "    }\n",
       "</style>\n",
       "<table border=\"1\" class=\"dataframe\">\n",
       "  <thead>\n",
       "    <tr style=\"text-align: right;\">\n",
       "      <th></th>\n",
       "      <th>Open</th>\n",
       "      <th>High</th>\n",
       "      <th>Low</th>\n",
       "      <th>Close</th>\n",
       "      <th>Adj Close</th>\n",
       "      <th>Volume</th>\n",
       "    </tr>\n",
       "    <tr>\n",
       "      <th>Date</th>\n",
       "      <th></th>\n",
       "      <th></th>\n",
       "      <th></th>\n",
       "      <th></th>\n",
       "      <th></th>\n",
       "      <th></th>\n",
       "    </tr>\n",
       "  </thead>\n",
       "  <tbody>\n",
       "    <tr>\n",
       "      <th>2021-10-20</th>\n",
       "      <td>414.739990</td>\n",
       "      <td>416.220001</td>\n",
       "      <td>414.649994</td>\n",
       "      <td>415.989990</td>\n",
       "      <td>415.989990</td>\n",
       "      <td>3208200</td>\n",
       "    </tr>\n",
       "    <tr>\n",
       "      <th>2021-10-21</th>\n",
       "      <td>415.380005</td>\n",
       "      <td>417.239990</td>\n",
       "      <td>414.940002</td>\n",
       "      <td>417.010010</td>\n",
       "      <td>417.010010</td>\n",
       "      <td>2579500</td>\n",
       "    </tr>\n",
       "    <tr>\n",
       "      <th>2021-10-22</th>\n",
       "      <td>416.579987</td>\n",
       "      <td>418.000000</td>\n",
       "      <td>414.700012</td>\n",
       "      <td>416.589996</td>\n",
       "      <td>416.589996</td>\n",
       "      <td>3648400</td>\n",
       "    </tr>\n",
       "    <tr>\n",
       "      <th>2021-10-25</th>\n",
       "      <td>417.640015</td>\n",
       "      <td>419.140015</td>\n",
       "      <td>415.929993</td>\n",
       "      <td>418.750000</td>\n",
       "      <td>418.750000</td>\n",
       "      <td>2511500</td>\n",
       "    </tr>\n",
       "    <tr>\n",
       "      <th>2021-10-26</th>\n",
       "      <td>420.269989</td>\n",
       "      <td>421.529999</td>\n",
       "      <td>418.859985</td>\n",
       "      <td>419.149994</td>\n",
       "      <td>419.149994</td>\n",
       "      <td>3085300</td>\n",
       "    </tr>\n",
       "  </tbody>\n",
       "</table>\n",
       "</div>"
      ],
      "text/plain": [
       "                  Open        High         Low       Close   Adj Close  \\\n",
       "Date                                                                     \n",
       "2021-10-20  414.739990  416.220001  414.649994  415.989990  415.989990   \n",
       "2021-10-21  415.380005  417.239990  414.940002  417.010010  417.010010   \n",
       "2021-10-22  416.579987  418.000000  414.700012  416.589996  416.589996   \n",
       "2021-10-25  417.640015  419.140015  415.929993  418.750000  418.750000   \n",
       "2021-10-26  420.269989  421.529999  418.859985  419.149994  419.149994   \n",
       "\n",
       "             Volume  \n",
       "Date                 \n",
       "2021-10-20  3208200  \n",
       "2021-10-21  2579500  \n",
       "2021-10-22  3648400  \n",
       "2021-10-25  2511500  \n",
       "2021-10-26  3085300  "
      ]
     },
     "execution_count": 142,
     "metadata": {},
     "output_type": "execute_result"
    }
   ],
   "source": [
    "vanguard_sp500_returns.tail()"
   ]
  },
  {
   "cell_type": "markdown",
   "id": "e90e9f1f-1b68-4a69-a57c-5324180208f1",
   "metadata": {},
   "source": [
    " ### Vanguard 2040 Risk Statistics for 3yrs,5yrs & 10yrs"
   ]
  },
  {
   "cell_type": "code",
   "execution_count": 143,
   "id": "5cc28a53-1ca3-48b7-b3f3-3e1e29f2f65e",
   "metadata": {},
   "outputs": [
    {
     "data": {
      "text/html": [
       "<div>\n",
       "<style scoped>\n",
       "    .dataframe tbody tr th:only-of-type {\n",
       "        vertical-align: middle;\n",
       "    }\n",
       "\n",
       "    .dataframe tbody tr th {\n",
       "        vertical-align: top;\n",
       "    }\n",
       "\n",
       "    .dataframe thead th {\n",
       "        text-align: right;\n",
       "    }\n",
       "</style>\n",
       "<table border=\"1\" class=\"dataframe\">\n",
       "  <thead>\n",
       "    <tr style=\"text-align: right;\">\n",
       "      <th></th>\n",
       "      <th>Risk_Statistics</th>\n",
       "      <th>VFORX_3yrs</th>\n",
       "      <th>Category_Average_3yrs</th>\n",
       "      <th>VFORX_5yrs</th>\n",
       "      <th>Category_Average_5yrs</th>\n",
       "      <th>VFORX_10yrs</th>\n",
       "      <th>Category_Average_10yrs</th>\n",
       "    </tr>\n",
       "  </thead>\n",
       "  <tbody>\n",
       "    <tr>\n",
       "      <th>0</th>\n",
       "      <td>Alpha</td>\n",
       "      <td>-1.11</td>\n",
       "      <td>-0.01</td>\n",
       "      <td>-0.13</td>\n",
       "      <td>-0.01</td>\n",
       "      <td>-0.43</td>\n",
       "      <td>-0.01</td>\n",
       "    </tr>\n",
       "    <tr>\n",
       "      <th>1</th>\n",
       "      <td>Beta</td>\n",
       "      <td>1.35</td>\n",
       "      <td>0.01</td>\n",
       "      <td>1.35</td>\n",
       "      <td>0.01</td>\n",
       "      <td>1.40</td>\n",
       "      <td>0.01</td>\n",
       "    </tr>\n",
       "    <tr>\n",
       "      <th>2</th>\n",
       "      <td>Mean Annual Return</td>\n",
       "      <td>1.14</td>\n",
       "      <td>0.01</td>\n",
       "      <td>1.11</td>\n",
       "      <td>0.01</td>\n",
       "      <td>0.89</td>\n",
       "      <td>0.01</td>\n",
       "    </tr>\n",
       "    <tr>\n",
       "      <th>3</th>\n",
       "      <td>R-squared</td>\n",
       "      <td>99.16</td>\n",
       "      <td>0.98</td>\n",
       "      <td>98.97</td>\n",
       "      <td>0.98</td>\n",
       "      <td>98.20</td>\n",
       "      <td>0.97</td>\n",
       "    </tr>\n",
       "    <tr>\n",
       "      <th>4</th>\n",
       "      <td>Standard Deviation</td>\n",
       "      <td>15.39</td>\n",
       "      <td>0.15</td>\n",
       "      <td>12.42</td>\n",
       "      <td>0.13</td>\n",
       "      <td>12.01</td>\n",
       "      <td>0.12</td>\n",
       "    </tr>\n",
       "    <tr>\n",
       "      <th>5</th>\n",
       "      <td>Sharpe Ratio</td>\n",
       "      <td>0.81</td>\n",
       "      <td>0.01</td>\n",
       "      <td>0.98</td>\n",
       "      <td>0.01</td>\n",
       "      <td>0.84</td>\n",
       "      <td>0.01</td>\n",
       "    </tr>\n",
       "    <tr>\n",
       "      <th>6</th>\n",
       "      <td>Treynor Ratio</td>\n",
       "      <td>8.96</td>\n",
       "      <td>0.09</td>\n",
       "      <td>9.00</td>\n",
       "      <td>0.09</td>\n",
       "      <td>7.00</td>\n",
       "      <td>0.07</td>\n",
       "    </tr>\n",
       "  </tbody>\n",
       "</table>\n",
       "</div>"
      ],
      "text/plain": [
       "      Risk_Statistics  VFORX_3yrs  Category_Average_3yrs  VFORX_5yrs  \\\n",
       "0               Alpha       -1.11                  -0.01       -0.13   \n",
       "1                Beta        1.35                   0.01        1.35   \n",
       "2  Mean Annual Return        1.14                   0.01        1.11   \n",
       "3           R-squared       99.16                   0.98       98.97   \n",
       "4  Standard Deviation       15.39                   0.15       12.42   \n",
       "5        Sharpe Ratio        0.81                   0.01        0.98   \n",
       "6       Treynor Ratio        8.96                   0.09        9.00   \n",
       "\n",
       "   Category_Average_5yrs  VFORX_10yrs  Category_Average_10yrs  \n",
       "0                  -0.01        -0.43                   -0.01  \n",
       "1                   0.01         1.40                    0.01  \n",
       "2                   0.01         0.89                    0.01  \n",
       "3                   0.98        98.20                    0.97  \n",
       "4                   0.13        12.01                    0.12  \n",
       "5                   0.01         0.84                    0.01  \n",
       "6                   0.09         7.00                    0.07  "
      ]
     },
     "execution_count": 143,
     "metadata": {},
     "output_type": "execute_result"
    }
   ],
   "source": [
    "# Set the path to fetch risk Statistics for Vanguard 2040(VFORX)\n",
    "file_path = Path('./Resources/vanguard_2040_riskstatistics.csv')\n",
    "\n",
    "# Read in the CSV as a DataFrame\n",
    "vanguard_2040_riskstatistics = pd.read_csv(file_path)\n",
    "# Display\n",
    "vanguard_2040_riskstatistics"
   ]
  },
  {
   "cell_type": "markdown",
   "id": "06d3eeda-e53a-45b9-badc-74796f15d9e5",
   "metadata": {},
   "source": [
    "### Vanguard SP500 Risk Statistics for 3yrs, 5yrs & 10 yrs"
   ]
  },
  {
   "cell_type": "code",
   "execution_count": 144,
   "id": "f671b30d-0933-4d00-b4ad-3df0a02fe3cf",
   "metadata": {},
   "outputs": [
    {
     "data": {
      "text/html": [
       "<div>\n",
       "<style scoped>\n",
       "    .dataframe tbody tr th:only-of-type {\n",
       "        vertical-align: middle;\n",
       "    }\n",
       "\n",
       "    .dataframe tbody tr th {\n",
       "        vertical-align: top;\n",
       "    }\n",
       "\n",
       "    .dataframe thead th {\n",
       "        text-align: right;\n",
       "    }\n",
       "</style>\n",
       "<table border=\"1\" class=\"dataframe\">\n",
       "  <thead>\n",
       "    <tr style=\"text-align: right;\">\n",
       "      <th></th>\n",
       "      <th>Risk_Statistics</th>\n",
       "      <th>VOO_3yrs</th>\n",
       "      <th>Category_Average_3yrs</th>\n",
       "      <th>VOO_5yrs</th>\n",
       "      <th>Category_Average_5yrs</th>\n",
       "      <th>VOO_10yrs</th>\n",
       "      <th>Category_Average_10yrs</th>\n",
       "    </tr>\n",
       "  </thead>\n",
       "  <tbody>\n",
       "    <tr>\n",
       "      <th>0</th>\n",
       "      <td>Alpha</td>\n",
       "      <td>-0.03</td>\n",
       "      <td>-0.65</td>\n",
       "      <td>-0.04</td>\n",
       "      <td>-0.48</td>\n",
       "      <td>-0.04</td>\n",
       "      <td>0.15</td>\n",
       "    </tr>\n",
       "    <tr>\n",
       "      <th>1</th>\n",
       "      <td>Beta</td>\n",
       "      <td>1.00</td>\n",
       "      <td>0.98</td>\n",
       "      <td>1.00</td>\n",
       "      <td>1.00</td>\n",
       "      <td>1.00</td>\n",
       "      <td>1.00</td>\n",
       "    </tr>\n",
       "    <tr>\n",
       "      <th>2</th>\n",
       "      <td>Mean Annual Return</td>\n",
       "      <td>1.58</td>\n",
       "      <td>0.86</td>\n",
       "      <td>1.45</td>\n",
       "      <td>1.28</td>\n",
       "      <td>1.23</td>\n",
       "      <td>0.69</td>\n",
       "    </tr>\n",
       "    <tr>\n",
       "      <th>3</th>\n",
       "      <td>R-squared</td>\n",
       "      <td>100.00</td>\n",
       "      <td>94.06</td>\n",
       "      <td>100.00</td>\n",
       "      <td>95.34</td>\n",
       "      <td>100.00</td>\n",
       "      <td>96.99</td>\n",
       "    </tr>\n",
       "    <tr>\n",
       "      <th>4</th>\n",
       "      <td>Standard Deviation</td>\n",
       "      <td>18.53</td>\n",
       "      <td>10.90</td>\n",
       "      <td>14.99</td>\n",
       "      <td>11.38</td>\n",
       "      <td>13.59</td>\n",
       "      <td>15.42</td>\n",
       "    </tr>\n",
       "    <tr>\n",
       "      <th>5</th>\n",
       "      <td>Sharpe Ratio</td>\n",
       "      <td>0.95</td>\n",
       "      <td>0.94</td>\n",
       "      <td>1.08</td>\n",
       "      <td>1.34</td>\n",
       "      <td>1.04</td>\n",
       "      <td>0.48</td>\n",
       "    </tr>\n",
       "    <tr>\n",
       "      <th>6</th>\n",
       "      <td>Treynor Ratio</td>\n",
       "      <td>17.41</td>\n",
       "      <td>10.38</td>\n",
       "      <td>16.46</td>\n",
       "      <td>15.73</td>\n",
       "      <td>14.19</td>\n",
       "      <td>6.54</td>\n",
       "    </tr>\n",
       "  </tbody>\n",
       "</table>\n",
       "</div>"
      ],
      "text/plain": [
       "      Risk_Statistics  VOO_3yrs  Category_Average_3yrs  VOO_5yrs  \\\n",
       "0               Alpha     -0.03                  -0.65     -0.04   \n",
       "1                Beta      1.00                   0.98      1.00   \n",
       "2  Mean Annual Return      1.58                   0.86      1.45   \n",
       "3           R-squared    100.00                  94.06    100.00   \n",
       "4  Standard Deviation     18.53                  10.90     14.99   \n",
       "5        Sharpe Ratio      0.95                   0.94      1.08   \n",
       "6       Treynor Ratio     17.41                  10.38     16.46   \n",
       "\n",
       "   Category_Average_5yrs  VOO_10yrs  Category_Average_10yrs  \n",
       "0                  -0.48      -0.04                    0.15  \n",
       "1                   1.00       1.00                    1.00  \n",
       "2                   1.28       1.23                    0.69  \n",
       "3                  95.34     100.00                   96.99  \n",
       "4                  11.38      13.59                   15.42  \n",
       "5                   1.34       1.04                    0.48  \n",
       "6                  15.73      14.19                    6.54  "
      ]
     },
     "execution_count": 144,
     "metadata": {},
     "output_type": "execute_result"
    }
   ],
   "source": [
    "# Set the path to fetch risk Statistics for Vanguard SP500 ETF(VOO)\n",
    "file_path = Path('./Resources/vanguard_SP500_riskstatistics.csv')\n",
    "\n",
    "# Read in the CSV as a DataFrame\n",
    "vanguard_SP500_riskstatistics = pd.read_csv(file_path)\n",
    "# Display\n",
    "vanguard_SP500_riskstatistics"
   ]
  },
  {
   "cell_type": "markdown",
   "id": "3782ff69-53b8-4213-8315-12117d6bcb1e",
   "metadata": {},
   "source": [
    "### Plot the graph for the Risk Statistics of vanguard_sp500(VOO)"
   ]
  },
  {
   "cell_type": "code",
   "execution_count": 145,
   "id": "7044c60d-29db-4757-89fa-d607d9bb49c9",
   "metadata": {},
   "outputs": [
    {
     "data": {
      "text/html": [
       "<div>\n",
       "<style scoped>\n",
       "    .dataframe tbody tr th:only-of-type {\n",
       "        vertical-align: middle;\n",
       "    }\n",
       "\n",
       "    .dataframe tbody tr th {\n",
       "        vertical-align: top;\n",
       "    }\n",
       "\n",
       "    .dataframe thead th {\n",
       "        text-align: right;\n",
       "    }\n",
       "</style>\n",
       "<table border=\"1\" class=\"dataframe\">\n",
       "  <thead>\n",
       "    <tr style=\"text-align: right;\">\n",
       "      <th></th>\n",
       "      <th>Risk</th>\n",
       "      <th>3</th>\n",
       "      <th>5</th>\n",
       "      <th>10</th>\n",
       "    </tr>\n",
       "  </thead>\n",
       "  <tbody>\n",
       "    <tr>\n",
       "      <th>0</th>\n",
       "      <td>Alpha</td>\n",
       "      <td>-0.03</td>\n",
       "      <td>-0.04</td>\n",
       "      <td>-0.04</td>\n",
       "    </tr>\n",
       "    <tr>\n",
       "      <th>1</th>\n",
       "      <td>Beta</td>\n",
       "      <td>1.00</td>\n",
       "      <td>1.00</td>\n",
       "      <td>1.00</td>\n",
       "    </tr>\n",
       "    <tr>\n",
       "      <th>2</th>\n",
       "      <td>Mean Annual Return</td>\n",
       "      <td>1.58</td>\n",
       "      <td>1.45</td>\n",
       "      <td>1.23</td>\n",
       "    </tr>\n",
       "    <tr>\n",
       "      <th>3</th>\n",
       "      <td>R-squared</td>\n",
       "      <td>100.00</td>\n",
       "      <td>100.00</td>\n",
       "      <td>100.00</td>\n",
       "    </tr>\n",
       "    <tr>\n",
       "      <th>4</th>\n",
       "      <td>Standard Deviation</td>\n",
       "      <td>18.53</td>\n",
       "      <td>14.99</td>\n",
       "      <td>13.59</td>\n",
       "    </tr>\n",
       "    <tr>\n",
       "      <th>5</th>\n",
       "      <td>Sharpe Ratio</td>\n",
       "      <td>0.95</td>\n",
       "      <td>1.08</td>\n",
       "      <td>1.04</td>\n",
       "    </tr>\n",
       "    <tr>\n",
       "      <th>6</th>\n",
       "      <td>Treynor Ratio</td>\n",
       "      <td>17.41</td>\n",
       "      <td>16.46</td>\n",
       "      <td>14.19</td>\n",
       "    </tr>\n",
       "  </tbody>\n",
       "</table>\n",
       "</div>"
      ],
      "text/plain": [
       "                 Risk       3       5      10\n",
       "0               Alpha   -0.03   -0.04   -0.04\n",
       "1                Beta    1.00    1.00    1.00\n",
       "2  Mean Annual Return    1.58    1.45    1.23\n",
       "3           R-squared  100.00  100.00  100.00\n",
       "4  Standard Deviation   18.53   14.99   13.59\n",
       "5        Sharpe Ratio    0.95    1.08    1.04\n",
       "6       Treynor Ratio   17.41   16.46   14.19"
      ]
     },
     "execution_count": 145,
     "metadata": {},
     "output_type": "execute_result"
    }
   ],
   "source": [
    "## Set the X & Y axis \n",
    "vanguard_sp500 = pd.DataFrame({'Risk':vanguard_SP500_riskstatistics.Risk_Statistics,'3': vanguard_SP500_riskstatistics.VOO_3yrs,'5': vanguard_SP500_riskstatistics.VOO_5yrs,'10': vanguard_SP500_riskstatistics.VOO_10yrs })\n",
    "vanguard_sp500"
   ]
  },
  {
   "cell_type": "code",
   "execution_count": 146,
   "id": "456be017-8593-439d-b981-3f28b1523e1e",
   "metadata": {},
   "outputs": [
    {
     "data": {
      "text/html": [
       "<div>\n",
       "<style scoped>\n",
       "    .dataframe tbody tr th:only-of-type {\n",
       "        vertical-align: middle;\n",
       "    }\n",
       "\n",
       "    .dataframe tbody tr th {\n",
       "        vertical-align: top;\n",
       "    }\n",
       "\n",
       "    .dataframe thead th {\n",
       "        text-align: right;\n",
       "    }\n",
       "</style>\n",
       "<table border=\"1\" class=\"dataframe\">\n",
       "  <thead>\n",
       "    <tr style=\"text-align: right;\">\n",
       "      <th></th>\n",
       "      <th>3</th>\n",
       "      <th>5</th>\n",
       "      <th>10</th>\n",
       "    </tr>\n",
       "    <tr>\n",
       "      <th>Risk</th>\n",
       "      <th></th>\n",
       "      <th></th>\n",
       "      <th></th>\n",
       "    </tr>\n",
       "  </thead>\n",
       "  <tbody>\n",
       "    <tr>\n",
       "      <th>Alpha</th>\n",
       "      <td>-0.03</td>\n",
       "      <td>-0.04</td>\n",
       "      <td>-0.04</td>\n",
       "    </tr>\n",
       "    <tr>\n",
       "      <th>Beta</th>\n",
       "      <td>1.00</td>\n",
       "      <td>1.00</td>\n",
       "      <td>1.00</td>\n",
       "    </tr>\n",
       "    <tr>\n",
       "      <th>Mean Annual Return</th>\n",
       "      <td>1.58</td>\n",
       "      <td>1.45</td>\n",
       "      <td>1.23</td>\n",
       "    </tr>\n",
       "    <tr>\n",
       "      <th>R-squared</th>\n",
       "      <td>100.00</td>\n",
       "      <td>100.00</td>\n",
       "      <td>100.00</td>\n",
       "    </tr>\n",
       "    <tr>\n",
       "      <th>Standard Deviation</th>\n",
       "      <td>18.53</td>\n",
       "      <td>14.99</td>\n",
       "      <td>13.59</td>\n",
       "    </tr>\n",
       "    <tr>\n",
       "      <th>Sharpe Ratio</th>\n",
       "      <td>0.95</td>\n",
       "      <td>1.08</td>\n",
       "      <td>1.04</td>\n",
       "    </tr>\n",
       "    <tr>\n",
       "      <th>Treynor Ratio</th>\n",
       "      <td>17.41</td>\n",
       "      <td>16.46</td>\n",
       "      <td>14.19</td>\n",
       "    </tr>\n",
       "  </tbody>\n",
       "</table>\n",
       "</div>"
      ],
      "text/plain": [
       "                         3       5      10\n",
       "Risk                                      \n",
       "Alpha                -0.03   -0.04   -0.04\n",
       "Beta                  1.00    1.00    1.00\n",
       "Mean Annual Return    1.58    1.45    1.23\n",
       "R-squared           100.00  100.00  100.00\n",
       "Standard Deviation   18.53   14.99   13.59\n",
       "Sharpe Ratio          0.95    1.08    1.04\n",
       "Treynor Ratio        17.41   16.46   14.19"
      ]
     },
     "execution_count": 146,
     "metadata": {},
     "output_type": "execute_result"
    }
   ],
   "source": [
    "# Set Index\n",
    "vanguard_sp500.set_index('Risk')"
   ]
  },
  {
   "cell_type": "code",
   "execution_count": 147,
   "id": "6311b82e-38ff-46e8-9579-52b8c685a09a",
   "metadata": {},
   "outputs": [
    {
     "data": {
      "text/html": [
       "<div>\n",
       "<style scoped>\n",
       "    .dataframe tbody tr th:only-of-type {\n",
       "        vertical-align: middle;\n",
       "    }\n",
       "\n",
       "    .dataframe tbody tr th {\n",
       "        vertical-align: top;\n",
       "    }\n",
       "\n",
       "    .dataframe thead th {\n",
       "        text-align: right;\n",
       "    }\n",
       "</style>\n",
       "<table border=\"1\" class=\"dataframe\">\n",
       "  <thead>\n",
       "    <tr style=\"text-align: right;\">\n",
       "      <th></th>\n",
       "      <th>3</th>\n",
       "      <th>5</th>\n",
       "      <th>10</th>\n",
       "    </tr>\n",
       "    <tr>\n",
       "      <th>Risk</th>\n",
       "      <th></th>\n",
       "      <th></th>\n",
       "      <th></th>\n",
       "    </tr>\n",
       "  </thead>\n",
       "  <tbody>\n",
       "    <tr>\n",
       "      <th>Alpha</th>\n",
       "      <td>-0.03</td>\n",
       "      <td>-0.04</td>\n",
       "      <td>-0.04</td>\n",
       "    </tr>\n",
       "    <tr>\n",
       "      <th>Beta</th>\n",
       "      <td>1.00</td>\n",
       "      <td>1.00</td>\n",
       "      <td>1.00</td>\n",
       "    </tr>\n",
       "    <tr>\n",
       "      <th>Mean Annual Return</th>\n",
       "      <td>1.58</td>\n",
       "      <td>1.45</td>\n",
       "      <td>1.23</td>\n",
       "    </tr>\n",
       "    <tr>\n",
       "      <th>R-squared</th>\n",
       "      <td>100.00</td>\n",
       "      <td>100.00</td>\n",
       "      <td>100.00</td>\n",
       "    </tr>\n",
       "    <tr>\n",
       "      <th>Standard Deviation</th>\n",
       "      <td>18.53</td>\n",
       "      <td>14.99</td>\n",
       "      <td>13.59</td>\n",
       "    </tr>\n",
       "    <tr>\n",
       "      <th>Sharpe Ratio</th>\n",
       "      <td>0.95</td>\n",
       "      <td>1.08</td>\n",
       "      <td>1.04</td>\n",
       "    </tr>\n",
       "    <tr>\n",
       "      <th>Treynor Ratio</th>\n",
       "      <td>17.41</td>\n",
       "      <td>16.46</td>\n",
       "      <td>14.19</td>\n",
       "    </tr>\n",
       "  </tbody>\n",
       "</table>\n",
       "</div>"
      ],
      "text/plain": [
       "                         3       5      10\n",
       "Risk                                      \n",
       "Alpha                -0.03   -0.04   -0.04\n",
       "Beta                  1.00    1.00    1.00\n",
       "Mean Annual Return    1.58    1.45    1.23\n",
       "R-squared           100.00  100.00  100.00\n",
       "Standard Deviation   18.53   14.99   13.59\n",
       "Sharpe Ratio          0.95    1.08    1.04\n",
       "Treynor Ratio        17.41   16.46   14.19"
      ]
     },
     "execution_count": 147,
     "metadata": {},
     "output_type": "execute_result"
    }
   ],
   "source": [
    "# Set Index\n",
    "vanguard_sp500.set_index('Risk')"
   ]
  },
  {
   "cell_type": "code",
   "execution_count": 148,
   "id": "fabb5f3d-ed54-4263-9d56-522bbcca4a55",
   "metadata": {},
   "outputs": [
    {
     "data": {},
     "metadata": {},
     "output_type": "display_data"
    },
    {
     "data": {
      "application/vnd.holoviews_exec.v0+json": "",
      "text/html": [
       "<div id='2558'>\n",
       "\n",
       "\n",
       "\n",
       "\n",
       "\n",
       "  <div class=\"bk-root\" id=\"fb1c2b70-3e82-4787-bb6c-97b7a1b36ffa\" data-root-id=\"2558\"></div>\n",
       "</div>\n",
       "<script type=\"application/javascript\">(function(root) {\n",
       "  function embed_document(root) {\n",
       "  var docs_json = {\"0d0eba48-b581-44ed-af21-dbe2f3bed343\":{\"roots\":{\"references\":[{\"attributes\":{},\"id\":\"2631\",\"type\":\"UnionRenderers\"},{\"attributes\":{\"line_alpha\":0.1,\"line_color\":\"#1f77b3\",\"line_width\":2,\"x\":{\"field\":\"Risk\"},\"y\":{\"field\":\"value\"}},\"id\":\"2604\",\"type\":\"Line\"},{\"attributes\":{\"axis_label\":\"Risk Value\",\"bounds\":\"auto\",\"formatter\":{\"id\":\"2596\"},\"major_label_orientation\":\"horizontal\",\"ticker\":{\"id\":\"2578\"}},\"id\":\"2577\",\"type\":\"LinearAxis\"},{\"attributes\":{},\"id\":\"2578\",\"type\":\"BasicTicker\"},{\"attributes\":{\"axis\":{\"id\":\"2577\"},\"dimension\":1,\"ticker\":{\"id\":\"2578\"}},\"id\":\"2580\",\"type\":\"Grid\"},{\"attributes\":{},\"id\":\"2582\",\"type\":\"PanTool\"},{\"attributes\":{\"end\":100,\"reset_end\":100,\"reset_start\":-2,\"start\":-2,\"tags\":[[[\"value\",\"value\",null]]]},\"id\":\"2561\",\"type\":\"Range1d\"},{\"attributes\":{},\"id\":\"2581\",\"type\":\"SaveTool\"},{\"attributes\":{},\"id\":\"2583\",\"type\":\"WheelZoomTool\"},{\"attributes\":{\"active_drag\":\"auto\",\"active_inspect\":\"auto\",\"active_multi\":null,\"active_scroll\":\"auto\",\"active_tap\":\"auto\",\"tools\":[{\"id\":\"2562\"},{\"id\":\"2581\"},{\"id\":\"2582\"},{\"id\":\"2583\"},{\"id\":\"2584\"},{\"id\":\"2585\"}]},\"id\":\"2587\",\"type\":\"Toolbar\"},{\"attributes\":{\"line_color\":\"#2ba02b\",\"line_width\":2,\"x\":{\"field\":\"Risk\"},\"y\":{\"field\":\"value\"}},\"id\":\"2636\",\"type\":\"Line\"},{\"attributes\":{\"children\":[{\"id\":\"2559\"},{\"id\":\"2565\"},{\"id\":\"2748\"}],\"margin\":[0,0,0,0],\"name\":\"Row05318\",\"tags\":[\"embedded\"]},\"id\":\"2558\",\"type\":\"Row\"},{\"attributes\":{\"data_source\":{\"id\":\"2633\"},\"glyph\":{\"id\":\"2636\"},\"hover_glyph\":null,\"muted_glyph\":{\"id\":\"2638\"},\"nonselection_glyph\":{\"id\":\"2637\"},\"selection_glyph\":null,\"view\":{\"id\":\"2640\"}},\"id\":\"2639\",\"type\":\"GlyphRenderer\"},{\"attributes\":{\"overlay\":{\"id\":\"2586\"}},\"id\":\"2584\",\"type\":\"BoxZoomTool\"},{\"attributes\":{},\"id\":\"2585\",\"type\":\"ResetTool\"},{\"attributes\":{\"data\":{\"Risk\":[\"Alpha\",\"Beta\",\"Mean Annual Return\",\"R-squared\",\"Standard Deviation\",\"Sharpe Ratio\",\"Treynor Ratio\"],\"Variable\":[\"3\",\"3\",\"3\",\"3\",\"3\",\"3\",\"3\"],\"value\":{\"__ndarray__\":\"uB6F61G4nr8AAAAAAADwP0jhehSuR/k/AAAAAAAAWUBI4XoUrocyQGZmZmZmZu4/KVyPwvVoMUA=\",\"dtype\":\"float64\",\"shape\":[7]}},\"selected\":{\"id\":\"2601\"},\"selection_policy\":{\"id\":\"2631\"}},\"id\":\"2600\",\"type\":\"ColumnDataSource\"},{\"attributes\":{\"label\":{\"value\":\"10\"},\"renderers\":[{\"id\":\"2639\"}]},\"id\":\"2651\",\"type\":\"LegendItem\"},{\"attributes\":{},\"id\":\"2594\",\"type\":\"CategoricalTickFormatter\"},{\"attributes\":{\"line_alpha\":0.2,\"line_color\":\"#ff7e0e\",\"line_width\":2,\"x\":{\"field\":\"Risk\"},\"y\":{\"field\":\"value\"}},\"id\":\"2621\",\"type\":\"Line\"},{\"attributes\":{\"line_alpha\":0.1,\"line_color\":\"#2ba02b\",\"line_width\":2,\"x\":{\"field\":\"Risk\"},\"y\":{\"field\":\"value\"}},\"id\":\"2637\",\"type\":\"Line\"},{\"attributes\":{\"line_alpha\":0.2,\"line_color\":\"#2ba02b\",\"line_width\":2,\"x\":{\"field\":\"Risk\"},\"y\":{\"field\":\"value\"}},\"id\":\"2638\",\"type\":\"Line\"},{\"attributes\":{\"axis\":{\"id\":\"2574\"},\"ticker\":{\"id\":\"2575\"}},\"id\":\"2576\",\"type\":\"Grid\"},{\"attributes\":{\"below\":[{\"id\":\"2574\"}],\"center\":[{\"id\":\"2576\"},{\"id\":\"2580\"}],\"left\":[{\"id\":\"2577\"}],\"margin\":null,\"min_border_bottom\":10,\"min_border_left\":10,\"min_border_right\":10,\"min_border_top\":10,\"plot_width\":800,\"renderers\":[{\"id\":\"2606\"},{\"id\":\"2622\"},{\"id\":\"2639\"}],\"right\":[{\"id\":\"2614\"}],\"sizing_mode\":\"fixed\",\"title\":{\"id\":\"2566\"},\"toolbar\":{\"id\":\"2587\"},\"x_range\":{\"id\":\"2560\"},\"x_scale\":{\"id\":\"2570\"},\"y_range\":{\"id\":\"2561\"},\"y_scale\":{\"id\":\"2572\"}},\"id\":\"2565\",\"subtype\":\"Figure\",\"type\":\"Plot\"},{\"attributes\":{\"label\":{\"value\":\"3\"},\"renderers\":[{\"id\":\"2606\"}]},\"id\":\"2615\",\"type\":\"LegendItem\"},{\"attributes\":{\"line_color\":\"#ff7e0e\",\"line_width\":2,\"x\":{\"field\":\"Risk\"},\"y\":{\"field\":\"value\"}},\"id\":\"2619\",\"type\":\"Line\"},{\"attributes\":{\"source\":{\"id\":\"2633\"}},\"id\":\"2640\",\"type\":\"CDSView\"},{\"attributes\":{},\"id\":\"2634\",\"type\":\"Selection\"},{\"attributes\":{},\"id\":\"2663\",\"type\":\"UnionRenderers\"},{\"attributes\":{\"label\":{\"value\":\"5\"},\"renderers\":[{\"id\":\"2622\"}]},\"id\":\"2632\",\"type\":\"LegendItem\"},{\"attributes\":{\"margin\":[5,5,5,5],\"name\":\"HSpacer05323\",\"sizing_mode\":\"stretch_width\"},\"id\":\"2748\",\"type\":\"Spacer\"},{\"attributes\":{\"margin\":[5,5,5,5],\"name\":\"HSpacer05322\",\"sizing_mode\":\"stretch_width\"},\"id\":\"2559\",\"type\":\"Spacer\"},{\"attributes\":{\"source\":{\"id\":\"2616\"}},\"id\":\"2623\",\"type\":\"CDSView\"},{\"attributes\":{},\"id\":\"2617\",\"type\":\"Selection\"},{\"attributes\":{\"data\":{\"Risk\":[\"Alpha\",\"Beta\",\"Mean Annual Return\",\"R-squared\",\"Standard Deviation\",\"Sharpe Ratio\",\"Treynor Ratio\"],\"Variable\":[\"10\",\"10\",\"10\",\"10\",\"10\",\"10\",\"10\"],\"value\":{\"__ndarray__\":\"exSuR+F6pL8AAAAAAADwP65H4XoUrvM/AAAAAAAAWUCuR+F6FC4rQKRwPQrXo/A/4XoUrkdhLEA=\",\"dtype\":\"float64\",\"shape\":[7]}},\"selected\":{\"id\":\"2634\"},\"selection_policy\":{\"id\":\"2663\"}},\"id\":\"2633\",\"type\":\"ColumnDataSource\"},{\"attributes\":{},\"id\":\"2596\",\"type\":\"BasicTickFormatter\"},{\"attributes\":{\"line_alpha\":0.1,\"line_color\":\"#ff7e0e\",\"line_width\":2,\"x\":{\"field\":\"Risk\"},\"y\":{\"field\":\"value\"}},\"id\":\"2620\",\"type\":\"Line\"},{\"attributes\":{\"line_alpha\":0.2,\"line_color\":\"#1f77b3\",\"line_width\":2,\"x\":{\"field\":\"Risk\"},\"y\":{\"field\":\"value\"}},\"id\":\"2605\",\"type\":\"Line\"},{\"attributes\":{\"bottom_units\":\"screen\",\"fill_alpha\":0.5,\"fill_color\":\"lightgrey\",\"left_units\":\"screen\",\"level\":\"overlay\",\"line_alpha\":1.0,\"line_color\":\"black\",\"line_dash\":[4,4],\"line_width\":2,\"render_mode\":\"css\",\"right_units\":\"screen\",\"top_units\":\"screen\"},\"id\":\"2586\",\"type\":\"BoxAnnotation\"},{\"attributes\":{\"data_source\":{\"id\":\"2616\"},\"glyph\":{\"id\":\"2619\"},\"hover_glyph\":null,\"muted_glyph\":{\"id\":\"2621\"},\"nonselection_glyph\":{\"id\":\"2620\"},\"selection_glyph\":null,\"view\":{\"id\":\"2623\"}},\"id\":\"2622\",\"type\":\"GlyphRenderer\"},{\"attributes\":{\"axis_label\":\"Time Period 3 yrs, 5yrs & 10yrs\",\"bounds\":\"auto\",\"formatter\":{\"id\":\"2594\"},\"major_label_orientation\":\"horizontal\",\"ticker\":{\"id\":\"2575\"}},\"id\":\"2574\",\"type\":\"CategoricalAxis\"},{\"attributes\":{\"click_policy\":\"mute\",\"items\":[{\"id\":\"2615\"},{\"id\":\"2632\"},{\"id\":\"2651\"}],\"location\":[0,0],\"title\":\"Variable\"},\"id\":\"2614\",\"type\":\"Legend\"},{\"attributes\":{\"data\":{\"Risk\":[\"Alpha\",\"Beta\",\"Mean Annual Return\",\"R-squared\",\"Standard Deviation\",\"Sharpe Ratio\",\"Treynor Ratio\"],\"Variable\":[\"5\",\"5\",\"5\",\"5\",\"5\",\"5\",\"5\"],\"value\":{\"__ndarray__\":\"exSuR+F6pL8AAAAAAADwPzMzMzMzM/c/AAAAAAAAWUB7FK5H4fotQEjhehSuR/E/9ihcj8J1MEA=\",\"dtype\":\"float64\",\"shape\":[7]}},\"selected\":{\"id\":\"2617\"},\"selection_policy\":{\"id\":\"2650\"}},\"id\":\"2616\",\"type\":\"ColumnDataSource\"},{\"attributes\":{\"line_color\":\"#1f77b3\",\"line_width\":2,\"x\":{\"field\":\"Risk\"},\"y\":{\"field\":\"value\"}},\"id\":\"2603\",\"type\":\"Line\"},{\"attributes\":{},\"id\":\"2570\",\"type\":\"CategoricalScale\"},{\"attributes\":{},\"id\":\"2601\",\"type\":\"Selection\"},{\"attributes\":{\"factors\":[\"Alpha\",\"Beta\",\"Mean Annual Return\",\"R-squared\",\"Standard Deviation\",\"Sharpe Ratio\",\"Treynor Ratio\"],\"tags\":[[[\"Risk\",\"Risk\",null]]]},\"id\":\"2560\",\"type\":\"FactorRange\"},{\"attributes\":{\"data_source\":{\"id\":\"2600\"},\"glyph\":{\"id\":\"2603\"},\"hover_glyph\":null,\"muted_glyph\":{\"id\":\"2605\"},\"nonselection_glyph\":{\"id\":\"2604\"},\"selection_glyph\":null,\"view\":{\"id\":\"2607\"}},\"id\":\"2606\",\"type\":\"GlyphRenderer\"},{\"attributes\":{\"text\":\"Risk Statistics Vanguard S&P 500 ETF\",\"text_color\":{\"value\":\"black\"},\"text_font_size\":{\"value\":\"12pt\"}},\"id\":\"2566\",\"type\":\"Title\"},{\"attributes\":{\"callback\":null,\"renderers\":[{\"id\":\"2606\"},{\"id\":\"2622\"},{\"id\":\"2639\"}],\"tags\":[\"hv_created\"],\"tooltips\":[[\"Variable\",\"@{Variable}\"],[\"Risk\",\"@{Risk}\"],[\"value\",\"@{value}\"]]},\"id\":\"2562\",\"type\":\"HoverTool\"},{\"attributes\":{},\"id\":\"2650\",\"type\":\"UnionRenderers\"},{\"attributes\":{\"source\":{\"id\":\"2600\"}},\"id\":\"2607\",\"type\":\"CDSView\"},{\"attributes\":{},\"id\":\"2575\",\"type\":\"CategoricalTicker\"},{\"attributes\":{},\"id\":\"2572\",\"type\":\"LinearScale\"}],\"root_ids\":[\"2558\"]},\"title\":\"Bokeh Application\",\"version\":\"2.0.2\"}};\n",
       "  var render_items = [{\"docid\":\"0d0eba48-b581-44ed-af21-dbe2f3bed343\",\"root_ids\":[\"2558\"],\"roots\":{\"2558\":\"fb1c2b70-3e82-4787-bb6c-97b7a1b36ffa\"}}];\n",
       "  root.Bokeh.embed.embed_items_notebook(docs_json, render_items);\n",
       "  }\n",
       "if (root.Bokeh !== undefined) {\n",
       "    embed_document(root);\n",
       "  } else {\n",
       "    var attempts = 0;\n",
       "    var timer = setInterval(function(root) {\n",
       "      if (root.Bokeh !== undefined) {\n",
       "        clearInterval(timer);\n",
       "        embed_document(root);\n",
       "      } else if (document.readyState == \"complete\") {\n",
       "        attempts++;\n",
       "        if (attempts > 100) {\n",
       "          clearInterval(timer);\n",
       "          console.log(\"Bokeh: ERROR: Unable to run BokehJS code because BokehJS library is missing\");\n",
       "        }\n",
       "      }\n",
       "    }, 10, root)\n",
       "  }\n",
       "})(window);</script>"
      ],
      "text/plain": [
       ":NdOverlay   [Variable]\n",
       "   :Curve   [Risk]   (value)"
      ]
     },
     "execution_count": 148,
     "metadata": {
      "application/vnd.holoviews_exec.v0+json": {
       "id": "2558"
      }
     },
     "output_type": "execute_result"
    }
   ],
   "source": [
    "## Plot the vanguard sp500 Risk line graph for 3,5 & 10 yrs\n",
    "vanguard_sp500.hvplot.line(x='Risk', \n",
    "                    y=['3', '5', '10'], \n",
    "                    width=800, \n",
    "                    height=600,  \n",
    "                    title='Risk Statistics Vanguard S&P 500 ETF',\n",
    "                    ylim=(-2,100),\n",
    "                    xlabel='Time Period 3 yrs, 5yrs & 10yrs',\n",
    "                    ylabel='Risk Value',\n",
    "                    grid=True)"
   ]
  },
  {
   "cell_type": "code",
   "execution_count": 149,
   "id": "3d37de0e-e3f0-42f1-8040-943ffac1537c",
   "metadata": {
    "tags": []
   },
   "outputs": [
    {
     "data": {},
     "metadata": {},
     "output_type": "display_data"
    },
    {
     "data": {
      "application/vnd.holoviews_exec.v0+json": "",
      "text/html": [
       "<div id='2810'>\n",
       "\n",
       "\n",
       "\n",
       "\n",
       "\n",
       "  <div class=\"bk-root\" id=\"ded09288-2309-488a-b928-e73cfdc3dc48\" data-root-id=\"2810\"></div>\n",
       "</div>\n",
       "<script type=\"application/javascript\">(function(root) {\n",
       "  function embed_document(root) {\n",
       "  var docs_json = {\"83eef275-29ba-458a-952d-fefbc2556080\":{\"roots\":{\"references\":[{\"attributes\":{},\"id\":\"2831\",\"type\":\"SaveTool\"},{\"attributes\":{},\"id\":\"2832\",\"type\":\"PanTool\"},{\"attributes\":{},\"id\":\"2828\",\"type\":\"BasicTicker\"},{\"attributes\":{},\"id\":\"2833\",\"type\":\"WheelZoomTool\"},{\"attributes\":{\"active_drag\":\"auto\",\"active_inspect\":\"auto\",\"active_multi\":null,\"active_scroll\":\"auto\",\"active_tap\":\"auto\",\"tools\":[{\"id\":\"2814\"},{\"id\":\"2831\"},{\"id\":\"2832\"},{\"id\":\"2833\"},{\"id\":\"2834\"},{\"id\":\"2835\"}]},\"id\":\"2837\",\"type\":\"Toolbar\"},{\"attributes\":{\"end\":100,\"reset_end\":100,\"reset_start\":-2,\"start\":-2,\"tags\":[[[\"value\",\"value\",null]]]},\"id\":\"2813\",\"type\":\"Range1d\"},{\"attributes\":{\"overlay\":{\"id\":\"2836\"}},\"id\":\"2834\",\"type\":\"BoxZoomTool\"},{\"attributes\":{\"below\":[{\"id\":\"2824\"}],\"center\":[{\"id\":\"2826\"},{\"id\":\"2830\"}],\"left\":[{\"id\":\"2827\"}],\"margin\":null,\"min_border_bottom\":10,\"min_border_left\":10,\"min_border_right\":10,\"min_border_top\":10,\"plot_height\":400,\"plot_width\":700,\"renderers\":[{\"id\":\"2851\"}],\"sizing_mode\":\"fixed\",\"title\":{\"id\":\"2816\"},\"toolbar\":{\"id\":\"2837\"},\"x_range\":{\"id\":\"2812\"},\"x_scale\":{\"id\":\"2820\"},\"y_range\":{\"id\":\"2813\"},\"y_scale\":{\"id\":\"2822\"}},\"id\":\"2815\",\"subtype\":\"Figure\",\"type\":\"Plot\"},{\"attributes\":{},\"id\":\"2835\",\"type\":\"ResetTool\"},{\"attributes\":{\"data_source\":{\"id\":\"2845\"},\"glyph\":{\"id\":\"2848\"},\"hover_glyph\":null,\"muted_glyph\":{\"id\":\"2850\"},\"nonselection_glyph\":{\"id\":\"2849\"},\"selection_glyph\":null,\"view\":{\"id\":\"2852\"}},\"id\":\"2851\",\"type\":\"GlyphRenderer\"},{\"attributes\":{\"source\":{\"id\":\"2845\"}},\"id\":\"2852\",\"type\":\"CDSView\"},{\"attributes\":{\"fill_alpha\":{\"value\":0.1},\"fill_color\":{\"field\":\"Variable\",\"transform\":{\"id\":\"2844\"}},\"line_alpha\":{\"value\":0.1},\"top\":{\"field\":\"value\"},\"width\":{\"value\":0.8},\"x\":{\"field\":\"xoffsets\"}},\"id\":\"2849\",\"type\":\"VBar\"},{\"attributes\":{},\"id\":\"2846\",\"type\":\"Selection\"},{\"attributes\":{},\"id\":\"2825\",\"type\":\"CategoricalTicker\"},{\"attributes\":{\"data\":{\"Risk\":[\"Alpha\",\"Beta\",\"Mean Annual Return\",\"R-squared\",\"Standard Deviation\",\"Sharpe Ratio\",\"Treynor Ratio\",\"Alpha\",\"Beta\",\"Mean Annual Return\",\"R-squared\",\"Standard Deviation\",\"Sharpe Ratio\",\"Treynor Ratio\",\"Alpha\",\"Beta\",\"Mean Annual Return\",\"R-squared\",\"Standard Deviation\",\"Sharpe Ratio\",\"Treynor Ratio\"],\"Variable\":[\"3\",\"3\",\"3\",\"3\",\"3\",\"3\",\"3\",\"5\",\"5\",\"5\",\"5\",\"5\",\"5\",\"5\",\"10\",\"10\",\"10\",\"10\",\"10\",\"10\",\"10\"],\"value\":{\"__ndarray__\":\"uB6F61G4nr8AAAAAAADwP0jhehSuR/k/AAAAAAAAWUBI4XoUrocyQGZmZmZmZu4/KVyPwvVoMUB7FK5H4XqkvwAAAAAAAPA/MzMzMzMz9z8AAAAAAABZQHsUrkfh+i1ASOF6FK5H8T/2KFyPwnUwQHsUrkfheqS/AAAAAAAA8D+uR+F6FK7zPwAAAAAAAFlArkfhehQuK0CkcD0K16PwP+F6FK5HYSxA\",\"dtype\":\"float64\",\"shape\":[21]},\"xoffsets\":[[\"Alpha\",\"3\"],[\"Beta\",\"3\"],[\"Mean Annual Return\",\"3\"],[\"R-squared\",\"3\"],[\"Standard Deviation\",\"3\"],[\"Sharpe Ratio\",\"3\"],[\"Treynor Ratio\",\"3\"],[\"Alpha\",\"5\"],[\"Beta\",\"5\"],[\"Mean Annual Return\",\"5\"],[\"R-squared\",\"5\"],[\"Standard Deviation\",\"5\"],[\"Sharpe Ratio\",\"5\"],[\"Treynor Ratio\",\"5\"],[\"Alpha\",\"10\"],[\"Beta\",\"10\"],[\"Mean Annual Return\",\"10\"],[\"R-squared\",\"10\"],[\"Standard Deviation\",\"10\"],[\"Sharpe Ratio\",\"10\"],[\"Treynor Ratio\",\"10\"]]},\"selected\":{\"id\":\"2846\"},\"selection_policy\":{\"id\":\"2866\"}},\"id\":\"2845\",\"type\":\"ColumnDataSource\"},{\"attributes\":{\"fill_color\":{\"field\":\"Variable\",\"transform\":{\"id\":\"2844\"}},\"top\":{\"field\":\"value\"},\"width\":{\"value\":0.8},\"x\":{\"field\":\"xoffsets\"}},\"id\":\"2848\",\"type\":\"VBar\"},{\"attributes\":{},\"id\":\"2866\",\"type\":\"UnionRenderers\"},{\"attributes\":{},\"id\":\"2820\",\"type\":\"CategoricalScale\"},{\"attributes\":{\"bottom_units\":\"screen\",\"fill_alpha\":0.5,\"fill_color\":\"lightgrey\",\"left_units\":\"screen\",\"level\":\"overlay\",\"line_alpha\":1.0,\"line_color\":\"black\",\"line_dash\":[4,4],\"line_width\":2,\"render_mode\":\"css\",\"right_units\":\"screen\",\"top_units\":\"screen\"},\"id\":\"2836\",\"type\":\"BoxAnnotation\"},{\"attributes\":{\"children\":[{\"id\":\"2811\"},{\"id\":\"2815\"},{\"id\":\"2867\"}],\"margin\":[0,0,0,0],\"name\":\"Row05875\",\"tags\":[\"embedded\"]},\"id\":\"2810\",\"type\":\"Row\"},{\"attributes\":{\"factors\":[[\"Alpha\",\"10\"],[\"Alpha\",\"5\"],[\"Alpha\",\"3\"],[\"Beta\",\"10\"],[\"Beta\",\"5\"],[\"Beta\",\"3\"],[\"Mean Annual Return\",\"10\"],[\"Mean Annual Return\",\"5\"],[\"Mean Annual Return\",\"3\"],[\"R-squared\",\"10\"],[\"R-squared\",\"5\"],[\"R-squared\",\"3\"],[\"Standard Deviation\",\"10\"],[\"Standard Deviation\",\"5\"],[\"Standard Deviation\",\"3\"],[\"Sharpe Ratio\",\"10\"],[\"Sharpe Ratio\",\"5\"],[\"Sharpe Ratio\",\"3\"],[\"Treynor Ratio\",\"10\"],[\"Treynor Ratio\",\"5\"],[\"Treynor Ratio\",\"3\"]],\"tags\":[[[\"Risk\",\"Risk\",null],[\"Variable\",\"Variable\",null]]]},\"id\":\"2812\",\"type\":\"FactorRange\"},{\"attributes\":{\"fill_alpha\":{\"value\":0.2},\"fill_color\":{\"field\":\"Variable\",\"transform\":{\"id\":\"2844\"}},\"line_alpha\":{\"value\":0.2},\"top\":{\"field\":\"value\"},\"width\":{\"value\":0.8},\"x\":{\"field\":\"xoffsets\"}},\"id\":\"2850\",\"type\":\"VBar\"},{\"attributes\":{\"axis_label\":\"Risk Value\",\"bounds\":\"auto\",\"formatter\":{\"id\":\"2855\"},\"major_label_orientation\":\"horizontal\",\"ticker\":{\"id\":\"2828\"}},\"id\":\"2827\",\"type\":\"LinearAxis\"},{\"attributes\":{},\"id\":\"2853\",\"type\":\"CategoricalTickFormatter\"},{\"attributes\":{\"factors\":[\"3\",\"5\",\"10\"],\"palette\":[\"#1f77b3\",\"#ff7e0e\",\"#2ba02b\"]},\"id\":\"2844\",\"type\":\"CategoricalColorMapper\"},{\"attributes\":{\"margin\":[5,5,5,5],\"name\":\"HSpacer05879\",\"sizing_mode\":\"stretch_width\"},\"id\":\"2811\",\"type\":\"Spacer\"},{\"attributes\":{\"text\":\"Risk Statistics Vanguard S&P 500 ETF\",\"text_color\":{\"value\":\"black\"},\"text_font_size\":{\"value\":\"12pt\"}},\"id\":\"2816\",\"type\":\"Title\"},{\"attributes\":{\"axis_label\":\"Time Period 3 yrs, 5yrs & 10yrs \",\"bounds\":\"auto\",\"formatter\":{\"id\":\"2853\"},\"major_label_orientation\":\"horizontal\",\"ticker\":{\"id\":\"2825\"}},\"id\":\"2824\",\"type\":\"CategoricalAxis\"},{\"attributes\":{\"callback\":null,\"renderers\":[{\"id\":\"2851\"}],\"tags\":[\"hv_created\"],\"tooltips\":[[\"Risk\",\"@{Risk}\"],[\"Variable\",\"@{Variable}\"],[\"value\",\"@{value}\"]]},\"id\":\"2814\",\"type\":\"HoverTool\"},{\"attributes\":{\"axis\":{\"id\":\"2824\"},\"ticker\":{\"id\":\"2825\"}},\"id\":\"2826\",\"type\":\"Grid\"},{\"attributes\":{\"axis\":{\"id\":\"2827\"},\"dimension\":1,\"ticker\":{\"id\":\"2828\"}},\"id\":\"2830\",\"type\":\"Grid\"},{\"attributes\":{\"margin\":[5,5,5,5],\"name\":\"HSpacer05880\",\"sizing_mode\":\"stretch_width\"},\"id\":\"2867\",\"type\":\"Spacer\"},{\"attributes\":{},\"id\":\"2822\",\"type\":\"LinearScale\"},{\"attributes\":{},\"id\":\"2855\",\"type\":\"BasicTickFormatter\"}],\"root_ids\":[\"2810\"]},\"title\":\"Bokeh Application\",\"version\":\"2.0.2\"}};\n",
       "  var render_items = [{\"docid\":\"83eef275-29ba-458a-952d-fefbc2556080\",\"root_ids\":[\"2810\"],\"roots\":{\"2810\":\"ded09288-2309-488a-b928-e73cfdc3dc48\"}}];\n",
       "  root.Bokeh.embed.embed_items_notebook(docs_json, render_items);\n",
       "  }\n",
       "if (root.Bokeh !== undefined) {\n",
       "    embed_document(root);\n",
       "  } else {\n",
       "    var attempts = 0;\n",
       "    var timer = setInterval(function(root) {\n",
       "      if (root.Bokeh !== undefined) {\n",
       "        clearInterval(timer);\n",
       "        embed_document(root);\n",
       "      } else if (document.readyState == \"complete\") {\n",
       "        attempts++;\n",
       "        if (attempts > 100) {\n",
       "          clearInterval(timer);\n",
       "          console.log(\"Bokeh: ERROR: Unable to run BokehJS code because BokehJS library is missing\");\n",
       "        }\n",
       "      }\n",
       "    }, 10, root)\n",
       "  }\n",
       "})(window);</script>"
      ],
      "text/plain": [
       ":Bars   [Risk,Variable]   (value)"
      ]
     },
     "execution_count": 149,
     "metadata": {
      "application/vnd.holoviews_exec.v0+json": {
       "id": "2810"
      }
     },
     "output_type": "execute_result"
    }
   ],
   "source": [
    "## Plot the vanguard sp500 Risk bar graph for 3,5,10 yrs\n",
    "vanguard_sp500.hvplot.bar(x='Risk', \n",
    "                    y=['3', '5', '10'], \n",
    "                    width=700, \n",
    "                    height=400,  \n",
    "                    title='Risk Statistics Vanguard S&P 500 ETF',\n",
    "                    ylim=(-2,100),\n",
    "                    xlabel='Time Period 3 yrs, 5yrs & 10yrs ',\n",
    "                    ylabel='Risk Value',\n",
    "                    grid=True)"
   ]
  },
  {
   "cell_type": "markdown",
   "id": "ad4ca408-c864-498d-b725-a1aedd4c848f",
   "metadata": {
    "tags": []
   },
   "source": [
    "### Plot the graph for the Risk Statistics of vanguard_2040(VFORX)"
   ]
  },
  {
   "cell_type": "code",
   "execution_count": 150,
   "id": "f5a0a013-f252-4558-8bdf-e1dda7945676",
   "metadata": {},
   "outputs": [
    {
     "data": {
      "text/html": [
       "<div>\n",
       "<style scoped>\n",
       "    .dataframe tbody tr th:only-of-type {\n",
       "        vertical-align: middle;\n",
       "    }\n",
       "\n",
       "    .dataframe tbody tr th {\n",
       "        vertical-align: top;\n",
       "    }\n",
       "\n",
       "    .dataframe thead th {\n",
       "        text-align: right;\n",
       "    }\n",
       "</style>\n",
       "<table border=\"1\" class=\"dataframe\">\n",
       "  <thead>\n",
       "    <tr style=\"text-align: right;\">\n",
       "      <th></th>\n",
       "      <th>Risk</th>\n",
       "      <th>3</th>\n",
       "      <th>5</th>\n",
       "      <th>10</th>\n",
       "    </tr>\n",
       "  </thead>\n",
       "  <tbody>\n",
       "    <tr>\n",
       "      <th>0</th>\n",
       "      <td>Alpha</td>\n",
       "      <td>-1.11</td>\n",
       "      <td>-0.13</td>\n",
       "      <td>-0.43</td>\n",
       "    </tr>\n",
       "    <tr>\n",
       "      <th>1</th>\n",
       "      <td>Beta</td>\n",
       "      <td>1.35</td>\n",
       "      <td>1.35</td>\n",
       "      <td>1.40</td>\n",
       "    </tr>\n",
       "    <tr>\n",
       "      <th>2</th>\n",
       "      <td>Mean Annual Return</td>\n",
       "      <td>1.14</td>\n",
       "      <td>1.11</td>\n",
       "      <td>0.89</td>\n",
       "    </tr>\n",
       "    <tr>\n",
       "      <th>3</th>\n",
       "      <td>R-squared</td>\n",
       "      <td>99.16</td>\n",
       "      <td>98.97</td>\n",
       "      <td>98.20</td>\n",
       "    </tr>\n",
       "    <tr>\n",
       "      <th>4</th>\n",
       "      <td>Standard Deviation</td>\n",
       "      <td>15.39</td>\n",
       "      <td>12.42</td>\n",
       "      <td>12.01</td>\n",
       "    </tr>\n",
       "    <tr>\n",
       "      <th>5</th>\n",
       "      <td>Sharpe Ratio</td>\n",
       "      <td>0.81</td>\n",
       "      <td>0.98</td>\n",
       "      <td>0.84</td>\n",
       "    </tr>\n",
       "    <tr>\n",
       "      <th>6</th>\n",
       "      <td>Treynor Ratio</td>\n",
       "      <td>8.96</td>\n",
       "      <td>9.00</td>\n",
       "      <td>7.00</td>\n",
       "    </tr>\n",
       "  </tbody>\n",
       "</table>\n",
       "</div>"
      ],
      "text/plain": [
       "                 Risk      3      5     10\n",
       "0               Alpha  -1.11  -0.13  -0.43\n",
       "1                Beta   1.35   1.35   1.40\n",
       "2  Mean Annual Return   1.14   1.11   0.89\n",
       "3           R-squared  99.16  98.97  98.20\n",
       "4  Standard Deviation  15.39  12.42  12.01\n",
       "5        Sharpe Ratio   0.81   0.98   0.84\n",
       "6       Treynor Ratio   8.96   9.00   7.00"
      ]
     },
     "execution_count": 150,
     "metadata": {},
     "output_type": "execute_result"
    }
   ],
   "source": [
    "## Set the X & Y axis \n",
    "vanguard_2040 = pd.DataFrame({'Risk':vanguard_2040_riskstatistics.Risk_Statistics,'3': vanguard_2040_riskstatistics.VFORX_3yrs,'5': vanguard_2040_riskstatistics.VFORX_5yrs,'10': vanguard_2040_riskstatistics.VFORX_10yrs })\n",
    "vanguard_2040"
   ]
  },
  {
   "cell_type": "code",
   "execution_count": 151,
   "id": "9a603f4a-be7c-42f1-a811-77b2f4ed3bc7",
   "metadata": {},
   "outputs": [
    {
     "data": {
      "text/html": [
       "<div>\n",
       "<style scoped>\n",
       "    .dataframe tbody tr th:only-of-type {\n",
       "        vertical-align: middle;\n",
       "    }\n",
       "\n",
       "    .dataframe tbody tr th {\n",
       "        vertical-align: top;\n",
       "    }\n",
       "\n",
       "    .dataframe thead th {\n",
       "        text-align: right;\n",
       "    }\n",
       "</style>\n",
       "<table border=\"1\" class=\"dataframe\">\n",
       "  <thead>\n",
       "    <tr style=\"text-align: right;\">\n",
       "      <th></th>\n",
       "      <th>3</th>\n",
       "      <th>5</th>\n",
       "      <th>10</th>\n",
       "    </tr>\n",
       "    <tr>\n",
       "      <th>Risk</th>\n",
       "      <th></th>\n",
       "      <th></th>\n",
       "      <th></th>\n",
       "    </tr>\n",
       "  </thead>\n",
       "  <tbody>\n",
       "    <tr>\n",
       "      <th>Alpha</th>\n",
       "      <td>-1.11</td>\n",
       "      <td>-0.13</td>\n",
       "      <td>-0.43</td>\n",
       "    </tr>\n",
       "    <tr>\n",
       "      <th>Beta</th>\n",
       "      <td>1.35</td>\n",
       "      <td>1.35</td>\n",
       "      <td>1.40</td>\n",
       "    </tr>\n",
       "    <tr>\n",
       "      <th>Mean Annual Return</th>\n",
       "      <td>1.14</td>\n",
       "      <td>1.11</td>\n",
       "      <td>0.89</td>\n",
       "    </tr>\n",
       "    <tr>\n",
       "      <th>R-squared</th>\n",
       "      <td>99.16</td>\n",
       "      <td>98.97</td>\n",
       "      <td>98.20</td>\n",
       "    </tr>\n",
       "    <tr>\n",
       "      <th>Standard Deviation</th>\n",
       "      <td>15.39</td>\n",
       "      <td>12.42</td>\n",
       "      <td>12.01</td>\n",
       "    </tr>\n",
       "    <tr>\n",
       "      <th>Sharpe Ratio</th>\n",
       "      <td>0.81</td>\n",
       "      <td>0.98</td>\n",
       "      <td>0.84</td>\n",
       "    </tr>\n",
       "    <tr>\n",
       "      <th>Treynor Ratio</th>\n",
       "      <td>8.96</td>\n",
       "      <td>9.00</td>\n",
       "      <td>7.00</td>\n",
       "    </tr>\n",
       "  </tbody>\n",
       "</table>\n",
       "</div>"
      ],
      "text/plain": [
       "                        3      5     10\n",
       "Risk                                   \n",
       "Alpha               -1.11  -0.13  -0.43\n",
       "Beta                 1.35   1.35   1.40\n",
       "Mean Annual Return   1.14   1.11   0.89\n",
       "R-squared           99.16  98.97  98.20\n",
       "Standard Deviation  15.39  12.42  12.01\n",
       "Sharpe Ratio         0.81   0.98   0.84\n",
       "Treynor Ratio        8.96   9.00   7.00"
      ]
     },
     "execution_count": 151,
     "metadata": {},
     "output_type": "execute_result"
    }
   ],
   "source": [
    "# Set Index\n",
    "vanguard_2040.set_index('Risk')"
   ]
  },
  {
   "cell_type": "code",
   "execution_count": 152,
   "id": "d8cf6ad9-93a3-4cf3-89c9-bfe8896dbdfe",
   "metadata": {},
   "outputs": [
    {
     "data": {},
     "metadata": {},
     "output_type": "display_data"
    },
    {
     "data": {
      "application/vnd.holoviews_exec.v0+json": "",
      "text/html": [
       "<div id='2909'>\n",
       "\n",
       "\n",
       "\n",
       "\n",
       "\n",
       "  <div class=\"bk-root\" id=\"41c3cf96-3c58-426a-b131-73e1bf37b930\" data-root-id=\"2909\"></div>\n",
       "</div>\n",
       "<script type=\"application/javascript\">(function(root) {\n",
       "  function embed_document(root) {\n",
       "  var docs_json = {\"93c94a11-80a4-436d-8a37-117cf29d47fd\":{\"roots\":{\"references\":[{\"attributes\":{\"margin\":[5,5,5,5],\"name\":\"HSpacer06162\",\"sizing_mode\":\"stretch_width\"},\"id\":\"2910\",\"type\":\"Spacer\"},{\"attributes\":{\"line_alpha\":0.2,\"line_color\":\"#ff7e0e\",\"line_width\":2,\"x\":{\"field\":\"Risk\"},\"y\":{\"field\":\"value\"}},\"id\":\"2972\",\"type\":\"Line\"},{\"attributes\":{},\"id\":\"2945\",\"type\":\"CategoricalTickFormatter\"},{\"attributes\":{\"line_alpha\":0.1,\"line_color\":\"#2ba02b\",\"line_width\":2,\"x\":{\"field\":\"Risk\"},\"y\":{\"field\":\"value\"}},\"id\":\"2988\",\"type\":\"Line\"},{\"attributes\":{\"line_color\":\"#2ba02b\",\"line_width\":2,\"x\":{\"field\":\"Risk\"},\"y\":{\"field\":\"value\"}},\"id\":\"2987\",\"type\":\"Line\"},{\"attributes\":{},\"id\":\"2985\",\"type\":\"Selection\"},{\"attributes\":{\"line_alpha\":0.2,\"line_color\":\"#2ba02b\",\"line_width\":2,\"x\":{\"field\":\"Risk\"},\"y\":{\"field\":\"value\"}},\"id\":\"2989\",\"type\":\"Line\"},{\"attributes\":{\"margin\":[5,5,5,5],\"name\":\"HSpacer06163\",\"sizing_mode\":\"stretch_width\"},\"id\":\"3099\",\"type\":\"Spacer\"},{\"attributes\":{\"end\":100,\"reset_end\":100,\"reset_start\":-2,\"start\":-2,\"tags\":[[[\"value\",\"value\",null]]]},\"id\":\"2912\",\"type\":\"Range1d\"},{\"attributes\":{\"label\":{\"value\":\"5\"},\"renderers\":[{\"id\":\"2973\"}]},\"id\":\"2983\",\"type\":\"LegendItem\"},{\"attributes\":{\"axis\":{\"id\":\"2925\"},\"ticker\":{\"id\":\"2926\"}},\"id\":\"2927\",\"type\":\"Grid\"},{\"attributes\":{\"source\":{\"id\":\"2967\"}},\"id\":\"2974\",\"type\":\"CDSView\"},{\"attributes\":{\"text\":\"Risk Statistics of Vanguard Target Retirement 2040 Fund\",\"text_color\":{\"value\":\"black\"},\"text_font_size\":{\"value\":\"12pt\"}},\"id\":\"2917\",\"type\":\"Title\"},{\"attributes\":{\"label\":{\"value\":\"3\"},\"renderers\":[{\"id\":\"2957\"}]},\"id\":\"2966\",\"type\":\"LegendItem\"},{\"attributes\":{\"data_source\":{\"id\":\"2967\"},\"glyph\":{\"id\":\"2970\"},\"hover_glyph\":null,\"muted_glyph\":{\"id\":\"2972\"},\"nonselection_glyph\":{\"id\":\"2971\"},\"selection_glyph\":null,\"view\":{\"id\":\"2974\"}},\"id\":\"2973\",\"type\":\"GlyphRenderer\"},{\"attributes\":{\"below\":[{\"id\":\"2925\"}],\"center\":[{\"id\":\"2927\"},{\"id\":\"2931\"}],\"left\":[{\"id\":\"2928\"}],\"margin\":null,\"min_border_bottom\":10,\"min_border_left\":10,\"min_border_right\":10,\"min_border_top\":10,\"plot_width\":800,\"renderers\":[{\"id\":\"2957\"},{\"id\":\"2973\"},{\"id\":\"2990\"}],\"right\":[{\"id\":\"2965\"}],\"sizing_mode\":\"fixed\",\"title\":{\"id\":\"2917\"},\"toolbar\":{\"id\":\"2938\"},\"x_range\":{\"id\":\"2911\"},\"x_scale\":{\"id\":\"2921\"},\"y_range\":{\"id\":\"2912\"},\"y_scale\":{\"id\":\"2923\"}},\"id\":\"2916\",\"subtype\":\"Figure\",\"type\":\"Plot\"},{\"attributes\":{\"label\":{\"value\":\"10\"},\"renderers\":[{\"id\":\"2990\"}]},\"id\":\"3002\",\"type\":\"LegendItem\"},{\"attributes\":{\"line_alpha\":0.2,\"line_color\":\"#1f77b3\",\"line_width\":2,\"x\":{\"field\":\"Risk\"},\"y\":{\"field\":\"value\"}},\"id\":\"2956\",\"type\":\"Line\"},{\"attributes\":{\"source\":{\"id\":\"2984\"}},\"id\":\"2991\",\"type\":\"CDSView\"},{\"attributes\":{\"data_source\":{\"id\":\"2984\"},\"glyph\":{\"id\":\"2987\"},\"hover_glyph\":null,\"muted_glyph\":{\"id\":\"2989\"},\"nonselection_glyph\":{\"id\":\"2988\"},\"selection_glyph\":null,\"view\":{\"id\":\"2991\"}},\"id\":\"2990\",\"type\":\"GlyphRenderer\"},{\"attributes\":{},\"id\":\"2947\",\"type\":\"BasicTickFormatter\"},{\"attributes\":{\"line_color\":\"#ff7e0e\",\"line_width\":2,\"x\":{\"field\":\"Risk\"},\"y\":{\"field\":\"value\"}},\"id\":\"2970\",\"type\":\"Line\"},{\"attributes\":{\"data\":{\"Risk\":[\"Alpha\",\"Beta\",\"Mean Annual Return\",\"R-squared\",\"Standard Deviation\",\"Sharpe Ratio\",\"Treynor Ratio\"],\"Variable\":[\"10\",\"10\",\"10\",\"10\",\"10\",\"10\",\"10\"],\"value\":{\"__ndarray__\":\"hetRuB6F279mZmZmZmb2P3sUrkfheuw/zczMzMyMWECF61G4HgUoQOF6FK5H4eo/AAAAAAAAHEA=\",\"dtype\":\"float64\",\"shape\":[7]}},\"selected\":{\"id\":\"2985\"},\"selection_policy\":{\"id\":\"3014\"}},\"id\":\"2984\",\"type\":\"ColumnDataSource\"},{\"attributes\":{\"bottom_units\":\"screen\",\"fill_alpha\":0.5,\"fill_color\":\"lightgrey\",\"left_units\":\"screen\",\"level\":\"overlay\",\"line_alpha\":1.0,\"line_color\":\"black\",\"line_dash\":[4,4],\"line_width\":2,\"render_mode\":\"css\",\"right_units\":\"screen\",\"top_units\":\"screen\"},\"id\":\"2937\",\"type\":\"BoxAnnotation\"},{\"attributes\":{},\"id\":\"2921\",\"type\":\"CategoricalScale\"},{\"attributes\":{\"line_alpha\":0.1,\"line_color\":\"#ff7e0e\",\"line_width\":2,\"x\":{\"field\":\"Risk\"},\"y\":{\"field\":\"value\"}},\"id\":\"2971\",\"type\":\"Line\"},{\"attributes\":{\"callback\":null,\"renderers\":[{\"id\":\"2957\"},{\"id\":\"2973\"},{\"id\":\"2990\"}],\"tags\":[\"hv_created\"],\"tooltips\":[[\"Variable\",\"@{Variable}\"],[\"Risk\",\"@{Risk}\"],[\"value\",\"@{value}\"]]},\"id\":\"2913\",\"type\":\"HoverTool\"},{\"attributes\":{},\"id\":\"3001\",\"type\":\"UnionRenderers\"},{\"attributes\":{},\"id\":\"2926\",\"type\":\"CategoricalTicker\"},{\"attributes\":{\"line_color\":\"#1f77b3\",\"line_width\":2,\"x\":{\"field\":\"Risk\"},\"y\":{\"field\":\"value\"}},\"id\":\"2954\",\"type\":\"Line\"},{\"attributes\":{},\"id\":\"2952\",\"type\":\"Selection\"},{\"attributes\":{\"factors\":[\"Alpha\",\"Beta\",\"Mean Annual Return\",\"R-squared\",\"Standard Deviation\",\"Sharpe Ratio\",\"Treynor Ratio\"],\"tags\":[[[\"Risk\",\"Risk\",null]]]},\"id\":\"2911\",\"type\":\"FactorRange\"},{\"attributes\":{},\"id\":\"2933\",\"type\":\"PanTool\"},{\"attributes\":{\"data_source\":{\"id\":\"2951\"},\"glyph\":{\"id\":\"2954\"},\"hover_glyph\":null,\"muted_glyph\":{\"id\":\"2956\"},\"nonselection_glyph\":{\"id\":\"2955\"},\"selection_glyph\":null,\"view\":{\"id\":\"2958\"}},\"id\":\"2957\",\"type\":\"GlyphRenderer\"},{\"attributes\":{\"click_policy\":\"mute\",\"items\":[{\"id\":\"2966\"},{\"id\":\"2983\"},{\"id\":\"3002\"}],\"location\":[0,0],\"title\":\"Variable\"},\"id\":\"2965\",\"type\":\"Legend\"},{\"attributes\":{},\"id\":\"2923\",\"type\":\"LinearScale\"},{\"attributes\":{},\"id\":\"2934\",\"type\":\"WheelZoomTool\"},{\"attributes\":{\"line_alpha\":0.1,\"line_color\":\"#1f77b3\",\"line_width\":2,\"x\":{\"field\":\"Risk\"},\"y\":{\"field\":\"value\"}},\"id\":\"2955\",\"type\":\"Line\"},{\"attributes\":{},\"id\":\"2982\",\"type\":\"UnionRenderers\"},{\"attributes\":{},\"id\":\"2968\",\"type\":\"Selection\"},{\"attributes\":{\"axis_label\":\"Risk Value\",\"bounds\":\"auto\",\"formatter\":{\"id\":\"2947\"},\"major_label_orientation\":\"horizontal\",\"ticker\":{\"id\":\"2929\"}},\"id\":\"2928\",\"type\":\"LinearAxis\"},{\"attributes\":{\"source\":{\"id\":\"2951\"}},\"id\":\"2958\",\"type\":\"CDSView\"},{\"attributes\":{},\"id\":\"2932\",\"type\":\"SaveTool\"},{\"attributes\":{\"data\":{\"Risk\":[\"Alpha\",\"Beta\",\"Mean Annual Return\",\"R-squared\",\"Standard Deviation\",\"Sharpe Ratio\",\"Treynor Ratio\"],\"Variable\":[\"5\",\"5\",\"5\",\"5\",\"5\",\"5\",\"5\"],\"value\":{\"__ndarray__\":\"pHA9CtejwL+amZmZmZn1P8P1KFyPwvE/rkfhehS+WEDXo3A9CtcoQFyPwvUoXO8/AAAAAAAAIkA=\",\"dtype\":\"float64\",\"shape\":[7]}},\"selected\":{\"id\":\"2968\"},\"selection_policy\":{\"id\":\"3001\"}},\"id\":\"2967\",\"type\":\"ColumnDataSource\"},{\"attributes\":{\"axis_label\":\"Time Period 3 yrs, 5yrs & 10yrs\",\"bounds\":\"auto\",\"formatter\":{\"id\":\"2945\"},\"major_label_orientation\":\"horizontal\",\"ticker\":{\"id\":\"2926\"}},\"id\":\"2925\",\"type\":\"CategoricalAxis\"},{\"attributes\":{},\"id\":\"3014\",\"type\":\"UnionRenderers\"},{\"attributes\":{},\"id\":\"2929\",\"type\":\"BasicTicker\"},{\"attributes\":{\"data\":{\"Risk\":[\"Alpha\",\"Beta\",\"Mean Annual Return\",\"R-squared\",\"Standard Deviation\",\"Sharpe Ratio\",\"Treynor Ratio\"],\"Variable\":[\"3\",\"3\",\"3\",\"3\",\"3\",\"3\",\"3\"],\"value\":{\"__ndarray__\":\"w/UoXI/C8b+amZmZmZn1Pz0K16NwPfI/CtejcD3KWEBI4XoUrscuQOxRuB6F6+k/7FG4HoXrIUA=\",\"dtype\":\"float64\",\"shape\":[7]}},\"selected\":{\"id\":\"2952\"},\"selection_policy\":{\"id\":\"2982\"}},\"id\":\"2951\",\"type\":\"ColumnDataSource\"},{\"attributes\":{\"axis\":{\"id\":\"2928\"},\"dimension\":1,\"ticker\":{\"id\":\"2929\"}},\"id\":\"2931\",\"type\":\"Grid\"},{\"attributes\":{},\"id\":\"2936\",\"type\":\"ResetTool\"},{\"attributes\":{\"active_drag\":\"auto\",\"active_inspect\":\"auto\",\"active_multi\":null,\"active_scroll\":\"auto\",\"active_tap\":\"auto\",\"tools\":[{\"id\":\"2913\"},{\"id\":\"2932\"},{\"id\":\"2933\"},{\"id\":\"2934\"},{\"id\":\"2935\"},{\"id\":\"2936\"}]},\"id\":\"2938\",\"type\":\"Toolbar\"},{\"attributes\":{\"overlay\":{\"id\":\"2937\"}},\"id\":\"2935\",\"type\":\"BoxZoomTool\"},{\"attributes\":{\"children\":[{\"id\":\"2910\"},{\"id\":\"2916\"},{\"id\":\"3099\"}],\"margin\":[0,0,0,0],\"name\":\"Row06158\",\"tags\":[\"embedded\"]},\"id\":\"2909\",\"type\":\"Row\"}],\"root_ids\":[\"2909\"]},\"title\":\"Bokeh Application\",\"version\":\"2.0.2\"}};\n",
       "  var render_items = [{\"docid\":\"93c94a11-80a4-436d-8a37-117cf29d47fd\",\"root_ids\":[\"2909\"],\"roots\":{\"2909\":\"41c3cf96-3c58-426a-b131-73e1bf37b930\"}}];\n",
       "  root.Bokeh.embed.embed_items_notebook(docs_json, render_items);\n",
       "  }\n",
       "if (root.Bokeh !== undefined) {\n",
       "    embed_document(root);\n",
       "  } else {\n",
       "    var attempts = 0;\n",
       "    var timer = setInterval(function(root) {\n",
       "      if (root.Bokeh !== undefined) {\n",
       "        clearInterval(timer);\n",
       "        embed_document(root);\n",
       "      } else if (document.readyState == \"complete\") {\n",
       "        attempts++;\n",
       "        if (attempts > 100) {\n",
       "          clearInterval(timer);\n",
       "          console.log(\"Bokeh: ERROR: Unable to run BokehJS code because BokehJS library is missing\");\n",
       "        }\n",
       "      }\n",
       "    }, 10, root)\n",
       "  }\n",
       "})(window);</script>"
      ],
      "text/plain": [
       ":NdOverlay   [Variable]\n",
       "   :Curve   [Risk]   (value)"
      ]
     },
     "execution_count": 152,
     "metadata": {
      "application/vnd.holoviews_exec.v0+json": {
       "id": "2909"
      }
     },
     "output_type": "execute_result"
    }
   ],
   "source": [
    "## Plot the vanguard Target Retirement 2040 fund Risk statistics line graph for 3,5 & 10 yrs\n",
    "vanguard_2040.hvplot.line(x='Risk', \n",
    "                    y=['3', '5', '10'], \n",
    "                    width=800, \n",
    "                    height=600,  \n",
    "                    title='Risk Statistics of Vanguard Target Retirement 2040 Fund',\n",
    "                    ylim=(-2,100),\n",
    "                    xlabel='Time Period 3 yrs, 5yrs & 10yrs',\n",
    "                    ylabel='Risk Value',\n",
    "                    grid=True)"
   ]
  },
  {
   "cell_type": "code",
   "execution_count": 153,
   "id": "559800a7-80fc-4b73-ab55-cca908850a2b",
   "metadata": {},
   "outputs": [
    {
     "data": {},
     "metadata": {},
     "output_type": "display_data"
    },
    {
     "data": {
      "application/vnd.holoviews_exec.v0+json": "",
      "text/html": [
       "<div id='3161'>\n",
       "\n",
       "\n",
       "\n",
       "\n",
       "\n",
       "  <div class=\"bk-root\" id=\"5020cb4b-6f89-44fc-90d2-91d9b8352514\" data-root-id=\"3161\"></div>\n",
       "</div>\n",
       "<script type=\"application/javascript\">(function(root) {\n",
       "  function embed_document(root) {\n",
       "  var docs_json = {\"18e5b8f4-ccf4-4bd8-9f0f-12edbbb1a8a9\":{\"roots\":{\"references\":[{\"attributes\":{},\"id\":\"3220\",\"type\":\"Selection\"},{\"attributes\":{\"axis\":{\"id\":\"3180\"},\"dimension\":1,\"ticker\":{\"id\":\"3181\"}},\"id\":\"3183\",\"type\":\"Grid\"},{\"attributes\":{\"line_alpha\":0.1,\"line_color\":\"#ff7e0e\",\"line_width\":2,\"x\":{\"field\":\"Risk\"},\"y\":{\"field\":\"value\"}},\"id\":\"3223\",\"type\":\"Line\"},{\"attributes\":{\"line_alpha\":0.2,\"line_color\":\"#2ba02b\",\"line_width\":2,\"x\":{\"field\":\"Risk\"},\"y\":{\"field\":\"value\"}},\"id\":\"3241\",\"type\":\"Line\"},{\"attributes\":{\"overlay\":{\"id\":\"3189\"}},\"id\":\"3187\",\"type\":\"BoxZoomTool\"},{\"attributes\":{},\"id\":\"3188\",\"type\":\"ResetTool\"},{\"attributes\":{\"data_source\":{\"id\":\"3219\"},\"glyph\":{\"id\":\"3222\"},\"hover_glyph\":null,\"muted_glyph\":{\"id\":\"3224\"},\"nonselection_glyph\":{\"id\":\"3223\"},\"selection_glyph\":null,\"view\":{\"id\":\"3226\"}},\"id\":\"3225\",\"type\":\"GlyphRenderer\"},{\"attributes\":{\"source\":{\"id\":\"3236\"}},\"id\":\"3243\",\"type\":\"CDSView\"},{\"attributes\":{\"line_color\":\"#2ba02b\",\"line_width\":2,\"x\":{\"field\":\"Risk\"},\"y\":{\"field\":\"value\"}},\"id\":\"3239\",\"type\":\"Line\"},{\"attributes\":{\"bottom_units\":\"screen\",\"fill_alpha\":0.5,\"fill_color\":\"lightgrey\",\"left_units\":\"screen\",\"level\":\"overlay\",\"line_alpha\":1.0,\"line_color\":\"black\",\"line_dash\":[4,4],\"line_width\":2,\"render_mode\":\"css\",\"right_units\":\"screen\",\"top_units\":\"screen\"},\"id\":\"3189\",\"type\":\"BoxAnnotation\"},{\"attributes\":{\"label\":{\"value\":\"10\"},\"renderers\":[{\"id\":\"3242\"}]},\"id\":\"3254\",\"type\":\"LegendItem\"},{\"attributes\":{\"data_source\":{\"id\":\"3236\"},\"glyph\":{\"id\":\"3239\"},\"hover_glyph\":null,\"muted_glyph\":{\"id\":\"3241\"},\"nonselection_glyph\":{\"id\":\"3240\"},\"selection_glyph\":null,\"view\":{\"id\":\"3243\"}},\"id\":\"3242\",\"type\":\"GlyphRenderer\"},{\"attributes\":{\"end\":100,\"reset_end\":100,\"reset_start\":-2,\"start\":-2,\"tags\":[[[\"value\",\"value\",null]]]},\"id\":\"3164\",\"type\":\"Range1d\"},{\"attributes\":{},\"id\":\"3175\",\"type\":\"LinearScale\"},{\"attributes\":{\"label\":{\"value\":\"5\"},\"renderers\":[{\"id\":\"3225\"}]},\"id\":\"3235\",\"type\":\"LegendItem\"},{\"attributes\":{\"children\":[{\"id\":\"3162\"},{\"id\":\"3168\"},{\"id\":\"3351\"}],\"margin\":[0,0,0,0],\"name\":\"Row06773\",\"tags\":[\"embedded\"]},\"id\":\"3161\",\"type\":\"Row\"},{\"attributes\":{},\"id\":\"3197\",\"type\":\"CategoricalTickFormatter\"},{\"attributes\":{},\"id\":\"3234\",\"type\":\"UnionRenderers\"},{\"attributes\":{\"factors\":[\"Alpha\",\"Beta\",\"Mean Annual Return\",\"R-squared\",\"Standard Deviation\",\"Sharpe Ratio\",\"Treynor Ratio\"],\"tags\":[[[\"Risk\",\"Risk\",null]]]},\"id\":\"3163\",\"type\":\"FactorRange\"},{\"attributes\":{\"click_policy\":\"mute\",\"items\":[{\"id\":\"3218\"},{\"id\":\"3235\"},{\"id\":\"3254\"}],\"location\":[0,0],\"title\":\"Variable\"},\"id\":\"3217\",\"type\":\"Legend\"},{\"attributes\":{},\"id\":\"3266\",\"type\":\"UnionRenderers\"},{\"attributes\":{\"callback\":null,\"renderers\":[{\"id\":\"3209\"},{\"id\":\"3225\"},{\"id\":\"3242\"}],\"tags\":[\"hv_created\"],\"tooltips\":[[\"Variable\",\"@{Variable}\"],[\"Risk\",\"@{Risk}\"],[\"value\",\"@{value}\"]]},\"id\":\"3165\",\"type\":\"HoverTool\"},{\"attributes\":{\"line_alpha\":0.1,\"line_color\":\"#2ba02b\",\"line_width\":2,\"x\":{\"field\":\"Risk\"},\"y\":{\"field\":\"value\"}},\"id\":\"3240\",\"type\":\"Line\"},{\"attributes\":{\"line_color\":\"#1f77b3\",\"line_width\":2,\"x\":{\"field\":\"Risk\"},\"y\":{\"field\":\"value\"}},\"id\":\"3206\",\"type\":\"Line\"},{\"attributes\":{\"line_alpha\":0.2,\"line_color\":\"#1f77b3\",\"line_width\":2,\"x\":{\"field\":\"Risk\"},\"y\":{\"field\":\"value\"}},\"id\":\"3208\",\"type\":\"Line\"},{\"attributes\":{\"margin\":[5,5,5,5],\"name\":\"HSpacer06777\",\"sizing_mode\":\"stretch_width\"},\"id\":\"3162\",\"type\":\"Spacer\"},{\"attributes\":{\"label\":{\"value\":\"3\"},\"renderers\":[{\"id\":\"3209\"}]},\"id\":\"3218\",\"type\":\"LegendItem\"},{\"attributes\":{\"text\":\"Risk Statistics of Vanguard Target Retirement 2040 Fund\",\"text_color\":{\"value\":\"black\"},\"text_font_size\":{\"value\":\"12pt\"}},\"id\":\"3169\",\"type\":\"Title\"},{\"attributes\":{},\"id\":\"3199\",\"type\":\"BasicTickFormatter\"},{\"attributes\":{},\"id\":\"3185\",\"type\":\"PanTool\"},{\"attributes\":{},\"id\":\"3204\",\"type\":\"Selection\"},{\"attributes\":{\"margin\":[5,5,5,5],\"name\":\"HSpacer06778\",\"sizing_mode\":\"stretch_width\"},\"id\":\"3351\",\"type\":\"Spacer\"},{\"attributes\":{},\"id\":\"3173\",\"type\":\"CategoricalScale\"},{\"attributes\":{\"axis\":{\"id\":\"3177\"},\"ticker\":{\"id\":\"3178\"}},\"id\":\"3179\",\"type\":\"Grid\"},{\"attributes\":{\"source\":{\"id\":\"3203\"}},\"id\":\"3210\",\"type\":\"CDSView\"},{\"attributes\":{},\"id\":\"3178\",\"type\":\"CategoricalTicker\"},{\"attributes\":{\"line_alpha\":0.1,\"line_color\":\"#1f77b3\",\"line_width\":2,\"x\":{\"field\":\"Risk\"},\"y\":{\"field\":\"value\"}},\"id\":\"3207\",\"type\":\"Line\"},{\"attributes\":{\"data\":{\"Risk\":[\"Alpha\",\"Beta\",\"Mean Annual Return\",\"R-squared\",\"Standard Deviation\",\"Sharpe Ratio\",\"Treynor Ratio\"],\"Variable\":[\"3\",\"3\",\"3\",\"3\",\"3\",\"3\",\"3\"],\"value\":{\"__ndarray__\":\"w/UoXI/C8b+amZmZmZn1Pz0K16NwPfI/CtejcD3KWEBI4XoUrscuQOxRuB6F6+k/7FG4HoXrIUA=\",\"dtype\":\"float64\",\"shape\":[7]}},\"selected\":{\"id\":\"3204\"},\"selection_policy\":{\"id\":\"3234\"}},\"id\":\"3203\",\"type\":\"ColumnDataSource\"},{\"attributes\":{\"below\":[{\"id\":\"3177\"}],\"center\":[{\"id\":\"3179\"},{\"id\":\"3183\"}],\"left\":[{\"id\":\"3180\"}],\"margin\":null,\"min_border_bottom\":10,\"min_border_left\":10,\"min_border_right\":10,\"min_border_top\":10,\"plot_width\":800,\"renderers\":[{\"id\":\"3209\"},{\"id\":\"3225\"},{\"id\":\"3242\"}],\"right\":[{\"id\":\"3217\"}],\"sizing_mode\":\"fixed\",\"title\":{\"id\":\"3169\"},\"toolbar\":{\"id\":\"3190\"},\"x_range\":{\"id\":\"3163\"},\"x_scale\":{\"id\":\"3173\"},\"y_range\":{\"id\":\"3164\"},\"y_scale\":{\"id\":\"3175\"}},\"id\":\"3168\",\"subtype\":\"Figure\",\"type\":\"Plot\"},{\"attributes\":{\"line_alpha\":0.2,\"line_color\":\"#ff7e0e\",\"line_width\":2,\"x\":{\"field\":\"Risk\"},\"y\":{\"field\":\"value\"}},\"id\":\"3224\",\"type\":\"Line\"},{\"attributes\":{},\"id\":\"3253\",\"type\":\"UnionRenderers\"},{\"attributes\":{},\"id\":\"3186\",\"type\":\"WheelZoomTool\"},{\"attributes\":{\"active_drag\":\"auto\",\"active_inspect\":\"auto\",\"active_multi\":null,\"active_scroll\":\"auto\",\"active_tap\":\"auto\",\"tools\":[{\"id\":\"3165\"},{\"id\":\"3184\"},{\"id\":\"3185\"},{\"id\":\"3186\"},{\"id\":\"3187\"},{\"id\":\"3188\"}]},\"id\":\"3190\",\"type\":\"Toolbar\"},{\"attributes\":{\"data\":{\"Risk\":[\"Alpha\",\"Beta\",\"Mean Annual Return\",\"R-squared\",\"Standard Deviation\",\"Sharpe Ratio\",\"Treynor Ratio\"],\"Variable\":[\"10\",\"10\",\"10\",\"10\",\"10\",\"10\",\"10\"],\"value\":{\"__ndarray__\":\"hetRuB6F279mZmZmZmb2P3sUrkfheuw/zczMzMyMWECF61G4HgUoQOF6FK5H4eo/AAAAAAAAHEA=\",\"dtype\":\"float64\",\"shape\":[7]}},\"selected\":{\"id\":\"3237\"},\"selection_policy\":{\"id\":\"3266\"}},\"id\":\"3236\",\"type\":\"ColumnDataSource\"},{\"attributes\":{\"line_color\":\"#ff7e0e\",\"line_width\":2,\"x\":{\"field\":\"Risk\"},\"y\":{\"field\":\"value\"}},\"id\":\"3222\",\"type\":\"Line\"},{\"attributes\":{\"axis_label\":\"Risk Value\",\"bounds\":\"auto\",\"formatter\":{\"id\":\"3199\"},\"major_label_orientation\":\"horizontal\",\"ticker\":{\"id\":\"3181\"}},\"id\":\"3180\",\"type\":\"LinearAxis\"},{\"attributes\":{\"data\":{\"Risk\":[\"Alpha\",\"Beta\",\"Mean Annual Return\",\"R-squared\",\"Standard Deviation\",\"Sharpe Ratio\",\"Treynor Ratio\"],\"Variable\":[\"5\",\"5\",\"5\",\"5\",\"5\",\"5\",\"5\"],\"value\":{\"__ndarray__\":\"pHA9CtejwL+amZmZmZn1P8P1KFyPwvE/rkfhehS+WEDXo3A9CtcoQFyPwvUoXO8/AAAAAAAAIkA=\",\"dtype\":\"float64\",\"shape\":[7]}},\"selected\":{\"id\":\"3220\"},\"selection_policy\":{\"id\":\"3253\"}},\"id\":\"3219\",\"type\":\"ColumnDataSource\"},{\"attributes\":{},\"id\":\"3237\",\"type\":\"Selection\"},{\"attributes\":{},\"id\":\"3184\",\"type\":\"SaveTool\"},{\"attributes\":{\"axis_label\":\"Time Period 3 yrs, 5yrs & 10yrs\",\"bounds\":\"auto\",\"formatter\":{\"id\":\"3197\"},\"major_label_orientation\":\"horizontal\",\"ticker\":{\"id\":\"3178\"}},\"id\":\"3177\",\"type\":\"CategoricalAxis\"},{\"attributes\":{},\"id\":\"3181\",\"type\":\"BasicTicker\"},{\"attributes\":{\"data_source\":{\"id\":\"3203\"},\"glyph\":{\"id\":\"3206\"},\"hover_glyph\":null,\"muted_glyph\":{\"id\":\"3208\"},\"nonselection_glyph\":{\"id\":\"3207\"},\"selection_glyph\":null,\"view\":{\"id\":\"3210\"}},\"id\":\"3209\",\"type\":\"GlyphRenderer\"},{\"attributes\":{\"source\":{\"id\":\"3219\"}},\"id\":\"3226\",\"type\":\"CDSView\"}],\"root_ids\":[\"3161\"]},\"title\":\"Bokeh Application\",\"version\":\"2.0.2\"}};\n",
       "  var render_items = [{\"docid\":\"18e5b8f4-ccf4-4bd8-9f0f-12edbbb1a8a9\",\"root_ids\":[\"3161\"],\"roots\":{\"3161\":\"5020cb4b-6f89-44fc-90d2-91d9b8352514\"}}];\n",
       "  root.Bokeh.embed.embed_items_notebook(docs_json, render_items);\n",
       "  }\n",
       "if (root.Bokeh !== undefined) {\n",
       "    embed_document(root);\n",
       "  } else {\n",
       "    var attempts = 0;\n",
       "    var timer = setInterval(function(root) {\n",
       "      if (root.Bokeh !== undefined) {\n",
       "        clearInterval(timer);\n",
       "        embed_document(root);\n",
       "      } else if (document.readyState == \"complete\") {\n",
       "        attempts++;\n",
       "        if (attempts > 100) {\n",
       "          clearInterval(timer);\n",
       "          console.log(\"Bokeh: ERROR: Unable to run BokehJS code because BokehJS library is missing\");\n",
       "        }\n",
       "      }\n",
       "    }, 10, root)\n",
       "  }\n",
       "})(window);</script>"
      ],
      "text/plain": [
       ":NdOverlay   [Variable]\n",
       "   :Curve   [Risk]   (value)"
      ]
     },
     "execution_count": 153,
     "metadata": {
      "application/vnd.holoviews_exec.v0+json": {
       "id": "3161"
      }
     },
     "output_type": "execute_result"
    }
   ],
   "source": [
    "## Plot the vanguard Target Retirement 2040 fund  Risk Statistics bar graph for 3,5 & 10 yrs\n",
    "vanguard_2040.hvplot.line(x='Risk', \n",
    "                    y=['3', '5', '10'], \n",
    "                    width=800, \n",
    "                    height=600,  \n",
    "                    title='Risk Statistics of Vanguard Target Retirement 2040 Fund',\n",
    "                    ylim=(-2,100),\n",
    "                    xlabel='Time Period 3 yrs, 5yrs & 10yrs',\n",
    "                    ylabel='Risk Value',\n",
    "                    grid=True)"
   ]
  },
  {
   "cell_type": "markdown",
   "id": "3302b07f-d868-450a-bcbf-bc187ef29643",
   "metadata": {},
   "source": [
    "### Vanguard S&P 500 Predictions"
   ]
  },
  {
   "cell_type": "code",
   "execution_count": 154,
   "id": "8a69fb23-080a-4121-888c-e8a2c0c94369",
   "metadata": {},
   "outputs": [],
   "source": [
    "## Obtain the vangauard sp500 ETF from the CSV\n",
    "vanguard_sp500_path = Path('./Resources/vanguard_SP500_daily_returs.csv')\n",
    "vanguard_sp500_df = pd.read_csv(vanguard_sp500_path, parse_dates=True, index_col='Date')"
   ]
  },
  {
   "cell_type": "code",
   "execution_count": 155,
   "id": "91d4b916-c8e7-4185-a61d-8bdfa9416d0c",
   "metadata": {},
   "outputs": [
    {
     "data": {
      "text/html": [
       "<div>\n",
       "<style scoped>\n",
       "    .dataframe tbody tr th:only-of-type {\n",
       "        vertical-align: middle;\n",
       "    }\n",
       "\n",
       "    .dataframe tbody tr th {\n",
       "        vertical-align: top;\n",
       "    }\n",
       "\n",
       "    .dataframe thead th {\n",
       "        text-align: right;\n",
       "    }\n",
       "</style>\n",
       "<table border=\"1\" class=\"dataframe\">\n",
       "  <thead>\n",
       "    <tr style=\"text-align: right;\">\n",
       "      <th></th>\n",
       "      <th>Open</th>\n",
       "      <th>High</th>\n",
       "      <th>Low</th>\n",
       "      <th>Close</th>\n",
       "      <th>Adj Close</th>\n",
       "      <th>Volume</th>\n",
       "      <th>Return</th>\n",
       "      <th>Lagged_Return</th>\n",
       "    </tr>\n",
       "    <tr>\n",
       "      <th>Date</th>\n",
       "      <th></th>\n",
       "      <th></th>\n",
       "      <th></th>\n",
       "      <th></th>\n",
       "      <th></th>\n",
       "      <th></th>\n",
       "      <th></th>\n",
       "      <th></th>\n",
       "    </tr>\n",
       "  </thead>\n",
       "  <tbody>\n",
       "    <tr>\n",
       "      <th>2015-01-06</th>\n",
       "      <td>185.369995</td>\n",
       "      <td>185.880005</td>\n",
       "      <td>182.360001</td>\n",
       "      <td>183.270004</td>\n",
       "      <td>161.089645</td>\n",
       "      <td>2245300</td>\n",
       "      <td>-0.983301</td>\n",
       "      <td>-1.756899</td>\n",
       "    </tr>\n",
       "    <tr>\n",
       "      <th>2015-01-07</th>\n",
       "      <td>184.729996</td>\n",
       "      <td>185.910004</td>\n",
       "      <td>184.229996</td>\n",
       "      <td>185.559998</td>\n",
       "      <td>163.102493</td>\n",
       "      <td>2305600</td>\n",
       "      <td>1.249519</td>\n",
       "      <td>-0.983301</td>\n",
       "    </tr>\n",
       "    <tr>\n",
       "      <th>2015-01-08</th>\n",
       "      <td>187.130005</td>\n",
       "      <td>189.050003</td>\n",
       "      <td>187.070007</td>\n",
       "      <td>188.820007</td>\n",
       "      <td>165.967957</td>\n",
       "      <td>1740600</td>\n",
       "      <td>1.756849</td>\n",
       "      <td>1.249519</td>\n",
       "    </tr>\n",
       "    <tr>\n",
       "      <th>2015-01-09</th>\n",
       "      <td>189.300003</td>\n",
       "      <td>189.339996</td>\n",
       "      <td>186.649994</td>\n",
       "      <td>187.229996</td>\n",
       "      <td>164.570389</td>\n",
       "      <td>2525200</td>\n",
       "      <td>-0.842078</td>\n",
       "      <td>1.756849</td>\n",
       "    </tr>\n",
       "    <tr>\n",
       "      <th>2015-01-12</th>\n",
       "      <td>187.460007</td>\n",
       "      <td>187.600006</td>\n",
       "      <td>185.190002</td>\n",
       "      <td>185.839996</td>\n",
       "      <td>163.348587</td>\n",
       "      <td>1847500</td>\n",
       "      <td>-0.742402</td>\n",
       "      <td>-0.842078</td>\n",
       "    </tr>\n",
       "  </tbody>\n",
       "</table>\n",
       "</div>"
      ],
      "text/plain": [
       "                  Open        High         Low       Close   Adj Close  \\\n",
       "Date                                                                     \n",
       "2015-01-06  185.369995  185.880005  182.360001  183.270004  161.089645   \n",
       "2015-01-07  184.729996  185.910004  184.229996  185.559998  163.102493   \n",
       "2015-01-08  187.130005  189.050003  187.070007  188.820007  165.967957   \n",
       "2015-01-09  189.300003  189.339996  186.649994  187.229996  164.570389   \n",
       "2015-01-12  187.460007  187.600006  185.190002  185.839996  163.348587   \n",
       "\n",
       "             Volume    Return  Lagged_Return  \n",
       "Date                                          \n",
       "2015-01-06  2245300 -0.983301      -1.756899  \n",
       "2015-01-07  2305600  1.249519      -0.983301  \n",
       "2015-01-08  1740600  1.756849       1.249519  \n",
       "2015-01-09  2525200 -0.842078       1.756849  \n",
       "2015-01-12  1847500 -0.742402      -0.842078  "
      ]
     },
     "execution_count": 155,
     "metadata": {},
     "output_type": "execute_result"
    }
   ],
   "source": [
    "vanguard_sp500_df['Return'] = vanguard_sp500_df.Close.pct_change() * 100\n",
    "vanguard_sp500_df['Lagged_Return'] = vanguard_sp500_df.Return.shift()\n",
    "vanguard_sp500_df = vanguard_sp500_df.dropna()\n",
    "vanguard_sp500_df.head()"
   ]
  },
  {
   "cell_type": "markdown",
   "id": "f239dbc9-e122-45bf-b15e-6c0d80fda662",
   "metadata": {},
   "source": [
    "### Slice the data into Training and Testing data"
   ]
  },
  {
   "cell_type": "code",
   "execution_count": 156,
   "id": "a032cf8b-34d0-4ed8-9176-57eb4e477ff5",
   "metadata": {
    "tags": []
   },
   "outputs": [],
   "source": [
    "train_vanguard_sp500 = vanguard_sp500_df.loc['2016':'2020']\n",
    "\n",
    "test_vanguard_sp500 = vanguard_sp500_df.loc['2021']"
   ]
  },
  {
   "cell_type": "code",
   "execution_count": 157,
   "id": "e64b0a16-c8f8-469a-a446-31d59279ff79",
   "metadata": {},
   "outputs": [],
   "source": [
    "# Create dataframes for X_train and X_test\n",
    "# Create series for y_train and y_test\n",
    "# X_train (training set using just the independent variables), X_test (test set of of just the independent variables)\n",
    "# Y_train (training set using just the \"y\" variable, i.e., \"Futures Return\"), Y_test (test set of just the \"y\" variable):\n",
    "X_vanguard_sp500_train = train_vanguard_sp500[\"Lagged_Return\"].to_frame()\n",
    "X_vanguard_sp500_test = test_vanguard_sp500[\"Lagged_Return\"].to_frame()\n",
    "y_vanguard_sp500_train = train_vanguard_sp500[\"Return\"]\n",
    "y_vanguard_sp500_test = test_vanguard_sp500[\"Return\"]"
   ]
  },
  {
   "cell_type": "code",
   "execution_count": 158,
   "id": "c02fa537-57c9-40a0-9ccc-31dc7130c57f",
   "metadata": {},
   "outputs": [
    {
     "data": {
      "text/html": [
       "<div>\n",
       "<style scoped>\n",
       "    .dataframe tbody tr th:only-of-type {\n",
       "        vertical-align: middle;\n",
       "    }\n",
       "\n",
       "    .dataframe tbody tr th {\n",
       "        vertical-align: top;\n",
       "    }\n",
       "\n",
       "    .dataframe thead th {\n",
       "        text-align: right;\n",
       "    }\n",
       "</style>\n",
       "<table border=\"1\" class=\"dataframe\">\n",
       "  <thead>\n",
       "    <tr style=\"text-align: right;\">\n",
       "      <th></th>\n",
       "      <th>Lagged_Return</th>\n",
       "    </tr>\n",
       "    <tr>\n",
       "      <th>Date</th>\n",
       "      <th></th>\n",
       "    </tr>\n",
       "  </thead>\n",
       "  <tbody>\n",
       "    <tr>\n",
       "      <th>2016-01-04</th>\n",
       "      <td>-0.990472</td>\n",
       "    </tr>\n",
       "    <tr>\n",
       "      <th>2016-01-05</th>\n",
       "      <td>-1.401592</td>\n",
       "    </tr>\n",
       "    <tr>\n",
       "      <th>2016-01-06</th>\n",
       "      <td>0.179047</td>\n",
       "    </tr>\n",
       "    <tr>\n",
       "      <th>2016-01-07</th>\n",
       "      <td>-1.267329</td>\n",
       "    </tr>\n",
       "    <tr>\n",
       "      <th>2016-01-08</th>\n",
       "      <td>-2.435547</td>\n",
       "    </tr>\n",
       "  </tbody>\n",
       "</table>\n",
       "</div>"
      ],
      "text/plain": [
       "            Lagged_Return\n",
       "Date                     \n",
       "2016-01-04      -0.990472\n",
       "2016-01-05      -1.401592\n",
       "2016-01-06       0.179047\n",
       "2016-01-07      -1.267329\n",
       "2016-01-08      -2.435547"
      ]
     },
     "execution_count": 158,
     "metadata": {},
     "output_type": "execute_result"
    }
   ],
   "source": [
    "X_vanguard_sp500_train.head()"
   ]
  },
  {
   "cell_type": "code",
   "execution_count": 175,
   "id": "63ef3880-2578-4155-af0b-6dc5be76c20a",
   "metadata": {},
   "outputs": [
    {
     "data": {
      "text/plain": [
       "Date\n",
       "2016-01-04   -1.401592\n",
       "2016-01-05    0.179047\n",
       "2016-01-06   -1.267329\n",
       "2016-01-07   -2.435547\n",
       "2016-01-08   -1.062633\n",
       "Name: Return, dtype: float64"
      ]
     },
     "execution_count": 175,
     "metadata": {},
     "output_type": "execute_result"
    }
   ],
   "source": [
    "y_vanguard_sp500_train.head()"
   ]
  },
  {
   "cell_type": "markdown",
   "id": "9eea93dc-3061-4b65-ada0-b4ab5c49f0b7",
   "metadata": {},
   "source": [
    "### Fit the model to the Training Data"
   ]
  },
  {
   "cell_type": "code",
   "execution_count": 176,
   "id": "1e7f9e11-fd68-4d61-9fff-33abbae59942",
   "metadata": {
    "tags": []
   },
   "outputs": [
    {
     "data": {
      "text/plain": [
       "LinearRegression()"
      ]
     },
     "execution_count": 176,
     "metadata": {},
     "output_type": "execute_result"
    }
   ],
   "source": [
    "#Fit a SKLearn linear regression using  just the training set (X_train, Y_train):\n",
    "model = LinearRegression()\n",
    "model.fit(X_vanguard_sp500_train, y_vanguard_sp500_train)"
   ]
  },
  {
   "cell_type": "markdown",
   "id": "380f170d-6495-46e0-93a4-2408b8472158",
   "metadata": {},
   "source": [
    "### Make predictions using the Testing Data"
   ]
  },
  {
   "cell_type": "code",
   "execution_count": 177,
   "id": "87e3148f-c6b2-4c0b-8c56-61087832b491",
   "metadata": {},
   "outputs": [],
   "source": [
    "# And make a prediction of \"y\" values for just the test dataset\n",
    "predictions = model.predict(X_vanguard_sp500_test)"
   ]
  },
  {
   "cell_type": "code",
   "execution_count": 178,
   "id": "f8d24023-4ffd-4233-b01a-26e1af96f9d7",
   "metadata": {},
   "outputs": [],
   "source": [
    "# Assemble actual y data (Y_test) with predicted y data (from just above) into two columns in a dataframe:\n",
    "Results_vanguard_sp500 = y_vanguard_sp500_test.to_frame()\n",
    "Results_vanguard_sp500[\"Predicted Return\"] = predictions"
   ]
  },
  {
   "cell_type": "code",
   "execution_count": 179,
   "id": "a36d3946-b72a-4722-89f4-2c2054170dcd",
   "metadata": {},
   "outputs": [
    {
     "data": {
      "text/html": [
       "<div>\n",
       "<style scoped>\n",
       "    .dataframe tbody tr th:only-of-type {\n",
       "        vertical-align: middle;\n",
       "    }\n",
       "\n",
       "    .dataframe tbody tr th {\n",
       "        vertical-align: top;\n",
       "    }\n",
       "\n",
       "    .dataframe thead th {\n",
       "        text-align: right;\n",
       "    }\n",
       "</style>\n",
       "<table border=\"1\" class=\"dataframe\">\n",
       "  <thead>\n",
       "    <tr style=\"text-align: right;\">\n",
       "      <th></th>\n",
       "      <th>Return</th>\n",
       "      <th>Predicted Return</th>\n",
       "    </tr>\n",
       "    <tr>\n",
       "      <th>Date</th>\n",
       "      <th></th>\n",
       "      <th></th>\n",
       "    </tr>\n",
       "  </thead>\n",
       "  <tbody>\n",
       "    <tr>\n",
       "      <th>2021-01-04</th>\n",
       "      <td>-1.355874</td>\n",
       "      <td>-0.057415</td>\n",
       "    </tr>\n",
       "    <tr>\n",
       "      <th>2021-01-05</th>\n",
       "      <td>0.657762</td>\n",
       "      <td>0.385706</td>\n",
       "    </tr>\n",
       "    <tr>\n",
       "      <th>2021-01-06</th>\n",
       "      <td>0.606569</td>\n",
       "      <td>-0.085375</td>\n",
       "    </tr>\n",
       "    <tr>\n",
       "      <th>2021-01-07</th>\n",
       "      <td>1.494191</td>\n",
       "      <td>-0.073399</td>\n",
       "    </tr>\n",
       "    <tr>\n",
       "      <th>2021-01-08</th>\n",
       "      <td>0.562481</td>\n",
       "      <td>-0.281054</td>\n",
       "    </tr>\n",
       "    <tr>\n",
       "      <th>2021-01-11</th>\n",
       "      <td>-0.653504</td>\n",
       "      <td>-0.063085</td>\n",
       "    </tr>\n",
       "    <tr>\n",
       "      <th>2021-01-12</th>\n",
       "      <td>0.008617</td>\n",
       "      <td>0.221389</td>\n",
       "    </tr>\n",
       "    <tr>\n",
       "      <th>2021-01-13</th>\n",
       "      <td>0.249884</td>\n",
       "      <td>0.066489</td>\n",
       "    </tr>\n",
       "    <tr>\n",
       "      <th>2021-01-14</th>\n",
       "      <td>-0.338078</td>\n",
       "      <td>0.010046</td>\n",
       "    </tr>\n",
       "    <tr>\n",
       "      <th>2021-01-15</th>\n",
       "      <td>-0.712954</td>\n",
       "      <td>0.147597</td>\n",
       "    </tr>\n",
       "  </tbody>\n",
       "</table>\n",
       "</div>"
      ],
      "text/plain": [
       "              Return  Predicted Return\n",
       "Date                                  \n",
       "2021-01-04 -1.355874         -0.057415\n",
       "2021-01-05  0.657762          0.385706\n",
       "2021-01-06  0.606569         -0.085375\n",
       "2021-01-07  1.494191         -0.073399\n",
       "2021-01-08  0.562481         -0.281054\n",
       "2021-01-11 -0.653504         -0.063085\n",
       "2021-01-12  0.008617          0.221389\n",
       "2021-01-13  0.249884          0.066489\n",
       "2021-01-14 -0.338078          0.010046\n",
       "2021-01-15 -0.712954          0.147597"
      ]
     },
     "execution_count": 179,
     "metadata": {},
     "output_type": "execute_result"
    }
   ],
   "source": [
    "Results_vanguard_sp500.head(10)"
   ]
  },
  {
   "cell_type": "code",
   "execution_count": 180,
   "id": "923b3cc2-b2fd-444f-94c0-f0a1c1db2498",
   "metadata": {},
   "outputs": [
    {
     "data": {
      "text/plain": [
       "array([<matplotlib.axes._subplots.AxesSubplot object at 0x7fd0051828b0>,\n",
       "       <matplotlib.axes._subplots.AxesSubplot object at 0x7fd0052024f0>],\n",
       "      dtype=object)"
      ]
     },
     "execution_count": 180,
     "metadata": {},
     "output_type": "execute_result"
    },
    {
     "data": {
      "image/png": "[encoded data removed]",
      "text/plain": [
       "<Figure size 432x288 with 2 Axes>"
      ]
     },
     "metadata": {
      "needs_background": "light"
     },
     "output_type": "display_data"
    }
   ],
   "source": [
    "# Plot the post 40 predictions and actual returns separetely\n",
    "# The trends lines should be similar\n",
    "Results_vanguard_sp500[40:].plot(subplots=True)"
   ]
  },
  {
   "cell_type": "code",
   "execution_count": 181,
   "id": "d246a172-9aec-47f3-8bd8-4ea5f98c5d03",
   "metadata": {},
   "outputs": [
    {
     "data": {
      "text/plain": [
       "<matplotlib.axes._subplots.AxesSubplot at 0x7fd004900d30>"
      ]
     },
     "execution_count": 181,
     "metadata": {},
     "output_type": "execute_result"
    },
    {
     "data": {
      "image/png": "[encoded data removed]",
      "text/plain": [
       "<Figure size 432x288 with 1 Axes>"
      ]
     },
     "metadata": {
      "needs_background": "light"
     },
     "output_type": "display_data"
    }
   ],
   "source": [
    "# Plot the post 40 predictions against the true values in the same plot to see how it performed\n",
    "# The lines should be as close as possible\n",
    "Results_vanguard_sp500[40:].plot()"
   ]
  },
  {
   "cell_type": "code",
   "execution_count": 182,
   "id": "8e65d22c-ae28-414d-89c3-7f3bb3f00d7a",
   "metadata": {},
   "outputs": [
    {
     "name": "stdout",
     "output_type": "stream",
     "text": [
      "Out-of-Sample Root Mean Squared Error (RMSE): 0.8024427377848183\n"
     ]
    }
   ],
   "source": [
    "# Calculate the mean_squared_error (MSE) on actual versus predicted test \"y\" \n",
    "# (Hint: use the dataframe above)\n",
    "mse = mean_squared_error(\n",
    "    Results_vanguard_sp500[\"Return\"],\n",
    "    Results_vanguard_sp500[\"Predicted Return\"]\n",
    ")\n",
    "\n",
    "# Using that mean-squared-error, calculate the root-mean-squared error (RMSE):\n",
    "rmse = np.sqrt(mse)\n",
    "print(f\"Out-of-Sample Root Mean Squared Error (RMSE): {rmse}\")"
   ]
  },
  {
   "cell_type": "code",
   "execution_count": 183,
   "id": "61f27567-4199-4bde-bd89-180c89c3e188",
   "metadata": {
    "tags": []
   },
   "outputs": [
    {
     "name": "stdout",
     "output_type": "stream",
     "text": [
      "In-sample Root Mean Squared Error (RMSE): 1.175842035824281\n"
     ]
    }
   ],
   "source": [
    "# Construct a dataframe using just the \"y\" training data:\n",
    "in_sample_results = y_vanguard_sp500_train.to_frame()\n",
    "\n",
    "# Add a column of \"in-sample\" predictions to that DataFrame:  \n",
    "in_sample_results[\"In-sample Predictions\"] = model.predict(X_vanguard_sp500_train)\n",
    "\n",
    "# Calculate in-sample mean_squared_error (for comparison to out-of-sample)\n",
    "in_sample_mse = mean_squared_error(\n",
    "    in_sample_results[\"Return\"],\n",
    "    in_sample_results[\"In-sample Predictions\"]\n",
    ")\n",
    "\n",
    "# Calculate in-sample root mean_squared_error (for comparison to out-of-sample)\n",
    "in_sample_rmse = np.sqrt(in_sample_mse)\n",
    "print(f\"In-sample Root Mean Squared Error (RMSE): {in_sample_rmse}\")"
   ]
  },
  {
   "cell_type": "code",
   "execution_count": 184,
   "id": "a32594f4-af38-4331-96ba-4eef78da4aa0",
   "metadata": {
    "tags": []
   },
   "outputs": [],
   "source": [
    "##hvplot.help('bar')"
   ]
  },
  {
   "cell_type": "markdown",
   "id": "64f1d5dd-2f40-4d45-9f07-4b37090079f5",
   "metadata": {},
   "source": [
    "## Vanguard Target Retirement 2040 fund Predictions"
   ]
  },
  {
   "cell_type": "code",
   "execution_count": 185,
   "id": "49b8cf2b-cc6b-4c7f-8ef6-ba395c674066",
   "metadata": {},
   "outputs": [],
   "source": [
    "## Obtain the vangauard Target Retirement 2040 fund from the CSV\n",
    "vanguard_2040_path = Path('./Resources/vanguard_2040_daily_returs.csv')\n",
    "vanguard_2040_df = pd.read_csv(vanguard_2040_path, parse_dates=True, index_col='Date')"
   ]
  },
  {
   "cell_type": "code",
   "execution_count": 186,
   "id": "83143235-9c14-4c7a-848d-09d5f36b7b8c",
   "metadata": {
    "tags": []
   },
   "outputs": [
    {
     "data": {
      "text/html": [
       "<div>\n",
       "<style scoped>\n",
       "    .dataframe tbody tr th:only-of-type {\n",
       "        vertical-align: middle;\n",
       "    }\n",
       "\n",
       "    .dataframe tbody tr th {\n",
       "        vertical-align: top;\n",
       "    }\n",
       "\n",
       "    .dataframe thead th {\n",
       "        text-align: right;\n",
       "    }\n",
       "</style>\n",
       "<table border=\"1\" class=\"dataframe\">\n",
       "  <thead>\n",
       "    <tr style=\"text-align: right;\">\n",
       "      <th></th>\n",
       "      <th>Open</th>\n",
       "      <th>High</th>\n",
       "      <th>Low</th>\n",
       "      <th>Close</th>\n",
       "      <th>Adj Close</th>\n",
       "      <th>Volume</th>\n",
       "      <th>Return</th>\n",
       "      <th>Lagged_Return</th>\n",
       "    </tr>\n",
       "    <tr>\n",
       "      <th>Date</th>\n",
       "      <th></th>\n",
       "      <th></th>\n",
       "      <th></th>\n",
       "      <th></th>\n",
       "      <th></th>\n",
       "      <th></th>\n",
       "      <th></th>\n",
       "      <th></th>\n",
       "    </tr>\n",
       "  </thead>\n",
       "  <tbody>\n",
       "    <tr>\n",
       "      <th>2015-01-06</th>\n",
       "      <td>29.010000</td>\n",
       "      <td>29.010000</td>\n",
       "      <td>29.010000</td>\n",
       "      <td>29.010000</td>\n",
       "      <td>25.196285</td>\n",
       "      <td>0</td>\n",
       "      <td>-0.820512</td>\n",
       "      <td>-1.614529</td>\n",
       "    </tr>\n",
       "    <tr>\n",
       "      <th>2015-01-07</th>\n",
       "      <td>29.290001</td>\n",
       "      <td>29.290001</td>\n",
       "      <td>29.290001</td>\n",
       "      <td>29.290001</td>\n",
       "      <td>25.439478</td>\n",
       "      <td>0</td>\n",
       "      <td>0.965187</td>\n",
       "      <td>-0.820512</td>\n",
       "    </tr>\n",
       "    <tr>\n",
       "      <th>2015-01-08</th>\n",
       "      <td>29.730000</td>\n",
       "      <td>29.730000</td>\n",
       "      <td>29.730000</td>\n",
       "      <td>29.730000</td>\n",
       "      <td>25.821632</td>\n",
       "      <td>0</td>\n",
       "      <td>1.502214</td>\n",
       "      <td>0.965187</td>\n",
       "    </tr>\n",
       "    <tr>\n",
       "      <th>2015-01-09</th>\n",
       "      <td>29.540001</td>\n",
       "      <td>29.540001</td>\n",
       "      <td>29.540001</td>\n",
       "      <td>29.540001</td>\n",
       "      <td>25.656612</td>\n",
       "      <td>0</td>\n",
       "      <td>-0.639080</td>\n",
       "      <td>1.502214</td>\n",
       "    </tr>\n",
       "    <tr>\n",
       "      <th>2015-01-12</th>\n",
       "      <td>29.389999</td>\n",
       "      <td>29.389999</td>\n",
       "      <td>29.389999</td>\n",
       "      <td>29.389999</td>\n",
       "      <td>25.526329</td>\n",
       "      <td>0</td>\n",
       "      <td>-0.507791</td>\n",
       "      <td>-0.639080</td>\n",
       "    </tr>\n",
       "  </tbody>\n",
       "</table>\n",
       "</div>"
      ],
      "text/plain": [
       "                 Open       High        Low      Close  Adj Close  Volume  \\\n",
       "Date                                                                        \n",
       "2015-01-06  29.010000  29.010000  29.010000  29.010000  25.196285       0   \n",
       "2015-01-07  29.290001  29.290001  29.290001  29.290001  25.439478       0   \n",
       "2015-01-08  29.730000  29.730000  29.730000  29.730000  25.821632       0   \n",
       "2015-01-09  29.540001  29.540001  29.540001  29.540001  25.656612       0   \n",
       "2015-01-12  29.389999  29.389999  29.389999  29.389999  25.526329       0   \n",
       "\n",
       "              Return  Lagged_Return  \n",
       "Date                                 \n",
       "2015-01-06 -0.820512      -1.614529  \n",
       "2015-01-07  0.965187      -0.820512  \n",
       "2015-01-08  1.502214       0.965187  \n",
       "2015-01-09 -0.639080       1.502214  \n",
       "2015-01-12 -0.507791      -0.639080  "
      ]
     },
     "execution_count": 186,
     "metadata": {},
     "output_type": "execute_result"
    }
   ],
   "source": [
    "## Calculate and Add the return & Lagged Return column to the dataframe\n",
    "vanguard_2040_df['Return'] = vanguard_2040_df.Close.pct_change() * 100\n",
    "vanguard_2040_df['Lagged_Return'] = vanguard_2040_df.Return.shift()\n",
    "vanguard_2040_df = vanguard_2040_df.dropna()\n",
    "vanguard_2040_df.head()"
   ]
  },
  {
   "cell_type": "markdown",
   "id": "5e823460-3407-4961-b689-4148db8ae5b2",
   "metadata": {},
   "source": [
    "### Slice the data into Training and Testing data"
   ]
  },
  {
   "cell_type": "code",
   "execution_count": 187,
   "id": "8a43c087-1bb3-4f72-b0c2-9078775acaa7",
   "metadata": {},
   "outputs": [],
   "source": [
    "train_vanguard_2040 = vanguard_2040_df.loc['2016':'2020']\n",
    "\n",
    "test_vanguard_2040 = vanguard_2040_df.loc['2021']"
   ]
  },
  {
   "cell_type": "code",
   "execution_count": 188,
   "id": "cfdbf5ac-6179-4b6a-8fa0-cd696948a333",
   "metadata": {},
   "outputs": [],
   "source": [
    "# Create dataframes for X_train and X_test\n",
    "# Create series for y_train and y_test\n",
    "# X_train (training set using just the independent variables), X_test (test set of of just the independent variables)\n",
    "# Y_train (training set using just the \"y\" variable, i.e., \"Futures Return\"), Y_test (test set of just the \"y\" variable):\n",
    "X_vanguard_2040_train = train_vanguard_2040[\"Lagged_Return\"].to_frame()\n",
    "X_vanguard_2040_test = test_vanguard_2040[\"Lagged_Return\"].to_frame()\n",
    "y_vanguard_2040_train = train_vanguard_2040[\"Return\"]\n",
    "y_vanguard_2040_test = test_vanguard_2040[\"Return\"]"
   ]
  },
  {
   "cell_type": "code",
   "execution_count": 189,
   "id": "29ac44b5-cbae-46ce-be79-821881d41e7e",
   "metadata": {},
   "outputs": [
    {
     "data": {
      "text/html": [
       "<div>\n",
       "<style scoped>\n",
       "    .dataframe tbody tr th:only-of-type {\n",
       "        vertical-align: middle;\n",
       "    }\n",
       "\n",
       "    .dataframe tbody tr th {\n",
       "        vertical-align: top;\n",
       "    }\n",
       "\n",
       "    .dataframe thead th {\n",
       "        text-align: right;\n",
       "    }\n",
       "</style>\n",
       "<table border=\"1\" class=\"dataframe\">\n",
       "  <thead>\n",
       "    <tr style=\"text-align: right;\">\n",
       "      <th></th>\n",
       "      <th>Lagged_Return</th>\n",
       "    </tr>\n",
       "    <tr>\n",
       "      <th>Date</th>\n",
       "      <th></th>\n",
       "    </tr>\n",
       "  </thead>\n",
       "  <tbody>\n",
       "    <tr>\n",
       "      <th>2016-01-04</th>\n",
       "      <td>-0.767350</td>\n",
       "    </tr>\n",
       "    <tr>\n",
       "      <th>2016-01-05</th>\n",
       "      <td>-1.476274</td>\n",
       "    </tr>\n",
       "    <tr>\n",
       "      <th>2016-01-06</th>\n",
       "      <td>0.035677</td>\n",
       "    </tr>\n",
       "    <tr>\n",
       "      <th>2016-01-07</th>\n",
       "      <td>-1.176897</td>\n",
       "    </tr>\n",
       "    <tr>\n",
       "      <th>2016-01-08</th>\n",
       "      <td>-2.020929</td>\n",
       "    </tr>\n",
       "  </tbody>\n",
       "</table>\n",
       "</div>"
      ],
      "text/plain": [
       "            Lagged_Return\n",
       "Date                     \n",
       "2016-01-04      -0.767350\n",
       "2016-01-05      -1.476274\n",
       "2016-01-06       0.035677\n",
       "2016-01-07      -1.176897\n",
       "2016-01-08      -2.020929"
      ]
     },
     "execution_count": 189,
     "metadata": {},
     "output_type": "execute_result"
    }
   ],
   "source": [
    "X_vanguard_2040_train.head()"
   ]
  },
  {
   "cell_type": "code",
   "execution_count": 174,
   "id": "c1c6e43a-19c2-442d-9c3f-04b219ee91af",
   "metadata": {},
   "outputs": [
    {
     "data": {
      "text/plain": [
       "Date\n",
       "2016-01-04   -1.476274\n",
       "2016-01-05    0.035677\n",
       "2016-01-06   -1.176897\n",
       "2016-01-07   -2.020929\n",
       "2016-01-08   -0.957644\n",
       "Name: Return, dtype: float64"
      ]
     },
     "execution_count": 174,
     "metadata": {},
     "output_type": "execute_result"
    }
   ],
   "source": [
    "y_vanguard_2040_train.head()"
   ]
  },
  {
   "cell_type": "markdown",
   "id": "f571e866-e53b-449c-9430-6d01aa103c23",
   "metadata": {},
   "source": [
    "### Fit the model to the Training Data"
   ]
  },
  {
   "cell_type": "code",
   "execution_count": 190,
   "id": "2244f141-38f8-43e0-8687-4a27ee39bc8c",
   "metadata": {},
   "outputs": [
    {
     "data": {
      "text/plain": [
       "LinearRegression()"
      ]
     },
     "execution_count": 190,
     "metadata": {},
     "output_type": "execute_result"
    }
   ],
   "source": [
    "#Fit a SKLearn linear regression using  just the training set (X_train, Y_train):\n",
    "model = LinearRegression()\n",
    "model.fit(X_vanguard_2040_train, y_vanguard_2040_train)"
   ]
  },
  {
   "cell_type": "markdown",
   "id": "3eef67cf-5dae-4d5f-aaa5-773752d4d707",
   "metadata": {},
   "source": [
    "### Make predictions using the Testing Data"
   ]
  },
  {
   "cell_type": "code",
   "execution_count": 191,
   "id": "602354e1-441f-4d23-92d6-1a4bcc7a975f",
   "metadata": {},
   "outputs": [],
   "source": [
    "# And make a prediction of \"y\" values for just the test dataset\n",
    "predictions = model.predict(X_vanguard_2040_test)"
   ]
  },
  {
   "cell_type": "code",
   "execution_count": 192,
   "id": "a5b42e92-d527-4dfa-83ca-8df83b73a3d9",
   "metadata": {},
   "outputs": [],
   "source": [
    "# Assemble actual y data (Y_test) with predicted y data (from just above) into two columns in a dataframe:\n",
    "Results_vanguard_2040 = y_vanguard_2040_test.to_frame()\n",
    "Results_vanguard_2040[\"Predicted Return\"] = predictions"
   ]
  },
  {
   "cell_type": "code",
   "execution_count": 193,
   "id": "0ea77095-fb3e-4bac-9bdb-eaca40d3fde7",
   "metadata": {},
   "outputs": [
    {
     "data": {
      "text/html": [
       "<div>\n",
       "<style scoped>\n",
       "    .dataframe tbody tr th:only-of-type {\n",
       "        vertical-align: middle;\n",
       "    }\n",
       "\n",
       "    .dataframe tbody tr th {\n",
       "        vertical-align: top;\n",
       "    }\n",
       "\n",
       "    .dataframe thead th {\n",
       "        text-align: right;\n",
       "    }\n",
       "</style>\n",
       "<table border=\"1\" class=\"dataframe\">\n",
       "  <thead>\n",
       "    <tr style=\"text-align: right;\">\n",
       "      <th></th>\n",
       "      <th>Return</th>\n",
       "      <th>Predicted Return</th>\n",
       "    </tr>\n",
       "    <tr>\n",
       "      <th>Date</th>\n",
       "      <th></th>\n",
       "      <th></th>\n",
       "    </tr>\n",
       "  </thead>\n",
       "  <tbody>\n",
       "    <tr>\n",
       "      <th>2021-01-04</th>\n",
       "      <td>-0.632480</td>\n",
       "      <td>0.015030</td>\n",
       "    </tr>\n",
       "    <tr>\n",
       "      <th>2021-01-05</th>\n",
       "      <td>0.841098</td>\n",
       "      <td>0.156428</td>\n",
       "    </tr>\n",
       "    <tr>\n",
       "      <th>2021-01-06</th>\n",
       "      <td>0.450858</td>\n",
       "      <td>-0.099695</td>\n",
       "    </tr>\n",
       "    <tr>\n",
       "      <th>2021-01-07</th>\n",
       "      <td>0.964992</td>\n",
       "      <td>-0.031868</td>\n",
       "    </tr>\n",
       "    <tr>\n",
       "      <th>2021-01-08</th>\n",
       "      <td>0.600126</td>\n",
       "      <td>-0.121230</td>\n",
       "    </tr>\n",
       "    <tr>\n",
       "      <th>2021-01-11</th>\n",
       "      <td>-0.640736</td>\n",
       "      <td>-0.057812</td>\n",
       "    </tr>\n",
       "    <tr>\n",
       "      <th>2021-01-12</th>\n",
       "      <td>0.355792</td>\n",
       "      <td>0.157863</td>\n",
       "    </tr>\n",
       "    <tr>\n",
       "      <th>2021-01-13</th>\n",
       "      <td>0.088626</td>\n",
       "      <td>-0.015344</td>\n",
       "    </tr>\n",
       "    <tr>\n",
       "      <th>2021-01-14</th>\n",
       "      <td>0.154978</td>\n",
       "      <td>0.031092</td>\n",
       "    </tr>\n",
       "    <tr>\n",
       "      <th>2021-01-15</th>\n",
       "      <td>-0.839967</td>\n",
       "      <td>0.019560</td>\n",
       "    </tr>\n",
       "  </tbody>\n",
       "</table>\n",
       "</div>"
      ],
      "text/plain": [
       "              Return  Predicted Return\n",
       "Date                                  \n",
       "2021-01-04 -0.632480          0.015030\n",
       "2021-01-05  0.841098          0.156428\n",
       "2021-01-06  0.450858         -0.099695\n",
       "2021-01-07  0.964992         -0.031868\n",
       "2021-01-08  0.600126         -0.121230\n",
       "2021-01-11 -0.640736         -0.057812\n",
       "2021-01-12  0.355792          0.157863\n",
       "2021-01-13  0.088626         -0.015344\n",
       "2021-01-14  0.154978          0.031092\n",
       "2021-01-15 -0.839967          0.019560"
      ]
     },
     "execution_count": 193,
     "metadata": {},
     "output_type": "execute_result"
    }
   ],
   "source": [
    "Results_vanguard_2040.head(10)"
   ]
  },
  {
   "cell_type": "code",
   "execution_count": 194,
   "id": "a0ffaa9a-eda4-455c-84a8-d2fb6e3083cb",
   "metadata": {},
   "outputs": [
    {
     "data": {
      "text/plain": [
       "array([<matplotlib.axes._subplots.AxesSubplot object at 0x7fd004c2f400>,\n",
       "       <matplotlib.axes._subplots.AxesSubplot object at 0x7fd01feb4cd0>],\n",
       "      dtype=object)"
      ]
     },
     "execution_count": 194,
     "metadata": {},
     "output_type": "execute_result"
    },
    {
     "data": {
      "image/png": "[encoded data removed]",
      "text/plain": [
       "<Figure size 432x288 with 2 Axes>"
      ]
     },
     "metadata": {
      "needs_background": "light"
     },
     "output_type": "display_data"
    }
   ],
   "source": [
    "# Plot the post 40 predictions and actual returns separetely\n",
    "# The trends lines should be similar\n",
    "Results_vanguard_2040[40:].plot(subplots=True)"
   ]
  },
  {
   "cell_type": "code",
   "execution_count": 195,
   "id": "7f21f8f3-e9f7-4bac-a5b5-f58bde4a439f",
   "metadata": {},
   "outputs": [
    {
     "data": {
      "text/plain": [
       "<matplotlib.axes._subplots.AxesSubplot at 0x7fd00494ed60>"
      ]
     },
     "execution_count": 195,
     "metadata": {},
     "output_type": "execute_result"
    },
    {
     "data": {
      "image/png": "[encoded data removed]",
      "text/plain": [
       "<Figure size 432x288 with 1 Axes>"
      ]
     },
     "metadata": {
      "needs_background": "light"
     },
     "output_type": "display_data"
    }
   ],
   "source": [
    "# Plot the post 40 predictions against the true values in the same plot to see how it performed\n",
    "# The lines should be as close as possible\n",
    "Results_vanguard_2040[40:].plot()"
   ]
  },
  {
   "cell_type": "code",
   "execution_count": 196,
   "id": "51ecec6b-bdca-4b29-b6c0-57d2fd1938de",
   "metadata": {
    "tags": []
   },
   "outputs": [
    {
     "name": "stdout",
     "output_type": "stream",
     "text": [
      "Out-of-Sample Root Mean Squared Error (RMSE): 0.6386845307976418\n"
     ]
    }
   ],
   "source": [
    "# Calculate the mean_squared_error (MSE) on actual versus predicted test \"y\" \n",
    "# (Hint: use the dataframe above)\n",
    "mse = mean_squared_error(\n",
    "    Results_vanguard_2040[\"Return\"],\n",
    "    Results_vanguard_2040[\"Predicted Return\"]\n",
    ")\n",
    "\n",
    "# Using that mean-squared-error, calculate the root-mean-squared error (RMSE):\n",
    "rmse = np.sqrt(mse)\n",
    "print(f\"Out-of-Sample Root Mean Squared Error (RMSE): {rmse}\")"
   ]
  },
  {
   "cell_type": "code",
   "execution_count": 197,
   "id": "65e7a3b4-0a07-4536-955a-e610e8b60232",
   "metadata": {},
   "outputs": [
    {
     "name": "stdout",
     "output_type": "stream",
     "text": [
      "In-sample Root Mean Squared Error (RMSE): 0.9400404842482671\n"
     ]
    }
   ],
   "source": [
    "# Construct a dataframe using just the \"y\" training data:\n",
    "in_sample_results = y_vanguard_2040_train.to_frame()\n",
    "\n",
    "# Add a column of \"in-sample\" predictions to that DataFrame:  \n",
    "in_sample_results[\"In-sample Predictions\"] = model.predict(X_vanguard_2040_train)\n",
    "\n",
    "# Calculate in-sample mean_squared_error (for comparison to out-of-sample)\n",
    "in_sample_mse = mean_squared_error(\n",
    "    in_sample_results[\"Return\"],\n",
    "    in_sample_results[\"In-sample Predictions\"]\n",
    ")\n",
    "\n",
    "# Calculate in-sample root mean_squared_error (for comparison to out-of-sample)\n",
    "in_sample_rmse = np.sqrt(in_sample_mse)\n",
    "print(f\"In-sample Root Mean Squared Error (RMSE): {in_sample_rmse}\")"
   ]
  }
 ],
 "metadata": {
  "kernelspec": {
   "display_name": "Python 3 (ipykernel)",
   "language": "python",
   "name": "python3"
  },
  "language_info": {
   "codemirror_mode": {
    "name": "ipython",
    "version": 3
   },
   "file_extension": ".py",
   "mimetype": "text/x-python",
   "name": "python",
   "nbconvert_exporter": "python",
   "pygments_lexer": "ipython3",
   "version": "3.8.2"
  }
 },
 "nbformat": 4,
 "nbformat_minor": 5
}
