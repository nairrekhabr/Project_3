{
 "cells": [
  {
   "cell_type": "markdown",
   "id": "852824c9-82bd-416f-9277-98007e570729",
   "metadata": {},
   "source": [
    "# Bitcoin and XRT token analysis"
   ]
  },
  {
   "cell_type": "code",
   "execution_count": 57,
   "id": "4a2d1e09-6079-41d9-8782-024719b75b92",
   "metadata": {},
   "outputs": [],
   "source": [
    "# Initial imports\n",
    "import os\n",
    "import requests\n",
    "import pandas as pd\n",
    "import numpy as np\n",
    "import hvplot.pandas\n",
    "import plotly.express as px\n",
    "from pycoingecko import CoinGeckoAPI\n",
    "cg = CoinGeckoAPI()\n",
    "\n",
    "%matplotlib inline"
   ]
  },
  {
   "cell_type": "markdown",
   "id": "d510ad97-3c20-4da0-ba75-86d6ed3ced94",
   "metadata": {},
   "source": [
    "## Pull Crypto prices"
   ]
  },
  {
   "cell_type": "code",
   "execution_count": 58,
   "id": "5f5602f2-296b-4ea0-9a19-533d488785a2",
   "metadata": {},
   "outputs": [
    {
     "data": {
      "text/plain": [
       "{'bitcoin': {'usd': 63007}, 'ripple': {'usd': 1.12}}"
      ]
     },
     "execution_count": 58,
     "metadata": {},
     "output_type": "execute_result"
    }
   ],
   "source": [
    "# Get prices of Bitcoin and XRT in usd\n",
    "cg.get_price(ids=['bitcoin', 'ripple'], vs_currencies='usd')"
   ]
  },
  {
   "cell_type": "code",
   "execution_count": 59,
   "id": "2e6810b9-4ab4-4416-b80b-3e0b746221ea",
   "metadata": {},
   "outputs": [],
   "source": [
    "# Define function to pull cryptocurrency prices from Coingecko\n",
    "\n",
    "def crypto_pull(ticker, name):\n",
    "    # Pull USD prices for cryptocurrency\n",
    "    ticker = cg.get_coin_market_chart_by_id(id=name, vs_currency=\"usd\", days=\"max\")\n",
    "    \n",
    "    # Isolate target data (prices)\n",
    "    data = ticker[\"prices\"]\n",
    "    \n",
    "    # Create new dataframe and assign column names\n",
    "    df = pd.DataFrame(data, columns=[\"Date\", \"Close\"])\n",
    "    \n",
    "    # Convert date format from UTC to YYYY-MM-DD format\n",
    "    df['Date'] = pd.to_datetime(df[\"Date\"], unit=\"ms\").apply(lambda x: x.date())\n",
    "    \n",
    "    # Round closing prices to two decimals\n",
    "    df[\"Close\"] = df[\"Close\"].round(2)\n",
    "    \n",
    "    # Set \"Date\" as index\n",
    "    df.set_index(\"Date\", inplace = True)\n",
    "    \n",
    "    return df"
   ]
  },
  {
   "cell_type": "code",
   "execution_count": 60,
   "id": "ac98eb04-d373-4908-ae6c-ff499b2cab24",
   "metadata": {},
   "outputs": [
    {
     "data": {
      "text/html": [
       "<div>\n",
       "<style scoped>\n",
       "    .dataframe tbody tr th:only-of-type {\n",
       "        vertical-align: middle;\n",
       "    }\n",
       "\n",
       "    .dataframe tbody tr th {\n",
       "        vertical-align: top;\n",
       "    }\n",
       "\n",
       "    .dataframe thead th {\n",
       "        text-align: right;\n",
       "    }\n",
       "</style>\n",
       "<table border=\"1\" class=\"dataframe\">\n",
       "  <thead>\n",
       "    <tr style=\"text-align: right;\">\n",
       "      <th></th>\n",
       "      <th>btc</th>\n",
       "    </tr>\n",
       "    <tr>\n",
       "      <th>Date</th>\n",
       "      <th></th>\n",
       "    </tr>\n",
       "  </thead>\n",
       "  <tbody>\n",
       "    <tr>\n",
       "      <th>2013-04-28</th>\n",
       "      <td>135.30</td>\n",
       "    </tr>\n",
       "    <tr>\n",
       "      <th>2013-04-29</th>\n",
       "      <td>141.96</td>\n",
       "    </tr>\n",
       "    <tr>\n",
       "      <th>2013-04-30</th>\n",
       "      <td>135.30</td>\n",
       "    </tr>\n",
       "    <tr>\n",
       "      <th>2013-05-01</th>\n",
       "      <td>117.00</td>\n",
       "    </tr>\n",
       "    <tr>\n",
       "      <th>2013-05-02</th>\n",
       "      <td>103.43</td>\n",
       "    </tr>\n",
       "  </tbody>\n",
       "</table>\n",
       "</div>"
      ],
      "text/plain": [
       "               btc\n",
       "Date              \n",
       "2013-04-28  135.30\n",
       "2013-04-29  141.96\n",
       "2013-04-30  135.30\n",
       "2013-05-01  117.00\n",
       "2013-05-02  103.43"
      ]
     },
     "execution_count": 60,
     "metadata": {},
     "output_type": "execute_result"
    }
   ],
   "source": [
    "# Get Bitcoin prices\n",
    "btc = crypto_pull('btc', 'bitcoin')\n",
    "btc.rename(columns={'Close':'btc'}, inplace=True)\n",
    "btc.head()"
   ]
  },
  {
   "cell_type": "code",
   "execution_count": 61,
   "id": "6fec5589-f498-43a3-ab78-b94189825fda",
   "metadata": {},
   "outputs": [
    {
     "data": {
      "text/html": [
       "<div>\n",
       "<style scoped>\n",
       "    .dataframe tbody tr th:only-of-type {\n",
       "        vertical-align: middle;\n",
       "    }\n",
       "\n",
       "    .dataframe tbody tr th {\n",
       "        vertical-align: top;\n",
       "    }\n",
       "\n",
       "    .dataframe thead th {\n",
       "        text-align: right;\n",
       "    }\n",
       "</style>\n",
       "<table border=\"1\" class=\"dataframe\">\n",
       "  <thead>\n",
       "    <tr style=\"text-align: right;\">\n",
       "      <th></th>\n",
       "      <th>xrp</th>\n",
       "    </tr>\n",
       "    <tr>\n",
       "      <th>Date</th>\n",
       "      <th></th>\n",
       "    </tr>\n",
       "  </thead>\n",
       "  <tbody>\n",
       "    <tr>\n",
       "      <th>2013-08-04</th>\n",
       "      <td>0.01</td>\n",
       "    </tr>\n",
       "    <tr>\n",
       "      <th>2013-08-05</th>\n",
       "      <td>0.01</td>\n",
       "    </tr>\n",
       "    <tr>\n",
       "      <th>2013-08-06</th>\n",
       "      <td>0.00</td>\n",
       "    </tr>\n",
       "    <tr>\n",
       "      <th>2013-08-07</th>\n",
       "      <td>0.00</td>\n",
       "    </tr>\n",
       "    <tr>\n",
       "      <th>2013-08-08</th>\n",
       "      <td>0.00</td>\n",
       "    </tr>\n",
       "  </tbody>\n",
       "</table>\n",
       "</div>"
      ],
      "text/plain": [
       "             xrp\n",
       "Date            \n",
       "2013-08-04  0.01\n",
       "2013-08-05  0.01\n",
       "2013-08-06  0.00\n",
       "2013-08-07  0.00\n",
       "2013-08-08  0.00"
      ]
     },
     "execution_count": 61,
     "metadata": {},
     "output_type": "execute_result"
    }
   ],
   "source": [
    "# Get ripple prices\n",
    "xrp = crypto_pull('xrp', 'ripple')\n",
    "xrp.rename(columns={'Close':'xrp'}, inplace=True)\n",
    "xrp.head()"
   ]
  },
  {
   "cell_type": "code",
   "execution_count": 62,
   "id": "362486d3-5349-486b-9aa5-5831bd5a5ea9",
   "metadata": {},
   "outputs": [
    {
     "data": {
      "text/html": [
       "<div>\n",
       "<style scoped>\n",
       "    .dataframe tbody tr th:only-of-type {\n",
       "        vertical-align: middle;\n",
       "    }\n",
       "\n",
       "    .dataframe tbody tr th {\n",
       "        vertical-align: top;\n",
       "    }\n",
       "\n",
       "    .dataframe thead th {\n",
       "        text-align: right;\n",
       "    }\n",
       "</style>\n",
       "<table border=\"1\" class=\"dataframe\">\n",
       "  <thead>\n",
       "    <tr style=\"text-align: right;\">\n",
       "      <th></th>\n",
       "      <th>btc</th>\n",
       "      <th>xrp</th>\n",
       "    </tr>\n",
       "    <tr>\n",
       "      <th>Date</th>\n",
       "      <th></th>\n",
       "      <th></th>\n",
       "    </tr>\n",
       "  </thead>\n",
       "  <tbody>\n",
       "    <tr>\n",
       "      <th>2013-08-04</th>\n",
       "      <td>104.86</td>\n",
       "      <td>0.01</td>\n",
       "    </tr>\n",
       "    <tr>\n",
       "      <th>2013-08-05</th>\n",
       "      <td>106.56</td>\n",
       "      <td>0.01</td>\n",
       "    </tr>\n",
       "    <tr>\n",
       "      <th>2013-08-06</th>\n",
       "      <td>105.84</td>\n",
       "      <td>0.00</td>\n",
       "    </tr>\n",
       "    <tr>\n",
       "      <th>2013-08-07</th>\n",
       "      <td>106.75</td>\n",
       "      <td>0.00</td>\n",
       "    </tr>\n",
       "    <tr>\n",
       "      <th>2013-08-08</th>\n",
       "      <td>101.67</td>\n",
       "      <td>0.00</td>\n",
       "    </tr>\n",
       "  </tbody>\n",
       "</table>\n",
       "</div>"
      ],
      "text/plain": [
       "               btc   xrp\n",
       "Date                    \n",
       "2013-08-04  104.86  0.01\n",
       "2013-08-05  106.56  0.01\n",
       "2013-08-06  105.84  0.00\n",
       "2013-08-07  106.75  0.00\n",
       "2013-08-08  101.67  0.00"
      ]
     },
     "execution_count": 62,
     "metadata": {},
     "output_type": "execute_result"
    }
   ],
   "source": [
    "# Concat btc and xrp DataFrames\n",
    "all_returns = pd.concat([btc, xrp], axis='columns', join='inner')\n",
    "all_returns.head()"
   ]
  },
  {
   "cell_type": "code",
   "execution_count": 63,
   "id": "9827a53f-5f55-4d65-845a-449f163036ac",
   "metadata": {},
   "outputs": [
    {
     "data": {
      "text/html": [
       "<div>\n",
       "<style scoped>\n",
       "    .dataframe tbody tr th:only-of-type {\n",
       "        vertical-align: middle;\n",
       "    }\n",
       "\n",
       "    .dataframe tbody tr th {\n",
       "        vertical-align: top;\n",
       "    }\n",
       "\n",
       "    .dataframe thead th {\n",
       "        text-align: right;\n",
       "    }\n",
       "</style>\n",
       "<table border=\"1\" class=\"dataframe\">\n",
       "  <thead>\n",
       "    <tr style=\"text-align: right;\">\n",
       "      <th></th>\n",
       "      <th>btc</th>\n",
       "      <th>xrp</th>\n",
       "    </tr>\n",
       "    <tr>\n",
       "      <th>Date</th>\n",
       "      <th></th>\n",
       "      <th></th>\n",
       "    </tr>\n",
       "  </thead>\n",
       "  <tbody>\n",
       "    <tr>\n",
       "      <th>2017-10-26</th>\n",
       "      <td>5883.05</td>\n",
       "      <td>0.2</td>\n",
       "    </tr>\n",
       "    <tr>\n",
       "      <th>2017-10-27</th>\n",
       "      <td>5775.52</td>\n",
       "      <td>0.2</td>\n",
       "    </tr>\n",
       "    <tr>\n",
       "      <th>2017-10-28</th>\n",
       "      <td>5734.31</td>\n",
       "      <td>0.2</td>\n",
       "    </tr>\n",
       "    <tr>\n",
       "      <th>2017-10-29</th>\n",
       "      <td>6123.55</td>\n",
       "      <td>0.2</td>\n",
       "    </tr>\n",
       "    <tr>\n",
       "      <th>2017-10-30</th>\n",
       "      <td>6104.39</td>\n",
       "      <td>0.2</td>\n",
       "    </tr>\n",
       "  </tbody>\n",
       "</table>\n",
       "</div>"
      ],
      "text/plain": [
       "                btc  xrp\n",
       "Date                    \n",
       "2017-10-26  5883.05  0.2\n",
       "2017-10-27  5775.52  0.2\n",
       "2017-10-28  5734.31  0.2\n",
       "2017-10-29  6123.55  0.2\n",
       "2017-10-30  6104.39  0.2"
      ]
     },
     "execution_count": 63,
     "metadata": {},
     "output_type": "execute_result"
    }
   ],
   "source": [
    "# Create dataframe of closing prices for BTC and XRP with ranges between '2017-10-26' and '2021-10-26'\n",
    "startdate = pd.to_datetime('2017-10-26').date()\n",
    "enddate = pd.to_datetime('2021-10-26').date()\n",
    "\n",
    "new_df = all_returns.loc[startdate:enddate]\n",
    "new_df.head()"
   ]
  },
  {
   "cell_type": "code",
   "execution_count": 64,
   "id": "78feb359-fa1f-4bf2-adb9-6fc1c2b5a524",
   "metadata": {},
   "outputs": [
    {
     "data": {
      "text/html": [
       "<div>\n",
       "<style scoped>\n",
       "    .dataframe tbody tr th:only-of-type {\n",
       "        vertical-align: middle;\n",
       "    }\n",
       "\n",
       "    .dataframe tbody tr th {\n",
       "        vertical-align: top;\n",
       "    }\n",
       "\n",
       "    .dataframe thead th {\n",
       "        text-align: right;\n",
       "    }\n",
       "</style>\n",
       "<table border=\"1\" class=\"dataframe\">\n",
       "  <thead>\n",
       "    <tr style=\"text-align: right;\">\n",
       "      <th></th>\n",
       "      <th>btc</th>\n",
       "      <th>xrp</th>\n",
       "    </tr>\n",
       "    <tr>\n",
       "      <th>Date</th>\n",
       "      <th></th>\n",
       "      <th></th>\n",
       "    </tr>\n",
       "  </thead>\n",
       "  <tbody>\n",
       "    <tr>\n",
       "      <th>2017-10-27</th>\n",
       "      <td>-0.018278</td>\n",
       "      <td>0.0</td>\n",
       "    </tr>\n",
       "    <tr>\n",
       "      <th>2017-10-28</th>\n",
       "      <td>-0.007135</td>\n",
       "      <td>0.0</td>\n",
       "    </tr>\n",
       "    <tr>\n",
       "      <th>2017-10-29</th>\n",
       "      <td>0.067879</td>\n",
       "      <td>0.0</td>\n",
       "    </tr>\n",
       "    <tr>\n",
       "      <th>2017-10-30</th>\n",
       "      <td>-0.003129</td>\n",
       "      <td>0.0</td>\n",
       "    </tr>\n",
       "    <tr>\n",
       "      <th>2017-10-31</th>\n",
       "      <td>0.043290</td>\n",
       "      <td>0.0</td>\n",
       "    </tr>\n",
       "  </tbody>\n",
       "</table>\n",
       "</div>"
      ],
      "text/plain": [
       "                 btc  xrp\n",
       "Date                     \n",
       "2017-10-27 -0.018278  0.0\n",
       "2017-10-28 -0.007135  0.0\n",
       "2017-10-29  0.067879  0.0\n",
       "2017-10-30 -0.003129  0.0\n",
       "2017-10-31  0.043290  0.0"
      ]
     },
     "execution_count": 64,
     "metadata": {},
     "output_type": "execute_result"
    }
   ],
   "source": [
    "# Calculate daily returns for each portfolio\n",
    "daily_returns = new_df.pct_change().dropna()\n",
    "daily_returns.head()"
   ]
  },
  {
   "cell_type": "code",
   "execution_count": 65,
   "id": "034be182-fe25-4b25-b2cd-4f8fa8fe71b4",
   "metadata": {},
   "outputs": [
    {
     "data": {
      "text/html": [
       "<div>\n",
       "<style scoped>\n",
       "    .dataframe tbody tr th:only-of-type {\n",
       "        vertical-align: middle;\n",
       "    }\n",
       "\n",
       "    .dataframe tbody tr th {\n",
       "        vertical-align: top;\n",
       "    }\n",
       "\n",
       "    .dataframe thead th {\n",
       "        text-align: right;\n",
       "    }\n",
       "</style>\n",
       "<table border=\"1\" class=\"dataframe\">\n",
       "  <thead>\n",
       "    <tr style=\"text-align: right;\">\n",
       "      <th></th>\n",
       "      <th>btc</th>\n",
       "      <th>xrp</th>\n",
       "    </tr>\n",
       "    <tr>\n",
       "      <th>Date</th>\n",
       "      <th></th>\n",
       "      <th></th>\n",
       "    </tr>\n",
       "  </thead>\n",
       "  <tbody>\n",
       "    <tr>\n",
       "      <th>2017-10-27</th>\n",
       "      <td>0.981722</td>\n",
       "      <td>1.0</td>\n",
       "    </tr>\n",
       "    <tr>\n",
       "      <th>2017-10-28</th>\n",
       "      <td>0.974717</td>\n",
       "      <td>1.0</td>\n",
       "    </tr>\n",
       "    <tr>\n",
       "      <th>2017-10-29</th>\n",
       "      <td>1.040880</td>\n",
       "      <td>1.0</td>\n",
       "    </tr>\n",
       "    <tr>\n",
       "      <th>2017-10-30</th>\n",
       "      <td>1.037623</td>\n",
       "      <td>1.0</td>\n",
       "    </tr>\n",
       "    <tr>\n",
       "      <th>2017-10-31</th>\n",
       "      <td>1.082542</td>\n",
       "      <td>1.0</td>\n",
       "    </tr>\n",
       "  </tbody>\n",
       "</table>\n",
       "</div>"
      ],
      "text/plain": [
       "                 btc  xrp\n",
       "Date                     \n",
       "2017-10-27  0.981722  1.0\n",
       "2017-10-28  0.974717  1.0\n",
       "2017-10-29  1.040880  1.0\n",
       "2017-10-30  1.037623  1.0\n",
       "2017-10-31  1.082542  1.0"
      ]
     },
     "execution_count": 65,
     "metadata": {},
     "output_type": "execute_result"
    }
   ],
   "source": [
    "# Calculate cumulative returns for each portfolio\n",
    "cumulative_returns = (1 + daily_returns).cumprod()\n",
    "cumulative_returns.head()"
   ]
  },
  {
   "cell_type": "markdown",
   "id": "a0d5ab0c-aba4-48ef-8e26-53f3d1ae579f",
   "metadata": {},
   "source": [
    "## Evaluate BTC and XRP performance"
   ]
  },
  {
   "cell_type": "code",
   "execution_count": 66,
   "id": "82b685c0-c564-4e73-8611-27ae51e260f2",
   "metadata": {},
   "outputs": [
    {
     "data": {
      "text/html": [
       "<div>\n",
       "<style scoped>\n",
       "    .dataframe tbody tr th:only-of-type {\n",
       "        vertical-align: middle;\n",
       "    }\n",
       "\n",
       "    .dataframe tbody tr th {\n",
       "        vertical-align: top;\n",
       "    }\n",
       "\n",
       "    .dataframe thead th {\n",
       "        text-align: right;\n",
       "    }\n",
       "</style>\n",
       "<table border=\"1\" class=\"dataframe\">\n",
       "  <thead>\n",
       "    <tr style=\"text-align: right;\">\n",
       "      <th></th>\n",
       "      <th>btc_values</th>\n",
       "      <th>xrp_values</th>\n",
       "    </tr>\n",
       "  </thead>\n",
       "  <tbody>\n",
       "    <tr>\n",
       "      <th>Annual Return</th>\n",
       "      <td>NaN</td>\n",
       "      <td>NaN</td>\n",
       "    </tr>\n",
       "    <tr>\n",
       "      <th>Annual Volatility</th>\n",
       "      <td>NaN</td>\n",
       "      <td>NaN</td>\n",
       "    </tr>\n",
       "    <tr>\n",
       "      <th>Sharpe Ratio</th>\n",
       "      <td>NaN</td>\n",
       "      <td>NaN</td>\n",
       "    </tr>\n",
       "    <tr>\n",
       "      <th>Sortino Ratio</th>\n",
       "      <td>NaN</td>\n",
       "      <td>NaN</td>\n",
       "    </tr>\n",
       "  </tbody>\n",
       "</table>\n",
       "</div>"
      ],
      "text/plain": [
       "                  btc_values xrp_values\n",
       "Annual Return            NaN        NaN\n",
       "Annual Volatility        NaN        NaN\n",
       "Sharpe Ratio             NaN        NaN\n",
       "Sortino Ratio            NaN        NaN"
      ]
     },
     "execution_count": 66,
     "metadata": {},
     "output_type": "execute_result"
    }
   ],
   "source": [
    "# Create Evaluation dataframe\n",
    "metrics = ['Annual Return', 'Annual Volatility', 'Sharpe Ratio','Sortino Ratio']\n",
    "columns = ['btc_values', 'xrp_values']\n",
    "\n",
    "# Initialize the DataFrame with index set to evaluation metrics and columns as 'btc_values', 'xrp_values'\n",
    "portfolio_evaluation_df = pd.DataFrame(index=metrics, columns=columns)\n",
    "portfolio_evaluation_df"
   ]
  },
  {
   "cell_type": "code",
   "execution_count": 67,
   "id": "78a820f0-8abe-4ecb-b7cb-638d314c92c6",
   "metadata": {},
   "outputs": [
    {
     "data": {
      "text/html": [
       "<div>\n",
       "<style scoped>\n",
       "    .dataframe tbody tr th:only-of-type {\n",
       "        vertical-align: middle;\n",
       "    }\n",
       "\n",
       "    .dataframe tbody tr th {\n",
       "        vertical-align: top;\n",
       "    }\n",
       "\n",
       "    .dataframe thead th {\n",
       "        text-align: right;\n",
       "    }\n",
       "</style>\n",
       "<table border=\"1\" class=\"dataframe\">\n",
       "  <thead>\n",
       "    <tr style=\"text-align: right;\">\n",
       "      <th></th>\n",
       "      <th>btc_values</th>\n",
       "      <th>xrp_values</th>\n",
       "    </tr>\n",
       "  </thead>\n",
       "  <tbody>\n",
       "    <tr>\n",
       "      <th>Annual Return</th>\n",
       "      <td>0.631725</td>\n",
       "      <td>0.914547</td>\n",
       "    </tr>\n",
       "    <tr>\n",
       "      <th>Annual Volatility</th>\n",
       "      <td>NaN</td>\n",
       "      <td>NaN</td>\n",
       "    </tr>\n",
       "    <tr>\n",
       "      <th>Sharpe Ratio</th>\n",
       "      <td>NaN</td>\n",
       "      <td>NaN</td>\n",
       "    </tr>\n",
       "    <tr>\n",
       "      <th>Sortino Ratio</th>\n",
       "      <td>NaN</td>\n",
       "      <td>NaN</td>\n",
       "    </tr>\n",
       "  </tbody>\n",
       "</table>\n",
       "</div>"
      ],
      "text/plain": [
       "                  btc_values xrp_values\n",
       "Annual Return       0.631725   0.914547\n",
       "Annual Volatility        NaN        NaN\n",
       "Sharpe Ratio             NaN        NaN\n",
       "Sortino Ratio            NaN        NaN"
      ]
     },
     "execution_count": 67,
     "metadata": {},
     "output_type": "execute_result"
    }
   ],
   "source": [
    "# Calculate annualized return\n",
    "portfolio_evaluation_df.loc['Annual Return', 'btc_values'] = (daily_returns['btc'].mean() * 252)\n",
    "portfolio_evaluation_df.loc['Annual Return', 'xrp_values'] = (daily_returns['xrp'].mean() * 252)\n",
    "portfolio_evaluation_df"
   ]
  },
  {
   "cell_type": "code",
   "execution_count": 68,
   "id": "d7b7fb96-5d1f-4f8e-867e-bbef1d3b4dd5",
   "metadata": {},
   "outputs": [
    {
     "data": {
      "text/html": [
       "<div>\n",
       "<style scoped>\n",
       "    .dataframe tbody tr th:only-of-type {\n",
       "        vertical-align: middle;\n",
       "    }\n",
       "\n",
       "    .dataframe tbody tr th {\n",
       "        vertical-align: top;\n",
       "    }\n",
       "\n",
       "    .dataframe thead th {\n",
       "        text-align: right;\n",
       "    }\n",
       "</style>\n",
       "<table border=\"1\" class=\"dataframe\">\n",
       "  <thead>\n",
       "    <tr style=\"text-align: right;\">\n",
       "      <th></th>\n",
       "      <th>btc_values</th>\n",
       "      <th>xrp_values</th>\n",
       "    </tr>\n",
       "  </thead>\n",
       "  <tbody>\n",
       "    <tr>\n",
       "      <th>Annual Return</th>\n",
       "      <td>0.631725</td>\n",
       "      <td>0.914547</td>\n",
       "    </tr>\n",
       "    <tr>\n",
       "      <th>Annual Volatility</th>\n",
       "      <td>0.663997</td>\n",
       "      <td>1.158434</td>\n",
       "    </tr>\n",
       "    <tr>\n",
       "      <th>Sharpe Ratio</th>\n",
       "      <td>NaN</td>\n",
       "      <td>NaN</td>\n",
       "    </tr>\n",
       "    <tr>\n",
       "      <th>Sortino Ratio</th>\n",
       "      <td>NaN</td>\n",
       "      <td>NaN</td>\n",
       "    </tr>\n",
       "  </tbody>\n",
       "</table>\n",
       "</div>"
      ],
      "text/plain": [
       "                  btc_values xrp_values\n",
       "Annual Return       0.631725   0.914547\n",
       "Annual Volatility   0.663997   1.158434\n",
       "Sharpe Ratio             NaN        NaN\n",
       "Sortino Ratio            NaN        NaN"
      ]
     },
     "execution_count": 68,
     "metadata": {},
     "output_type": "execute_result"
    }
   ],
   "source": [
    "# Calculate annual volatility\n",
    "portfolio_evaluation_df.loc['Annual Volatility', 'btc_values'] = (daily_returns['btc'].std() * np.sqrt(252))\n",
    "portfolio_evaluation_df.loc['Annual Volatility', 'xrp_values'] = (daily_returns['xrp'].std() * np.sqrt(252))\n",
    "portfolio_evaluation_df"
   ]
  },
  {
   "cell_type": "code",
   "execution_count": 69,
   "id": "9bebae08-8f63-4c43-9bc2-4b67b31ec24a",
   "metadata": {},
   "outputs": [
    {
     "data": {
      "text/html": [
       "<div>\n",
       "<style scoped>\n",
       "    .dataframe tbody tr th:only-of-type {\n",
       "        vertical-align: middle;\n",
       "    }\n",
       "\n",
       "    .dataframe tbody tr th {\n",
       "        vertical-align: top;\n",
       "    }\n",
       "\n",
       "    .dataframe thead th {\n",
       "        text-align: right;\n",
       "    }\n",
       "</style>\n",
       "<table border=\"1\" class=\"dataframe\">\n",
       "  <thead>\n",
       "    <tr style=\"text-align: right;\">\n",
       "      <th></th>\n",
       "      <th>btc_values</th>\n",
       "      <th>xrp_values</th>\n",
       "    </tr>\n",
       "  </thead>\n",
       "  <tbody>\n",
       "    <tr>\n",
       "      <th>Annual Return</th>\n",
       "      <td>0.631725</td>\n",
       "      <td>0.914547</td>\n",
       "    </tr>\n",
       "    <tr>\n",
       "      <th>Annual Volatility</th>\n",
       "      <td>0.663997</td>\n",
       "      <td>1.158434</td>\n",
       "    </tr>\n",
       "    <tr>\n",
       "      <th>Sharpe Ratio</th>\n",
       "      <td>0.951397</td>\n",
       "      <td>0.789469</td>\n",
       "    </tr>\n",
       "    <tr>\n",
       "      <th>Sortino Ratio</th>\n",
       "      <td>NaN</td>\n",
       "      <td>NaN</td>\n",
       "    </tr>\n",
       "  </tbody>\n",
       "</table>\n",
       "</div>"
      ],
      "text/plain": [
       "                  btc_values xrp_values\n",
       "Annual Return       0.631725   0.914547\n",
       "Annual Volatility   0.663997   1.158434\n",
       "Sharpe Ratio        0.951397   0.789469\n",
       "Sortino Ratio            NaN        NaN"
      ]
     },
     "execution_count": 69,
     "metadata": {},
     "output_type": "execute_result"
    }
   ],
   "source": [
    "# Calculate Sharpe Ratio\n",
    "portfolio_evaluation_df.loc['Sharpe Ratio', 'btc_values'] = (daily_returns['btc'].mean() * 252) / (daily_returns['btc'].std() * np.sqrt(252))\n",
    "portfolio_evaluation_df.loc['Sharpe Ratio', 'xrp_values'] = (daily_returns['xrp'].mean() * 252) / (daily_returns['xrp'].std() * np.sqrt(252))\n",
    "portfolio_evaluation_df"
   ]
  },
  {
   "cell_type": "code",
   "execution_count": 70,
   "id": "82a54d09-db24-4b08-ade8-9ffa41baf4fb",
   "metadata": {},
   "outputs": [
    {
     "data": {
      "text/html": [
       "<div>\n",
       "<style scoped>\n",
       "    .dataframe tbody tr th:only-of-type {\n",
       "        vertical-align: middle;\n",
       "    }\n",
       "\n",
       "    .dataframe tbody tr th {\n",
       "        vertical-align: top;\n",
       "    }\n",
       "\n",
       "    .dataframe thead th {\n",
       "        text-align: right;\n",
       "    }\n",
       "</style>\n",
       "<table border=\"1\" class=\"dataframe\">\n",
       "  <thead>\n",
       "    <tr style=\"text-align: right;\">\n",
       "      <th></th>\n",
       "      <th>btc_values</th>\n",
       "      <th>xrp_values</th>\n",
       "    </tr>\n",
       "  </thead>\n",
       "  <tbody>\n",
       "    <tr>\n",
       "      <th>Annual Return</th>\n",
       "      <td>0.631725</td>\n",
       "      <td>0.914547</td>\n",
       "    </tr>\n",
       "    <tr>\n",
       "      <th>Annual Volatility</th>\n",
       "      <td>0.663997</td>\n",
       "      <td>1.158434</td>\n",
       "    </tr>\n",
       "    <tr>\n",
       "      <th>Sharpe Ratio</th>\n",
       "      <td>0.951397</td>\n",
       "      <td>0.789469</td>\n",
       "    </tr>\n",
       "    <tr>\n",
       "      <th>Sortino Ratio</th>\n",
       "      <td>0.947337</td>\n",
       "      <td>1.371458</td>\n",
       "    </tr>\n",
       "  </tbody>\n",
       "</table>\n",
       "</div>"
      ],
      "text/plain": [
       "                  btc_values xrp_values\n",
       "Annual Return       0.631725   0.914547\n",
       "Annual Volatility   0.663997   1.158434\n",
       "Sharpe Ratio        0.951397   0.789469\n",
       "Sortino Ratio       0.947337   1.371458"
      ]
     },
     "execution_count": 70,
     "metadata": {},
     "output_type": "execute_result"
    }
   ],
   "source": [
    "# Calculate Downside Return\n",
    "sortino_ratio_df = daily_returns.copy()\n",
    "sortino_ratio_df.loc[:,'Downside Returns'] = 0\n",
    "\n",
    "target = 0\n",
    "mask_btc = sortino_ratio_df['btc'] < target\n",
    "mask_xrp = sortino_ratio_df['xrp'] < target\n",
    "sortino_ratio_df.loc[mask_btc, 'Downside Returns'] = sortino_ratio_df['btc']**2\n",
    "sortino_ratio_df.loc[mask_xrp, 'Downside Returns'] = sortino_ratio_df['xrp']**2\n",
    "\n",
    "# Calculate Sortino Ratio\n",
    "down_stdev = np.sqrt(sortino_ratio_df['Downside Returns'].mean()) * np.sqrt(252)\n",
    "expected_return_btc = sortino_ratio_df['btc'].mean() * 252\n",
    "expected_return_xrp = sortino_ratio_df['xrp'].mean() * 252\n",
    "sortino_ratio_btc = expected_return_btc/down_stdev\n",
    "sortino_ratio_xrp = expected_return_xrp/down_stdev\n",
    "\n",
    "portfolio_evaluation_df.loc['Sortino Ratio', 'btc_values'] = sortino_ratio_btc\n",
    "portfolio_evaluation_df.loc['Sortino Ratio', 'xrp_values'] = sortino_ratio_xrp\n",
    "portfolio_evaluation_df"
   ]
  },
  {
   "cell_type": "markdown",
   "id": "005a4b6a-ed77-4a69-8060-41fa5755b1c4",
   "metadata": {},
   "source": [
    "## Visualizations"
   ]
  },
  {
   "cell_type": "code",
   "execution_count": 73,
   "id": "d00ac504-e126-4648-9128-87e102ef57cf",
   "metadata": {},
   "outputs": [
    {
     "data": {},
     "metadata": {},
     "output_type": "display_data"
    },
    {
     "data": {
      "application/vnd.holoviews_exec.v0+json": "",
      "text/html": [
       "<div id='1896'>\n",
       "\n",
       "\n",
       "\n",
       "\n",
       "\n",
       "  <div class=\"bk-root\" id=\"3082709e-b9db-4d8c-bc5b-dee3d71af316\" data-root-id=\"1896\"></div>\n",
       "</div>\n",
       "<script type=\"application/javascript\">(function(root) {\n",
       "  function embed_document(root) {\n",
       "    var docs_json = {\"7c333598-635b-4aad-b03e-9875a18e844a\":{\"defs\":[{\"extends\":null,\"module\":null,\"name\":\"ReactiveHTML1\",\"overrides\":[],\"properties\":[]},{\"extends\":null,\"module\":null,\"name\":\"FlexBox1\",\"overrides\":[],\"properties\":[{\"default\":\"flex-start\",\"kind\":null,\"name\":\"align_content\"},{\"default\":\"flex-start\",\"kind\":null,\"name\":\"align_items\"},{\"default\":\"row\",\"kind\":null,\"name\":\"flex_direction\"},{\"default\":\"wrap\",\"kind\":null,\"name\":\"flex_wrap\"},{\"default\":\"flex-start\",\"kind\":null,\"name\":\"justify_content\"}]},{\"extends\":null,\"module\":null,\"name\":\"TemplateActions1\",\"overrides\":[],\"properties\":[{\"default\":0,\"kind\":null,\"name\":\"open_modal\"},{\"default\":0,\"kind\":null,\"name\":\"close_modal\"}]},{\"extends\":null,\"module\":null,\"name\":\"MaterialTemplateActions1\",\"overrides\":[],\"properties\":[{\"default\":0,\"kind\":null,\"name\":\"open_modal\"},{\"default\":0,\"kind\":null,\"name\":\"close_modal\"}]}],\"roots\":{\"references\":[{\"attributes\":{\"end\":1635206400000.0,\"reset_end\":1635206400000.0,\"reset_start\":1509062400000.0,\"start\":1509062400000.0,\"tags\":[[[\"Date\",\"Date\",null]]]},\"id\":\"1898\",\"type\":\"Range1d\"},{\"attributes\":{},\"id\":\"1919\",\"type\":\"SaveTool\"},{\"attributes\":{\"num_minor_ticks\":5,\"tickers\":[{\"id\":\"1953\"},{\"id\":\"1954\"},{\"id\":\"1955\"},{\"id\":\"1956\"},{\"id\":\"1957\"},{\"id\":\"1958\"},{\"id\":\"1959\"},{\"id\":\"1960\"},{\"id\":\"1961\"},{\"id\":\"1962\"},{\"id\":\"1963\"},{\"id\":\"1964\"}]},\"id\":\"1912\",\"type\":\"DatetimeTicker\"},{\"attributes\":{},\"id\":\"1920\",\"type\":\"PanTool\"},{\"attributes\":{\"base\":60,\"mantissas\":[1,2,5,10,15,20,30],\"max_interval\":1800000.0,\"min_interval\":1000.0,\"num_minor_ticks\":0},\"id\":\"1954\",\"type\":\"AdaptiveTicker\"},{\"attributes\":{},\"id\":\"1923\",\"type\":\"ResetTool\"},{\"attributes\":{},\"id\":\"1921\",\"type\":\"WheelZoomTool\"},{\"attributes\":{\"line_color\":\"#30a2da\",\"line_width\":2,\"x\":{\"field\":\"Date\"},\"y\":{\"field\":\"value\"}},\"id\":\"1970\",\"type\":\"Line\"},{\"attributes\":{\"line_alpha\":0.2,\"line_color\":\"#fc4f30\",\"line_width\":2,\"x\":{\"field\":\"Date\"},\"y\":{\"field\":\"value\"}},\"id\":\"1976\",\"type\":\"Line\"},{\"attributes\":{\"source\":{\"id\":\"1938\"}},\"id\":\"1945\",\"type\":\"CDSView\"},{\"attributes\":{\"margin\":[5,5,5,5],\"name\":\"HSpacer02543\",\"sizing_mode\":\"stretch_width\"},\"id\":\"1897\",\"type\":\"Spacer\"},{\"attributes\":{\"overlay\":{\"id\":\"1924\"}},\"id\":\"1922\",\"type\":\"BoxZoomTool\"},{\"attributes\":{\"bottom_units\":\"screen\",\"fill_alpha\":0.5,\"fill_color\":\"lightgrey\",\"left_units\":\"screen\",\"level\":\"overlay\",\"line_alpha\":1.0,\"line_color\":\"black\",\"line_dash\":[4,4],\"line_width\":2,\"right_units\":\"screen\",\"syncable\":false,\"top_units\":\"screen\"},\"id\":\"1924\",\"type\":\"BoxAnnotation\"},{\"attributes\":{},\"id\":\"1907\",\"type\":\"LinearScale\"},{\"attributes\":{\"line_color\":\"#fc4f30\",\"line_width\":2,\"x\":{\"field\":\"Date\"},\"y\":{\"field\":\"value\"}},\"id\":\"2004\",\"type\":\"Line\"},{\"attributes\":{\"line_alpha\":0.1,\"line_color\":\"#30a2da\",\"line_width\":2,\"x\":{\"field\":\"Date\"},\"y\":{\"field\":\"value\"}},\"id\":\"1942\",\"type\":\"Line\"},{\"attributes\":{},\"id\":\"1936\",\"type\":\"AllLabels\"},{\"attributes\":{\"days\":[1,2,3,4,5,6,7,8,9,10,11,12,13,14,15,16,17,18,19,20,21,22,23,24,25,26,27,28,29,30,31]},\"id\":\"1956\",\"type\":\"DaysTicker\"},{\"attributes\":{\"text\":\"Daily Returns of BTC and XRP\",\"text_color\":\"black\",\"text_font_size\":\"12pt\"},\"id\":\"1903\",\"type\":\"Title\"},{\"attributes\":{\"line_alpha\":0.2,\"line_color\":\"#30a2da\",\"line_width\":2,\"x\":{\"field\":\"Date\"},\"y\":{\"field\":\"value\"}},\"id\":\"1943\",\"type\":\"Line\"},{\"attributes\":{\"line_alpha\":0.1,\"line_color\":\"#fc4f30\",\"line_width\":2,\"x\":{\"field\":\"Date\"},\"y\":{\"field\":\"value\"}},\"id\":\"1975\",\"type\":\"Line\"},{\"attributes\":{\"label\":{\"value\":\"xrp\"},\"renderers\":[{\"id\":\"1977\"}]},\"id\":\"2003\",\"type\":\"LegendItem\"},{\"attributes\":{\"line_color\":\"#fc4f30\",\"line_width\":2,\"x\":{\"field\":\"Date\"},\"y\":{\"field\":\"value\"}},\"id\":\"1974\",\"type\":\"Line\"},{\"attributes\":{\"mantissas\":[1,2,5],\"max_interval\":500.0,\"num_minor_ticks\":0},\"id\":\"1953\",\"type\":\"AdaptiveTicker\"},{\"attributes\":{\"months\":[0,4,8]},\"id\":\"1962\",\"type\":\"MonthsTicker\"},{\"attributes\":{},\"id\":\"1972\",\"type\":\"Selection\"},{\"attributes\":{\"axis_label\":\"Date\",\"formatter\":{\"id\":\"1932\"},\"major_label_policy\":{\"id\":\"1933\"},\"ticker\":{\"id\":\"1912\"}},\"id\":\"1911\",\"type\":\"DatetimeAxis\"},{\"attributes\":{\"months\":[0,6]},\"id\":\"1963\",\"type\":\"MonthsTicker\"},{\"attributes\":{\"days\":[1,8,15,22]},\"id\":\"1958\",\"type\":\"DaysTicker\"},{\"attributes\":{},\"id\":\"1909\",\"type\":\"LinearScale\"},{\"attributes\":{\"axis_label\":\"Daily return\",\"formatter\":{\"id\":\"1935\"},\"major_label_policy\":{\"id\":\"1936\"},\"ticker\":{\"id\":\"1916\"}},\"id\":\"1915\",\"type\":\"LinearAxis\"},{\"attributes\":{\"label\":{\"value\":\"btc\"},\"renderers\":[{\"id\":\"1944\"}]},\"id\":\"1969\",\"type\":\"LegendItem\"},{\"attributes\":{\"days\":[1,4,7,10,13,16,19,22,25,28]},\"id\":\"1957\",\"type\":\"DaysTicker\"},{\"attributes\":{},\"id\":\"2002\",\"type\":\"UnionRenderers\"},{\"attributes\":{\"axis\":{\"id\":\"1911\"},\"grid_line_color\":null,\"ticker\":null},\"id\":\"1914\",\"type\":\"Grid\"},{\"attributes\":{\"active_multi\":null,\"tools\":[{\"id\":\"1900\"},{\"id\":\"1919\"},{\"id\":\"1920\"},{\"id\":\"1921\"},{\"id\":\"1922\"},{\"id\":\"1923\"}]},\"id\":\"1925\",\"type\":\"Toolbar\"},{\"attributes\":{\"data\":{\"Date\":{\"__ndarray__\":\"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\",\"dtype\":\"float64\",\"order\":\"little\",\"shape\":[1461]},\"Variable\":[\"xrp\",\"xrp\",\"xrp\",\"xrp\",\"xrp\",\"xrp\",\"xrp\",\"xrp\",\"xrp\",\"xrp\",\"xrp\",\"xrp\",\"xrp\",\"xrp\",\"xrp\",\"xrp\",\"xrp\",\"xrp\",\"xrp\",\"xrp\",\"xrp\",\"xrp\",\"xrp\",\"xrp\",\"xrp\",\"xrp\",\"xrp\",\"xrp\",\"xrp\",\"xrp\",\"xrp\",\"xrp\",\"xrp\",\"xrp\",\"xrp\",\"xrp\",\"xrp\",\"xrp\",\"xrp\",\"xrp\",\"xrp\",\"xrp\",\"xrp\",\"xrp\",\"xrp\",\"xrp\",\"xrp\",\"xrp\",\"xrp\",\"xrp\",\"xrp\",\"xrp\",\"xrp\",\"xrp\",\"xrp\",\"xrp\",\"xrp\",\"xrp\",\"xrp\",\"xrp\",\"xrp\",\"xrp\",\"xrp\",\"xrp\",\"xrp\",\"xrp\",\"xrp\",\"xrp\",\"xrp\",\"xrp\",\"xrp\",\"xrp\",\"xrp\",\"xrp\",\"xrp\",\"xrp\",\"xrp\",\"xrp\",\"xrp\",\"xrp\",\"xrp\",\"xrp\",\"xrp\",\"xrp\",\"xrp\",\"xrp\",\"xrp\",\"xrp\",\"xrp\",\"xrp\",\"xrp\",\"xrp\",\"xrp\",\"xrp\",\"xrp\",\"xrp\",\"xrp\",\"xrp\",\"xrp\",\"xrp\",\"xrp\",\"xrp\",\"xrp\",\"xrp\",\"xrp\",\"xrp\",\"xrp\",\"xrp\",\"xrp\",\"xrp\",\"xrp\",\"xrp\",\"xrp\",\"xrp\",\"xrp\",\"xrp\",\"xrp\",\"xrp\",\"xrp\",\"xrp\",\"xrp\",\"xrp\",\"xrp\",\"xrp\",\"xrp\",\"xrp\",\"xrp\",\"xrp\",\"xrp\",\"xrp\",\"xrp\",\"xrp\",\"xrp\",\"xrp\",\"xrp\",\"xrp\",\"xrp\",\"xrp\",\"xrp\",\"xrp\",\"xrp\",\"xrp\",\"xrp\",\"xrp\",\"xrp\",\"xrp\",\"xrp\",\"xrp\",\"xrp\",\"xrp\",\"xrp\",\"xrp\",\"xrp\",\"xrp\",\"xrp\",\"xrp\",\"xrp\",\"xrp\",\"xrp\",\"xrp\",\"xrp\",\"xrp\",\"xrp\",\"xrp\",\"xrp\",\"xrp\",\"xrp\",\"xrp\",\"xrp\",\"xrp\",\"xrp\",\"xrp\",\"xrp\",\"xrp\",\"xrp\",\"xrp\",\"xrp\",\"xrp\",\"xrp\",\"xrp\",\"xrp\",\"xrp\",\"xrp\",\"xrp\",\"xrp\",\"xrp\",\"xrp\",\"xrp\",\"xrp\",\"xrp\",\"xrp\",\"xrp\",\"xrp\",\"xrp\",\"xrp\",\"xrp\",\"xrp\",\"xrp\",\"xrp\",\"xrp\",\"xrp\",\"xrp\",\"xrp\",\"xrp\",\"xrp\",\"xrp\",\"xrp\",\"xrp\",\"xrp\",\"xrp\",\"xrp\",\"xrp\",\"xrp\",\"xrp\",\"xrp\",\"xrp\",\"xrp\",\"xrp\",\"xrp\",\"xrp\",\"xrp\",\"xrp\",\"xrp\",\"xrp\",\"xrp\",\"xrp\",\"xrp\",\"xrp\",\"xrp\",\"xrp\",\"xrp\",\"xrp\",\"xrp\",\"xrp\",\"xrp\",\"xrp\",\"xrp\",\"xrp\",\"xrp\",\"xrp\",\"xrp\",\"xrp\",\"xrp\",\"xrp\",\"xrp\",\"xrp\",\"xrp\",\"xrp\",\"xrp\",\"xrp\",\"xrp\",\"xrp\",\"xrp\",\"xrp\",\"xrp\",\"xrp\",\"xrp\",\"xrp\",\"xrp\",\"xrp\",\"xrp\",\"xrp\",\"xrp\",\"xrp\",\"xrp\",\"xrp\",\"xrp\",\"xrp\",\"xrp\",\"xrp\",\"xrp\",\"xrp\",\"xrp\",\"xrp\",\"xrp\",\"xrp\",\"xrp\",\"xrp\",\"xrp\",\"xrp\",\"xrp\",\"xrp\",\"xrp\",\"xrp\",\"xrp\",\"xrp\",\"xrp\",\"xrp\",\"xrp\",\"xrp\",\"xrp\",\"xrp\",\"xrp\",\"xrp\",\"xrp\",\"xrp\",\"xrp\",\"xrp\",\"xrp\",\"xrp\",\"xrp\",\"xrp\",\"xrp\",\"xrp\",\"xrp\",\"xrp\",\"xrp\",\"xrp\",\"xrp\",\"xrp\",\"xrp\",\"xrp\",\"xrp\",\"xrp\",\"xrp\",\"xrp\",\"xrp\",\"xrp\",\"xrp\",\"xrp\",\"xrp\",\"xrp\",\"xrp\",\"xrp\",\"xrp\",\"xrp\",\"xrp\",\"xrp\",\"xrp\",\"xrp\",\"xrp\",\"xrp\",\"xrp\",\"xrp\",\"xrp\",\"xrp\",\"xrp\",\"xrp\",\"xrp\",\"xrp\",\"xrp\",\"xrp\",\"xrp\",\"xrp\",\"xrp\",\"xrp\",\"xrp\",\"xrp\",\"xrp\",\"xrp\",\"xrp\",\"xrp\",\"xrp\",\"xrp\",\"xrp\",\"xrp\",\"xrp\",\"xrp\",\"xrp\",\"xrp\",\"xrp\",\"xrp\",\"xrp\",\"xrp\",\"xrp\",\"xrp\",\"xrp\",\"xrp\",\"xrp\",\"xrp\",\"xrp\",\"xrp\",\"xrp\",\"xrp\",\"xrp\",\"xrp\",\"xrp\",\"xrp\",\"xrp\",\"xrp\",\"xrp\",\"xrp\",\"xrp\",\"xrp\",\"xrp\",\"xrp\",\"xrp\",\"xrp\",\"xrp\",\"xrp\",\"xrp\",\"xrp\",\"xrp\",\"xrp\",\"xrp\",\"xrp\",\"xrp\",\"xrp\",\"xrp\",\"xrp\",\"xrp\",\"xrp\",\"xrp\",\"xrp\",\"xrp\",\"xrp\",\"xrp\",\"xrp\",\"xrp\",\"xrp\",\"xrp\",\"xrp\",\"xrp\",\"xrp\",\"xrp\",\"xrp\",\"xrp\",\"xrp\",\"xrp\",\"xrp\",\"xrp\",\"xrp\",\"xrp\",\"xrp\",\"xrp\",\"xrp\",\"xrp\",\"xrp\",\"xrp\",\"xrp\",\"xrp\",\"xrp\",\"xrp\",\"xrp\",\"xrp\",\"xrp\",\"xrp\",\"xrp\",\"xrp\",\"xrp\",\"xrp\",\"xrp\",\"xrp\",\"xrp\",\"xrp\",\"xrp\",\"xrp\",\"xrp\",\"xrp\",\"xrp\",\"xrp\",\"xrp\",\"xrp\",\"xrp\",\"xrp\",\"xrp\",\"xrp\",\"xrp\",\"xrp\",\"xrp\",\"xrp\",\"xrp\",\"xrp\",\"xrp\",\"xrp\",\"xrp\",\"xrp\",\"xrp\",\"xrp\",\"xrp\",\"xrp\",\"xrp\",\"xrp\",\"xrp\",\"xrp\",\"xrp\",\"xrp\",\"xrp\",\"xrp\",\"xrp\",\"xrp\",\"xrp\",\"xrp\",\"xrp\",\"xrp\",\"xrp\",\"xrp\",\"xrp\",\"xrp\",\"xrp\",\"xrp\",\"xrp\",\"xrp\",\"xrp\",\"xrp\",\"xrp\",\"xrp\",\"xrp\",\"xrp\",\"xrp\",\"xrp\",\"xrp\",\"xrp\",\"xrp\",\"xrp\",\"xrp\",\"xrp\",\"xrp\",\"xrp\",\"xrp\",\"xrp\",\"xrp\",\"xrp\",\"xrp\",\"xrp\",\"xrp\",\"xrp\",\"xrp\",\"xrp\",\"xrp\",\"xrp\",\"xrp\",\"xrp\",\"xrp\",\"xrp\",\"xrp\",\"xrp\",\"xrp\",\"xrp\",\"xrp\",\"xrp\",\"xrp\",\"xrp\",\"xrp\",\"xrp\",\"xrp\",\"xrp\",\"xrp\",\"xrp\",\"xrp\",\"xrp\",\"xrp\",\"xrp\",\"xrp\",\"xrp\",\"xrp\",\"xrp\",\"xrp\",\"xrp\",\"xrp\",\"xrp\",\"xrp\",\"xrp\",\"xrp\",\"xrp\",\"xrp\",\"xrp\",\"xrp\",\"xrp\",\"xrp\",\"xrp\",\"xrp\",\"xrp\",\"xrp\",\"xrp\",\"xrp\",\"xrp\",\"xrp\",\"xrp\",\"xrp\",\"xrp\",\"xrp\",\"xrp\",\"xrp\",\"xrp\",\"xrp\",\"xrp\",\"xrp\",\"xrp\",\"xrp\",\"xrp\",\"xrp\",\"xrp\",\"xrp\",\"xrp\",\"xrp\",\"xrp\",\"xrp\",\"xrp\",\"xrp\",\"xrp\",\"xrp\",\"xrp\",\"xrp\",\"xrp\",\"xrp\",\"xrp\",\"xrp\",\"xrp\",\"xrp\",\"xrp\",\"xrp\",\"xrp\",\"xrp\",\"xrp\",\"xrp\",\"xrp\",\"xrp\",\"xrp\",\"xrp\",\"xrp\",\"xrp\",\"xrp\",\"xrp\",\"xrp\",\"xrp\",\"xrp\",\"xrp\",\"xrp\",\"xrp\",\"xrp\",\"xrp\",\"xrp\",\"xrp\",\"xrp\",\"xrp\",\"xrp\",\"xrp\",\"xrp\",\"xrp\",\"xrp\",\"xrp\",\"xrp\",\"xrp\",\"xrp\",\"xrp\",\"xrp\",\"xrp\",\"xrp\",\"xrp\",\"xrp\",\"xrp\",\"xrp\",\"xrp\",\"xrp\",\"xrp\",\"xrp\",\"xrp\",\"xrp\",\"xrp\",\"xrp\",\"xrp\",\"xrp\",\"xrp\",\"xrp\",\"xrp\",\"xrp\",\"xrp\",\"xrp\",\"xrp\",\"xrp\",\"xrp\",\"xrp\",\"xrp\",\"xrp\",\"xrp\",\"xrp\",\"xrp\",\"xrp\",\"xrp\",\"xrp\",\"xrp\",\"xrp\",\"xrp\",\"xrp\",\"xrp\",\"xrp\",\"xrp\",\"xrp\",\"xrp\",\"xrp\",\"xrp\",\"xrp\",\"xrp\",\"xrp\",\"xrp\",\"xrp\",\"xrp\",\"xrp\",\"xrp\",\"xrp\",\"xrp\",\"xrp\",\"xrp\",\"xrp\",\"xrp\",\"xrp\",\"xrp\",\"xrp\",\"xrp\",\"xrp\",\"xrp\",\"xrp\",\"xrp\",\"xrp\",\"xrp\",\"xrp\",\"xrp\",\"xrp\",\"xrp\",\"xrp\",\"xrp\",\"xrp\",\"xrp\",\"xrp\",\"xrp\",\"xrp\",\"xrp\",\"xrp\",\"xrp\",\"xrp\",\"xrp\",\"xrp\",\"xrp\",\"xrp\",\"xrp\",\"xrp\",\"xrp\",\"xrp\",\"xrp\",\"xrp\",\"xrp\",\"xrp\",\"xrp\",\"xrp\",\"xrp\",\"xrp\",\"xrp\",\"xrp\",\"xrp\",\"xrp\",\"xrp\",\"xrp\",\"xrp\",\"xrp\",\"xrp\",\"xrp\",\"xrp\",\"xrp\",\"xrp\",\"xrp\",\"xrp\",\"xrp\",\"xrp\",\"xrp\",\"xrp\",\"xrp\",\"xrp\",\"xrp\",\"xrp\",\"xrp\",\"xrp\",\"xrp\",\"xrp\",\"xrp\",\"xrp\",\"xrp\",\"xrp\",\"xrp\",\"xrp\",\"xrp\",\"xrp\",\"xrp\",\"xrp\",\"xrp\",\"xrp\",\"xrp\",\"xrp\",\"xrp\",\"xrp\",\"xrp\",\"xrp\",\"xrp\",\"xrp\",\"xrp\",\"xrp\",\"xrp\",\"xrp\",\"xrp\",\"xrp\",\"xrp\",\"xrp\",\"xrp\",\"xrp\",\"xrp\",\"xrp\",\"xrp\",\"xrp\",\"xrp\",\"xrp\",\"xrp\",\"xrp\",\"xrp\",\"xrp\",\"xrp\",\"xrp\",\"xrp\",\"xrp\",\"xrp\",\"xrp\",\"xrp\",\"xrp\",\"xrp\",\"xrp\",\"xrp\",\"xrp\",\"xrp\",\"xrp\",\"xrp\",\"xrp\",\"xrp\",\"xrp\",\"xrp\",\"xrp\",\"xrp\",\"xrp\",\"xrp\",\"xrp\",\"xrp\",\"xrp\",\"xrp\",\"xrp\",\"xrp\",\"xrp\",\"xrp\",\"xrp\",\"xrp\",\"xrp\",\"xrp\",\"xrp\",\"xrp\",\"xrp\",\"xrp\",\"xrp\",\"xrp\",\"xrp\",\"xrp\",\"xrp\",\"xrp\",\"xrp\",\"xrp\",\"xrp\",\"xrp\",\"xrp\",\"xrp\",\"xrp\",\"xrp\",\"xrp\",\"xrp\",\"xrp\",\"xrp\",\"xrp\",\"xrp\",\"xrp\",\"xrp\",\"xrp\",\"xrp\",\"xrp\",\"xrp\",\"xrp\",\"xrp\",\"xrp\",\"xrp\",\"xrp\",\"xrp\",\"xrp\",\"xrp\",\"xrp\",\"xrp\",\"xrp\",\"xrp\",\"xrp\",\"xrp\",\"xrp\",\"xrp\",\"xrp\",\"xrp\",\"xrp\",\"xrp\",\"xrp\",\"xrp\",\"xrp\",\"xrp\",\"xrp\",\"xrp\",\"xrp\",\"xrp\",\"xrp\",\"xrp\",\"xrp\",\"xrp\",\"xrp\",\"xrp\",\"xrp\",\"xrp\",\"xrp\",\"xrp\",\"xrp\",\"xrp\",\"xrp\",\"xrp\",\"xrp\",\"xrp\",\"xrp\",\"xrp\",\"xrp\",\"xrp\",\"xrp\",\"xrp\",\"xrp\",\"xrp\",\"xrp\",\"xrp\",\"xrp\",\"xrp\",\"xrp\",\"xrp\",\"xrp\",\"xrp\",\"xrp\",\"xrp\",\"xrp\",\"xrp\",\"xrp\",\"xrp\",\"xrp\",\"xrp\",\"xrp\",\"xrp\",\"xrp\",\"xrp\",\"xrp\",\"xrp\",\"xrp\",\"xrp\",\"xrp\",\"xrp\",\"xrp\",\"xrp\",\"xrp\",\"xrp\",\"xrp\",\"xrp\",\"xrp\",\"xrp\",\"xrp\",\"xrp\",\"xrp\",\"xrp\",\"xrp\",\"xrp\",\"xrp\",\"xrp\",\"xrp\",\"xrp\",\"xrp\",\"xrp\",\"xrp\",\"xrp\",\"xrp\",\"xrp\",\"xrp\",\"xrp\",\"xrp\",\"xrp\",\"xrp\",\"xrp\",\"xrp\",\"xrp\",\"xrp\",\"xrp\",\"xrp\",\"xrp\",\"xrp\",\"xrp\",\"xrp\",\"xrp\",\"xrp\",\"xrp\",\"xrp\",\"xrp\",\"xrp\",\"xrp\",\"xrp\",\"xrp\",\"xrp\",\"xrp\",\"xrp\",\"xrp\",\"xrp\",\"xrp\",\"xrp\",\"xrp\",\"xrp\",\"xrp\",\"xrp\",\"xrp\",\"xrp\",\"xrp\",\"xrp\",\"xrp\",\"xrp\",\"xrp\",\"xrp\",\"xrp\",\"xrp\",\"xrp\",\"xrp\",\"xrp\",\"xrp\",\"xrp\",\"xrp\",\"xrp\",\"xrp\",\"xrp\",\"xrp\",\"xrp\",\"xrp\",\"xrp\",\"xrp\",\"xrp\",\"xrp\",\"xrp\",\"xrp\",\"xrp\",\"xrp\",\"xrp\",\"xrp\",\"xrp\",\"xrp\",\"xrp\",\"xrp\",\"xrp\",\"xrp\",\"xrp\",\"xrp\",\"xrp\",\"xrp\",\"xrp\",\"xrp\",\"xrp\",\"xrp\",\"xrp\",\"xrp\",\"xrp\",\"xrp\",\"xrp\",\"xrp\",\"xrp\",\"xrp\",\"xrp\",\"xrp\",\"xrp\",\"xrp\",\"xrp\",\"xrp\",\"xrp\",\"xrp\",\"xrp\",\"xrp\",\"xrp\",\"xrp\",\"xrp\",\"xrp\",\"xrp\",\"xrp\",\"xrp\",\"xrp\",\"xrp\",\"xrp\",\"xrp\",\"xrp\",\"xrp\",\"xrp\",\"xrp\",\"xrp\",\"xrp\",\"xrp\",\"xrp\",\"xrp\",\"xrp\",\"xrp\",\"xrp\",\"xrp\",\"xrp\",\"xrp\",\"xrp\",\"xrp\",\"xrp\",\"xrp\",\"xrp\",\"xrp\",\"xrp\",\"xrp\",\"xrp\",\"xrp\",\"xrp\",\"xrp\",\"xrp\",\"xrp\",\"xrp\",\"xrp\",\"xrp\",\"xrp\",\"xrp\",\"xrp\",\"xrp\",\"xrp\",\"xrp\",\"xrp\",\"xrp\",\"xrp\",\"xrp\",\"xrp\",\"xrp\",\"xrp\",\"xrp\",\"xrp\",\"xrp\",\"xrp\",\"xrp\",\"xrp\",\"xrp\",\"xrp\",\"xrp\",\"xrp\",\"xrp\",\"xrp\",\"xrp\",\"xrp\",\"xrp\",\"xrp\",\"xrp\",\"xrp\",\"xrp\",\"xrp\",\"xrp\",\"xrp\",\"xrp\",\"xrp\",\"xrp\",\"xrp\",\"xrp\",\"xrp\",\"xrp\",\"xrp\",\"xrp\",\"xrp\",\"xrp\",\"xrp\",\"xrp\",\"xrp\",\"xrp\",\"xrp\",\"xrp\",\"xrp\",\"xrp\",\"xrp\",\"xrp\",\"xrp\",\"xrp\",\"xrp\",\"xrp\",\"xrp\",\"xrp\",\"xrp\",\"xrp\",\"xrp\",\"xrp\",\"xrp\",\"xrp\",\"xrp\",\"xrp\",\"xrp\",\"xrp\",\"xrp\",\"xrp\",\"xrp\",\"xrp\",\"xrp\",\"xrp\",\"xrp\",\"xrp\",\"xrp\",\"xrp\",\"xrp\",\"xrp\",\"xrp\",\"xrp\",\"xrp\",\"xrp\",\"xrp\",\"xrp\",\"xrp\",\"xrp\",\"xrp\",\"xrp\",\"xrp\",\"xrp\",\"xrp\",\"xrp\",\"xrp\",\"xrp\",\"xrp\",\"xrp\",\"xrp\",\"xrp\",\"xrp\",\"xrp\",\"xrp\",\"xrp\",\"xrp\",\"xrp\",\"xrp\",\"xrp\",\"xrp\",\"xrp\",\"xrp\",\"xrp\",\"xrp\",\"xrp\",\"xrp\",\"xrp\",\"xrp\",\"xrp\",\"xrp\",\"xrp\",\"xrp\",\"xrp\",\"xrp\",\"xrp\",\"xrp\",\"xrp\",\"xrp\",\"xrp\",\"xrp\",\"xrp\",\"xrp\",\"xrp\",\"xrp\",\"xrp\",\"xrp\",\"xrp\",\"xrp\",\"xrp\",\"xrp\",\"xrp\",\"xrp\",\"xrp\",\"xrp\",\"xrp\",\"xrp\",\"xrp\",\"xrp\",\"xrp\",\"xrp\",\"xrp\",\"xrp\",\"xrp\",\"xrp\",\"xrp\",\"xrp\",\"xrp\",\"xrp\",\"xrp\",\"xrp\",\"xrp\",\"xrp\",\"xrp\",\"xrp\",\"xrp\",\"xrp\",\"xrp\",\"xrp\",\"xrp\",\"xrp\",\"xrp\",\"xrp\",\"xrp\",\"xrp\",\"xrp\",\"xrp\",\"xrp\",\"xrp\",\"xrp\",\"xrp\",\"xrp\",\"xrp\",\"xrp\",\"xrp\",\"xrp\",\"xrp\",\"xrp\",\"xrp\",\"xrp\",\"xrp\",\"xrp\",\"xrp\",\"xrp\",\"xrp\",\"xrp\",\"xrp\",\"xrp\",\"xrp\",\"xrp\",\"xrp\",\"xrp\",\"xrp\",\"xrp\",\"xrp\",\"xrp\",\"xrp\",\"xrp\",\"xrp\",\"xrp\",\"xrp\",\"xrp\",\"xrp\",\"xrp\",\"xrp\",\"xrp\",\"xrp\",\"xrp\",\"xrp\",\"xrp\",\"xrp\",\"xrp\",\"xrp\",\"xrp\",\"xrp\",\"xrp\",\"xrp\",\"xrp\",\"xrp\",\"xrp\",\"xrp\",\"xrp\",\"xrp\",\"xrp\",\"xrp\",\"xrp\",\"xrp\",\"xrp\",\"xrp\",\"xrp\",\"xrp\",\"xrp\",\"xrp\",\"xrp\",\"xrp\",\"xrp\",\"xrp\",\"xrp\",\"xrp\",\"xrp\",\"xrp\",\"xrp\",\"xrp\",\"xrp\",\"xrp\",\"xrp\",\"xrp\",\"xrp\",\"xrp\",\"xrp\",\"xrp\",\"xrp\",\"xrp\",\"xrp\",\"xrp\",\"xrp\",\"xrp\",\"xrp\",\"xrp\",\"xrp\",\"xrp\",\"xrp\",\"xrp\",\"xrp\",\"xrp\",\"xrp\",\"xrp\",\"xrp\",\"xrp\",\"xrp\",\"xrp\",\"xrp\",\"xrp\",\"xrp\",\"xrp\",\"xrp\",\"xrp\",\"xrp\",\"xrp\",\"xrp\",\"xrp\",\"xrp\",\"xrp\",\"xrp\",\"xrp\",\"xrp\",\"xrp\",\"xrp\",\"xrp\",\"xrp\",\"xrp\",\"xrp\",\"xrp\",\"xrp\",\"xrp\",\"xrp\",\"xrp\",\"xrp\",\"xrp\",\"xrp\",\"xrp\",\"xrp\",\"xrp\",\"xrp\",\"xrp\",\"xrp\",\"xrp\",\"xrp\",\"xrp\",\"xrp\",\"xrp\",\"xrp\",\"xrp\",\"xrp\",\"xrp\",\"xrp\",\"xrp\",\"xrp\",\"xrp\",\"xrp\",\"xrp\",\"xrp\",\"xrp\",\"xrp\",\"xrp\",\"xrp\",\"xrp\",\"xrp\",\"xrp\",\"xrp\",\"xrp\",\"xrp\",\"xrp\",\"xrp\",\"xrp\",\"xrp\"],\"value\":{\"__ndarray__\":\"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\",\"dtype\":\"float64\",\"order\":\"little\",\"shape\":[1461]}},\"selected\":{\"id\":\"1972\"},\"selection_policy\":{\"id\":\"2002\"}},\"id\":\"1971\",\"type\":\"ColumnDataSource\"},{\"attributes\":{},\"id\":\"1916\",\"type\":\"BasicTicker\"},{\"attributes\":{},\"id\":\"1964\",\"type\":\"YearsTicker\"},{\"attributes\":{\"below\":[{\"id\":\"1911\"}],\"center\":[{\"id\":\"1914\"},{\"id\":\"1918\"}],\"height\":500,\"left\":[{\"id\":\"1915\"}],\"margin\":[5,5,5,5],\"min_border_bottom\":10,\"min_border_left\":10,\"min_border_right\":10,\"min_border_top\":10,\"renderers\":[{\"id\":\"1944\"},{\"id\":\"1977\"}],\"right\":[{\"id\":\"1968\"}],\"sizing_mode\":\"fixed\",\"title\":{\"id\":\"1903\"},\"toolbar\":{\"id\":\"1925\"},\"width\":1200,\"x_range\":{\"id\":\"1898\"},\"x_scale\":{\"id\":\"1907\"},\"y_range\":{\"id\":\"1899\"},\"y_scale\":{\"id\":\"1909\"}},\"id\":\"1902\",\"subtype\":\"Figure\",\"type\":\"Plot\"},{\"attributes\":{\"axis\":{\"id\":\"1915\"},\"dimension\":1,\"grid_line_color\":null,\"ticker\":null},\"id\":\"1918\",\"type\":\"Grid\"},{\"attributes\":{\"click_policy\":\"mute\",\"items\":[{\"id\":\"1969\"},{\"id\":\"2003\"}],\"location\":[0,0],\"title\":\"Variable\"},\"id\":\"1968\",\"type\":\"Legend\"},{\"attributes\":{},\"id\":\"1933\",\"type\":\"AllLabels\"},{\"attributes\":{\"line_color\":\"#30a2da\",\"line_width\":2,\"x\":{\"field\":\"Date\"},\"y\":{\"field\":\"value\"}},\"id\":\"1941\",\"type\":\"Line\"},{\"attributes\":{},\"id\":\"1939\",\"type\":\"Selection\"},{\"attributes\":{\"margin\":[5,5,5,5],\"name\":\"HSpacer02544\",\"sizing_mode\":\"stretch_width\"},\"id\":\"2221\",\"type\":\"Spacer\"},{\"attributes\":{\"callback\":null,\"formatters\":{\"@{Date}\":\"datetime\"},\"renderers\":[{\"id\":\"1944\"},{\"id\":\"1977\"}],\"tags\":[\"hv_created\"],\"tooltips\":[[\"Variable\",\"@{Variable}\"],[\"Date\",\"@{Date}{%F %T}\"],[\"value\",\"@{value}\"]]},\"id\":\"1900\",\"type\":\"HoverTool\"},{\"attributes\":{\"months\":[0,2,4,6,8,10]},\"id\":\"1961\",\"type\":\"MonthsTicker\"},{\"attributes\":{\"data\":{\"Date\":{\"__ndarray__\":\"AACADbL1dUIAAEBzBPZ1QgAAANlW9nVCAADAPqn2dUIAAICk+/Z1QgAAQApO93VCAAAAcKD3dUIAAMDV8vd1QgAAgDtF+HVCAABAoZf4dUIAAAAH6vh1QgAAwGw8+XVCAACA0o75dUIAAEA44fl1QgAAAJ4z+nVCAADAA4b6dUIAAIBp2Pp1QgAAQM8q+3VCAAAANX37dUIAAMCaz/t1QgAAgAAi/HVCAABAZnT8dUIAAADMxvx1QgAAwDEZ/XVCAACAl2v9dUIAAED9vf11QgAAAGMQ/nVCAADAyGL+dUIAAIAutf51QgAAQJQH/3VCAAAA+ln/dUIAAMBfrP91QgAAgMX+/3VCAABAK1EAdkIAAACRowB2QgAAwPb1AHZCAACAXEgBdkIAAEDCmgF2QgAAACjtAXZCAADAjT8CdkIAAIDzkQJ2QgAAQFnkAnZCAAAAvzYDdkIAAMAkiQN2QgAAgIrbA3ZCAABA8C0EdkIAAABWgAR2QgAAwLvSBHZCAACAISUFdkIAAECHdwV2QgAAAO3JBXZCAADAUhwGdkIAAIC4bgZ2QgAAQB7BBnZCAAAAhBMHdkIAAMDpZQd2QgAAgE+4B3ZCAABAtQoIdkIAAAAbXQh2QgAAwICvCHZCAACA5gEJdkIAAEBMVAl2QgAAALKmCXZCAADAF/kJdkIAAIB9Swp2QgAAQOOdCnZCAAAASfAKdkIAAMCuQgt2QgAAgBSVC3ZCAABAeucLdkIAAADgOQx2QgAAwEWMDHZCAACAq94MdkIAAEARMQ12QgAAAHeDDXZCAADA3NUNdkIAAIBCKA52QgAAQKh6DnZCAAAADs0OdkIAAMBzHw92QgAAgNlxD3ZCAABAP8QPdkIAAAClFhB2QgAAwAppEHZCAACAcLsQdkIAAEDWDRF2QgAAADxgEXZCAADAobIRdkIAAIAHBRJ2QgAAQG1XEnZCAAAA06kSdkIAAMA4/BJ2QgAAgJ5OE3ZCAABABKETdkIAAABq8xN2QgAAwM9FFHZCAACANZgUdkIAAECb6hR2QgAAAAE9FXZCAADAZo8VdkIAAIDM4RV2QgAAQDI0FnZCAAAAmIYWdkIAAMD92BZ2QgAAgGMrF3ZCAABAyX0XdkIAAAAv0Bd2QgAAwJQiGHZCAACA+nQYdkIAAEBgxxh2QgAAAMYZGXZCAADAK2wZdkIAAICRvhl2QgAAQPcQGnZCAAAAXWMadkIAAMDCtRp2QgAAgCgIG3ZCAABAjlobdkIAAAD0rBt2QgAAwFn/G3ZCAACAv1EcdkIAAEAlpBx2QgAAAIv2HHZCAADA8EgddkIAAIBWmx12QgAAQLztHXZCAAAAIkAedkIAAMCHkh52QgAAgO3kHnZCAABAUzcfdkIAAAC5iR92QgAAwB7cH3ZCAACAhC4gdkIAAEDqgCB2QgAAAFDTIHZCAADAtSUhdkIAAIAbeCF2QgAAQIHKIXZCAAAA5xwidkIAAMBMbyJ2QgAAgLLBInZCAABAGBQjdkIAAAB+ZiN2QgAAwOO4I3ZCAACASQskdkIAAECvXSR2QgAAABWwJHZCAADAegIldkIAAIDgVCV2QgAAQEanJXZCAAAArPkldkIAAMARTCZ2QgAAgHeeJnZCAABA3fAmdkIAAABDQyd2QgAAwKiVJ3ZCAACADugndkIAAEB0Oih2QgAAANqMKHZCAADAP98odkIAAIClMSl2QgAAQAuEKXZCAAAAcdYpdkIAAMDWKCp2QgAAgDx7KnZCAABAos0qdkIAAAAIICt2QgAAwG1yK3ZCAACA08QrdkIAAEA5Fyx2QgAAAJ9pLHZCAADABLwsdkIAAIBqDi12QgAAQNBgLXZCAAAANrMtdkIAAMCbBS52QgAAgAFYLnZCAABAZ6oudkIAAADN/C52QgAAwDJPL3ZCAACAmKEvdkIAAED+8y92QgAAAGRGMHZCAADAyZgwdkIAAIAv6zB2QgAAQJU9MXZCAAAA+48xdkIAAMBg4jF2QgAAgMY0MnZCAABALIcydkIAAACS2TJ2QgAAwPcrM3ZCAACAXX4zdkIAAEDD0DN2QgAAACkjNHZCAADAjnU0dkIAAID0xzR2QgAAQFoaNXZCAAAAwGw1dkIAAMAlvzV2QgAAgIsRNnZCAABA8WM2dkIAAABXtjZ2QgAAwLwIN3ZCAACAIls3dkIAAECIrTd2QgAAAO7/N3ZCAADAU1I4dkIAAIC5pDh2QgAAQB/3OHZCAAAAhUk5dkIAAMDqmzl2QgAAgFDuOXZCAABAtkA6dkIAAAAckzp2QgAAwIHlOnZCAACA5zc7dkIAAEBNijt2QgAAALPcO3ZCAADAGC88dkIAAIB+gTx2QgAAQOTTPHZCAAAASiY9dkIAAMCveD12QgAAgBXLPXZCAABAex0+dkIAAADhbz52QgAAwEbCPnZCAACArBQ/dkIAAEASZz92QgAAAHi5P3ZCAADA3QtAdkIAAIBDXkB2QgAAQKmwQHZCAAAADwNBdkIAAMB0VUF2QgAAgNqnQXZCAABAQPpBdkIAAACmTEJ2QgAAwAufQnZCAACAcfFCdkIAAEDXQ0N2QgAAAD2WQ3ZCAADAouhDdkIAAIAIO0R2QgAAQG6NRHZCAAAA1N9EdkIAAMA5MkV2QgAAgJ+ERXZCAABABddFdkIAAABrKUZ2QgAAwNB7RnZCAACANs5GdkIAAECcIEd2QgAAAAJzR3ZCAADAZ8VHdkIAAIDNF0h2QgAAQDNqSHZCAAAAmbxIdkIAAMD+Dkl2QgAAgGRhSXZCAABAyrNJdkIAAAAwBkp2QgAAwJVYSnZCAACA+6pKdkIAAEBh/Up2QgAAAMdPS3ZCAADALKJLdkIAAICS9Et2QgAAQPhGTHZCAAAAXplMdkIAAMDD60x2QgAAgCk+TXZCAABAj5BNdkIAAAD14k12QgAAwFo1TnZCAACAwIdOdkIAAEAm2k52QgAAAIwsT3ZCAADA8X5PdkIAAIBX0U92QgAAQL0jUHZCAAAAI3ZQdkIAAMCIyFB2QgAAgO4aUXZCAABAVG1RdkIAAAC6v1F2QgAAwB8SUnZCAACAhWRSdkIAAEDrtlJ2QgAAAFEJU3ZCAADAtltTdkIAAIAcrlN2QgAAQIIAVHZCAAAA6FJUdkIAAMBNpVR2QgAAgLP3VHZCAABAGUpVdkIAAAB/nFV2QgAAwOTuVXZCAACASkFWdkIAAECwk1Z2QgAAABbmVnZCAADAezhXdkIAAIDhild2QgAAQEfdV3ZCAAAArS9YdkIAAMASglh2QgAAgHjUWHZCAABA3iZZdkIAAABEeVl2QgAAwKnLWXZCAACADx5adkIAAEB1cFp2QgAAANvCWnZCAADAQBVbdkIAAICmZ1t2QgAAQAy6W3ZCAAAAcgxcdkIAAMDXXlx2QgAAgD2xXHZCAABAowNddkIAAAAJVl12QgAAwG6oXXZCAACA1PpddkIAAEA6TV52QgAAAKCfXnZCAADABfJedkIAAIBrRF92QgAAQNGWX3ZCAAAAN+lfdkIAAMCcO2B2QgAAgAKOYHZCAABAaOBgdkIAAADOMmF2QgAAwDOFYXZCAACAmddhdkIAAED/KWJ2QgAAAGV8YnZCAADAys5idkIAAIAwIWN2QgAAQJZzY3ZCAAAA/MVjdkIAAMBhGGR2QgAAgMdqZHZCAABALb1kdkIAAACTD2V2QgAAwPhhZXZCAACAXrRldkIAAEDEBmZ2QgAAACpZZnZCAADAj6tmdkIAAID1/WZ2QgAAQFtQZ3ZCAAAAwaJndkIAAMAm9Wd2QgAAgIxHaHZCAABA8plodkIAAABY7Gh2QgAAwL0+aXZCAACAI5FpdkIAAECJ42l2QgAAAO81anZCAADAVIhqdkIAAIC62mp2QgAAQCAta3ZCAAAAhn9rdkIAAMDr0Wt2QgAAgFEkbHZCAABAt3ZsdkIAAAAdyWx2QgAAwIIbbXZCAACA6G1tdkIAAEBOwG12QgAAALQSbnZCAADAGWVudkIAAIB/t252QgAAQOUJb3ZCAAAAS1xvdkIAAMCwrm92QgAAgBYBcHZCAABAfFNwdkIAAADipXB2QgAAwEf4cHZCAACArUpxdkIAAEATnXF2QgAAAHnvcXZCAADA3kFydkIAAIBElHJ2QgAAQKrmcnZCAAAAEDlzdkIAAMB1i3N2QgAAgNvdc3ZCAABAQTB0dkIAAACngnR2QgAAwAzVdHZCAACAcid1dkIAAEDYeXV2QgAAAD7MdXZCAADAox52dkIAAIAJcXZ2QgAAQG/DdnZCAAAA1RV3dkIAAMA6aHd2QgAAgKC6d3ZCAABABg14dkIAAABsX3h2QgAAwNGxeHZCAACANwR5dkIAAECdVnl2QgAAAAOpeXZCAADAaPt5dkIAAIDOTXp2QgAAQDSgenZCAAAAmvJ6dkIAAMD/RHt2QgAAgGWXe3ZCAABAy+l7dkIAAAAxPHx2QgAAwJaOfHZCAACA/OB8dkIAAEBiM312QgAAAMiFfXZCAADALdh9dkIAAICTKn52QgAAQPl8fnZCAAAAX89+dkIAAMDEIX92QgAAgCp0f3ZCAABAkMZ/dkIAAAD2GIB2QgAAwFtrgHZCAACAwb2AdkIAAEAnEIF2QgAAAI1igXZCAADA8rSBdkIAAIBYB4J2QgAAQL5ZgnZCAAAAJKyCdkIAAMCJ/oJ2QgAAgO9Qg3ZCAABAVaODdkIAAAC79YN2QgAAwCBIhHZCAACAhpqEdkIAAEDs7IR2QgAAAFI/hXZCAADAt5GFdkIAAIAd5IV2QgAAQIM2hnZCAAAA6YiGdkIAAMBO24Z2QgAAgLQth3ZCAABAGoCHdkIAAACA0od2QgAAwOUkiHZCAACAS3eIdkIAAECxyYh2QgAAABcciXZCAADAfG6JdkIAAIDiwIl2QgAAQEgTinZCAAAArmWKdkIAAMATuIp2QgAAgHkKi3ZCAABA31yLdkIAAABFr4t2QgAAwKoBjHZCAACAEFSMdkIAAEB2pox2QgAAANz4jHZCAADAQUuNdkIAAICnnY12QgAAQA3wjXZCAAAAc0KOdkIAAMDYlI52QgAAgD7njnZCAABApDmPdkIAAAAKjI92QgAAwG/ej3ZCAACA1TCQdkIAAEA7g5B2QgAAAKHVkHZCAADABiiRdkIAAIBsepF2QgAAQNLMkXZCAAAAOB+SdkIAAMCdcZJ2QgAAgAPEknZCAABAaRaTdkIAAADPaJN2QgAAwDS7k3ZCAACAmg2UdkIAAEAAYJR2QgAAAGaylHZCAADAywSVdkIAAIAxV5V2QgAAQJeplXZCAAAA/fuVdkIAAMBiTpZ2QgAAgMiglnZCAABALvOWdkIAAACURZd2QgAAwPmXl3ZCAACAX+qXdkIAAEDFPJh2QgAAACuPmHZCAADAkOGYdkIAAID2M5l2QgAAQFyGmXZCAAAAwtiZdkIAAMAnK5p2QgAAgI19mnZCAABA88+adkIAAABZIpt2QgAAwL50m3ZCAACAJMebdkIAAECKGZx2QgAAAPBrnHZCAADAVb6cdkIAAIC7EJ12QgAAQCFjnXZCAAAAh7WddkIAAMDsB552QgAAgFJannZCAABAuKyedkIAAAAe/552QgAAwINRn3ZCAACA6aOfdkIAAEBP9p92QgAAALVIoHZCAADAGpugdkIAAICA7aB2QgAAQOY/oXZCAAAATJKhdkIAAMCx5KF2QgAAgBc3onZCAABAfYmidkIAAADj26J2QgAAwEguo3ZCAACAroCjdkIAAEAU06N2QgAAAHolpHZCAADA33ekdkIAAIBFyqR2QgAAQKscpXZCAAAAEW+ldkIAAMB2waV2QgAAgNwTpnZCAABAQmamdkIAAACouKZ2QgAAwA0Lp3ZCAACAc12ndkIAAEDZr6d2QgAAAD8CqHZCAADApFSodkIAAIAKp6h2QgAAQHD5qHZCAAAA1kupdkIAAMA7nql2QgAAgKHwqXZCAABAB0OqdkIAAABtlap2QgAAwNLnqnZCAACAODqrdkIAAECejKt2QgAAAATfq3ZCAADAaTGsdkIAAIDPg6x2QgAAQDXWrHZCAAAAmyitdkIAAMAAe612QgAAgGbNrXZCAABAzB+udkIAAAAycq52QgAAwJfErnZCAACA/RavdkIAAEBjaa92QgAAAMm7r3ZCAADALg6wdkIAAICUYLB2QgAAQPqysHZCAAAAYAWxdkIAAMDFV7F2QgAAgCuqsXZCAABAkfyxdkIAAAD3TrJ2QgAAwFyhsnZCAACAwvOydkIAAEAoRrN2QgAAAI6Ys3ZCAADA8+qzdkIAAIBZPbR2QgAAQL+PtHZCAAAAJeK0dkIAAMCKNLV2QgAAgPCGtXZCAABAVtm1dkIAAAC8K7Z2QgAAwCF+tnZCAACAh9C2dkIAAEDtIrd2QgAAAFN1t3ZCAADAuMe3dkIAAIAeGrh2QgAAQIRsuHZCAAAA6r64dkIAAMBPEbl2QgAAgLVjuXZCAABAG7a5dkIAAACBCLp2QgAAwOZaunZCAACATK26dkIAAECy/7p2QgAAABhSu3ZCAADAfaS7dkIAAIDj9rt2QgAAQElJvHZCAAAAr5u8dkIAAMAU7rx2QgAAgHpAvXZCAABA4JK9dkIAAABG5b12QgAAwKs3vnZCAACAEYq+dkIAAEB33L52QgAAAN0uv3ZCAADAQoG/dkIAAICo0792QgAAQA4mwHZCAAAAdHjAdkIAAMDZysB2QgAAgD8dwXZCAABApW/BdkIAAAALwsF2QgAAwHAUwnZCAACA1mbCdkIAAEA8ucJ2QgAAAKILw3ZCAADAB17DdkIAAIBtsMN2QgAAQNMCxHZCAAAAOVXEdkIAAMCep8R2QgAAgAT6xHZCAABAakzFdkIAAADQnsV2QgAAwDXxxXZCAACAm0PGdkIAAEABlsZ2QgAAAGfoxnZCAADAzDrHdkIAAIAyjcd2QgAAQJjfx3ZCAAAA/jHIdkIAAMBjhMh2QgAAgMnWyHZCAABALynJdkIAAACVe8l2QgAAwPrNyXZCAACAYCDKdkIAAEDGcsp2QgAAACzFynZCAADAkRfLdkIAAID3act2QgAAQF28y3ZCAAAAww7MdkIAAMAoYcx2QgAAgI6zzHZCAABA9AXNdkIAAABaWM12QgAAwL+qzXZCAACAJf3NdkIAAECLT852QgAAAPGhznZCAADAVvTOdkIAAIC8Rs92QgAAQCKZz3ZCAAAAiOvPdkIAAMDtPdB2QgAAgFOQ0HZCAABAueLQdkIAAAAfNdF2QgAAwISH0XZCAACA6tnRdkIAAEBQLNJ2QgAAALZ+0nZCAADAG9HSdkIAAICBI9N2QgAAQOd103ZCAAAATcjTdkIAAMCyGtR2QgAAgBht1HZCAABAfr/UdkIAAADkEdV2QgAAwElk1XZCAACAr7bVdkIAAEAVCdZ2QgAAAHtb1nZCAADA4K3WdkIAAIBGANd2QgAAQKxS13ZCAAAAEqXXdkIAAMB399d2QgAAgN1J2HZCAABAQ5zYdkIAAACp7th2QgAAwA5B2XZCAACAdJPZdkIAAEDa5dl2QgAAAEA42nZCAADApYradkIAAIAL3dp2QgAAQHEv23ZCAAAA14HbdkIAAMA81Nt2QgAAgKIm3HZCAABACHncdkIAAABuy9x2QgAAwNMd3XZCAACAOXDddkIAAECfwt12QgAAAAUV3nZCAADAamfedkIAAIDQud52QgAAQDYM33ZCAAAAnF7fdkIAAMABsd92QgAAgGcD4HZCAABAzVXgdkIAAAAzqOB2QgAAwJj64HZCAACA/kzhdkIAAEBkn+F2QgAAAMrx4XZCAADAL0TidkIAAICVluJ2QgAAQPvo4nZCAAAAYTvjdkIAAMDGjeN2QgAAgCzg43ZCAABAkjLkdkIAAAD4hOR2QgAAwF3X5HZCAACAwynldkIAAEApfOV2QgAAAI/O5XZCAADA9CDmdkIAAIBac+Z2QgAAQMDF5nZCAAAAJhjndkIAAMCLaud2QgAAgPG853ZCAABAVw/odkIAAAC9Yeh2QgAAwCK06HZCAACAiAbpdkIAAEDuWOl2QgAAAFSr6XZCAADAuf3pdkIAAIAfUOp2QgAAQIWi6nZCAAAA6/TqdkIAAMBQR+t2QgAAgLaZ63ZCAABAHOzrdkIAAACCPux2QgAAwOeQ7HZCAACATePsdkIAAECzNe12QgAAABmI7XZCAADAftrtdkIAAIDkLO52QgAAQEp/7nZCAAAAsNHudkIAAMAVJO92QgAAgHt273ZCAABA4cjvdkIAAABHG/B2QgAAwKxt8HZCAACAEsDwdkIAAEB4EvF2QgAAAN5k8XZCAADAQ7fxdkIAAICpCfJ2QgAAQA9c8nZCAAAAda7ydkIAAMDaAPN2QgAAgEBT83ZCAABApqXzdkIAAAAM+PN2QgAAwHFK9HZCAACA15z0dkIAAEA97/R2QgAAAKNB9XZCAADACJT1dkIAAIBu5vV2QgAAQNQ49nZCAAAAOov2dkIAAMCf3fZ2QgAAgAUw93ZCAABAa4L3dkIAAADR1Pd2QgAAwDYn+HZCAACAnHn4dkIAAEACzPh2QgAAAGge+XZCAADAzXD5dkIAAIAzw/l2QgAAQJkV+nZCAAAA/2f6dkIAAMBkuvp2QgAAgMoM+3ZCAABAMF/7dkIAAACWsft2QgAAwPsD/HZCAACAYVb8dkIAAEDHqPx2QgAAAC37/HZCAADAkk39dkIAAID4n/12QgAAQF7y/XZCAAAAxET+dkIAAMApl/52QgAAgI/p/nZCAABA9Tv/dkIAAABbjv92QgAAwMDg/3ZCAACAJjMAd0IAAECMhQB3QgAAAPLXAHdCAADAVyoBd0IAAIC9fAF3QgAAQCPPAXdCAAAAiSECd0IAAMDucwJ3QgAAgFTGAndCAABAuhgDd0IAAAAgawN3QgAAwIW9A3dCAACA6w8Ed0IAAEBRYgR3QgAAALe0BHdCAADAHAcFd0IAAICCWQV3QgAAQOirBXdCAAAATv4Fd0IAAMCzUAZ3QgAAgBmjBndCAABAf/UGd0IAAADlRwd3QgAAwEqaB3dCAACAsOwHd0IAAEAWPwh3QgAAAHyRCHdCAADA4eMId0IAAIBHNgl3QgAAQK2ICXdCAAAAE9sJd0IAAMB4LQp3QgAAgN5/CndCAABARNIKd0IAAACqJAt3QgAAwA93C3dCAACAdckLd0IAAEDbGwx3QgAAAEFuDHdCAADApsAMd0IAAIAMEw13QgAAQHJlDXdCAAAA2LcNd0IAAMA9Cg53QgAAgKNcDndCAABACa8Od0IAAABvAQ93QgAAwNRTD3dCAACAOqYPd0IAAECg+A93QgAAAAZLEHdCAADAa50Qd0IAAIDR7xB3QgAAQDdCEXdCAAAAnZQRd0IAAMAC5xF3QgAAgGg5EndCAABAzosSd0IAAAA03hJ3QgAAwJkwE3dCAACA/4ITd0IAAEBl1RN3QgAAAMsnFHdCAADAMHoUd0IAAICWzBR3QgAAQPweFXdCAAAAYnEVd0IAAMDHwxV3QgAAgC0WFndCAABAk2gWd0IAAAD5uhZ3QgAAwF4NF3dCAACAxF8Xd0IAAEAqshd3QgAAAJAEGHdCAADA9VYYd0IAAIBbqRh3QgAAQMH7GHdCAAAAJ04Zd0IAAMCMoBl3QgAAgPLyGXdCAABAWEUad0IAAAC+lxp3QgAAwCPqGndCAACAiTwbd0IAAEDvjht3QgAAAFXhG3dCAADAujMcd0IAAIAghhx3QgAAQIbYHHdCAAAA7Codd0IAAMBRfR13QgAAgLfPHXdCAABAHSIed0IAAACDdB53QgAAwOjGHndCAACAThkfd0IAAEC0ax93QgAAABq+H3dCAADAfxAgd0IAAIDlYiB3QgAAQEu1IHdCAAAAsQchd0IAAMAWWiF3QgAAgHysIXdCAABA4v4hd0IAAABIUSJ3QgAAwK2jIndCAACAE/Yid0IAAEB5SCN3QgAAAN+aI3dCAADARO0jd0IAAICqPyR3QgAAQBCSJHdCAAAAduQkd0IAAMDbNiV3QgAAgEGJJXdCAABAp9sld0IAAAANLiZ3QgAAwHKAJndCAACA2NImd0IAAEA+JSd3QgAAAKR3J3dCAADACcond0IAAIBvHCh3QgAAQNVuKHdCAAAAO8Eod0IAAMCgEyl3QgAAgAZmKXdCAABAbLgpd0IAAADSCip3QgAAwDddKndCAACAna8qd0IAAEADAit3QgAAAGlUK3dCAADAzqYrd0IAAIA0+St3QgAAQJpLLHdCAAAAAJ4sd0IAAMBl8Cx3QgAAgMtCLXdCAABAMZUtd0IAAACX5y13QgAAwPw5LndCAACAYowud0IAAEDI3i53QgAAAC4xL3dCAADAk4Mvd0IAAID51S93QgAAQF8oMHdCAAAAxXowd0IAAMAqzTB3QgAAgJAfMXdCAABA9nExd0IAAABcxDF3QgAAwMEWMndCAACAJ2kyd0IAAECNuzJ3QgAAAPMNM3dCAADAWGAzd0IAAIC+sjN3QgAAQCQFNHdCAAAAilc0d0IAAMDvqTR3QgAAgFX8NHdCAABAu041d0IAAAAhoTV3QgAAwIbzNXdCAACA7EU2d0IAAEBSmDZ3QgAAALjqNndCAADAHT03d0IAAICDjzd3QgAAQOnhN3dCAAAATzQ4d0IAAMC0hjh3QgAAgBrZOHdCAABAgCs5d0IAAADmfTl3QgAAwEvQOXdCAACAsSI6d0IAAEAXdTp3QgAAAH3HOndCAADA4hk7d0IAAIBIbDt3QgAAQK6+O3dCAAAAFBE8d0IAAMB5Yzx3QgAAgN+1PHdCAABARQg9d0IAAACrWj13QgAAwBCtPXdCAACAdv89d0IAAEDcUT53QgAAAEKkPndCAADAp/Y+d0IAAIANST93QgAAQHObP3dCAAAA2e0/d0IAAMA+QEB3QgAAgKSSQHdCAABACuVAd0IAAABwN0F3QgAAwNWJQXdCAACAO9xBd0IAAEChLkJ3QgAAAAeBQndCAADAbNNCd0IAAIDSJUN3QgAAQDh4Q3dCAAAAnspDd0IAAMADHUR3QgAAgGlvRHdCAABAz8FEd0IAAAA1FEV3QgAAwJpmRXdCAACAALlFd0IAAEBmC0Z3QgAAAMxdRndCAADAMbBGd0IAAICXAkd3QgAAQP1UR3dCAAAAY6dHd0IAAMDI+Ud3QgAAgC5MSHdCAABAlJ5Id0IAAAD68Eh3QgAAwF9DSXdCAACAxZVJd0IAAEAr6El3QgAAAJE6SndCAADA9oxKd0IAAIBc30p3QgAAQMIxS3dCAAAAKIRLd0IAAMCN1kt3QgAAgPMoTHdCAABAWXtMd0IAAAC/zUx3QgAAwCQgTXdCAACAinJNd0IAAEDwxE13QgAAAFYXTndCAADAu2lOd0IAAIAhvE53QgAAQIcOT3dCAAAA7WBPd0IAAMBSs093QgAAgLgFUHdCAABAHlhQd0IAAACEqlB3QgAAwOn8UHdCAACAT09Rd0IAAEC1oVF3QgAAABv0UXdCAADAgEZSd0IAAIDmmFJ3QgAAQEzrUndCAAAAsj1Td0IAAMAXkFN3QgAAgH3iU3dCAABA4zRUd0IAAABJh1R3QgAAwK7ZVHdCAACAFCxVd0IAAEB6flV3QgAAAODQVXdCAADARSNWd0IAAICrdVZ3QgAAQBHIVndCAAAAdxpXd0IAAMDcbFd3QgAAgEK/V3dCAABAqBFYd0IAAAAOZFh3QgAAwHO2WHdCAACA2QhZd0IAAEA/W1l3QgAAAKWtWXdCAADACgBad0IAAIBwUlp3QgAAQNakWndCAAAAPPdad0IAAMChSVt3QgAAgAecW3dCAABAbe5bd0IAAADTQFx3QgAAwDiTXHdCAACAnuVcd0IAAEAEOF13QgAAAGqKXXdCAADAz9xdd0IAAIA1L153QgAAQJuBXndCAAAAAdRed0IAAMBmJl93QgAAgMx4X3dCAABAMstfd0IAAACYHWB3QgAAwP1vYHdCAACAY8Jgd0IAAEDJFGF3QgAAAC9nYXdCAADAlLlhd0IAAID6C2J3QgAAQGBeYndCAAAAxrBid0IAAMArA2N3QgAAgJFVY3dCAABA96djd0IAAABd+mN3QgAAwMJMZHdCAACAKJ9kd0IAAECO8WR3QgAAAPRDZXdCAADAWZZld0IAAIC/6GV3QgAAQCU7ZndCAAAAi41md0IAAMDw32Z3QgAAgFYyZ3dCAABAvIRnd0IAAAAi12d3QgAAwIcpaHdCAACA7Xtod0IAAEBTzmh3QgAAALkgaXdCAADAHnNpd0IAAICExWl3QgAAQOoXandCAAAAUGpqd0IAAMC1vGp3QgAAgBsPa3dCAABAgWFrd0IAAADns2t3QgAAwEwGbHdCAACAslhsd0IAAEAYq2x3QgAAAH79bHdCAADA409td0IAAIBJom13QgAAQK/0bXdCAAAAFUdud0IAAMB6mW53QgAAgODrbndCAABARj5vd0IAAACskG93QgAAwBHjb3dCAACAdzVwd0IAAEDdh3B3QgAAAEPacHdCAADAqCxxd0IAAIAOf3F3QgAAQHTRcXdCAAAA2iNyd0IAAMA/dnJ3QgAAgKXIcndCAABACxtzd0IAAABxbXN3QgAAwNa/c3dCAACAPBJ0d0IAAECiZHR3QgAAAAi3dHdCAADAbQl1d0IAAIDTW3V3QgAAQDmudXdCAAAAnwB2d0IAAMAEU3Z3QgAAgGqldndCAABA0Pd2d0IAAAA2Snd3QgAAwJucd3dCAACAAe93d0IAAEBnQXh3QgAAAM2TeHdCAADAMuZ4d0IAAICYOHl3QgAAQP6KeXdCAAAAZN15d0IAAMDJL3p3QgAAgC+CendCAABAldR6d0IAAAD7Jnt3QgAAwGB5e3dCAACAxst7d0IAAEAsHnx3QgAAAJJwfHdCAADA98J8d0IAAIBdFX13QgAAQMNnfXdCAAAAKbp9d0IAAMCODH53QgAAgPRefndCAABAWrF+d0IAAADAA393QgAAwCVWf3dCAACAi6h/d0IAAEDx+n93QgAAAFdNgHdCAADAvJ+Ad0IAAIAi8oB3QgAAQIhEgXdCAAAA7paBd0IAAMBT6YF3QgAAgLk7gndCAABAH46Cd0IAAACF4IJ3QgAAwOoyg3dCAACAUIWDd0IAAEC214N3QgAAABwqhHdCAADAgXyEd0IAAIDnzoR3QgAAQE0hhXdCAAAAs3OFd0IAAMAYxoV3QgAAgH4YhndCAABA5GqGd0IAAABKvYZ3QgAAwK8Ph3dCAACAFWKHd0IAAEB7tId3QgAAAOEGiHdCAADARlmId0IAAICsq4h3QgAAQBL+iHdCAAAAeFCJd0IAAMDdool3QgAAgEP1iXdCAABAqUeKd0IAAAAPmop3QgAAwHTsindCAACA2j6Ld0IAAEBAkYt3QgAAAKbji3dCAADACzaMd0IAAIBxiIx3QgAAQNfajHdCAAAAPS2Nd0IAAMCif413QgAAgAjSjXdCAABAbiSOd0IAAADUdo53QgAAwDnJjndCAACAnxuPd0IAAEAFbo93QgAAAGvAj3dCAADA0BKQd0IAAIA2ZZB3QgAAQJy3kHdCAAAAAgqRd0IAAMBnXJF3QgAAgM2ukXdCAABAMwGSd0IAAACZU5J3QgAAwP6lkndCAACAZPiSd0IAAEDKSpN3QgAAADCdk3dCAADAle+Td0IAAID7QZR3QgAAQGGUlHdCAAAAx+aUd0IAAMAsOZV3QgAAgJKLlXdCAABA+N2Vd0IAAABeMJZ3QgAAwMOClndCAACAKdWWd0IAAECPJ5d3QgAAAPV5l3dCAADAWsyXd0IAAIDAHph3QgAAQCZxmHdCAAAAjMOYd0IAAMDxFZl3QgAAgFdomXdCAABAvbqZd0IAAAAjDZp3QgAAwIhfmndCAACA7rGad0IAAEBUBJt3QgAAALpWm3dCAADAH6mbd0IAAICF+5t3QgAAQOtNnHdCAAAAUaCcd0IAAMC28px3QgAAgBxFnXdCAABAgpedd0IAAADo6Z13QgAAwE08nndCAACAs46ed0IAAEAZ4Z53QgAAAH8zn3dCAADA5IWfd0IAAIBK2J93QgAAQLAqoHdCAAAAFn2gd0IAAMB7z6B3QgAAgOEhoXdCAABAR3Shd0IAAACtxqF3QgAAwBIZondCAACAeGuid0IAAEDevaJ3QgAAAEQQo3dCAADAqWKjd0IAAIAPtaN3QgAAQHUHpHdCAAAA21mkd0IAAMBArKR3QgAAgKb+pHdCAABADFGld0IAAAByo6V3QgAAwNf1pXdCAACAPUimd0IAAECjmqZ3QgAAAAntpndCAADAbj+nd0IAAIDUkad3QgAAQDrkp3dCAAAAoDaod0IAAMAFiah3QgAAgGvbqHdCAABA0S2pd0IAAAA3gKl3QgAAwJzSqXdCAACAAiWqd0IAAEBod6p3QgAAAM7JqndCAADAMxyrd0IAAICZbqt3QgAAQP/Aq3dCAAAAZROsd0IAAMDKZax3QgAAgDC4rHdCAABAlgqtd0IAAAD8XK13QgAAwGGvrXdCAACAxwGud0IAAEAtVK53QgAAAJOmrndCAADA+Piud0IAAIBeS693QgAAQMSdr3dCAAAAKvCvd0IAAMCPQrB3QgAAgPWUsHdCAABAW+ewd0IAAADBObF3QgAAwCaMsXdCAACAjN6xd0IAAEDyMLJ3QgAAAFiDsndCAADAvdWyd0IAAIAjKLN3QgAAQIl6s3dCAAAA78yzd0IAAMBUH7R3QgAAgLpxtHdCAABAIMS0d0IAAACGFrV3QgAAwOtotXdCAACAUbu1d0IAAEC3DbZ3QgAAAB1gtndCAADAgrK2d0IAAIDoBLd3QgAAQE5Xt3dCAAAAtKm3d0IAAMAZ/Ld3QgAAgH9OuHdCAABA5aC4d0IAAABL87h3QgAAwLBFuXdCAACAFpi5d0IAAEB86rl3QgAAAOI8undCAADAR4+6d0IAAICt4bp3QgAAQBM0u3dCAAAAeYa7d0IAAMDe2Lt3QgAAgEQrvHdCAABAqn28d0IAAAAQ0Lx3QgAAwHUivXdCAACA23S9d0IAAEBBx713QgAAAKcZvndCAADADGy+d0IAAIByvr53QgAAQNgQv3dCAAAAPmO/d0IAAMCjtb93QgAAgAkIwHdCAABAb1rAd0IAAADVrMB3QgAAwDr/wHdCAACAoFHBd0IAAEAGpMF3QgAAAGz2wXdCAADA0UjCd0IAAIA3m8J3QgAAQJ3twndCAAAAA0DDd0IAAMBoksN3QgAAgM7kw3dCAABANDfEd0IAAACaicR3QgAAwP/bxHdCAACAZS7Fd0IAAEDLgMV3QgAAADHTxXdCAADAliXGd0IAAID8d8Z3QgAAQGLKxndCAAAAyBzHd0IAAMAtb8d3QgAAgJPBx3dCAABA+RPId0IAAABfZsh3QgAAwMS4yHdCAACAKgvJd0IAAECQXcl3QgAAAPavyXdCAADAWwLKd0IAAIDBVMp3QgAAQCenyndCAAAAjfnKd0IAAMDyS8t3QgAAgFiey3dC\",\"dtype\":\"float64\",\"order\":\"little\",\"shape\":[1461]},\"Variable\":[\"btc\",\"btc\",\"btc\",\"btc\",\"btc\",\"btc\",\"btc\",\"btc\",\"btc\",\"btc\",\"btc\",\"btc\",\"btc\",\"btc\",\"btc\",\"btc\",\"btc\",\"btc\",\"btc\",\"btc\",\"btc\",\"btc\",\"btc\",\"btc\",\"btc\",\"btc\",\"btc\",\"btc\",\"btc\",\"btc\",\"btc\",\"btc\",\"btc\",\"btc\",\"btc\",\"btc\",\"btc\",\"btc\",\"btc\",\"btc\",\"btc\",\"btc\",\"btc\",\"btc\",\"btc\",\"btc\",\"btc\",\"btc\",\"btc\",\"btc\",\"btc\",\"btc\",\"btc\",\"btc\",\"btc\",\"btc\",\"btc\",\"btc\",\"btc\",\"btc\",\"btc\",\"btc\",\"btc\",\"btc\",\"btc\",\"btc\",\"btc\",\"btc\",\"btc\",\"btc\",\"btc\",\"btc\",\"btc\",\"btc\",\"btc\",\"btc\",\"btc\",\"btc\",\"btc\",\"btc\",\"btc\",\"btc\",\"btc\",\"btc\",\"btc\",\"btc\",\"btc\",\"btc\",\"btc\",\"btc\",\"btc\",\"btc\",\"btc\",\"btc\",\"btc\",\"btc\",\"btc\",\"btc\",\"btc\",\"btc\",\"btc\",\"btc\",\"btc\",\"btc\",\"btc\",\"btc\",\"btc\",\"btc\",\"btc\",\"btc\",\"btc\",\"btc\",\"btc\",\"btc\",\"btc\",\"btc\",\"btc\",\"btc\",\"btc\",\"btc\",\"btc\",\"btc\",\"btc\",\"btc\",\"btc\",\"btc\",\"btc\",\"btc\",\"btc\",\"btc\",\"btc\",\"btc\",\"btc\",\"btc\",\"btc\",\"btc\",\"btc\",\"btc\",\"btc\",\"btc\",\"btc\",\"btc\",\"btc\",\"btc\",\"btc\",\"btc\",\"btc\",\"btc\",\"btc\",\"btc\",\"btc\",\"btc\",\"btc\",\"btc\",\"btc\",\"btc\",\"btc\",\"btc\",\"btc\",\"btc\",\"btc\",\"btc\",\"btc\",\"btc\",\"btc\",\"btc\",\"btc\",\"btc\",\"btc\",\"btc\",\"btc\",\"btc\",\"btc\",\"btc\",\"btc\",\"btc\",\"btc\",\"btc\",\"btc\",\"btc\",\"btc\",\"btc\",\"btc\",\"btc\",\"btc\",\"btc\",\"btc\",\"btc\",\"btc\",\"btc\",\"btc\",\"btc\",\"btc\",\"btc\",\"btc\",\"btc\",\"btc\",\"btc\",\"btc\",\"btc\",\"btc\",\"btc\",\"btc\",\"btc\",\"btc\",\"btc\",\"btc\",\"btc\",\"btc\",\"btc\",\"btc\",\"btc\",\"btc\",\"btc\",\"btc\",\"btc\",\"btc\",\"btc\",\"btc\",\"btc\",\"btc\",\"btc\",\"btc\",\"btc\",\"btc\",\"btc\",\"btc\",\"btc\",\"btc\",\"btc\",\"btc\",\"btc\",\"btc\",\"btc\",\"btc\",\"btc\",\"btc\",\"btc\",\"btc\",\"btc\",\"btc\",\"btc\",\"btc\",\"btc\",\"btc\",\"btc\",\"btc\",\"btc\",\"btc\",\"btc\",\"btc\",\"btc\",\"btc\",\"btc\",\"btc\",\"btc\",\"btc\",\"btc\",\"btc\",\"btc\",\"btc\",\"btc\",\"btc\",\"btc\",\"btc\",\"btc\",\"btc\",\"btc\",\"btc\",\"btc\",\"btc\",\"btc\",\"btc\",\"btc\",\"btc\",\"btc\",\"btc\",\"btc\",\"btc\",\"btc\",\"btc\",\"btc\",\"btc\",\"btc\",\"btc\",\"btc\",\"btc\",\"btc\",\"btc\",\"btc\",\"btc\",\"btc\",\"btc\",\"btc\",\"btc\",\"btc\",\"btc\",\"btc\",\"btc\",\"btc\",\"btc\",\"btc\",\"btc\",\"btc\",\"btc\",\"btc\",\"btc\",\"btc\",\"btc\",\"btc\",\"btc\",\"btc\",\"btc\",\"btc\",\"btc\",\"btc\",\"btc\",\"btc\",\"btc\",\"btc\",\"btc\",\"btc\",\"btc\",\"btc\",\"btc\",\"btc\",\"btc\",\"btc\",\"btc\",\"btc\",\"btc\",\"btc\",\"btc\",\"btc\",\"btc\",\"btc\",\"btc\",\"btc\",\"btc\",\"btc\",\"btc\",\"btc\",\"btc\",\"btc\",\"btc\",\"btc\",\"btc\",\"btc\",\"btc\",\"btc\",\"btc\",\"btc\",\"btc\",\"btc\",\"btc\",\"btc\",\"btc\",\"btc\",\"btc\",\"btc\",\"btc\",\"btc\",\"btc\",\"btc\",\"btc\",\"btc\",\"btc\",\"btc\",\"btc\",\"btc\",\"btc\",\"btc\",\"btc\",\"btc\",\"btc\",\"btc\",\"btc\",\"btc\",\"btc\",\"btc\",\"btc\",\"btc\",\"btc\",\"btc\",\"btc\",\"btc\",\"btc\",\"btc\",\"btc\",\"btc\",\"btc\",\"btc\",\"btc\",\"btc\",\"btc\",\"btc\",\"btc\",\"btc\",\"btc\",\"btc\",\"btc\",\"btc\",\"btc\",\"btc\",\"btc\",\"btc\",\"btc\",\"btc\",\"btc\",\"btc\",\"btc\",\"btc\",\"btc\",\"btc\",\"btc\",\"btc\",\"btc\",\"btc\",\"btc\",\"btc\",\"btc\",\"btc\",\"btc\",\"btc\",\"btc\",\"btc\",\"btc\",\"btc\",\"btc\",\"btc\",\"btc\",\"btc\",\"btc\",\"btc\",\"btc\",\"btc\",\"btc\",\"btc\",\"btc\",\"btc\",\"btc\",\"btc\",\"btc\",\"btc\",\"btc\",\"btc\",\"btc\",\"btc\",\"btc\",\"btc\",\"btc\",\"btc\",\"btc\",\"btc\",\"btc\",\"btc\",\"btc\",\"btc\",\"btc\",\"btc\",\"btc\",\"btc\",\"btc\",\"btc\",\"btc\",\"btc\",\"btc\",\"btc\",\"btc\",\"btc\",\"btc\",\"btc\",\"btc\",\"btc\",\"btc\",\"btc\",\"btc\",\"btc\",\"btc\",\"btc\",\"btc\",\"btc\",\"btc\",\"btc\",\"btc\",\"btc\",\"btc\",\"btc\",\"btc\",\"btc\",\"btc\",\"btc\",\"btc\",\"btc\",\"btc\",\"btc\",\"btc\",\"btc\",\"btc\",\"btc\",\"btc\",\"btc\",\"btc\",\"btc\",\"btc\",\"btc\",\"btc\",\"btc\",\"btc\",\"btc\",\"btc\",\"btc\",\"btc\",\"btc\",\"btc\",\"btc\",\"btc\",\"btc\",\"btc\",\"btc\",\"btc\",\"btc\",\"btc\",\"btc\",\"btc\",\"btc\",\"btc\",\"btc\",\"btc\",\"btc\",\"btc\",\"btc\",\"btc\",\"btc\",\"btc\",\"btc\",\"btc\",\"btc\",\"btc\",\"btc\",\"btc\",\"btc\",\"btc\",\"btc\",\"btc\",\"btc\",\"btc\",\"btc\",\"btc\",\"btc\",\"btc\",\"btc\",\"btc\",\"btc\",\"btc\",\"btc\",\"btc\",\"btc\",\"btc\",\"btc\",\"btc\",\"btc\",\"btc\",\"btc\",\"btc\",\"btc\",\"btc\",\"btc\",\"btc\",\"btc\",\"btc\",\"btc\",\"btc\",\"btc\",\"btc\",\"btc\",\"btc\",\"btc\",\"btc\",\"btc\",\"btc\",\"btc\",\"btc\",\"btc\",\"btc\",\"btc\",\"btc\",\"btc\",\"btc\",\"btc\",\"btc\",\"btc\",\"btc\",\"btc\",\"btc\",\"btc\",\"btc\",\"btc\",\"btc\",\"btc\",\"btc\",\"btc\",\"btc\",\"btc\",\"btc\",\"btc\",\"btc\",\"btc\",\"btc\",\"btc\",\"btc\",\"btc\",\"btc\",\"btc\",\"btc\",\"btc\",\"btc\",\"btc\",\"btc\",\"btc\",\"btc\",\"btc\",\"btc\",\"btc\",\"btc\",\"btc\",\"btc\",\"btc\",\"btc\",\"btc\",\"btc\",\"btc\",\"btc\",\"btc\",\"btc\",\"btc\",\"btc\",\"btc\",\"btc\",\"btc\",\"btc\",\"btc\",\"btc\",\"btc\",\"btc\",\"btc\",\"btc\",\"btc\",\"btc\",\"btc\",\"btc\",\"btc\",\"btc\",\"btc\",\"btc\",\"btc\",\"btc\",\"btc\",\"btc\",\"btc\",\"btc\",\"btc\",\"btc\",\"btc\",\"btc\",\"btc\",\"btc\",\"btc\",\"btc\",\"btc\",\"btc\",\"btc\",\"btc\",\"btc\",\"btc\",\"btc\",\"btc\",\"btc\",\"btc\",\"btc\",\"btc\",\"btc\",\"btc\",\"btc\",\"btc\",\"btc\",\"btc\",\"btc\",\"btc\",\"btc\",\"btc\",\"btc\",\"btc\",\"btc\",\"btc\",\"btc\",\"btc\",\"btc\",\"btc\",\"btc\",\"btc\",\"btc\",\"btc\",\"btc\",\"btc\",\"btc\",\"btc\",\"btc\",\"btc\",\"btc\",\"btc\",\"btc\",\"btc\",\"btc\",\"btc\",\"btc\",\"btc\",\"btc\",\"btc\",\"btc\",\"btc\",\"btc\",\"btc\",\"btc\",\"btc\",\"btc\",\"btc\",\"btc\",\"btc\",\"btc\",\"btc\",\"btc\",\"btc\",\"btc\",\"btc\",\"btc\",\"btc\",\"btc\",\"btc\",\"btc\",\"btc\",\"btc\",\"btc\",\"btc\",\"btc\",\"btc\",\"btc\",\"btc\",\"btc\",\"btc\",\"btc\",\"btc\",\"btc\",\"btc\",\"btc\",\"btc\",\"btc\",\"btc\",\"btc\",\"btc\",\"btc\",\"btc\",\"btc\",\"btc\",\"btc\",\"btc\",\"btc\",\"btc\",\"btc\",\"btc\",\"btc\",\"btc\",\"btc\",\"btc\",\"btc\",\"btc\",\"btc\",\"btc\",\"btc\",\"btc\",\"btc\",\"btc\",\"btc\",\"btc\",\"btc\",\"btc\",\"btc\",\"btc\",\"btc\",\"btc\",\"btc\",\"btc\",\"btc\",\"btc\",\"btc\",\"btc\",\"btc\",\"btc\",\"btc\",\"btc\",\"btc\",\"btc\",\"btc\",\"btc\",\"btc\",\"btc\",\"btc\",\"btc\",\"btc\",\"btc\",\"btc\",\"btc\",\"btc\",\"btc\",\"btc\",\"btc\",\"btc\",\"btc\",\"btc\",\"btc\",\"btc\",\"btc\",\"btc\",\"btc\",\"btc\",\"btc\",\"btc\",\"btc\",\"btc\",\"btc\",\"btc\",\"btc\",\"btc\",\"btc\",\"btc\",\"btc\",\"btc\",\"btc\",\"btc\",\"btc\",\"btc\",\"btc\",\"btc\",\"btc\",\"btc\",\"btc\",\"btc\",\"btc\",\"btc\",\"btc\",\"btc\",\"btc\",\"btc\",\"btc\",\"btc\",\"btc\",\"btc\",\"btc\",\"btc\",\"btc\",\"btc\",\"btc\",\"btc\",\"btc\",\"btc\",\"btc\",\"btc\",\"btc\",\"btc\",\"btc\",\"btc\",\"btc\",\"btc\",\"btc\",\"btc\",\"btc\",\"btc\",\"btc\",\"btc\",\"btc\",\"btc\",\"btc\",\"btc\",\"btc\",\"btc\",\"btc\",\"btc\",\"btc\",\"btc\",\"btc\",\"btc\",\"btc\",\"btc\",\"btc\",\"btc\",\"btc\",\"btc\",\"btc\",\"btc\",\"btc\",\"btc\",\"btc\",\"btc\",\"btc\",\"btc\",\"btc\",\"btc\",\"btc\",\"btc\",\"btc\",\"btc\",\"btc\",\"btc\",\"btc\",\"btc\",\"btc\",\"btc\",\"btc\",\"btc\",\"btc\",\"btc\",\"btc\",\"btc\",\"btc\",\"btc\",\"btc\",\"btc\",\"btc\",\"btc\",\"btc\",\"btc\",\"btc\",\"btc\",\"btc\",\"btc\",\"btc\",\"btc\",\"btc\",\"btc\",\"btc\",\"btc\",\"btc\",\"btc\",\"btc\",\"btc\",\"btc\",\"btc\",\"btc\",\"btc\",\"btc\",\"btc\",\"btc\",\"btc\",\"btc\",\"btc\",\"btc\",\"btc\",\"btc\",\"btc\",\"btc\",\"btc\",\"btc\",\"btc\",\"btc\",\"btc\",\"btc\",\"btc\",\"btc\",\"btc\",\"btc\",\"btc\",\"btc\",\"btc\",\"btc\",\"btc\",\"btc\",\"btc\",\"btc\",\"btc\",\"btc\",\"btc\",\"btc\",\"btc\",\"btc\",\"btc\",\"btc\",\"btc\",\"btc\",\"btc\",\"btc\",\"btc\",\"btc\",\"btc\",\"btc\",\"btc\",\"btc\",\"btc\",\"btc\",\"btc\",\"btc\",\"btc\",\"btc\",\"btc\",\"btc\",\"btc\",\"btc\",\"btc\",\"btc\",\"btc\",\"btc\",\"btc\",\"btc\",\"btc\",\"btc\",\"btc\",\"btc\",\"btc\",\"btc\",\"btc\",\"btc\",\"btc\",\"btc\",\"btc\",\"btc\",\"btc\",\"btc\",\"btc\",\"btc\",\"btc\",\"btc\",\"btc\",\"btc\",\"btc\",\"btc\",\"btc\",\"btc\",\"btc\",\"btc\",\"btc\",\"btc\",\"btc\",\"btc\",\"btc\",\"btc\",\"btc\",\"btc\",\"btc\",\"btc\",\"btc\",\"btc\",\"btc\",\"btc\",\"btc\",\"btc\",\"btc\",\"btc\",\"btc\",\"btc\",\"btc\",\"btc\",\"btc\",\"btc\",\"btc\",\"btc\",\"btc\",\"btc\",\"btc\",\"btc\",\"btc\",\"btc\",\"btc\",\"btc\",\"btc\",\"btc\",\"btc\",\"btc\",\"btc\",\"btc\",\"btc\",\"btc\",\"btc\",\"btc\",\"btc\",\"btc\",\"btc\",\"btc\",\"btc\",\"btc\",\"btc\",\"btc\",\"btc\",\"btc\",\"btc\",\"btc\",\"btc\",\"btc\",\"btc\",\"btc\",\"btc\",\"btc\",\"btc\",\"btc\",\"btc\",\"btc\",\"btc\",\"btc\",\"btc\",\"btc\",\"btc\",\"btc\",\"btc\",\"btc\",\"btc\",\"btc\",\"btc\",\"btc\",\"btc\",\"btc\",\"btc\",\"btc\",\"btc\",\"btc\",\"btc\",\"btc\",\"btc\",\"btc\",\"btc\",\"btc\",\"btc\",\"btc\",\"btc\",\"btc\",\"btc\",\"btc\",\"btc\",\"btc\",\"btc\",\"btc\",\"btc\",\"btc\",\"btc\",\"btc\",\"btc\",\"btc\",\"btc\",\"btc\",\"btc\",\"btc\",\"btc\",\"btc\",\"btc\",\"btc\",\"btc\",\"btc\",\"btc\",\"btc\",\"btc\",\"btc\",\"btc\",\"btc\",\"btc\",\"btc\",\"btc\",\"btc\",\"btc\",\"btc\",\"btc\",\"btc\",\"btc\",\"btc\",\"btc\",\"btc\",\"btc\",\"btc\",\"btc\",\"btc\",\"btc\",\"btc\",\"btc\",\"btc\",\"btc\",\"btc\",\"btc\",\"btc\",\"btc\",\"btc\",\"btc\",\"btc\",\"btc\",\"btc\",\"btc\",\"btc\",\"btc\",\"btc\",\"btc\",\"btc\",\"btc\",\"btc\",\"btc\",\"btc\",\"btc\",\"btc\",\"btc\",\"btc\",\"btc\",\"btc\",\"btc\",\"btc\",\"btc\",\"btc\",\"btc\",\"btc\",\"btc\",\"btc\",\"btc\",\"btc\",\"btc\",\"btc\",\"btc\",\"btc\",\"btc\",\"btc\",\"btc\",\"btc\",\"btc\",\"btc\",\"btc\",\"btc\",\"btc\",\"btc\",\"btc\",\"btc\",\"btc\",\"btc\",\"btc\",\"btc\",\"btc\",\"btc\",\"btc\",\"btc\",\"btc\",\"btc\",\"btc\",\"btc\",\"btc\",\"btc\",\"btc\",\"btc\",\"btc\",\"btc\",\"btc\",\"btc\",\"btc\",\"btc\",\"btc\",\"btc\",\"btc\",\"btc\",\"btc\",\"btc\",\"btc\",\"btc\",\"btc\",\"btc\",\"btc\",\"btc\",\"btc\",\"btc\",\"btc\",\"btc\",\"btc\",\"btc\",\"btc\",\"btc\",\"btc\",\"btc\",\"btc\",\"btc\",\"btc\",\"btc\",\"btc\",\"btc\",\"btc\",\"btc\",\"btc\",\"btc\",\"btc\",\"btc\",\"btc\",\"btc\",\"btc\",\"btc\",\"btc\",\"btc\",\"btc\",\"btc\",\"btc\",\"btc\",\"btc\",\"btc\",\"btc\",\"btc\",\"btc\",\"btc\",\"btc\",\"btc\",\"btc\",\"btc\",\"btc\",\"btc\",\"btc\",\"btc\",\"btc\",\"btc\",\"btc\",\"btc\",\"btc\",\"btc\",\"btc\",\"btc\",\"btc\",\"btc\",\"btc\",\"btc\",\"btc\",\"btc\",\"btc\",\"btc\",\"btc\",\"btc\",\"btc\",\"btc\",\"btc\",\"btc\",\"btc\",\"btc\",\"btc\",\"btc\",\"btc\",\"btc\",\"btc\",\"btc\",\"btc\",\"btc\",\"btc\",\"btc\",\"btc\",\"btc\",\"btc\",\"btc\",\"btc\",\"btc\",\"btc\",\"btc\",\"btc\",\"btc\",\"btc\",\"btc\",\"btc\",\"btc\",\"btc\",\"btc\",\"btc\",\"btc\",\"btc\",\"btc\",\"btc\",\"btc\",\"btc\",\"btc\",\"btc\",\"btc\",\"btc\",\"btc\",\"btc\",\"btc\",\"btc\",\"btc\",\"btc\",\"btc\",\"btc\",\"btc\",\"btc\",\"btc\",\"btc\",\"btc\",\"btc\",\"btc\",\"btc\",\"btc\",\"btc\",\"btc\",\"btc\",\"btc\",\"btc\",\"btc\",\"btc\",\"btc\",\"btc\",\"btc\",\"btc\",\"btc\",\"btc\",\"btc\",\"btc\",\"btc\",\"btc\",\"btc\",\"btc\",\"btc\",\"btc\",\"btc\",\"btc\",\"btc\",\"btc\",\"btc\",\"btc\",\"btc\",\"btc\",\"btc\",\"btc\",\"btc\",\"btc\",\"btc\",\"btc\",\"btc\",\"btc\",\"btc\",\"btc\",\"btc\",\"btc\",\"btc\",\"btc\",\"btc\",\"btc\",\"btc\",\"btc\",\"btc\",\"btc\",\"btc\",\"btc\",\"btc\",\"btc\",\"btc\",\"btc\",\"btc\",\"btc\",\"btc\",\"btc\",\"btc\",\"btc\",\"btc\",\"btc\",\"btc\",\"btc\",\"btc\",\"btc\",\"btc\",\"btc\",\"btc\",\"btc\"],\"value\":{\"__ndarray__\":\"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\",\"dtype\":\"float64\",\"order\":\"little\",\"shape\":[1461]}},\"selected\":{\"id\":\"1939\"},\"selection_policy\":{\"id\":\"1967\"}},\"id\":\"1938\",\"type\":\"ColumnDataSource\"},{\"attributes\":{\"source\":{\"id\":\"1971\"}},\"id\":\"1978\",\"type\":\"CDSView\"},{\"attributes\":{},\"id\":\"1967\",\"type\":\"UnionRenderers\"},{\"attributes\":{\"base\":24,\"mantissas\":[1,2,4,6,8,12],\"max_interval\":43200000.0,\"min_interval\":3600000.0,\"num_minor_ticks\":0},\"id\":\"1955\",\"type\":\"AdaptiveTicker\"},{\"attributes\":{\"months\":[0,1,2,3,4,5,6,7,8,9,10,11]},\"id\":\"1960\",\"type\":\"MonthsTicker\"},{\"attributes\":{\"children\":[{\"id\":\"1897\"},{\"id\":\"1902\"},{\"id\":\"2221\"}],\"margin\":[0,0,0,0],\"name\":\"Row02539\",\"tags\":[\"embedded\"]},\"id\":\"1896\",\"type\":\"Row\"},{\"attributes\":{\"data_source\":{\"id\":\"1938\"},\"glyph\":{\"id\":\"1941\"},\"hover_glyph\":null,\"muted_glyph\":{\"id\":\"1943\"},\"nonselection_glyph\":{\"id\":\"1942\"},\"selection_glyph\":{\"id\":\"1970\"},\"view\":{\"id\":\"1945\"}},\"id\":\"1944\",\"type\":\"GlyphRenderer\"},{\"attributes\":{\"data_source\":{\"id\":\"1971\"},\"glyph\":{\"id\":\"1974\"},\"hover_glyph\":null,\"muted_glyph\":{\"id\":\"1976\"},\"nonselection_glyph\":{\"id\":\"1975\"},\"selection_glyph\":{\"id\":\"2004\"},\"view\":{\"id\":\"1978\"}},\"id\":\"1977\",\"type\":\"GlyphRenderer\"},{\"attributes\":{},\"id\":\"1935\",\"type\":\"BasicTickFormatter\"},{\"attributes\":{},\"id\":\"1932\",\"type\":\"DatetimeTickFormatter\"},{\"attributes\":{\"days\":[1,15]},\"id\":\"1959\",\"type\":\"DaysTicker\"},{\"attributes\":{\"end\":0.9359722222222222,\"reset_end\":0.9359722222222222,\"reset_start\":-0.5456944444444444,\"start\":-0.5456944444444444,\"tags\":[[[\"value\",\"value\",null]]]},\"id\":\"1899\",\"type\":\"Range1d\"}],\"root_ids\":[\"1896\"]},\"title\":\"Bokeh Application\",\"version\":\"2.3.2\"}};\n",
       "    var render_items = [{\"docid\":\"7c333598-635b-4aad-b03e-9875a18e844a\",\"root_ids\":[\"1896\"],\"roots\":{\"1896\":\"3082709e-b9db-4d8c-bc5b-dee3d71af316\"}}];\n",
       "    root.Bokeh.embed.embed_items_notebook(docs_json, render_items);\n",
       "  }\n",
       "  if (root.Bokeh !== undefined && root.Bokeh.Panel !== undefined) {\n",
       "    embed_document(root);\n",
       "  } else {\n",
       "    var attempts = 0;\n",
       "    var timer = setInterval(function(root) {\n",
       "      if (root.Bokeh !== undefined && root.Bokeh.Panel !== undefined) {\n",
       "        clearInterval(timer);\n",
       "        embed_document(root);\n",
       "      } else if (document.readyState == \"complete\") {\n",
       "        attempts++;\n",
       "        if (attempts > 200) {\n",
       "          clearInterval(timer);\n",
       "          console.log(\"Bokeh: ERROR: Unable to run BokehJS code because BokehJS library is missing\");\n",
       "        }\n",
       "      }\n",
       "    }, 25, root)\n",
       "  }\n",
       "})(window);</script>"
      ],
      "text/plain": [
       ":NdOverlay   [Variable]\n",
       "   :Curve   [Date]   (value)"
      ]
     },
     "execution_count": 73,
     "metadata": {
      "application/vnd.holoviews_exec.v0+json": {
       "id": "1896"
      }
     },
     "output_type": "execute_result"
    }
   ],
   "source": [
    "# Plot daily returns\n",
    "daily_returns.hvplot(title = \"Daily Returns of BTC and XRP\", xlabel=\"Date\", ylabel=\"Daily return\", height=500, width=1200)"
   ]
  },
  {
   "cell_type": "code",
   "execution_count": 74,
   "id": "4c54c028-b23b-4bdc-8295-19e44ed29aff",
   "metadata": {},
   "outputs": [
    {
     "data": {},
     "metadata": {},
     "output_type": "display_data"
    },
    {
     "data": {
      "application/vnd.holoviews_exec.v0+json": "",
      "text/html": [
       "<div id='2343'>\n",
       "\n",
       "\n",
       "\n",
       "\n",
       "\n",
       "  <div class=\"bk-root\" id=\"4ce54df9-894e-4b69-b300-1ad6ba86f996\" data-root-id=\"2343\"></div>\n",
       "</div>\n",
       "<script type=\"application/javascript\">(function(root) {\n",
       "  function embed_document(root) {\n",
       "    var docs_json = {\"ee4761b8-fcf1-4cee-85eb-aafe23e5d035\":{\"defs\":[{\"extends\":null,\"module\":null,\"name\":\"ReactiveHTML1\",\"overrides\":[],\"properties\":[]},{\"extends\":null,\"module\":null,\"name\":\"FlexBox1\",\"overrides\":[],\"properties\":[{\"default\":\"flex-start\",\"kind\":null,\"name\":\"align_content\"},{\"default\":\"flex-start\",\"kind\":null,\"name\":\"align_items\"},{\"default\":\"row\",\"kind\":null,\"name\":\"flex_direction\"},{\"default\":\"wrap\",\"kind\":null,\"name\":\"flex_wrap\"},{\"default\":\"flex-start\",\"kind\":null,\"name\":\"justify_content\"}]},{\"extends\":null,\"module\":null,\"name\":\"TemplateActions1\",\"overrides\":[],\"properties\":[{\"default\":0,\"kind\":null,\"name\":\"open_modal\"},{\"default\":0,\"kind\":null,\"name\":\"close_modal\"}]},{\"extends\":null,\"module\":null,\"name\":\"MaterialTemplateActions1\",\"overrides\":[],\"properties\":[{\"default\":0,\"kind\":null,\"name\":\"open_modal\"},{\"default\":0,\"kind\":null,\"name\":\"close_modal\"}]}],\"roots\":{\"references\":[{\"attributes\":{\"months\":[0,2,4,6,8,10]},\"id\":\"2408\",\"type\":\"MonthsTicker\"},{\"attributes\":{\"axis_label\":\"Cumulative return\",\"formatter\":{\"id\":\"2382\"},\"major_label_policy\":{\"id\":\"2383\"},\"ticker\":{\"id\":\"2363\"}},\"id\":\"2362\",\"type\":\"LinearAxis\"},{\"attributes\":{},\"id\":\"2449\",\"type\":\"UnionRenderers\"},{\"attributes\":{},\"id\":\"2382\",\"type\":\"BasicTickFormatter\"},{\"attributes\":{\"label\":{\"value\":\"xrp\"},\"renderers\":[{\"id\":\"2424\"}]},\"id\":\"2450\",\"type\":\"LegendItem\"},{\"attributes\":{\"active_multi\":null,\"tools\":[{\"id\":\"2347\"},{\"id\":\"2366\"},{\"id\":\"2367\"},{\"id\":\"2368\"},{\"id\":\"2369\"},{\"id\":\"2370\"}]},\"id\":\"2372\",\"type\":\"Toolbar\"},{\"attributes\":{},\"id\":\"2363\",\"type\":\"BasicTicker\"},{\"attributes\":{\"months\":[0,4,8]},\"id\":\"2409\",\"type\":\"MonthsTicker\"},{\"attributes\":{\"axis\":{\"id\":\"2358\"},\"grid_line_color\":null,\"ticker\":null},\"id\":\"2361\",\"type\":\"Grid\"},{\"attributes\":{\"axis\":{\"id\":\"2362\"},\"dimension\":1,\"grid_line_color\":null,\"ticker\":null},\"id\":\"2365\",\"type\":\"Grid\"},{\"attributes\":{\"months\":[0,6]},\"id\":\"2410\",\"type\":\"MonthsTicker\"},{\"attributes\":{\"bottom_units\":\"screen\",\"fill_alpha\":0.5,\"fill_color\":\"lightgrey\",\"left_units\":\"screen\",\"level\":\"overlay\",\"line_alpha\":1.0,\"line_color\":\"black\",\"line_dash\":[4,4],\"line_width\":2,\"right_units\":\"screen\",\"syncable\":false,\"top_units\":\"screen\"},\"id\":\"2371\",\"type\":\"BoxAnnotation\"},{\"attributes\":{\"data_source\":{\"id\":\"2418\"},\"glyph\":{\"id\":\"2421\"},\"hover_glyph\":null,\"muted_glyph\":{\"id\":\"2423\"},\"nonselection_glyph\":{\"id\":\"2422\"},\"selection_glyph\":{\"id\":\"2451\"},\"view\":{\"id\":\"2425\"}},\"id\":\"2424\",\"type\":\"GlyphRenderer\"},{\"attributes\":{\"callback\":null,\"formatters\":{\"@{Date}\":\"datetime\"},\"renderers\":[{\"id\":\"2391\"},{\"id\":\"2424\"}],\"tags\":[\"hv_created\"],\"tooltips\":[[\"Variable\",\"@{Variable}\"],[\"Date\",\"@{Date}{%F %T}\"],[\"value\",\"@{value}\"]]},\"id\":\"2347\",\"type\":\"HoverTool\"},{\"attributes\":{\"source\":{\"id\":\"2385\"}},\"id\":\"2392\",\"type\":\"CDSView\"},{\"attributes\":{},\"id\":\"2419\",\"type\":\"Selection\"},{\"attributes\":{},\"id\":\"2379\",\"type\":\"DatetimeTickFormatter\"},{\"attributes\":{\"line_color\":\"#fc4f30\",\"line_width\":2,\"x\":{\"field\":\"Date\"},\"y\":{\"field\":\"value\"}},\"id\":\"2451\",\"type\":\"Line\"},{\"attributes\":{\"line_alpha\":0.1,\"line_color\":\"#30a2da\",\"line_width\":2,\"x\":{\"field\":\"Date\"},\"y\":{\"field\":\"value\"}},\"id\":\"2389\",\"type\":\"Line\"},{\"attributes\":{},\"id\":\"2411\",\"type\":\"YearsTicker\"},{\"attributes\":{\"end\":1635206400000.0,\"reset_end\":1635206400000.0,\"reset_start\":1509062400000.0,\"start\":1509062400000.0,\"tags\":[[[\"Date\",\"Date\",null]]]},\"id\":\"2345\",\"type\":\"Range1d\"},{\"attributes\":{\"below\":[{\"id\":\"2358\"}],\"center\":[{\"id\":\"2361\"},{\"id\":\"2365\"}],\"height\":500,\"left\":[{\"id\":\"2362\"}],\"margin\":[5,5,5,5],\"min_border_bottom\":10,\"min_border_left\":10,\"min_border_right\":10,\"min_border_top\":10,\"renderers\":[{\"id\":\"2391\"},{\"id\":\"2424\"}],\"right\":[{\"id\":\"2415\"}],\"sizing_mode\":\"fixed\",\"title\":{\"id\":\"2350\"},\"toolbar\":{\"id\":\"2372\"},\"width\":1200,\"x_range\":{\"id\":\"2345\"},\"x_scale\":{\"id\":\"2354\"},\"y_range\":{\"id\":\"2346\"},\"y_scale\":{\"id\":\"2356\"}},\"id\":\"2349\",\"subtype\":\"Figure\",\"type\":\"Plot\"},{\"attributes\":{},\"id\":\"2366\",\"type\":\"SaveTool\"},{\"attributes\":{\"source\":{\"id\":\"2418\"}},\"id\":\"2425\",\"type\":\"CDSView\"},{\"attributes\":{\"line_color\":\"#fc4f30\",\"line_width\":2,\"x\":{\"field\":\"Date\"},\"y\":{\"field\":\"value\"}},\"id\":\"2421\",\"type\":\"Line\"},{\"attributes\":{\"margin\":[5,5,5,5],\"name\":\"HSpacer02988\",\"sizing_mode\":\"stretch_width\"},\"id\":\"2344\",\"type\":\"Spacer\"},{\"attributes\":{\"click_policy\":\"mute\",\"items\":[{\"id\":\"2416\"},{\"id\":\"2450\"}],\"location\":[0,0],\"title\":\"Variable\"},\"id\":\"2415\",\"type\":\"Legend\"},{\"attributes\":{\"num_minor_ticks\":5,\"tickers\":[{\"id\":\"2400\"},{\"id\":\"2401\"},{\"id\":\"2402\"},{\"id\":\"2403\"},{\"id\":\"2404\"},{\"id\":\"2405\"},{\"id\":\"2406\"},{\"id\":\"2407\"},{\"id\":\"2408\"},{\"id\":\"2409\"},{\"id\":\"2410\"},{\"id\":\"2411\"}]},\"id\":\"2359\",\"type\":\"DatetimeTicker\"},{\"attributes\":{},\"id\":\"2367\",\"type\":\"PanTool\"},{\"attributes\":{},\"id\":\"2370\",\"type\":\"ResetTool\"},{\"attributes\":{\"line_alpha\":0.2,\"line_color\":\"#fc4f30\",\"line_width\":2,\"x\":{\"field\":\"Date\"},\"y\":{\"field\":\"value\"}},\"id\":\"2423\",\"type\":\"Line\"},{\"attributes\":{\"base\":60,\"mantissas\":[1,2,5,10,15,20,30],\"max_interval\":1800000.0,\"min_interval\":1000.0,\"num_minor_ticks\":0},\"id\":\"2401\",\"type\":\"AdaptiveTicker\"},{\"attributes\":{},\"id\":\"2414\",\"type\":\"UnionRenderers\"},{\"attributes\":{},\"id\":\"2368\",\"type\":\"WheelZoomTool\"},{\"attributes\":{\"days\":[1,2,3,4,5,6,7,8,9,10,11,12,13,14,15,16,17,18,19,20,21,22,23,24,25,26,27,28,29,30,31]},\"id\":\"2403\",\"type\":\"DaysTicker\"},{\"attributes\":{\"children\":[{\"id\":\"2344\"},{\"id\":\"2349\"},{\"id\":\"2668\"}],\"margin\":[0,0,0,0],\"name\":\"Row02984\",\"tags\":[\"embedded\"]},\"id\":\"2343\",\"type\":\"Row\"},{\"attributes\":{\"base\":24,\"mantissas\":[1,2,4,6,8,12],\"max_interval\":43200000.0,\"min_interval\":3600000.0,\"num_minor_ticks\":0},\"id\":\"2402\",\"type\":\"AdaptiveTicker\"},{\"attributes\":{\"overlay\":{\"id\":\"2371\"}},\"id\":\"2369\",\"type\":\"BoxZoomTool\"},{\"attributes\":{\"data\":{\"Date\":{\"__ndarray__\":\"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\",\"dtype\":\"float64\",\"order\":\"little\",\"shape\":[1461]},\"Variable\":[\"xrp\",\"xrp\",\"xrp\",\"xrp\",\"xrp\",\"xrp\",\"xrp\",\"xrp\",\"xrp\",\"xrp\",\"xrp\",\"xrp\",\"xrp\",\"xrp\",\"xrp\",\"xrp\",\"xrp\",\"xrp\",\"xrp\",\"xrp\",\"xrp\",\"xrp\",\"xrp\",\"xrp\",\"xrp\",\"xrp\",\"xrp\",\"xrp\",\"xrp\",\"xrp\",\"xrp\",\"xrp\",\"xrp\",\"xrp\",\"xrp\",\"xrp\",\"xrp\",\"xrp\",\"xrp\",\"xrp\",\"xrp\",\"xrp\",\"xrp\",\"xrp\",\"xrp\",\"xrp\",\"xrp\",\"xrp\",\"xrp\",\"xrp\",\"xrp\",\"xrp\",\"xrp\",\"xrp\",\"xrp\",\"xrp\",\"xrp\",\"xrp\",\"xrp\",\"xrp\",\"xrp\",\"xrp\",\"xrp\",\"xrp\",\"xrp\",\"xrp\",\"xrp\",\"xrp\",\"xrp\",\"xrp\",\"xrp\",\"xrp\",\"xrp\",\"xrp\",\"xrp\",\"xrp\",\"xrp\",\"xrp\",\"xrp\",\"xrp\",\"xrp\",\"xrp\",\"xrp\",\"xrp\",\"xrp\",\"xrp\",\"xrp\",\"xrp\",\"xrp\",\"xrp\",\"xrp\",\"xrp\",\"xrp\",\"xrp\",\"xrp\",\"xrp\",\"xrp\",\"xrp\",\"xrp\",\"xrp\",\"xrp\",\"xrp\",\"xrp\",\"xrp\",\"xrp\",\"xrp\",\"xrp\",\"xrp\",\"xrp\",\"xrp\",\"xrp\",\"xrp\",\"xrp\",\"xrp\",\"xrp\",\"xrp\",\"xrp\",\"xrp\",\"xrp\",\"xrp\",\"xrp\",\"xrp\",\"xrp\",\"xrp\",\"xrp\",\"xrp\",\"xrp\",\"xrp\",\"xrp\",\"xrp\",\"xrp\",\"xrp\",\"xrp\",\"xrp\",\"xrp\",\"xrp\",\"xrp\",\"xrp\",\"xrp\",\"xrp\",\"xrp\",\"xrp\",\"xrp\",\"xrp\",\"xrp\",\"xrp\",\"xrp\",\"xrp\",\"xrp\",\"xrp\",\"xrp\",\"xrp\",\"xrp\",\"xrp\",\"xrp\",\"xrp\",\"xrp\",\"xrp\",\"xrp\",\"xrp\",\"xrp\",\"xrp\",\"xrp\",\"xrp\",\"xrp\",\"xrp\",\"xrp\",\"xrp\",\"xrp\",\"xrp\",\"xrp\",\"xrp\",\"xrp\",\"xrp\",\"xrp\",\"xrp\",\"xrp\",\"xrp\",\"xrp\",\"xrp\",\"xrp\",\"xrp\",\"xrp\",\"xrp\",\"xrp\",\"xrp\",\"xrp\",\"xrp\",\"xrp\",\"xrp\",\"xrp\",\"xrp\",\"xrp\",\"xrp\",\"xrp\",\"xrp\",\"xrp\",\"xrp\",\"xrp\",\"xrp\",\"xrp\",\"xrp\",\"xrp\",\"xrp\",\"xrp\",\"xrp\",\"xrp\",\"xrp\",\"xrp\",\"xrp\",\"xrp\",\"xrp\",\"xrp\",\"xrp\",\"xrp\",\"xrp\",\"xrp\",\"xrp\",\"xrp\",\"xrp\",\"xrp\",\"xrp\",\"xrp\",\"xrp\",\"xrp\",\"xrp\",\"xrp\",\"xrp\",\"xrp\",\"xrp\",\"xrp\",\"xrp\",\"xrp\",\"xrp\",\"xrp\",\"xrp\",\"xrp\",\"xrp\",\"xrp\",\"xrp\",\"xrp\",\"xrp\",\"xrp\",\"xrp\",\"xrp\",\"xrp\",\"xrp\",\"xrp\",\"xrp\",\"xrp\",\"xrp\",\"xrp\",\"xrp\",\"xrp\",\"xrp\",\"xrp\",\"xrp\",\"xrp\",\"xrp\",\"xrp\",\"xrp\",\"xrp\",\"xrp\",\"xrp\",\"xrp\",\"xrp\",\"xrp\",\"xrp\",\"xrp\",\"xrp\",\"xrp\",\"xrp\",\"xrp\",\"xrp\",\"xrp\",\"xrp\",\"xrp\",\"xrp\",\"xrp\",\"xrp\",\"xrp\",\"xrp\",\"xrp\",\"xrp\",\"xrp\",\"xrp\",\"xrp\",\"xrp\",\"xrp\",\"xrp\",\"xrp\",\"xrp\",\"xrp\",\"xrp\",\"xrp\",\"xrp\",\"xrp\",\"xrp\",\"xrp\",\"xrp\",\"xrp\",\"xrp\",\"xrp\",\"xrp\",\"xrp\",\"xrp\",\"xrp\",\"xrp\",\"xrp\",\"xrp\",\"xrp\",\"xrp\",\"xrp\",\"xrp\",\"xrp\",\"xrp\",\"xrp\",\"xrp\",\"xrp\",\"xrp\",\"xrp\",\"xrp\",\"xrp\",\"xrp\",\"xrp\",\"xrp\",\"xrp\",\"xrp\",\"xrp\",\"xrp\",\"xrp\",\"xrp\",\"xrp\",\"xrp\",\"xrp\",\"xrp\",\"xrp\",\"xrp\",\"xrp\",\"xrp\",\"xrp\",\"xrp\",\"xrp\",\"xrp\",\"xrp\",\"xrp\",\"xrp\",\"xrp\",\"xrp\",\"xrp\",\"xrp\",\"xrp\",\"xrp\",\"xrp\",\"xrp\",\"xrp\",\"xrp\",\"xrp\",\"xrp\",\"xrp\",\"xrp\",\"xrp\",\"xrp\",\"xrp\",\"xrp\",\"xrp\",\"xrp\",\"xrp\",\"xrp\",\"xrp\",\"xrp\",\"xrp\",\"xrp\",\"xrp\",\"xrp\",\"xrp\",\"xrp\",\"xrp\",\"xrp\",\"xrp\",\"xrp\",\"xrp\",\"xrp\",\"xrp\",\"xrp\",\"xrp\",\"xrp\",\"xrp\",\"xrp\",\"xrp\",\"xrp\",\"xrp\",\"xrp\",\"xrp\",\"xrp\",\"xrp\",\"xrp\",\"xrp\",\"xrp\",\"xrp\",\"xrp\",\"xrp\",\"xrp\",\"xrp\",\"xrp\",\"xrp\",\"xrp\",\"xrp\",\"xrp\",\"xrp\",\"xrp\",\"xrp\",\"xrp\",\"xrp\",\"xrp\",\"xrp\",\"xrp\",\"xrp\",\"xrp\",\"xrp\",\"xrp\",\"xrp\",\"xrp\",\"xrp\",\"xrp\",\"xrp\",\"xrp\",\"xrp\",\"xrp\",\"xrp\",\"xrp\",\"xrp\",\"xrp\",\"xrp\",\"xrp\",\"xrp\",\"xrp\",\"xrp\",\"xrp\",\"xrp\",\"xrp\",\"xrp\",\"xrp\",\"xrp\",\"xrp\",\"xrp\",\"xrp\",\"xrp\",\"xrp\",\"xrp\",\"xrp\",\"xrp\",\"xrp\",\"xrp\",\"xrp\",\"xrp\",\"xrp\",\"xrp\",\"xrp\",\"xrp\",\"xrp\",\"xrp\",\"xrp\",\"xrp\",\"xrp\",\"xrp\",\"xrp\",\"xrp\",\"xrp\",\"xrp\",\"xrp\",\"xrp\",\"xrp\",\"xrp\",\"xrp\",\"xrp\",\"xrp\",\"xrp\",\"xrp\",\"xrp\",\"xrp\",\"xrp\",\"xrp\",\"xrp\",\"xrp\",\"xrp\",\"xrp\",\"xrp\",\"xrp\",\"xrp\",\"xrp\",\"xrp\",\"xrp\",\"xrp\",\"xrp\",\"xrp\",\"xrp\",\"xrp\",\"xrp\",\"xrp\",\"xrp\",\"xrp\",\"xrp\",\"xrp\",\"xrp\",\"xrp\",\"xrp\",\"xrp\",\"xrp\",\"xrp\",\"xrp\",\"xrp\",\"xrp\",\"xrp\",\"xrp\",\"xrp\",\"xrp\",\"xrp\",\"xrp\",\"xrp\",\"xrp\",\"xrp\",\"xrp\",\"xrp\",\"xrp\",\"xrp\",\"xrp\",\"xrp\",\"xrp\",\"xrp\",\"xrp\",\"xrp\",\"xrp\",\"xrp\",\"xrp\",\"xrp\",\"xrp\",\"xrp\",\"xrp\",\"xrp\",\"xrp\",\"xrp\",\"xrp\",\"xrp\",\"xrp\",\"xrp\",\"xrp\",\"xrp\",\"xrp\",\"xrp\",\"xrp\",\"xrp\",\"xrp\",\"xrp\",\"xrp\",\"xrp\",\"xrp\",\"xrp\",\"xrp\",\"xrp\",\"xrp\",\"xrp\",\"xrp\",\"xrp\",\"xrp\",\"xrp\",\"xrp\",\"xrp\",\"xrp\",\"xrp\",\"xrp\",\"xrp\",\"xrp\",\"xrp\",\"xrp\",\"xrp\",\"xrp\",\"xrp\",\"xrp\",\"xrp\",\"xrp\",\"xrp\",\"xrp\",\"xrp\",\"xrp\",\"xrp\",\"xrp\",\"xrp\",\"xrp\",\"xrp\",\"xrp\",\"xrp\",\"xrp\",\"xrp\",\"xrp\",\"xrp\",\"xrp\",\"xrp\",\"xrp\",\"xrp\",\"xrp\",\"xrp\",\"xrp\",\"xrp\",\"xrp\",\"xrp\",\"xrp\",\"xrp\",\"xrp\",\"xrp\",\"xrp\",\"xrp\",\"xrp\",\"xrp\",\"xrp\",\"xrp\",\"xrp\",\"xrp\",\"xrp\",\"xrp\",\"xrp\",\"xrp\",\"xrp\",\"xrp\",\"xrp\",\"xrp\",\"xrp\",\"xrp\",\"xrp\",\"xrp\",\"xrp\",\"xrp\",\"xrp\",\"xrp\",\"xrp\",\"xrp\",\"xrp\",\"xrp\",\"xrp\",\"xrp\",\"xrp\",\"xrp\",\"xrp\",\"xrp\",\"xrp\",\"xrp\",\"xrp\",\"xrp\",\"xrp\",\"xrp\",\"xrp\",\"xrp\",\"xrp\",\"xrp\",\"xrp\",\"xrp\",\"xrp\",\"xrp\",\"xrp\",\"xrp\",\"xrp\",\"xrp\",\"xrp\",\"xrp\",\"xrp\",\"xrp\",\"xrp\",\"xrp\",\"xrp\",\"xrp\",\"xrp\",\"xrp\",\"xrp\",\"xrp\",\"xrp\",\"xrp\",\"xrp\",\"xrp\",\"xrp\",\"xrp\",\"xrp\",\"xrp\",\"xrp\",\"xrp\",\"xrp\",\"xrp\",\"xrp\",\"xrp\",\"xrp\",\"xrp\",\"xrp\",\"xrp\",\"xrp\",\"xrp\",\"xrp\",\"xrp\",\"xrp\",\"xrp\",\"xrp\",\"xrp\",\"xrp\",\"xrp\",\"xrp\",\"xrp\",\"xrp\",\"xrp\",\"xrp\",\"xrp\",\"xrp\",\"xrp\",\"xrp\",\"xrp\",\"xrp\",\"xrp\",\"xrp\",\"xrp\",\"xrp\",\"xrp\",\"xrp\",\"xrp\",\"xrp\",\"xrp\",\"xrp\",\"xrp\",\"xrp\",\"xrp\",\"xrp\",\"xrp\",\"xrp\",\"xrp\",\"xrp\",\"xrp\",\"xrp\",\"xrp\",\"xrp\",\"xrp\",\"xrp\",\"xrp\",\"xrp\",\"xrp\",\"xrp\",\"xrp\",\"xrp\",\"xrp\",\"xrp\",\"xrp\",\"xrp\",\"xrp\",\"xrp\",\"xrp\",\"xrp\",\"xrp\",\"xrp\",\"xrp\",\"xrp\",\"xrp\",\"xrp\",\"xrp\",\"xrp\",\"xrp\",\"xrp\",\"xrp\",\"xrp\",\"xrp\",\"xrp\",\"xrp\",\"xrp\",\"xrp\",\"xrp\",\"xrp\",\"xrp\",\"xrp\",\"xrp\",\"xrp\",\"xrp\",\"xrp\",\"xrp\",\"xrp\",\"xrp\",\"xrp\",\"xrp\",\"xrp\",\"xrp\",\"xrp\",\"xrp\",\"xrp\",\"xrp\",\"xrp\",\"xrp\",\"xrp\",\"xrp\",\"xrp\",\"xrp\",\"xrp\",\"xrp\",\"xrp\",\"xrp\",\"xrp\",\"xrp\",\"xrp\",\"xrp\",\"xrp\",\"xrp\",\"xrp\",\"xrp\",\"xrp\",\"xrp\",\"xrp\",\"xrp\",\"xrp\",\"xrp\",\"xrp\",\"xrp\",\"xrp\",\"xrp\",\"xrp\",\"xrp\",\"xrp\",\"xrp\",\"xrp\",\"xrp\",\"xrp\",\"xrp\",\"xrp\",\"xrp\",\"xrp\",\"xrp\",\"xrp\",\"xrp\",\"xrp\",\"xrp\",\"xrp\",\"xrp\",\"xrp\",\"xrp\",\"xrp\",\"xrp\",\"xrp\",\"xrp\",\"xrp\",\"xrp\",\"xrp\",\"xrp\",\"xrp\",\"xrp\",\"xrp\",\"xrp\",\"xrp\",\"xrp\",\"xrp\",\"xrp\",\"xrp\",\"xrp\",\"xrp\",\"xrp\",\"xrp\",\"xrp\",\"xrp\",\"xrp\",\"xrp\",\"xrp\",\"xrp\",\"xrp\",\"xrp\",\"xrp\",\"xrp\",\"xrp\",\"xrp\",\"xrp\",\"xrp\",\"xrp\",\"xrp\",\"xrp\",\"xrp\",\"xrp\",\"xrp\",\"xrp\",\"xrp\",\"xrp\",\"xrp\",\"xrp\",\"xrp\",\"xrp\",\"xrp\",\"xrp\",\"xrp\",\"xrp\",\"xrp\",\"xrp\",\"xrp\",\"xrp\",\"xrp\",\"xrp\",\"xrp\",\"xrp\",\"xrp\",\"xrp\",\"xrp\",\"xrp\",\"xrp\",\"xrp\",\"xrp\",\"xrp\",\"xrp\",\"xrp\",\"xrp\",\"xrp\",\"xrp\",\"xrp\",\"xrp\",\"xrp\",\"xrp\",\"xrp\",\"xrp\",\"xrp\",\"xrp\",\"xrp\",\"xrp\",\"xrp\",\"xrp\",\"xrp\",\"xrp\",\"xrp\",\"xrp\",\"xrp\",\"xrp\",\"xrp\",\"xrp\",\"xrp\",\"xrp\",\"xrp\",\"xrp\",\"xrp\",\"xrp\",\"xrp\",\"xrp\",\"xrp\",\"xrp\",\"xrp\",\"xrp\",\"xrp\",\"xrp\",\"xrp\",\"xrp\",\"xrp\",\"xrp\",\"xrp\",\"xrp\",\"xrp\",\"xrp\",\"xrp\",\"xrp\",\"xrp\",\"xrp\",\"xrp\",\"xrp\",\"xrp\",\"xrp\",\"xrp\",\"xrp\",\"xrp\",\"xrp\",\"xrp\",\"xrp\",\"xrp\",\"xrp\",\"xrp\",\"xrp\",\"xrp\",\"xrp\",\"xrp\",\"xrp\",\"xrp\",\"xrp\",\"xrp\",\"xrp\",\"xrp\",\"xrp\",\"xrp\",\"xrp\",\"xrp\",\"xrp\",\"xrp\",\"xrp\",\"xrp\",\"xrp\",\"xrp\",\"xrp\",\"xrp\",\"xrp\",\"xrp\",\"xrp\",\"xrp\",\"xrp\",\"xrp\",\"xrp\",\"xrp\",\"xrp\",\"xrp\",\"xrp\",\"xrp\",\"xrp\",\"xrp\",\"xrp\",\"xrp\",\"xrp\",\"xrp\",\"xrp\",\"xrp\",\"xrp\",\"xrp\",\"xrp\",\"xrp\",\"xrp\",\"xrp\",\"xrp\",\"xrp\",\"xrp\",\"xrp\",\"xrp\",\"xrp\",\"xrp\",\"xrp\",\"xrp\",\"xrp\",\"xrp\",\"xrp\",\"xrp\",\"xrp\",\"xrp\",\"xrp\",\"xrp\",\"xrp\",\"xrp\",\"xrp\",\"xrp\",\"xrp\",\"xrp\",\"xrp\",\"xrp\",\"xrp\",\"xrp\",\"xrp\",\"xrp\",\"xrp\",\"xrp\",\"xrp\",\"xrp\",\"xrp\",\"xrp\",\"xrp\",\"xrp\",\"xrp\",\"xrp\",\"xrp\",\"xrp\",\"xrp\",\"xrp\",\"xrp\",\"xrp\",\"xrp\",\"xrp\",\"xrp\",\"xrp\",\"xrp\",\"xrp\",\"xrp\",\"xrp\",\"xrp\",\"xrp\",\"xrp\",\"xrp\",\"xrp\",\"xrp\",\"xrp\",\"xrp\",\"xrp\",\"xrp\",\"xrp\",\"xrp\",\"xrp\",\"xrp\",\"xrp\",\"xrp\",\"xrp\",\"xrp\",\"xrp\",\"xrp\",\"xrp\",\"xrp\",\"xrp\",\"xrp\",\"xrp\",\"xrp\",\"xrp\",\"xrp\",\"xrp\",\"xrp\",\"xrp\",\"xrp\",\"xrp\",\"xrp\",\"xrp\",\"xrp\",\"xrp\",\"xrp\",\"xrp\",\"xrp\",\"xrp\",\"xrp\",\"xrp\",\"xrp\",\"xrp\",\"xrp\",\"xrp\",\"xrp\",\"xrp\",\"xrp\",\"xrp\",\"xrp\",\"xrp\",\"xrp\",\"xrp\",\"xrp\",\"xrp\",\"xrp\",\"xrp\",\"xrp\",\"xrp\",\"xrp\",\"xrp\",\"xrp\",\"xrp\",\"xrp\",\"xrp\",\"xrp\",\"xrp\",\"xrp\",\"xrp\",\"xrp\",\"xrp\",\"xrp\",\"xrp\",\"xrp\",\"xrp\",\"xrp\",\"xrp\",\"xrp\",\"xrp\",\"xrp\",\"xrp\",\"xrp\",\"xrp\",\"xrp\",\"xrp\",\"xrp\",\"xrp\",\"xrp\",\"xrp\",\"xrp\",\"xrp\",\"xrp\",\"xrp\",\"xrp\",\"xrp\",\"xrp\",\"xrp\",\"xrp\",\"xrp\",\"xrp\",\"xrp\",\"xrp\",\"xrp\",\"xrp\",\"xrp\",\"xrp\",\"xrp\",\"xrp\",\"xrp\",\"xrp\",\"xrp\",\"xrp\",\"xrp\",\"xrp\",\"xrp\",\"xrp\",\"xrp\",\"xrp\",\"xrp\",\"xrp\",\"xrp\",\"xrp\",\"xrp\",\"xrp\",\"xrp\",\"xrp\",\"xrp\",\"xrp\",\"xrp\",\"xrp\",\"xrp\",\"xrp\",\"xrp\",\"xrp\",\"xrp\",\"xrp\",\"xrp\",\"xrp\",\"xrp\",\"xrp\",\"xrp\",\"xrp\",\"xrp\",\"xrp\",\"xrp\",\"xrp\",\"xrp\",\"xrp\",\"xrp\",\"xrp\",\"xrp\",\"xrp\",\"xrp\",\"xrp\",\"xrp\",\"xrp\",\"xrp\",\"xrp\",\"xrp\",\"xrp\",\"xrp\",\"xrp\",\"xrp\",\"xrp\",\"xrp\",\"xrp\",\"xrp\",\"xrp\",\"xrp\",\"xrp\",\"xrp\",\"xrp\",\"xrp\",\"xrp\",\"xrp\",\"xrp\",\"xrp\",\"xrp\",\"xrp\",\"xrp\",\"xrp\",\"xrp\",\"xrp\",\"xrp\",\"xrp\",\"xrp\",\"xrp\",\"xrp\",\"xrp\",\"xrp\",\"xrp\",\"xrp\",\"xrp\",\"xrp\",\"xrp\",\"xrp\",\"xrp\",\"xrp\",\"xrp\",\"xrp\",\"xrp\",\"xrp\",\"xrp\",\"xrp\",\"xrp\",\"xrp\",\"xrp\",\"xrp\",\"xrp\",\"xrp\",\"xrp\",\"xrp\",\"xrp\",\"xrp\",\"xrp\",\"xrp\",\"xrp\",\"xrp\",\"xrp\",\"xrp\",\"xrp\",\"xrp\",\"xrp\",\"xrp\",\"xrp\",\"xrp\",\"xrp\",\"xrp\",\"xrp\",\"xrp\",\"xrp\",\"xrp\",\"xrp\",\"xrp\",\"xrp\",\"xrp\",\"xrp\",\"xrp\",\"xrp\",\"xrp\",\"xrp\",\"xrp\",\"xrp\",\"xrp\",\"xrp\",\"xrp\",\"xrp\",\"xrp\",\"xrp\",\"xrp\",\"xrp\",\"xrp\",\"xrp\",\"xrp\",\"xrp\",\"xrp\",\"xrp\",\"xrp\",\"xrp\",\"xrp\",\"xrp\",\"xrp\",\"xrp\",\"xrp\",\"xrp\",\"xrp\",\"xrp\",\"xrp\",\"xrp\",\"xrp\",\"xrp\",\"xrp\",\"xrp\",\"xrp\",\"xrp\",\"xrp\",\"xrp\",\"xrp\",\"xrp\",\"xrp\",\"xrp\",\"xrp\",\"xrp\",\"xrp\",\"xrp\",\"xrp\",\"xrp\",\"xrp\",\"xrp\",\"xrp\",\"xrp\",\"xrp\",\"xrp\",\"xrp\",\"xrp\",\"xrp\",\"xrp\",\"xrp\",\"xrp\",\"xrp\",\"xrp\",\"xrp\",\"xrp\",\"xrp\",\"xrp\",\"xrp\",\"xrp\",\"xrp\",\"xrp\",\"xrp\",\"xrp\",\"xrp\",\"xrp\",\"xrp\",\"xrp\",\"xrp\",\"xrp\",\"xrp\",\"xrp\",\"xrp\",\"xrp\",\"xrp\",\"xrp\",\"xrp\",\"xrp\",\"xrp\",\"xrp\",\"xrp\",\"xrp\",\"xrp\",\"xrp\",\"xrp\",\"xrp\",\"xrp\",\"xrp\",\"xrp\",\"xrp\",\"xrp\",\"xrp\",\"xrp\",\"xrp\",\"xrp\",\"xrp\",\"xrp\",\"xrp\",\"xrp\",\"xrp\",\"xrp\",\"xrp\",\"xrp\",\"xrp\",\"xrp\",\"xrp\",\"xrp\",\"xrp\",\"xrp\",\"xrp\",\"xrp\",\"xrp\",\"xrp\",\"xrp\",\"xrp\",\"xrp\",\"xrp\",\"xrp\",\"xrp\",\"xrp\",\"xrp\",\"xrp\",\"xrp\",\"xrp\",\"xrp\",\"xrp\",\"xrp\",\"xrp\",\"xrp\",\"xrp\",\"xrp\",\"xrp\",\"xrp\",\"xrp\",\"xrp\",\"xrp\",\"xrp\",\"xrp\",\"xrp\",\"xrp\",\"xrp\",\"xrp\",\"xrp\",\"xrp\"],\"value\":{\"__ndarray__\":\"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\",\"dtype\":\"float64\",\"order\":\"little\",\"shape\":[1461]}},\"selected\":{\"id\":\"2419\"},\"selection_policy\":{\"id\":\"2449\"}},\"id\":\"2418\",\"type\":\"ColumnDataSource\"},{\"attributes\":{\"label\":{\"value\":\"btc\"},\"renderers\":[{\"id\":\"2391\"}]},\"id\":\"2416\",\"type\":\"LegendItem\"},{\"attributes\":{},\"id\":\"2354\",\"type\":\"LinearScale\"},{\"attributes\":{},\"id\":\"2386\",\"type\":\"Selection\"},{\"attributes\":{},\"id\":\"2380\",\"type\":\"AllLabels\"},{\"attributes\":{},\"id\":\"2383\",\"type\":\"AllLabels\"},{\"attributes\":{\"days\":[1,4,7,10,13,16,19,22,25,28]},\"id\":\"2404\",\"type\":\"DaysTicker\"},{\"attributes\":{\"text\":\"Cumulative Returns of BTC and XRP\",\"text_color\":\"black\",\"text_font_size\":\"12pt\"},\"id\":\"2350\",\"type\":\"Title\"},{\"attributes\":{\"line_color\":\"#30a2da\",\"line_width\":2,\"x\":{\"field\":\"Date\"},\"y\":{\"field\":\"value\"}},\"id\":\"2388\",\"type\":\"Line\"},{\"attributes\":{\"line_alpha\":0.1,\"line_color\":\"#fc4f30\",\"line_width\":2,\"x\":{\"field\":\"Date\"},\"y\":{\"field\":\"value\"}},\"id\":\"2422\",\"type\":\"Line\"},{\"attributes\":{\"months\":[0,1,2,3,4,5,6,7,8,9,10,11]},\"id\":\"2407\",\"type\":\"MonthsTicker\"},{\"attributes\":{\"axis_label\":\"Date\",\"formatter\":{\"id\":\"2379\"},\"major_label_policy\":{\"id\":\"2380\"},\"ticker\":{\"id\":\"2359\"}},\"id\":\"2358\",\"type\":\"DatetimeAxis\"},{\"attributes\":{\"end\":18.645323769133345,\"reset_end\":18.645323769133345,\"reset_start\":-1.0985614604669338,\"start\":-1.0985614604669338,\"tags\":[[[\"value\",\"value\",null]]]},\"id\":\"2346\",\"type\":\"Range1d\"},{\"attributes\":{\"line_color\":\"#30a2da\",\"line_width\":2,\"x\":{\"field\":\"Date\"},\"y\":{\"field\":\"value\"}},\"id\":\"2417\",\"type\":\"Line\"},{\"attributes\":{\"data\":{\"Date\":{\"__ndarray__\":\"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\",\"dtype\":\"float64\",\"order\":\"little\",\"shape\":[1461]},\"Variable\":[\"btc\",\"btc\",\"btc\",\"btc\",\"btc\",\"btc\",\"btc\",\"btc\",\"btc\",\"btc\",\"btc\",\"btc\",\"btc\",\"btc\",\"btc\",\"btc\",\"btc\",\"btc\",\"btc\",\"btc\",\"btc\",\"btc\",\"btc\",\"btc\",\"btc\",\"btc\",\"btc\",\"btc\",\"btc\",\"btc\",\"btc\",\"btc\",\"btc\",\"btc\",\"btc\",\"btc\",\"btc\",\"btc\",\"btc\",\"btc\",\"btc\",\"btc\",\"btc\",\"btc\",\"btc\",\"btc\",\"btc\",\"btc\",\"btc\",\"btc\",\"btc\",\"btc\",\"btc\",\"btc\",\"btc\",\"btc\",\"btc\",\"btc\",\"btc\",\"btc\",\"btc\",\"btc\",\"btc\",\"btc\",\"btc\",\"btc\",\"btc\",\"btc\",\"btc\",\"btc\",\"btc\",\"btc\",\"btc\",\"btc\",\"btc\",\"btc\",\"btc\",\"btc\",\"btc\",\"btc\",\"btc\",\"btc\",\"btc\",\"btc\",\"btc\",\"btc\",\"btc\",\"btc\",\"btc\",\"btc\",\"btc\",\"btc\",\"btc\",\"btc\",\"btc\",\"btc\",\"btc\",\"btc\",\"btc\",\"btc\",\"btc\",\"btc\",\"btc\",\"btc\",\"btc\",\"btc\",\"btc\",\"btc\",\"btc\",\"btc\",\"btc\",\"btc\",\"btc\",\"btc\",\"btc\",\"btc\",\"btc\",\"btc\",\"btc\",\"btc\",\"btc\",\"btc\",\"btc\",\"btc\",\"btc\",\"btc\",\"btc\",\"btc\",\"btc\",\"btc\",\"btc\",\"btc\",\"btc\",\"btc\",\"btc\",\"btc\",\"btc\",\"btc\",\"btc\",\"btc\",\"btc\",\"btc\",\"btc\",\"btc\",\"btc\",\"btc\",\"btc\",\"btc\",\"btc\",\"btc\",\"btc\",\"btc\",\"btc\",\"btc\",\"btc\",\"btc\",\"btc\",\"btc\",\"btc\",\"btc\",\"btc\",\"btc\",\"btc\",\"btc\",\"btc\",\"btc\",\"btc\",\"btc\",\"btc\",\"btc\",\"btc\",\"btc\",\"btc\",\"btc\",\"btc\",\"btc\",\"btc\",\"btc\",\"btc\",\"btc\",\"btc\",\"btc\",\"btc\",\"btc\",\"btc\",\"btc\",\"btc\",\"btc\",\"btc\",\"btc\",\"btc\",\"btc\",\"btc\",\"btc\",\"btc\",\"btc\",\"btc\",\"btc\",\"btc\",\"btc\",\"btc\",\"btc\",\"btc\",\"btc\",\"btc\",\"btc\",\"btc\",\"btc\",\"btc\",\"btc\",\"btc\",\"btc\",\"btc\",\"btc\",\"btc\",\"btc\",\"btc\",\"btc\",\"btc\",\"btc\",\"btc\",\"btc\",\"btc\",\"btc\",\"btc\",\"btc\",\"btc\",\"btc\",\"btc\",\"btc\",\"btc\",\"btc\",\"btc\",\"btc\",\"btc\",\"btc\",\"btc\",\"btc\",\"btc\",\"btc\",\"btc\",\"btc\",\"btc\",\"btc\",\"btc\",\"btc\",\"btc\",\"btc\",\"btc\",\"btc\",\"btc\",\"btc\",\"btc\",\"btc\",\"btc\",\"btc\",\"btc\",\"btc\",\"btc\",\"btc\",\"btc\",\"btc\",\"btc\",\"btc\",\"btc\",\"btc\",\"btc\",\"btc\",\"btc\",\"btc\",\"btc\",\"btc\",\"btc\",\"btc\",\"btc\",\"btc\",\"btc\",\"btc\",\"btc\",\"btc\",\"btc\",\"btc\",\"btc\",\"btc\",\"btc\",\"btc\",\"btc\",\"btc\",\"btc\",\"btc\",\"btc\",\"btc\",\"btc\",\"btc\",\"btc\",\"btc\",\"btc\",\"btc\",\"btc\",\"btc\",\"btc\",\"btc\",\"btc\",\"btc\",\"btc\",\"btc\",\"btc\",\"btc\",\"btc\",\"btc\",\"btc\",\"btc\",\"btc\",\"btc\",\"btc\",\"btc\",\"btc\",\"btc\",\"btc\",\"btc\",\"btc\",\"btc\",\"btc\",\"btc\",\"btc\",\"btc\",\"btc\",\"btc\",\"btc\",\"btc\",\"btc\",\"btc\",\"btc\",\"btc\",\"btc\",\"btc\",\"btc\",\"btc\",\"btc\",\"btc\",\"btc\",\"btc\",\"btc\",\"btc\",\"btc\",\"btc\",\"btc\",\"btc\",\"btc\",\"btc\",\"btc\",\"btc\",\"btc\",\"btc\",\"btc\",\"btc\",\"btc\",\"btc\",\"btc\",\"btc\",\"btc\",\"btc\",\"btc\",\"btc\",\"btc\",\"btc\",\"btc\",\"btc\",\"btc\",\"btc\",\"btc\",\"btc\",\"btc\",\"btc\",\"btc\",\"btc\",\"btc\",\"btc\",\"btc\",\"btc\",\"btc\",\"btc\",\"btc\",\"btc\",\"btc\",\"btc\",\"btc\",\"btc\",\"btc\",\"btc\",\"btc\",\"btc\",\"btc\",\"btc\",\"btc\",\"btc\",\"btc\",\"btc\",\"btc\",\"btc\",\"btc\",\"btc\",\"btc\",\"btc\",\"btc\",\"btc\",\"btc\",\"btc\",\"btc\",\"btc\",\"btc\",\"btc\",\"btc\",\"btc\",\"btc\",\"btc\",\"btc\",\"btc\",\"btc\",\"btc\",\"btc\",\"btc\",\"btc\",\"btc\",\"btc\",\"btc\",\"btc\",\"btc\",\"btc\",\"btc\",\"btc\",\"btc\",\"btc\",\"btc\",\"btc\",\"btc\",\"btc\",\"btc\",\"btc\",\"btc\",\"btc\",\"btc\",\"btc\",\"btc\",\"btc\",\"btc\",\"btc\",\"btc\",\"btc\",\"btc\",\"btc\",\"btc\",\"btc\",\"btc\",\"btc\",\"btc\",\"btc\",\"btc\",\"btc\",\"btc\",\"btc\",\"btc\",\"btc\",\"btc\",\"btc\",\"btc\",\"btc\",\"btc\",\"btc\",\"btc\",\"btc\",\"btc\",\"btc\",\"btc\",\"btc\",\"btc\",\"btc\",\"btc\",\"btc\",\"btc\",\"btc\",\"btc\",\"btc\",\"btc\",\"btc\",\"btc\",\"btc\",\"btc\",\"btc\",\"btc\",\"btc\",\"btc\",\"btc\",\"btc\",\"btc\",\"btc\",\"btc\",\"btc\",\"btc\",\"btc\",\"btc\",\"btc\",\"btc\",\"btc\",\"btc\",\"btc\",\"btc\",\"btc\",\"btc\",\"btc\",\"btc\",\"btc\",\"btc\",\"btc\",\"btc\",\"btc\",\"btc\",\"btc\",\"btc\",\"btc\",\"btc\",\"btc\",\"btc\",\"btc\",\"btc\",\"btc\",\"btc\",\"btc\",\"btc\",\"btc\",\"btc\",\"btc\",\"btc\",\"btc\",\"btc\",\"btc\",\"btc\",\"btc\",\"btc\",\"btc\",\"btc\",\"btc\",\"btc\",\"btc\",\"btc\",\"btc\",\"btc\",\"btc\",\"btc\",\"btc\",\"btc\",\"btc\",\"btc\",\"btc\",\"btc\",\"btc\",\"btc\",\"btc\",\"btc\",\"btc\",\"btc\",\"btc\",\"btc\",\"btc\",\"btc\",\"btc\",\"btc\",\"btc\",\"btc\",\"btc\",\"btc\",\"btc\",\"btc\",\"btc\",\"btc\",\"btc\",\"btc\",\"btc\",\"btc\",\"btc\",\"btc\",\"btc\",\"btc\",\"btc\",\"btc\",\"btc\",\"btc\",\"btc\",\"btc\",\"btc\",\"btc\",\"btc\",\"btc\",\"btc\",\"btc\",\"btc\",\"btc\",\"btc\",\"btc\",\"btc\",\"btc\",\"btc\",\"btc\",\"btc\",\"btc\",\"btc\",\"btc\",\"btc\",\"btc\",\"btc\",\"btc\",\"btc\",\"btc\",\"btc\",\"btc\",\"btc\",\"btc\",\"btc\",\"btc\",\"btc\",\"btc\",\"btc\",\"btc\",\"btc\",\"btc\",\"btc\",\"btc\",\"btc\",\"btc\",\"btc\",\"btc\",\"btc\",\"btc\",\"btc\",\"btc\",\"btc\",\"btc\",\"btc\",\"btc\",\"btc\",\"btc\",\"btc\",\"btc\",\"btc\",\"btc\",\"btc\",\"btc\",\"btc\",\"btc\",\"btc\",\"btc\",\"btc\",\"btc\",\"btc\",\"btc\",\"btc\",\"btc\",\"btc\",\"btc\",\"btc\",\"btc\",\"btc\",\"btc\",\"btc\",\"btc\",\"btc\",\"btc\",\"btc\",\"btc\",\"btc\",\"btc\",\"btc\",\"btc\",\"btc\",\"btc\",\"btc\",\"btc\",\"btc\",\"btc\",\"btc\",\"btc\",\"btc\",\"btc\",\"btc\",\"btc\",\"btc\",\"btc\",\"btc\",\"btc\",\"btc\",\"btc\",\"btc\",\"btc\",\"btc\",\"btc\",\"btc\",\"btc\",\"btc\",\"btc\",\"btc\",\"btc\",\"btc\",\"btc\",\"btc\",\"btc\",\"btc\",\"btc\",\"btc\",\"btc\",\"btc\",\"btc\",\"btc\",\"btc\",\"btc\",\"btc\",\"btc\",\"btc\",\"btc\",\"btc\",\"btc\",\"btc\",\"btc\",\"btc\",\"btc\",\"btc\",\"btc\",\"btc\",\"btc\",\"btc\",\"btc\",\"btc\",\"btc\",\"btc\",\"btc\",\"btc\",\"btc\",\"btc\",\"btc\",\"btc\",\"btc\",\"btc\",\"btc\",\"btc\",\"btc\",\"btc\",\"btc\",\"btc\",\"btc\",\"btc\",\"btc\",\"btc\",\"btc\",\"btc\",\"btc\",\"btc\",\"btc\",\"btc\",\"btc\",\"btc\",\"btc\",\"btc\",\"btc\",\"btc\",\"btc\",\"btc\",\"btc\",\"btc\",\"btc\",\"btc\",\"btc\",\"btc\",\"btc\",\"btc\",\"btc\",\"btc\",\"btc\",\"btc\",\"btc\",\"btc\",\"btc\",\"btc\",\"btc\",\"btc\",\"btc\",\"btc\",\"btc\",\"btc\",\"btc\",\"btc\",\"btc\",\"btc\",\"btc\",\"btc\",\"btc\",\"btc\",\"btc\",\"btc\",\"btc\",\"btc\",\"btc\",\"btc\",\"btc\",\"btc\",\"btc\",\"btc\",\"btc\",\"btc\",\"btc\",\"btc\",\"btc\",\"btc\",\"btc\",\"btc\",\"btc\",\"btc\",\"btc\",\"btc\",\"btc\",\"btc\",\"btc\",\"btc\",\"btc\",\"btc\",\"btc\",\"btc\",\"btc\",\"btc\",\"btc\",\"btc\",\"btc\",\"btc\",\"btc\",\"btc\",\"btc\",\"btc\",\"btc\",\"btc\",\"btc\",\"btc\",\"btc\",\"btc\",\"btc\",\"btc\",\"btc\",\"btc\",\"btc\",\"btc\",\"btc\",\"btc\",\"btc\",\"btc\",\"btc\",\"btc\",\"btc\",\"btc\",\"btc\",\"btc\",\"btc\",\"btc\",\"btc\",\"btc\",\"btc\",\"btc\",\"btc\",\"btc\",\"btc\",\"btc\",\"btc\",\"btc\",\"btc\",\"btc\",\"btc\",\"btc\",\"btc\",\"btc\",\"btc\",\"btc\",\"btc\",\"btc\",\"btc\",\"btc\",\"btc\",\"btc\",\"btc\",\"btc\",\"btc\",\"btc\",\"btc\",\"btc\",\"btc\",\"btc\",\"btc\",\"btc\",\"btc\",\"btc\",\"btc\",\"btc\",\"btc\",\"btc\",\"btc\",\"btc\",\"btc\",\"btc\",\"btc\",\"btc\",\"btc\",\"btc\",\"btc\",\"btc\",\"btc\",\"btc\",\"btc\",\"btc\",\"btc\",\"btc\",\"btc\",\"btc\",\"btc\",\"btc\",\"btc\",\"btc\",\"btc\",\"btc\",\"btc\",\"btc\",\"btc\",\"btc\",\"btc\",\"btc\",\"btc\",\"btc\",\"btc\",\"btc\",\"btc\",\"btc\",\"btc\",\"btc\",\"btc\",\"btc\",\"btc\",\"btc\",\"btc\",\"btc\",\"btc\",\"btc\",\"btc\",\"btc\",\"btc\",\"btc\",\"btc\",\"btc\",\"btc\",\"btc\",\"btc\",\"btc\",\"btc\",\"btc\",\"btc\",\"btc\",\"btc\",\"btc\",\"btc\",\"btc\",\"btc\",\"btc\",\"btc\",\"btc\",\"btc\",\"btc\",\"btc\",\"btc\",\"btc\",\"btc\",\"btc\",\"btc\",\"btc\",\"btc\",\"btc\",\"btc\",\"btc\",\"btc\",\"btc\",\"btc\",\"btc\",\"btc\",\"btc\",\"btc\",\"btc\",\"btc\",\"btc\",\"btc\",\"btc\",\"btc\",\"btc\",\"btc\",\"btc\",\"btc\",\"btc\",\"btc\",\"btc\",\"btc\",\"btc\",\"btc\",\"btc\",\"btc\",\"btc\",\"btc\",\"btc\",\"btc\",\"btc\",\"btc\",\"btc\",\"btc\",\"btc\",\"btc\",\"btc\",\"btc\",\"btc\",\"btc\",\"btc\",\"btc\",\"btc\",\"btc\",\"btc\",\"btc\",\"btc\",\"btc\",\"btc\",\"btc\",\"btc\",\"btc\",\"btc\",\"btc\",\"btc\",\"btc\",\"btc\",\"btc\",\"btc\",\"btc\",\"btc\",\"btc\",\"btc\",\"btc\",\"btc\",\"btc\",\"btc\",\"btc\",\"btc\",\"btc\",\"btc\",\"btc\",\"btc\",\"btc\",\"btc\",\"btc\",\"btc\",\"btc\",\"btc\",\"btc\",\"btc\",\"btc\",\"btc\",\"btc\",\"btc\",\"btc\",\"btc\",\"btc\",\"btc\",\"btc\",\"btc\",\"btc\",\"btc\",\"btc\",\"btc\",\"btc\",\"btc\",\"btc\",\"btc\",\"btc\",\"btc\",\"btc\",\"btc\",\"btc\",\"btc\",\"btc\",\"btc\",\"btc\",\"btc\",\"btc\",\"btc\",\"btc\",\"btc\",\"btc\",\"btc\",\"btc\",\"btc\",\"btc\",\"btc\",\"btc\",\"btc\",\"btc\",\"btc\",\"btc\",\"btc\",\"btc\",\"btc\",\"btc\",\"btc\",\"btc\",\"btc\",\"btc\",\"btc\",\"btc\",\"btc\",\"btc\",\"btc\",\"btc\",\"btc\",\"btc\",\"btc\",\"btc\",\"btc\",\"btc\",\"btc\",\"btc\",\"btc\",\"btc\",\"btc\",\"btc\",\"btc\",\"btc\",\"btc\",\"btc\",\"btc\",\"btc\",\"btc\",\"btc\",\"btc\",\"btc\",\"btc\",\"btc\",\"btc\",\"btc\",\"btc\",\"btc\",\"btc\",\"btc\",\"btc\",\"btc\",\"btc\",\"btc\",\"btc\",\"btc\",\"btc\",\"btc\",\"btc\",\"btc\",\"btc\",\"btc\",\"btc\",\"btc\",\"btc\",\"btc\",\"btc\",\"btc\",\"btc\",\"btc\",\"btc\",\"btc\",\"btc\",\"btc\",\"btc\",\"btc\",\"btc\",\"btc\",\"btc\",\"btc\",\"btc\",\"btc\",\"btc\",\"btc\",\"btc\",\"btc\",\"btc\",\"btc\",\"btc\",\"btc\",\"btc\",\"btc\",\"btc\",\"btc\",\"btc\",\"btc\",\"btc\",\"btc\",\"btc\",\"btc\",\"btc\",\"btc\",\"btc\",\"btc\",\"btc\",\"btc\",\"btc\",\"btc\",\"btc\",\"btc\",\"btc\",\"btc\",\"btc\",\"btc\",\"btc\",\"btc\",\"btc\",\"btc\",\"btc\",\"btc\",\"btc\",\"btc\",\"btc\",\"btc\",\"btc\",\"btc\",\"btc\",\"btc\",\"btc\",\"btc\",\"btc\",\"btc\",\"btc\",\"btc\",\"btc\",\"btc\",\"btc\",\"btc\",\"btc\",\"btc\",\"btc\",\"btc\",\"btc\",\"btc\",\"btc\",\"btc\",\"btc\",\"btc\",\"btc\",\"btc\",\"btc\",\"btc\",\"btc\",\"btc\",\"btc\",\"btc\",\"btc\",\"btc\",\"btc\",\"btc\",\"btc\",\"btc\",\"btc\",\"btc\",\"btc\",\"btc\",\"btc\",\"btc\",\"btc\",\"btc\",\"btc\",\"btc\",\"btc\",\"btc\",\"btc\",\"btc\",\"btc\",\"btc\",\"btc\",\"btc\",\"btc\",\"btc\",\"btc\",\"btc\",\"btc\",\"btc\",\"btc\",\"btc\",\"btc\",\"btc\",\"btc\",\"btc\",\"btc\",\"btc\",\"btc\",\"btc\",\"btc\",\"btc\",\"btc\",\"btc\",\"btc\",\"btc\",\"btc\",\"btc\",\"btc\",\"btc\",\"btc\",\"btc\",\"btc\",\"btc\",\"btc\",\"btc\",\"btc\",\"btc\",\"btc\",\"btc\",\"btc\",\"btc\",\"btc\",\"btc\",\"btc\",\"btc\",\"btc\",\"btc\",\"btc\",\"btc\",\"btc\",\"btc\",\"btc\",\"btc\",\"btc\",\"btc\",\"btc\",\"btc\",\"btc\",\"btc\",\"btc\",\"btc\",\"btc\",\"btc\",\"btc\",\"btc\",\"btc\",\"btc\",\"btc\",\"btc\",\"btc\",\"btc\",\"btc\",\"btc\",\"btc\",\"btc\",\"btc\",\"btc\",\"btc\",\"btc\",\"btc\",\"btc\",\"btc\",\"btc\",\"btc\",\"btc\",\"btc\",\"btc\",\"btc\",\"btc\",\"btc\",\"btc\",\"btc\",\"btc\",\"btc\",\"btc\",\"btc\",\"btc\",\"btc\",\"btc\",\"btc\",\"btc\",\"btc\",\"btc\",\"btc\",\"btc\",\"btc\",\"btc\",\"btc\",\"btc\",\"btc\",\"btc\",\"btc\",\"btc\",\"btc\",\"btc\",\"btc\",\"btc\",\"btc\",\"btc\",\"btc\",\"btc\",\"btc\",\"btc\",\"btc\",\"btc\",\"btc\",\"btc\",\"btc\",\"btc\",\"btc\",\"btc\",\"btc\",\"btc\",\"btc\",\"btc\",\"btc\",\"btc\",\"btc\",\"btc\",\"btc\",\"btc\",\"btc\",\"btc\",\"btc\",\"btc\",\"btc\",\"btc\",\"btc\",\"btc\",\"btc\",\"btc\",\"btc\",\"btc\",\"btc\",\"btc\",\"btc\",\"btc\",\"btc\",\"btc\",\"btc\",\"btc\",\"btc\",\"btc\",\"btc\",\"btc\",\"btc\",\"btc\",\"btc\",\"btc\",\"btc\",\"btc\",\"btc\",\"btc\",\"btc\",\"btc\",\"btc\",\"btc\",\"btc\",\"btc\",\"btc\",\"btc\",\"btc\",\"btc\",\"btc\",\"btc\",\"btc\",\"btc\"],\"value\":{\"__ndarray__\":\"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\",\"dtype\":\"float64\",\"order\":\"little\",\"shape\":[1461]}},\"selected\":{\"id\":\"2386\"},\"selection_policy\":{\"id\":\"2414\"}},\"id\":\"2385\",\"type\":\"ColumnDataSource\"},{\"attributes\":{\"days\":[1,8,15,22]},\"id\":\"2405\",\"type\":\"DaysTicker\"},{\"attributes\":{\"line_alpha\":0.2,\"line_color\":\"#30a2da\",\"line_width\":2,\"x\":{\"field\":\"Date\"},\"y\":{\"field\":\"value\"}},\"id\":\"2390\",\"type\":\"Line\"},{\"attributes\":{\"days\":[1,15]},\"id\":\"2406\",\"type\":\"DaysTicker\"},{\"attributes\":{\"margin\":[5,5,5,5],\"name\":\"HSpacer02989\",\"sizing_mode\":\"stretch_width\"},\"id\":\"2668\",\"type\":\"Spacer\"},{\"attributes\":{},\"id\":\"2356\",\"type\":\"LinearScale\"},{\"attributes\":{\"mantissas\":[1,2,5],\"max_interval\":500.0,\"num_minor_ticks\":0},\"id\":\"2400\",\"type\":\"AdaptiveTicker\"},{\"attributes\":{\"data_source\":{\"id\":\"2385\"},\"glyph\":{\"id\":\"2388\"},\"hover_glyph\":null,\"muted_glyph\":{\"id\":\"2390\"},\"nonselection_glyph\":{\"id\":\"2389\"},\"selection_glyph\":{\"id\":\"2417\"},\"view\":{\"id\":\"2392\"}},\"id\":\"2391\",\"type\":\"GlyphRenderer\"}],\"root_ids\":[\"2343\"]},\"title\":\"Bokeh Application\",\"version\":\"2.3.2\"}};\n",
       "    var render_items = [{\"docid\":\"ee4761b8-fcf1-4cee-85eb-aafe23e5d035\",\"root_ids\":[\"2343\"],\"roots\":{\"2343\":\"4ce54df9-894e-4b69-b300-1ad6ba86f996\"}}];\n",
       "    root.Bokeh.embed.embed_items_notebook(docs_json, render_items);\n",
       "  }\n",
       "  if (root.Bokeh !== undefined && root.Bokeh.Panel !== undefined) {\n",
       "    embed_document(root);\n",
       "  } else {\n",
       "    var attempts = 0;\n",
       "    var timer = setInterval(function(root) {\n",
       "      if (root.Bokeh !== undefined && root.Bokeh.Panel !== undefined) {\n",
       "        clearInterval(timer);\n",
       "        embed_document(root);\n",
       "      } else if (document.readyState == \"complete\") {\n",
       "        attempts++;\n",
       "        if (attempts > 200) {\n",
       "          clearInterval(timer);\n",
       "          console.log(\"Bokeh: ERROR: Unable to run BokehJS code because BokehJS library is missing\");\n",
       "        }\n",
       "      }\n",
       "    }, 25, root)\n",
       "  }\n",
       "})(window);</script>"
      ],
      "text/plain": [
       ":NdOverlay   [Variable]\n",
       "   :Curve   [Date]   (value)"
      ]
     },
     "execution_count": 74,
     "metadata": {
      "application/vnd.holoviews_exec.v0+json": {
       "id": "2343"
      }
     },
     "output_type": "execute_result"
    }
   ],
   "source": [
    "# Plot cumulative returns\n",
    "cumulative_returns.hvplot(title = \"Cumulative Returns of BTC and XRP\", xlabel=\"Date\", ylabel=\"Cumulative return\", height=500, width=1200)"
   ]
  },
  {
   "cell_type": "code",
   "execution_count": 75,
   "id": "1141582f-9bd1-4be8-9a32-36fb562a5f16",
   "metadata": {},
   "outputs": [
    {
     "data": {},
     "metadata": {},
     "output_type": "display_data"
    },
    {
     "data": {
      "application/vnd.holoviews_exec.v0+json": "",
      "text/html": [
       "<div id='2790'>\n",
       "\n",
       "\n",
       "\n",
       "\n",
       "\n",
       "  <div class=\"bk-root\" id=\"fc08c8e2-37f7-4275-ac1c-f66c4a9675a1\" data-root-id=\"2790\"></div>\n",
       "</div>\n",
       "<script type=\"application/javascript\">(function(root) {\n",
       "  function embed_document(root) {\n",
       "    var docs_json = {\"61db204b-9e12-4167-bfec-d97c9b964a04\":{\"defs\":[{\"extends\":null,\"module\":null,\"name\":\"ReactiveHTML1\",\"overrides\":[],\"properties\":[]},{\"extends\":null,\"module\":null,\"name\":\"FlexBox1\",\"overrides\":[],\"properties\":[{\"default\":\"flex-start\",\"kind\":null,\"name\":\"align_content\"},{\"default\":\"flex-start\",\"kind\":null,\"name\":\"align_items\"},{\"default\":\"row\",\"kind\":null,\"name\":\"flex_direction\"},{\"default\":\"wrap\",\"kind\":null,\"name\":\"flex_wrap\"},{\"default\":\"flex-start\",\"kind\":null,\"name\":\"justify_content\"}]},{\"extends\":null,\"module\":null,\"name\":\"TemplateActions1\",\"overrides\":[],\"properties\":[{\"default\":0,\"kind\":null,\"name\":\"open_modal\"},{\"default\":0,\"kind\":null,\"name\":\"close_modal\"}]},{\"extends\":null,\"module\":null,\"name\":\"MaterialTemplateActions1\",\"overrides\":[],\"properties\":[{\"default\":0,\"kind\":null,\"name\":\"open_modal\"},{\"default\":0,\"kind\":null,\"name\":\"close_modal\"}]}],\"roots\":{\"references\":[{\"attributes\":{\"margin\":[5,5,5,5],\"name\":\"HSpacer03399\",\"sizing_mode\":\"stretch_width\"},\"id\":\"2860\",\"type\":\"Spacer\"},{\"attributes\":{},\"id\":\"2808\",\"type\":\"BasicTicker\"},{\"attributes\":{\"axis\":{\"id\":\"2804\"},\"grid_line_color\":null,\"ticker\":null},\"id\":\"2806\",\"type\":\"Grid\"},{\"attributes\":{\"callback\":null,\"renderers\":[{\"id\":\"2831\"}],\"tags\":[\"hv_created\"],\"tooltips\":[[\"index\",\"@{index}\"],[\"Variable\",\"@{Variable}\"],[\"value\",\"@{value}\"]]},\"id\":\"2794\",\"type\":\"HoverTool\"},{\"attributes\":{\"end\":1.4454316942425003,\"reset_end\":1.4454316942425003,\"reset_start\":0.0,\"tags\":[[[\"value\",\"value\",null]]]},\"id\":\"2793\",\"type\":\"Range1d\"},{\"attributes\":{\"axis_label\":\"Values\",\"formatter\":{\"id\":\"2837\"},\"major_label_policy\":{\"id\":\"2838\"},\"ticker\":{\"id\":\"2808\"}},\"id\":\"2807\",\"type\":\"LinearAxis\"},{\"attributes\":{\"active_multi\":null,\"tools\":[{\"id\":\"2794\"},{\"id\":\"2811\"},{\"id\":\"2812\"},{\"id\":\"2813\"},{\"id\":\"2814\"},{\"id\":\"2815\"}]},\"id\":\"2817\",\"type\":\"Toolbar\"},{\"attributes\":{\"axis\":{\"id\":\"2807\"},\"dimension\":1,\"grid_line_color\":null,\"ticker\":null},\"id\":\"2810\",\"type\":\"Grid\"},{\"attributes\":{},\"id\":\"2849\",\"type\":\"UnionRenderers\"},{\"attributes\":{\"data\":{\"Variable\":[\"btc_values\",\"btc_values\",\"btc_values\",\"btc_values\",\"xrp_values\",\"xrp_values\",\"xrp_values\",\"xrp_values\"],\"index\":[\"Annual Return\",\"Annual Volatility\",\"Sharpe Ratio\",\"Sortino Ratio\",\"Annual Return\",\"Annual Volatility\",\"Sharpe Ratio\",\"Sortino Ratio\"],\"value\":{\"__ndarray__\":\"vGxlpRc35D/CuwDRdj/lP/JqXxfZce4/1Ym+WpZQ7j9MNyOV+EPtP3JY+f3xiPI/lZlkvlND6T9j80xVfvH1Pw==\",\"dtype\":\"float64\",\"order\":\"little\",\"shape\":[8]},\"xoffsets\":[[\"Annual Return\",\"btc_values\"],[\"Annual Volatility\",\"btc_values\"],[\"Sharpe Ratio\",\"btc_values\"],[\"Sortino Ratio\",\"btc_values\"],[\"Annual Return\",\"xrp_values\"],[\"Annual Volatility\",\"xrp_values\"],[\"Sharpe Ratio\",\"xrp_values\"],[\"Sortino Ratio\",\"xrp_values\"]]},\"selected\":{\"id\":\"2826\"},\"selection_policy\":{\"id\":\"2849\"}},\"id\":\"2825\",\"type\":\"ColumnDataSource\"},{\"attributes\":{\"fill_color\":{\"field\":\"Variable\",\"transform\":{\"id\":\"2824\"}},\"top\":{\"field\":\"value\"},\"width\":{\"value\":0.8},\"x\":{\"field\":\"xoffsets\"}},\"id\":\"2828\",\"type\":\"VBar\"},{\"attributes\":{\"children\":[{\"id\":\"2791\"},{\"id\":\"2795\"},{\"id\":\"2860\"}],\"margin\":[0,0,0,0],\"name\":\"Row03394\",\"tags\":[\"embedded\"]},\"id\":\"2790\",\"type\":\"Row\"},{\"attributes\":{\"bottom_units\":\"screen\",\"fill_alpha\":0.5,\"fill_color\":\"lightgrey\",\"left_units\":\"screen\",\"level\":\"overlay\",\"line_alpha\":1.0,\"line_color\":\"black\",\"line_dash\":[4,4],\"line_width\":2,\"right_units\":\"screen\",\"syncable\":false,\"top_units\":\"screen\"},\"id\":\"2816\",\"type\":\"BoxAnnotation\"},{\"attributes\":{\"bottom\":{\"value\":0},\"fill_alpha\":{\"value\":1.0},\"fill_color\":{\"field\":\"Variable\",\"transform\":{\"id\":\"2824\"}},\"hatch_alpha\":{\"value\":1.0},\"hatch_color\":{\"value\":\"black\"},\"hatch_scale\":{\"value\":12.0},\"hatch_weight\":{\"value\":1.0},\"line_alpha\":{\"value\":1.0},\"line_cap\":{\"value\":\"butt\"},\"line_color\":{\"value\":\"black\"},\"line_dash\":{\"value\":[]},\"line_dash_offset\":{\"value\":0},\"line_join\":{\"value\":\"bevel\"},\"line_width\":{\"value\":1},\"top\":{\"field\":\"value\"},\"width\":{\"value\":0.8},\"x\":{\"field\":\"xoffsets\"}},\"id\":\"2833\",\"type\":\"VBar\"},{\"attributes\":{\"data_source\":{\"id\":\"2825\"},\"glyph\":{\"id\":\"2828\"},\"hover_glyph\":null,\"muted_glyph\":{\"id\":\"2830\"},\"nonselection_glyph\":{\"id\":\"2829\"},\"selection_glyph\":{\"id\":\"2833\"},\"view\":{\"id\":\"2832\"}},\"id\":\"2831\",\"type\":\"GlyphRenderer\"},{\"attributes\":{},\"id\":\"2811\",\"type\":\"SaveTool\"},{\"attributes\":{},\"id\":\"2805\",\"type\":\"CategoricalTicker\"},{\"attributes\":{},\"id\":\"2812\",\"type\":\"PanTool\"},{\"attributes\":{\"factors\":[\"btc_values\",\"xrp_values\"],\"palette\":[\"#30a2da\",\"#fc4f30\"]},\"id\":\"2824\",\"type\":\"CategoricalColorMapper\"},{\"attributes\":{\"text\":\"Portfolio Evaluation Mertics\",\"text_color\":\"black\",\"text_font_size\":\"12pt\"},\"id\":\"2796\",\"type\":\"Title\"},{\"attributes\":{},\"id\":\"2815\",\"type\":\"ResetTool\"},{\"attributes\":{},\"id\":\"2813\",\"type\":\"WheelZoomTool\"},{\"attributes\":{\"fill_alpha\":{\"value\":0.2},\"fill_color\":{\"field\":\"Variable\",\"transform\":{\"id\":\"2824\"}},\"line_alpha\":{\"value\":0.2},\"top\":{\"field\":\"value\"},\"width\":{\"value\":0.8},\"x\":{\"field\":\"xoffsets\"}},\"id\":\"2830\",\"type\":\"VBar\"},{\"attributes\":{},\"id\":\"2838\",\"type\":\"AllLabels\"},{\"attributes\":{},\"id\":\"2826\",\"type\":\"Selection\"},{\"attributes\":{},\"id\":\"2837\",\"type\":\"BasicTickFormatter\"},{\"attributes\":{\"overlay\":{\"id\":\"2816\"}},\"id\":\"2814\",\"type\":\"BoxZoomTool\"},{\"attributes\":{\"fill_alpha\":{\"value\":0.1},\"fill_color\":{\"field\":\"Variable\",\"transform\":{\"id\":\"2824\"}},\"line_alpha\":{\"value\":0.1},\"top\":{\"field\":\"value\"},\"width\":{\"value\":0.8},\"x\":{\"field\":\"xoffsets\"}},\"id\":\"2829\",\"type\":\"VBar\"},{\"attributes\":{},\"id\":\"2836\",\"type\":\"AllLabels\"},{\"attributes\":{\"margin\":[5,5,5,5],\"name\":\"HSpacer03398\",\"sizing_mode\":\"stretch_width\"},\"id\":\"2791\",\"type\":\"Spacer\"},{\"attributes\":{},\"id\":\"2802\",\"type\":\"LinearScale\"},{\"attributes\":{\"factors\":[[\"Annual Return\",\"btc_values\"],[\"Annual Return\",\"xrp_values\"],[\"Annual Volatility\",\"btc_values\"],[\"Annual Volatility\",\"xrp_values\"],[\"Sharpe Ratio\",\"btc_values\"],[\"Sharpe Ratio\",\"xrp_values\"],[\"Sortino Ratio\",\"btc_values\"],[\"Sortino Ratio\",\"xrp_values\"]],\"tags\":[[[\"index\",\"index\",null],[\"Variable\",\"Variable\",null]]]},\"id\":\"2792\",\"type\":\"FactorRange\"},{\"attributes\":{},\"id\":\"2834\",\"type\":\"CategoricalTickFormatter\"},{\"attributes\":{\"axis_label\":\"Metrics\",\"formatter\":{\"id\":\"2834\"},\"major_label_policy\":{\"id\":\"2836\"},\"ticker\":{\"id\":\"2805\"}},\"id\":\"2804\",\"type\":\"CategoricalAxis\"},{\"attributes\":{\"source\":{\"id\":\"2825\"}},\"id\":\"2832\",\"type\":\"CDSView\"},{\"attributes\":{},\"id\":\"2800\",\"type\":\"CategoricalScale\"},{\"attributes\":{\"below\":[{\"id\":\"2804\"}],\"center\":[{\"id\":\"2806\"},{\"id\":\"2810\"}],\"height\":500,\"left\":[{\"id\":\"2807\"}],\"margin\":[5,5,5,5],\"min_border_bottom\":10,\"min_border_left\":10,\"min_border_right\":10,\"min_border_top\":10,\"renderers\":[{\"id\":\"2831\"}],\"sizing_mode\":\"fixed\",\"title\":{\"id\":\"2796\"},\"toolbar\":{\"id\":\"2817\"},\"width\":1200,\"x_range\":{\"id\":\"2792\"},\"x_scale\":{\"id\":\"2800\"},\"y_range\":{\"id\":\"2793\"},\"y_scale\":{\"id\":\"2802\"}},\"id\":\"2795\",\"subtype\":\"Figure\",\"type\":\"Plot\"}],\"root_ids\":[\"2790\"]},\"title\":\"Bokeh Application\",\"version\":\"2.3.2\"}};\n",
       "    var render_items = [{\"docid\":\"61db204b-9e12-4167-bfec-d97c9b964a04\",\"root_ids\":[\"2790\"],\"roots\":{\"2790\":\"fc08c8e2-37f7-4275-ac1c-f66c4a9675a1\"}}];\n",
       "    root.Bokeh.embed.embed_items_notebook(docs_json, render_items);\n",
       "  }\n",
       "  if (root.Bokeh !== undefined && root.Bokeh.Panel !== undefined) {\n",
       "    embed_document(root);\n",
       "  } else {\n",
       "    var attempts = 0;\n",
       "    var timer = setInterval(function(root) {\n",
       "      if (root.Bokeh !== undefined && root.Bokeh.Panel !== undefined) {\n",
       "        clearInterval(timer);\n",
       "        embed_document(root);\n",
       "      } else if (document.readyState == \"complete\") {\n",
       "        attempts++;\n",
       "        if (attempts > 200) {\n",
       "          clearInterval(timer);\n",
       "          console.log(\"Bokeh: ERROR: Unable to run BokehJS code because BokehJS library is missing\");\n",
       "        }\n",
       "      }\n",
       "    }, 25, root)\n",
       "  }\n",
       "})(window);</script>"
      ],
      "text/plain": [
       ":Bars   [index,Variable]   (value)"
      ]
     },
     "execution_count": 75,
     "metadata": {
      "application/vnd.holoviews_exec.v0+json": {
       "id": "2790"
      }
     },
     "output_type": "execute_result"
    }
   ],
   "source": [
    "# Plot metrics\n",
    "portfolio_evaluation_df.hvplot.bar(title = \"Portfolio Evaluation Mertics\", xlabel=\"Metrics\", ylabel=\"Values\", height=500, width=1200)"
   ]
  },
  {
   "cell_type": "code",
   "execution_count": null,
   "id": "b2fe9fe7-cd53-4ffc-9691-2be083910d40",
   "metadata": {},
   "outputs": [],
   "source": []
  }
 ],
 "metadata": {
  "kernelspec": {
   "display_name": "Python 3",
   "language": "python",
   "name": "python3"
  },
  "language_info": {
   "codemirror_mode": {
    "name": "ipython",
    "version": 3
   },
   "file_extension": ".py",
   "mimetype": "text/x-python",
   "name": "python",
   "nbconvert_exporter": "python",
   "pygments_lexer": "ipython3",
   "version": "3.7.10"
  }
 },
 "nbformat": 4,
 "nbformat_minor": 5
}
