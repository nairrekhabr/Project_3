{
 "cells": [
  {
   "cell_type": "markdown",
   "id": "15f6c8b7-d760-4580-9860-b43ea234641e",
   "metadata": {},
   "source": [
    "# Bitcoin and Ripple token Monte Carlo Simulation"
   ]
  },
  {
   "cell_type": "code",
   "execution_count": 1,
   "id": "6219f47a-be1a-4469-b5bf-3901c92e7dce",
   "metadata": {},
   "outputs": [
    {
     "ename": "ModuleNotFoundError",
     "evalue": "No module named 'MCForecastTools'",
     "output_type": "error",
     "traceback": [
      "\u001b[1;31m---------------------------------------------------------------------------\u001b[0m",
      "\u001b[1;31mModuleNotFoundError\u001b[0m                       Traceback (most recent call last)",
      "\u001b[1;32m<ipython-input-1-0ced1e5c4961>\u001b[0m in \u001b[0;36m<module>\u001b[1;34m\u001b[0m\n\u001b[0;32m      3\u001b[0m \u001b[1;32mimport\u001b[0m \u001b[0mpandas\u001b[0m \u001b[1;32mas\u001b[0m \u001b[0mpd\u001b[0m\u001b[1;33m\u001b[0m\u001b[1;33m\u001b[0m\u001b[0m\n\u001b[0;32m      4\u001b[0m \u001b[1;32mimport\u001b[0m \u001b[0mnumpy\u001b[0m \u001b[1;32mas\u001b[0m \u001b[0mnp\u001b[0m\u001b[1;33m\u001b[0m\u001b[1;33m\u001b[0m\u001b[0m\n\u001b[1;32m----> 5\u001b[1;33m \u001b[1;32mfrom\u001b[0m \u001b[0mMCForecastTools\u001b[0m \u001b[1;32mimport\u001b[0m \u001b[0mMCSimulation\u001b[0m\u001b[1;33m\u001b[0m\u001b[1;33m\u001b[0m\u001b[0m\n\u001b[0m\u001b[0;32m      6\u001b[0m \u001b[1;32mfrom\u001b[0m \u001b[0mpathlib\u001b[0m \u001b[1;32mimport\u001b[0m \u001b[0mPath\u001b[0m\u001b[1;33m\u001b[0m\u001b[1;33m\u001b[0m\u001b[0m\n",
      "\u001b[1;31mModuleNotFoundError\u001b[0m: No module named 'MCForecastTools'"
     ]
    }
   ],
   "source": [
    "# Import libraries and dependencies\n",
    "import os\n",
    "import pandas as pd\n",
    "import numpy as np\n",
    "from MCForecastTools import MCSimulation\n",
    "from pathlib import Path"
   ]
  },
  {
   "cell_type": "markdown",
   "id": "1eaa3f0b-8297-4306-bdec-bbcdd9efb32a",
   "metadata": {},
   "source": [
    "## Load and format Bitcoin input data"
   ]
  },
  {
   "cell_type": "code",
   "execution_count": null,
   "id": "1da012d0-461c-4ade-a1ee-0da654a26c21",
   "metadata": {},
   "outputs": [],
   "source": [
    "# Load csv with ETH daily closing prices and returns and format into dataframe compatible with MCForecastTools.py\n",
    "btc = Path(\"data/btc_mc_input.csv\")\n",
    "btc_df = pd.read_csv(btc, header=[0,1]).dropna().rename(columns={\"Unnamed: 0_level_0\": \" \", \"Unnamed: 1_level_0\": \" \", \"Unnamed: 0_level_1\": \"time\"})\n",
    "\n",
    "# Review first and last rows of btc_df\n",
    "print(btc_df.head())\n",
    "print(btc_df.tail())\n",
    "\n",
    "# Confirm that there are no null values in the dataframe\n",
    "print(btc_df.isnull().sum())"
   ]
  },
  {
   "cell_type": "markdown",
   "id": "91bb83c9-8ba4-4fd5-b24f-1e15ec47b16e",
   "metadata": {},
   "source": [
    "## Load and format Ripple input data"
   ]
  },
  {
   "cell_type": "code",
   "execution_count": null,
   "id": "6a5d37be-3367-4d51-88aa-d5b5e3f9cb1c",
   "metadata": {},
   "outputs": [],
   "source": [
    "# Load csv with LINK daily closing prices and returns and format into dataframe compatible with MCForecastTools.py\n",
    "link = Path(\"data/xrp_mc_input.csv\")\n",
    "link_df = pd.read_csv(link, header=[0,1]).dropna().rename(columns={\"Unnamed: 0_level_0\": \" \", \"Unnamed: 1_level_0\": \" \", \"Unnamed: 0_level_1\": \"time\"})\n",
    "\n",
    "# Review first and last rows of btc_df\n",
    "print(link_df.head())\n",
    "print(link_df.tail())\n",
    "\n",
    "# Confirm that there are no null values in the dataframe\n",
    "print(link_df.isnull().sum())"
   ]
  },
  {
   "cell_type": "code",
   "execution_count": null,
   "id": "24601e2a-dcd9-437e-9b0d-45e8c48c9115",
   "metadata": {},
   "outputs": [],
   "source": []
  },
  {
   "cell_type": "code",
   "execution_count": null,
   "id": "d46aa88f-35e2-4dfd-9b91-af2de88c69ab",
   "metadata": {},
   "outputs": [],
   "source": [
    "# Set up 1000-path, 10-year Monte Carlo simulations for ETH & LINK\n",
    "MC_eth = MCSimulation(\n",
    "    portfolio_data = eth_df,\n",
    "    weights = [1],\n",
    "    num_simulation = 1000,\n",
    "    num_trading_days = 252*10\n",
    ")\n",
    "\n",
    "MC_link = MCSimulation(\n",
    "    portfolio_data = link_df,\n",
    "    weights = [1],\n",
    "    num_simulation = 1000,\n",
    "    num_trading_days = 252*10\n",
    ")"
   ]
  },
  {
   "cell_type": "code",
   "execution_count": null,
   "id": "23ec92cc-dd84-459c-89cb-981769dc16e5",
   "metadata": {},
   "outputs": [],
   "source": []
  },
  {
   "cell_type": "code",
   "execution_count": null,
   "id": "4bd3d8da-4858-4283-b515-889ee109c38a",
   "metadata": {},
   "outputs": [],
   "source": [
    "# Running a Monte Carlo simulation to forecast 10-year cumulative returns\n",
    "MC_eth.calc_cumulative_return()\n",
    "MC_link.calc_cumulative_return()"
   ]
  },
  {
   "cell_type": "code",
   "execution_count": null,
   "id": "c8e8c87f-7062-4f9f-bf92-29134185f388",
   "metadata": {},
   "outputs": [],
   "source": []
  },
  {
   "cell_type": "code",
   "execution_count": null,
   "id": "bc5572ea-e342-4431-bc3f-de951b86ae8f",
   "metadata": {},
   "outputs": [],
   "source": [
    "# Fetch summary statistics from the Monte Carlo simulation results\n",
    "eth_stats = MC_eth.summarize_cumulative_return()\n",
    "link_stats = MC_link.summarize_cumulative_return()\n",
    "\n",
    "# Print summary statistics\n",
    "print(f\"Bitcoin Forecast Statistics:\", '\\n', eth_stats, '\\n')\n",
    "print(f\"Ripple Forecast Statistics:\", '\\n', link_stats, '\\n')\n",
    "\n",
    "# Save forecast summary statistics in a text file:\n",
    "# Source: https://stackoverflow.com/questions/36571560/directing-print-output-to-a-txt-file\n",
    "with open(\"./mc_results_summary/eth_link_fcst_summ_stats.txt\", \"w\") as file:\n",
    "    print(f\"Ethereum Forecast Statistics:\", '\\n', eth_stats, '\\n', file=file)\n",
    "    print(f\"Chainlink Forecast Statistics:\", '\\n', link_stats, '\\n', file=file)"
   ]
  },
  {
   "cell_type": "code",
   "execution_count": null,
   "id": "85479720-1b09-462e-82be-5be7d7bd0da9",
   "metadata": {},
   "outputs": [],
   "source": []
  },
  {
   "cell_type": "code",
   "execution_count": null,
   "id": "16176dd3-ed6e-4cb9-a20c-aca6b843d48e",
   "metadata": {},
   "outputs": [],
   "source": [
    "# Define initial investment amount\n",
    "initial_investment = 10000\n",
    "\n",
    "# Define ETH confidence intervals & median\n",
    "eth_ci_lower = round(eth_stats[8] * initial_investment, 2)\n",
    "eth_ci_upper = round(eth_stats[9] * initial_investment, 2)\n",
    "eth_median = round(eth_stats[5] * initial_investment, 2)\n",
    "\n",
    "# Define LINK confidence intervals & median\n",
    "link_ci_lower = round(link_stats[8] * initial_investment, 2)\n",
    "link_ci_upper = round(link_stats[9] * initial_investment, 2)\n",
    "link_median = round(link_stats[5] * initial_investment, 2)\n",
    "\n",
    "# Print confidence interval and median summaries for all entities in comparison\n",
    "print(f\"Ethereum Forecast Summary:\")\n",
    "print(f\"There is a 95% chance that an initial investment of ${initial_investment} in ETH\"\n",
    "      f\" will be worth between ${eth_ci_lower} and ${eth_ci_upper} in 10 years.\")\n",
    "print(f\"The median expected value of a current ${initial_investment} investment in ETH \"\n",
    "      f\"is ${eth_median} in 10 years.\", '\\n')\n",
    "\n",
    "print(f\"Chainlink Forecast Summary:\")\n",
    "print(f\"There is a 95% chance that an initial investment of ${initial_investment} in LINK\"\n",
    "      f\" will be worth between ${link_ci_lower} and ${link_ci_upper} in 10 years.\")\n",
    "print(f\"The median expected value of a current ${initial_investment} investment in LINK \"\n",
    "      f\"is ${link_median} in 10 years.\", '\\n')\n",
    "\n",
    "# # Save summaries to text file\n",
    "# # Source: https://stackoverflow.com/questions/36571560/directing-print-output-to-a-txt-file\n",
    "with open(\"./mc_results_summary/fcst_ci_median_summ_eth_link.txt\", \"w\") as file:\n",
    "    print(f\"Ethereum Forecast Summary:\", file=file)\n",
    "    print(f\"There is a 95% chance that an initial investment of ${initial_investment} in ETH\"\n",
    "      f\" will be worth between ${eth_ci_lower} and ${eth_ci_upper} in 10 years.\", file=file)\n",
    "    print(f\"The median expected value of a current ${initial_investment} investment in ETH \"\n",
    "      f\"is ${eth_median} in 10 years.\", '\\n', file=file)\n",
    "    print(f\"Chainlink Forecast Summary:\", file=file)\n",
    "    print(f\"There is a 95% chance that an initial investment of ${initial_investment} in LINK\"\n",
    "      f\" will be worth between ${link_ci_lower} and ${link_ci_upper} in 10 years.\", file=file)\n",
    "    print(f\"The median expected value of a current ${initial_investment} investment in LINK \"\n",
    "      f\"is ${link_median} in 10 years.\", '\\n', file=file)"
   ]
  },
  {
   "cell_type": "code",
   "execution_count": null,
   "id": "4bf6d373-522c-4757-92f8-3a13928c576e",
   "metadata": {},
   "outputs": [],
   "source": []
  }
 ],
 "metadata": {
  "kernelspec": {
   "display_name": "Python 3",
   "language": "python",
   "name": "python3"
  },
  "language_info": {
   "codemirror_mode": {
    "name": "ipython",
    "version": 3
   },
   "file_extension": ".py",
   "mimetype": "text/x-python",
   "name": "python",
   "nbconvert_exporter": "python",
   "pygments_lexer": "ipython3",
   "version": "3.7.10"
  }
 },
 "nbformat": 4,
 "nbformat_minor": 5
}
