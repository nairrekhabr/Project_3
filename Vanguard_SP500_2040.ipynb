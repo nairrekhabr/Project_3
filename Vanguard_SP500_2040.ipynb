{
 "cells": [
  {
   "cell_type": "code",
   "execution_count": 3,
   "id": "c87949c5-dc06-4387-aba9-79b122ff39a2",
   "metadata": {},
   "outputs": [
    {
     "name": "stdout",
     "output_type": "stream",
     "text": [
      "Collecting yfinance\n",
      "  Using cached yfinance-0.1.64.tar.gz (26 kB)\n",
      "Requirement already satisfied: pandas>=0.24 in /Users/vikramjindal/opt/anaconda3/lib/python3.8/site-packages (from yfinance) (1.0.3)\n",
      "Requirement already satisfied: numpy>=1.15 in /Users/vikramjindal/opt/anaconda3/lib/python3.8/site-packages (from yfinance) (1.19.5)\n",
      "Requirement already satisfied: requests>=2.20 in /Users/vikramjindal/opt/anaconda3/lib/python3.8/site-packages (from yfinance) (2.26.0)\n",
      "Collecting multitasking>=0.0.7\n",
      "  Using cached multitasking-0.0.9.tar.gz (8.1 kB)\n",
      "Requirement already satisfied: lxml>=4.5.1 in /Users/vikramjindal/opt/anaconda3/lib/python3.8/site-packages (from yfinance) (4.6.3)\n",
      "Requirement already satisfied: pytz>=2017.2 in /Users/vikramjindal/opt/anaconda3/lib/python3.8/site-packages (from pandas>=0.24->yfinance) (2021.1)\n",
      "Requirement already satisfied: python-dateutil>=2.6.1 in /Users/vikramjindal/opt/anaconda3/lib/python3.8/site-packages (from pandas>=0.24->yfinance) (2.8.2)\n",
      "Requirement already satisfied: six>=1.5 in /Users/vikramjindal/opt/anaconda3/lib/python3.8/site-packages (from python-dateutil>=2.6.1->pandas>=0.24->yfinance) (1.15.0)\n",
      "Requirement already satisfied: urllib3<1.27,>=1.21.1 in /Users/vikramjindal/opt/anaconda3/lib/python3.8/site-packages (from requests>=2.20->yfinance) (1.26.6)\n",
      "Requirement already satisfied: certifi>=2017.4.17 in /Users/vikramjindal/opt/anaconda3/lib/python3.8/site-packages (from requests>=2.20->yfinance) (2021.10.8)\n",
      "Requirement already satisfied: charset-normalizer~=2.0.0 in /Users/vikramjindal/opt/anaconda3/lib/python3.8/site-packages (from requests>=2.20->yfinance) (2.0.4)\n",
      "Requirement already satisfied: idna<4,>=2.5 in /Users/vikramjindal/opt/anaconda3/lib/python3.8/site-packages (from requests>=2.20->yfinance) (3.2)\n",
      "Building wheels for collected packages: yfinance, multitasking\n",
      "  Building wheel for yfinance (setup.py) ... \u001b[?25ldone\n",
      "\u001b[?25h  Created wheel for yfinance: filename=yfinance-0.1.64-py2.py3-none-any.whl size=24094 sha256=a749d0b52246966aff80a5b5e1321a5a711903caaaf54534f363ea9fa6d5e196\n",
      "  Stored in directory: /Users/vikramjindal/Library/Caches/pip/wheels/f9/e9/7e/8b13db3bf3aeb5049d759e10702736fb96753089ac950fddc0\n",
      "  Building wheel for multitasking (setup.py) ... \u001b[?25ldone\n",
      "\u001b[?25h  Created wheel for multitasking: filename=multitasking-0.0.9-py3-none-any.whl size=8367 sha256=3e898b456b43a4a5642da4de5d4d4bdd7d74c325afec87c6868b37989bacf773\n",
      "  Stored in directory: /Users/vikramjindal/Library/Caches/pip/wheels/57/6d/a3/a39b839cc75274d2acfb1c58bfead2f726c6577fe8c4723f13\n",
      "Successfully built yfinance multitasking\n",
      "Installing collected packages: multitasking, yfinance\n",
      "Successfully installed multitasking-0.0.9 yfinance-0.1.64\n"
     ]
    }
   ],
   "source": [
    "!pip install yfinance\n"
   ]
  },
  {
   "cell_type": "code",
   "execution_count": 132,
   "id": "8ea8800b-768c-4743-bab4-22cfa2bbec3d",
   "metadata": {
    "tags": []
   },
   "outputs": [
    {
     "name": "stdout",
     "output_type": "stream",
     "text": [
      "Requirement already satisfied: hvplot in /Users/vikramjindal/opt/anaconda3/lib/python3.8/site-packages (0.6.0)\n",
      "Requirement already satisfied: bokeh>=1.0.0 in /Users/vikramjindal/opt/anaconda3/lib/python3.8/site-packages (from hvplot) (2.0.2)\n",
      "Requirement already satisfied: colorcet>=2 in /Users/vikramjindal/opt/anaconda3/lib/python3.8/site-packages (from hvplot) (2.0.6)\n",
      "Requirement already satisfied: holoviews>=1.11.0 in /Users/vikramjindal/opt/anaconda3/lib/python3.8/site-packages (from hvplot) (1.13.5)\n",
      "Requirement already satisfied: pandas in /Users/vikramjindal/opt/anaconda3/lib/python3.8/site-packages (from hvplot) (1.0.3)\n",
      "Requirement already satisfied: numpy>=1.15 in /Users/vikramjindal/opt/anaconda3/lib/python3.8/site-packages (from hvplot) (1.19.5)\n",
      "Requirement already satisfied: pillow>=4.0 in /Users/vikramjindal/opt/anaconda3/lib/python3.8/site-packages (from bokeh>=1.0.0->hvplot) (8.3.1)\n",
      "Requirement already satisfied: typing-extensions>=3.7.4 in /Users/vikramjindal/opt/anaconda3/lib/python3.8/site-packages (from bokeh>=1.0.0->hvplot) (3.7.4.3)\n",
      "Requirement already satisfied: PyYAML>=3.10 in /Users/vikramjindal/opt/anaconda3/lib/python3.8/site-packages (from bokeh>=1.0.0->hvplot) (5.4.1)\n",
      "Requirement already satisfied: Jinja2>=2.7 in /Users/vikramjindal/opt/anaconda3/lib/python3.8/site-packages (from bokeh>=1.0.0->hvplot) (2.11.3)\n",
      "Requirement already satisfied: packaging>=16.8 in /Users/vikramjindal/opt/anaconda3/lib/python3.8/site-packages (from bokeh>=1.0.0->hvplot) (21.0)\n",
      "Requirement already satisfied: tornado>=5 in /Users/vikramjindal/opt/anaconda3/lib/python3.8/site-packages (from bokeh>=1.0.0->hvplot) (6.1)\n",
      "Requirement already satisfied: python-dateutil>=2.1 in /Users/vikramjindal/opt/anaconda3/lib/python3.8/site-packages (from bokeh>=1.0.0->hvplot) (2.8.2)\n",
      "Requirement already satisfied: pyct>=0.4.4 in /Users/vikramjindal/opt/anaconda3/lib/python3.8/site-packages (from colorcet>=2->hvplot) (0.4.6)\n",
      "Requirement already satisfied: param>=1.7.0 in /Users/vikramjindal/opt/anaconda3/lib/python3.8/site-packages (from colorcet>=2->hvplot) (1.11.1)\n",
      "Requirement already satisfied: pyviz_comms>=0.7.3 in /Users/vikramjindal/opt/anaconda3/lib/python3.8/site-packages (from holoviews>=1.11.0->hvplot) (2.0.2)\n",
      "Requirement already satisfied: panel>=0.8.0 in /Users/vikramjindal/opt/anaconda3/lib/python3.8/site-packages (from holoviews>=1.11.0->hvplot) (0.9.5)\n",
      "Requirement already satisfied: MarkupSafe>=0.23 in /Users/vikramjindal/opt/anaconda3/lib/python3.8/site-packages (from Jinja2>=2.7->bokeh>=1.0.0->hvplot) (2.0.1)\n",
      "Requirement already satisfied: pyparsing>=2.0.2 in /Users/vikramjindal/opt/anaconda3/lib/python3.8/site-packages (from packaging>=16.8->bokeh>=1.0.0->hvplot) (2.4.7)\n",
      "Requirement already satisfied: markdown in /Users/vikramjindal/opt/anaconda3/lib/python3.8/site-packages (from panel>=0.8.0->holoviews>=1.11.0->hvplot) (3.3.4)\n",
      "Requirement already satisfied: tqdm in /Users/vikramjindal/opt/anaconda3/lib/python3.8/site-packages (from panel>=0.8.0->holoviews>=1.11.0->hvplot) (4.62.1)\n",
      "Requirement already satisfied: six>=1.5 in /Users/vikramjindal/opt/anaconda3/lib/python3.8/site-packages (from python-dateutil>=2.1->bokeh>=1.0.0->hvplot) (1.15.0)\n",
      "Requirement already satisfied: pytz>=2017.2 in /Users/vikramjindal/opt/anaconda3/lib/python3.8/site-packages (from pandas->hvplot) (2021.1)\n"
     ]
    }
   ],
   "source": [
    "!pip install hvplot"
   ]
  },
  {
   "cell_type": "code",
   "execution_count": 61,
   "id": "3dae9543-2065-4e72-bb0f-a0b816b40d0a",
   "metadata": {
    "tags": []
   },
   "outputs": [],
   "source": [
    "# Import libraries and dependencies\n",
    "import pandas as pd\n",
    "from pathlib import Path\n",
    "import numpy as np\n",
    "import yfinance as yf\n",
    "import matplotlib.pyplot as plt\n",
    "%matplotlib inline\n",
    "from sklearn.linear_model import LinearRegression\n",
    "from sklearn.metrics import mean_squared_error, r2_score"
   ]
  },
  {
   "cell_type": "code",
   "execution_count": 62,
   "id": "40f606e0-f1b4-4714-84e9-951a81cb4518",
   "metadata": {
    "tags": []
   },
   "outputs": [],
   "source": [
    "# Import hvplot\n",
    "import hvplot.pandas"
   ]
  },
  {
   "cell_type": "code",
   "execution_count": 26,
   "id": "93c0ba1c-da23-45b0-a83f-33b547904252",
   "metadata": {},
   "outputs": [],
   "source": [
    "def vanguard_data(ticker):\n",
    "    \n",
    "    ticker = yf.Ticker(ticker)\n",
    "    ticker_hist = ticker.history(period=\"4y\")\n",
    "    ticker_hist = ticker_hist.drop(columns=[\"Open\", \"High\", \"Low\", \"Volume\", \"Dividends\", \"Stock Splits\"])\n",
    "    ticker_hist['Close'] = ticker_hist['Close'].round(2)\n",
    "    \n",
    "    return ticker_hist"
   ]
  },
  {
   "cell_type": "code",
   "execution_count": 27,
   "id": "8d05a58b-5a0c-46e7-af45-dfdace9c2166",
   "metadata": {},
   "outputs": [
    {
     "data": {
      "text/html": [
       "<div>\n",
       "<style scoped>\n",
       "    .dataframe tbody tr th:only-of-type {\n",
       "        vertical-align: middle;\n",
       "    }\n",
       "\n",
       "    .dataframe tbody tr th {\n",
       "        vertical-align: top;\n",
       "    }\n",
       "\n",
       "    .dataframe thead th {\n",
       "        text-align: right;\n",
       "    }\n",
       "</style>\n",
       "<table border=\"1\" class=\"dataframe\">\n",
       "  <thead>\n",
       "    <tr style=\"text-align: right;\">\n",
       "      <th></th>\n",
       "      <th>Close</th>\n",
       "    </tr>\n",
       "    <tr>\n",
       "      <th>Date</th>\n",
       "      <th></th>\n",
       "    </tr>\n",
       "  </thead>\n",
       "  <tbody>\n",
       "    <tr>\n",
       "      <th>2017-11-01</th>\n",
       "      <td>219.95</td>\n",
       "    </tr>\n",
       "    <tr>\n",
       "      <th>2017-11-02</th>\n",
       "      <td>220.05</td>\n",
       "    </tr>\n",
       "    <tr>\n",
       "      <th>2017-11-03</th>\n",
       "      <td>220.78</td>\n",
       "    </tr>\n",
       "    <tr>\n",
       "      <th>2017-11-06</th>\n",
       "      <td>221.12</td>\n",
       "    </tr>\n",
       "    <tr>\n",
       "      <th>2017-11-07</th>\n",
       "      <td>221.02</td>\n",
       "    </tr>\n",
       "    <tr>\n",
       "      <th>...</th>\n",
       "      <td>...</td>\n",
       "    </tr>\n",
       "    <tr>\n",
       "      <th>2021-10-26</th>\n",
       "      <td>419.15</td>\n",
       "    </tr>\n",
       "    <tr>\n",
       "      <th>2021-10-27</th>\n",
       "      <td>417.33</td>\n",
       "    </tr>\n",
       "    <tr>\n",
       "      <th>2021-10-28</th>\n",
       "      <td>421.41</td>\n",
       "    </tr>\n",
       "    <tr>\n",
       "      <th>2021-10-29</th>\n",
       "      <td>422.16</td>\n",
       "    </tr>\n",
       "    <tr>\n",
       "      <th>2021-11-01</th>\n",
       "      <td>422.87</td>\n",
       "    </tr>\n",
       "  </tbody>\n",
       "</table>\n",
       "<p>1007 rows × 1 columns</p>\n",
       "</div>"
      ],
      "text/plain": [
       "             Close\n",
       "Date              \n",
       "2017-11-01  219.95\n",
       "2017-11-02  220.05\n",
       "2017-11-03  220.78\n",
       "2017-11-06  221.12\n",
       "2017-11-07  221.02\n",
       "...            ...\n",
       "2021-10-26  419.15\n",
       "2021-10-27  417.33\n",
       "2021-10-28  421.41\n",
       "2021-10-29  422.16\n",
       "2021-11-01  422.87\n",
       "\n",
       "[1007 rows x 1 columns]"
      ]
     },
     "execution_count": 27,
     "metadata": {},
     "output_type": "execute_result"
    }
   ],
   "source": [
    "#Create dataframe for Vanguard S&P 500\n",
    "vanguard_sp_500 = vanguard_data(\"VOO\")\n",
    "# Create csv file for Vanguard S&P 500\n",
    "vanguard_sp_500.to_csv('./Resources/vanguard_sp_500.csv')\n",
    "\n",
    "vanguard_sp_500"
   ]
  },
  {
   "cell_type": "code",
   "execution_count": 28,
   "id": "74ee34eb-c708-4d5e-bdf3-c691910c6894",
   "metadata": {},
   "outputs": [
    {
     "data": {
      "text/html": [
       "<div>\n",
       "<style scoped>\n",
       "    .dataframe tbody tr th:only-of-type {\n",
       "        vertical-align: middle;\n",
       "    }\n",
       "\n",
       "    .dataframe tbody tr th {\n",
       "        vertical-align: top;\n",
       "    }\n",
       "\n",
       "    .dataframe thead th {\n",
       "        text-align: right;\n",
       "    }\n",
       "</style>\n",
       "<table border=\"1\" class=\"dataframe\">\n",
       "  <thead>\n",
       "    <tr style=\"text-align: right;\">\n",
       "      <th></th>\n",
       "      <th>Close</th>\n",
       "    </tr>\n",
       "    <tr>\n",
       "      <th>Date</th>\n",
       "      <th></th>\n",
       "    </tr>\n",
       "  </thead>\n",
       "  <tbody>\n",
       "    <tr>\n",
       "      <th>2017-11-01</th>\n",
       "      <td>32.43</td>\n",
       "    </tr>\n",
       "    <tr>\n",
       "      <th>2017-11-02</th>\n",
       "      <td>32.46</td>\n",
       "    </tr>\n",
       "    <tr>\n",
       "      <th>2017-11-03</th>\n",
       "      <td>32.50</td>\n",
       "    </tr>\n",
       "    <tr>\n",
       "      <th>2017-11-06</th>\n",
       "      <td>32.56</td>\n",
       "    </tr>\n",
       "    <tr>\n",
       "      <th>2017-11-07</th>\n",
       "      <td>32.51</td>\n",
       "    </tr>\n",
       "  </tbody>\n",
       "</table>\n",
       "</div>"
      ],
      "text/plain": [
       "            Close\n",
       "Date             \n",
       "2017-11-01  32.43\n",
       "2017-11-02  32.46\n",
       "2017-11-03  32.50\n",
       "2017-11-06  32.56\n",
       "2017-11-07  32.51"
      ]
     },
     "execution_count": 28,
     "metadata": {},
     "output_type": "execute_result"
    }
   ],
   "source": [
    "#Create dataframe for Vanguard 2040\n",
    "vanguard_2040 = vanguard_data(\"VFORX\")\n",
    "# Create csv file for Vanguard 2040\n",
    "vanguard_2040.to_csv('./Resources/vanguard_2040.csv')\n",
    "\n",
    "vanguard_2040.head()"
   ]
  },
  {
   "cell_type": "code",
   "execution_count": 29,
   "id": "2c459a1e-9719-4acf-b997-b05cf7d2e156",
   "metadata": {},
   "outputs": [
    {
     "data": {
      "text/html": [
       "<div>\n",
       "<style scoped>\n",
       "    .dataframe tbody tr th:only-of-type {\n",
       "        vertical-align: middle;\n",
       "    }\n",
       "\n",
       "    .dataframe tbody tr th {\n",
       "        vertical-align: top;\n",
       "    }\n",
       "\n",
       "    .dataframe thead th {\n",
       "        text-align: right;\n",
       "    }\n",
       "</style>\n",
       "<table border=\"1\" class=\"dataframe\">\n",
       "  <thead>\n",
       "    <tr style=\"text-align: right;\">\n",
       "      <th></th>\n",
       "      <th>Close</th>\n",
       "    </tr>\n",
       "    <tr>\n",
       "      <th>Date</th>\n",
       "      <th></th>\n",
       "    </tr>\n",
       "  </thead>\n",
       "  <tbody>\n",
       "    <tr>\n",
       "      <th>2021-10-25</th>\n",
       "      <td>50.19</td>\n",
       "    </tr>\n",
       "    <tr>\n",
       "      <th>2021-10-26</th>\n",
       "      <td>50.21</td>\n",
       "    </tr>\n",
       "    <tr>\n",
       "      <th>2021-10-27</th>\n",
       "      <td>49.98</td>\n",
       "    </tr>\n",
       "    <tr>\n",
       "      <th>2021-10-28</th>\n",
       "      <td>50.35</td>\n",
       "    </tr>\n",
       "    <tr>\n",
       "      <th>2021-10-29</th>\n",
       "      <td>50.23</td>\n",
       "    </tr>\n",
       "  </tbody>\n",
       "</table>\n",
       "</div>"
      ],
      "text/plain": [
       "            Close\n",
       "Date             \n",
       "2021-10-25  50.19\n",
       "2021-10-26  50.21\n",
       "2021-10-27  49.98\n",
       "2021-10-28  50.35\n",
       "2021-10-29  50.23"
      ]
     },
     "execution_count": 29,
     "metadata": {},
     "output_type": "execute_result"
    }
   ],
   "source": [
    "vanguard_2040.tail()"
   ]
  },
  {
   "cell_type": "markdown",
   "id": "8674be89-84a5-4f6b-983b-417bc96e9500",
   "metadata": {},
   "source": [
    "Prepare Data"
   ]
  },
  {
   "cell_type": "code",
   "execution_count": 30,
   "id": "6e3cbe66-0d9b-4a67-bfc7-e5d36ce536ce",
   "metadata": {},
   "outputs": [
    {
     "name": "stdout",
     "output_type": "stream",
     "text": [
      "[*********************100%***********************]  1 of 1 completed\n"
     ]
    },
    {
     "data": {
      "text/html": [
       "<div>\n",
       "<style scoped>\n",
       "    .dataframe tbody tr th:only-of-type {\n",
       "        vertical-align: middle;\n",
       "    }\n",
       "\n",
       "    .dataframe tbody tr th {\n",
       "        vertical-align: top;\n",
       "    }\n",
       "\n",
       "    .dataframe thead th {\n",
       "        text-align: right;\n",
       "    }\n",
       "</style>\n",
       "<table border=\"1\" class=\"dataframe\">\n",
       "  <thead>\n",
       "    <tr style=\"text-align: right;\">\n",
       "      <th></th>\n",
       "      <th>Open</th>\n",
       "      <th>High</th>\n",
       "      <th>Low</th>\n",
       "      <th>Close</th>\n",
       "      <th>Adj Close</th>\n",
       "      <th>Volume</th>\n",
       "    </tr>\n",
       "    <tr>\n",
       "      <th>Date</th>\n",
       "      <th></th>\n",
       "      <th></th>\n",
       "      <th></th>\n",
       "      <th></th>\n",
       "      <th></th>\n",
       "      <th></th>\n",
       "    </tr>\n",
       "  </thead>\n",
       "  <tbody>\n",
       "    <tr>\n",
       "      <th>2016-01-04</th>\n",
       "      <td>28.030001</td>\n",
       "      <td>28.030001</td>\n",
       "      <td>28.030001</td>\n",
       "      <td>28.030001</td>\n",
       "      <td>25.068665</td>\n",
       "      <td>0</td>\n",
       "    </tr>\n",
       "    <tr>\n",
       "      <th>2016-01-05</th>\n",
       "      <td>28.040001</td>\n",
       "      <td>28.040001</td>\n",
       "      <td>28.040001</td>\n",
       "      <td>28.040001</td>\n",
       "      <td>25.077606</td>\n",
       "      <td>0</td>\n",
       "    </tr>\n",
       "    <tr>\n",
       "      <th>2016-01-06</th>\n",
       "      <td>27.709999</td>\n",
       "      <td>27.709999</td>\n",
       "      <td>27.709999</td>\n",
       "      <td>27.709999</td>\n",
       "      <td>24.782471</td>\n",
       "      <td>0</td>\n",
       "    </tr>\n",
       "    <tr>\n",
       "      <th>2016-01-07</th>\n",
       "      <td>27.150000</td>\n",
       "      <td>27.150000</td>\n",
       "      <td>27.150000</td>\n",
       "      <td>27.150000</td>\n",
       "      <td>24.281633</td>\n",
       "      <td>0</td>\n",
       "    </tr>\n",
       "    <tr>\n",
       "      <th>2016-01-08</th>\n",
       "      <td>26.889999</td>\n",
       "      <td>26.889999</td>\n",
       "      <td>26.889999</td>\n",
       "      <td>26.889999</td>\n",
       "      <td>24.049101</td>\n",
       "      <td>0</td>\n",
       "    </tr>\n",
       "  </tbody>\n",
       "</table>\n",
       "</div>"
      ],
      "text/plain": [
       "                 Open       High        Low      Close  Adj Close  Volume\n",
       "Date                                                                     \n",
       "2016-01-04  28.030001  28.030001  28.030001  28.030001  25.068665       0\n",
       "2016-01-05  28.040001  28.040001  28.040001  28.040001  25.077606       0\n",
       "2016-01-06  27.709999  27.709999  27.709999  27.709999  24.782471       0\n",
       "2016-01-07  27.150000  27.150000  27.150000  27.150000  24.281633       0\n",
       "2016-01-08  26.889999  26.889999  26.889999  26.889999  24.049101       0"
      ]
     },
     "execution_count": 30,
     "metadata": {},
     "output_type": "execute_result"
    }
   ],
   "source": [
    "vanguard_2040_returns = yf.download(\"VFORX\", start=\"2016-01-01\", end=\"2021-10-26\")\n",
    "vanguard_2040_returns.to_csv('./Resources/vanguard_2040_daily_returs.csv')\n",
    "vanguard_2040_returns.head()\n"
   ]
  },
  {
   "cell_type": "code",
   "execution_count": 31,
   "id": "fbc874e0-830b-4277-a2c8-026b70b20726",
   "metadata": {},
   "outputs": [
    {
     "data": {
      "text/html": [
       "<div>\n",
       "<style scoped>\n",
       "    .dataframe tbody tr th:only-of-type {\n",
       "        vertical-align: middle;\n",
       "    }\n",
       "\n",
       "    .dataframe tbody tr th {\n",
       "        vertical-align: top;\n",
       "    }\n",
       "\n",
       "    .dataframe thead th {\n",
       "        text-align: right;\n",
       "    }\n",
       "</style>\n",
       "<table border=\"1\" class=\"dataframe\">\n",
       "  <thead>\n",
       "    <tr style=\"text-align: right;\">\n",
       "      <th></th>\n",
       "      <th>Open</th>\n",
       "      <th>High</th>\n",
       "      <th>Low</th>\n",
       "      <th>Close</th>\n",
       "      <th>Adj Close</th>\n",
       "      <th>Volume</th>\n",
       "    </tr>\n",
       "    <tr>\n",
       "      <th>Date</th>\n",
       "      <th></th>\n",
       "      <th></th>\n",
       "      <th></th>\n",
       "      <th></th>\n",
       "      <th></th>\n",
       "      <th></th>\n",
       "    </tr>\n",
       "  </thead>\n",
       "  <tbody>\n",
       "    <tr>\n",
       "      <th>2021-10-19</th>\n",
       "      <td>49.930000</td>\n",
       "      <td>49.930000</td>\n",
       "      <td>49.930000</td>\n",
       "      <td>49.930000</td>\n",
       "      <td>49.930000</td>\n",
       "      <td>0</td>\n",
       "    </tr>\n",
       "    <tr>\n",
       "      <th>2021-10-20</th>\n",
       "      <td>50.060001</td>\n",
       "      <td>50.060001</td>\n",
       "      <td>50.060001</td>\n",
       "      <td>50.060001</td>\n",
       "      <td>50.060001</td>\n",
       "      <td>0</td>\n",
       "    </tr>\n",
       "    <tr>\n",
       "      <th>2021-10-21</th>\n",
       "      <td>50.040001</td>\n",
       "      <td>50.040001</td>\n",
       "      <td>50.040001</td>\n",
       "      <td>50.040001</td>\n",
       "      <td>50.040001</td>\n",
       "      <td>0</td>\n",
       "    </tr>\n",
       "    <tr>\n",
       "      <th>2021-10-22</th>\n",
       "      <td>50.049999</td>\n",
       "      <td>50.049999</td>\n",
       "      <td>50.049999</td>\n",
       "      <td>50.049999</td>\n",
       "      <td>50.049999</td>\n",
       "      <td>0</td>\n",
       "    </tr>\n",
       "    <tr>\n",
       "      <th>2021-10-25</th>\n",
       "      <td>50.189999</td>\n",
       "      <td>50.189999</td>\n",
       "      <td>50.189999</td>\n",
       "      <td>50.189999</td>\n",
       "      <td>50.189999</td>\n",
       "      <td>0</td>\n",
       "    </tr>\n",
       "  </tbody>\n",
       "</table>\n",
       "</div>"
      ],
      "text/plain": [
       "                 Open       High        Low      Close  Adj Close  Volume\n",
       "Date                                                                     \n",
       "2021-10-19  49.930000  49.930000  49.930000  49.930000  49.930000       0\n",
       "2021-10-20  50.060001  50.060001  50.060001  50.060001  50.060001       0\n",
       "2021-10-21  50.040001  50.040001  50.040001  50.040001  50.040001       0\n",
       "2021-10-22  50.049999  50.049999  50.049999  50.049999  50.049999       0\n",
       "2021-10-25  50.189999  50.189999  50.189999  50.189999  50.189999       0"
      ]
     },
     "execution_count": 31,
     "metadata": {},
     "output_type": "execute_result"
    }
   ],
   "source": [
    "vanguard_2040_returns.tail()"
   ]
  },
  {
   "cell_type": "code",
   "execution_count": 32,
   "id": "77bca7a5-937b-4767-a8fc-68cfa0f39868",
   "metadata": {},
   "outputs": [
    {
     "name": "stdout",
     "output_type": "stream",
     "text": [
      "[*********************100%***********************]  1 of 1 completed\n"
     ]
    },
    {
     "data": {
      "text/html": [
       "<div>\n",
       "<style scoped>\n",
       "    .dataframe tbody tr th:only-of-type {\n",
       "        vertical-align: middle;\n",
       "    }\n",
       "\n",
       "    .dataframe tbody tr th {\n",
       "        vertical-align: top;\n",
       "    }\n",
       "\n",
       "    .dataframe thead th {\n",
       "        text-align: right;\n",
       "    }\n",
       "</style>\n",
       "<table border=\"1\" class=\"dataframe\">\n",
       "  <thead>\n",
       "    <tr style=\"text-align: right;\">\n",
       "      <th></th>\n",
       "      <th>Open</th>\n",
       "      <th>High</th>\n",
       "      <th>Low</th>\n",
       "      <th>Close</th>\n",
       "      <th>Adj Close</th>\n",
       "      <th>Volume</th>\n",
       "    </tr>\n",
       "    <tr>\n",
       "      <th>Date</th>\n",
       "      <th></th>\n",
       "      <th></th>\n",
       "      <th></th>\n",
       "      <th></th>\n",
       "      <th></th>\n",
       "      <th></th>\n",
       "    </tr>\n",
       "  </thead>\n",
       "  <tbody>\n",
       "    <tr>\n",
       "      <th>2016-01-04</th>\n",
       "      <td>183.770004</td>\n",
       "      <td>184.320007</td>\n",
       "      <td>182.080002</td>\n",
       "      <td>184.309998</td>\n",
       "      <td>165.441360</td>\n",
       "      <td>4193500</td>\n",
       "    </tr>\n",
       "    <tr>\n",
       "      <th>2016-01-05</th>\n",
       "      <td>184.570007</td>\n",
       "      <td>185.119995</td>\n",
       "      <td>183.429993</td>\n",
       "      <td>184.639999</td>\n",
       "      <td>165.737534</td>\n",
       "      <td>2882500</td>\n",
       "    </tr>\n",
       "    <tr>\n",
       "      <th>2016-01-06</th>\n",
       "      <td>181.929993</td>\n",
       "      <td>183.380005</td>\n",
       "      <td>181.190002</td>\n",
       "      <td>182.300003</td>\n",
       "      <td>163.637115</td>\n",
       "      <td>2755100</td>\n",
       "    </tr>\n",
       "    <tr>\n",
       "      <th>2016-01-07</th>\n",
       "      <td>179.149994</td>\n",
       "      <td>181.000000</td>\n",
       "      <td>177.500000</td>\n",
       "      <td>177.860001</td>\n",
       "      <td>159.651657</td>\n",
       "      <td>4952500</td>\n",
       "    </tr>\n",
       "    <tr>\n",
       "      <th>2016-01-08</th>\n",
       "      <td>178.970001</td>\n",
       "      <td>179.529999</td>\n",
       "      <td>175.649994</td>\n",
       "      <td>175.970001</td>\n",
       "      <td>157.955139</td>\n",
       "      <td>7357300</td>\n",
       "    </tr>\n",
       "  </tbody>\n",
       "</table>\n",
       "</div>"
      ],
      "text/plain": [
       "                  Open        High         Low       Close   Adj Close  \\\n",
       "Date                                                                     \n",
       "2016-01-04  183.770004  184.320007  182.080002  184.309998  165.441360   \n",
       "2016-01-05  184.570007  185.119995  183.429993  184.639999  165.737534   \n",
       "2016-01-06  181.929993  183.380005  181.190002  182.300003  163.637115   \n",
       "2016-01-07  179.149994  181.000000  177.500000  177.860001  159.651657   \n",
       "2016-01-08  178.970001  179.529999  175.649994  175.970001  157.955139   \n",
       "\n",
       "             Volume  \n",
       "Date                 \n",
       "2016-01-04  4193500  \n",
       "2016-01-05  2882500  \n",
       "2016-01-06  2755100  \n",
       "2016-01-07  4952500  \n",
       "2016-01-08  7357300  "
      ]
     },
     "execution_count": 32,
     "metadata": {},
     "output_type": "execute_result"
    }
   ],
   "source": [
    "vanguard_sp500_returns = yf.download(\"VOO\", start=\"2016-01-01\", end=\"2021-10-27\")\n",
    "vanguard_sp500_returns.to_csv('./Resources/vanguard_SP500_daily_returs.csv')\n",
    "vanguard_sp500_returns.head()"
   ]
  },
  {
   "cell_type": "code",
   "execution_count": 33,
   "id": "e3052469-856e-4f6d-9396-5f7a8250590f",
   "metadata": {},
   "outputs": [
    {
     "data": {
      "text/html": [
       "<div>\n",
       "<style scoped>\n",
       "    .dataframe tbody tr th:only-of-type {\n",
       "        vertical-align: middle;\n",
       "    }\n",
       "\n",
       "    .dataframe tbody tr th {\n",
       "        vertical-align: top;\n",
       "    }\n",
       "\n",
       "    .dataframe thead th {\n",
       "        text-align: right;\n",
       "    }\n",
       "</style>\n",
       "<table border=\"1\" class=\"dataframe\">\n",
       "  <thead>\n",
       "    <tr style=\"text-align: right;\">\n",
       "      <th></th>\n",
       "      <th>Open</th>\n",
       "      <th>High</th>\n",
       "      <th>Low</th>\n",
       "      <th>Close</th>\n",
       "      <th>Adj Close</th>\n",
       "      <th>Volume</th>\n",
       "    </tr>\n",
       "    <tr>\n",
       "      <th>Date</th>\n",
       "      <th></th>\n",
       "      <th></th>\n",
       "      <th></th>\n",
       "      <th></th>\n",
       "      <th></th>\n",
       "      <th></th>\n",
       "    </tr>\n",
       "  </thead>\n",
       "  <tbody>\n",
       "    <tr>\n",
       "      <th>2021-10-20</th>\n",
       "      <td>414.739990</td>\n",
       "      <td>416.220001</td>\n",
       "      <td>414.649994</td>\n",
       "      <td>415.989990</td>\n",
       "      <td>415.989990</td>\n",
       "      <td>3208200</td>\n",
       "    </tr>\n",
       "    <tr>\n",
       "      <th>2021-10-21</th>\n",
       "      <td>415.380005</td>\n",
       "      <td>417.239990</td>\n",
       "      <td>414.940002</td>\n",
       "      <td>417.010010</td>\n",
       "      <td>417.010010</td>\n",
       "      <td>2579500</td>\n",
       "    </tr>\n",
       "    <tr>\n",
       "      <th>2021-10-22</th>\n",
       "      <td>416.579987</td>\n",
       "      <td>418.000000</td>\n",
       "      <td>414.700012</td>\n",
       "      <td>416.589996</td>\n",
       "      <td>416.589996</td>\n",
       "      <td>3648400</td>\n",
       "    </tr>\n",
       "    <tr>\n",
       "      <th>2021-10-25</th>\n",
       "      <td>417.640015</td>\n",
       "      <td>419.140015</td>\n",
       "      <td>415.929993</td>\n",
       "      <td>418.750000</td>\n",
       "      <td>418.750000</td>\n",
       "      <td>2511500</td>\n",
       "    </tr>\n",
       "    <tr>\n",
       "      <th>2021-10-26</th>\n",
       "      <td>420.269989</td>\n",
       "      <td>421.529999</td>\n",
       "      <td>418.859985</td>\n",
       "      <td>419.149994</td>\n",
       "      <td>419.149994</td>\n",
       "      <td>3085300</td>\n",
       "    </tr>\n",
       "  </tbody>\n",
       "</table>\n",
       "</div>"
      ],
      "text/plain": [
       "                  Open        High         Low       Close   Adj Close  \\\n",
       "Date                                                                     \n",
       "2021-10-20  414.739990  416.220001  414.649994  415.989990  415.989990   \n",
       "2021-10-21  415.380005  417.239990  414.940002  417.010010  417.010010   \n",
       "2021-10-22  416.579987  418.000000  414.700012  416.589996  416.589996   \n",
       "2021-10-25  417.640015  419.140015  415.929993  418.750000  418.750000   \n",
       "2021-10-26  420.269989  421.529999  418.859985  419.149994  419.149994   \n",
       "\n",
       "             Volume  \n",
       "Date                 \n",
       "2021-10-20  3208200  \n",
       "2021-10-21  2579500  \n",
       "2021-10-22  3648400  \n",
       "2021-10-25  2511500  \n",
       "2021-10-26  3085300  "
      ]
     },
     "execution_count": 33,
     "metadata": {},
     "output_type": "execute_result"
    }
   ],
   "source": [
    "vanguard_sp500_returns.tail()"
   ]
  },
  {
   "cell_type": "markdown",
   "id": "e90e9f1f-1b68-4a69-a57c-5324180208f1",
   "metadata": {},
   "source": [
    " ### Vanguard 2040 Risk Statistics for 3yrs,5yrs & 10yrs"
   ]
  },
  {
   "cell_type": "code",
   "execution_count": 34,
   "id": "5cc28a53-1ca3-48b7-b3f3-3e1e29f2f65e",
   "metadata": {},
   "outputs": [
    {
     "data": {
      "text/html": [
       "<div>\n",
       "<style scoped>\n",
       "    .dataframe tbody tr th:only-of-type {\n",
       "        vertical-align: middle;\n",
       "    }\n",
       "\n",
       "    .dataframe tbody tr th {\n",
       "        vertical-align: top;\n",
       "    }\n",
       "\n",
       "    .dataframe thead th {\n",
       "        text-align: right;\n",
       "    }\n",
       "</style>\n",
       "<table border=\"1\" class=\"dataframe\">\n",
       "  <thead>\n",
       "    <tr style=\"text-align: right;\">\n",
       "      <th></th>\n",
       "      <th>Risk_Statistics</th>\n",
       "      <th>VFORX_3yrs</th>\n",
       "      <th>Category_Average_3yrs</th>\n",
       "      <th>VFORX_5yrs</th>\n",
       "      <th>Category_Average_5yrs</th>\n",
       "      <th>VFORX_10yrs</th>\n",
       "      <th>Category_Average_10yrs</th>\n",
       "    </tr>\n",
       "  </thead>\n",
       "  <tbody>\n",
       "    <tr>\n",
       "      <th>0</th>\n",
       "      <td>Alpha</td>\n",
       "      <td>-1.11</td>\n",
       "      <td>-0.01</td>\n",
       "      <td>-0.13</td>\n",
       "      <td>-0.01</td>\n",
       "      <td>-0.43</td>\n",
       "      <td>-0.01</td>\n",
       "    </tr>\n",
       "    <tr>\n",
       "      <th>1</th>\n",
       "      <td>Beta</td>\n",
       "      <td>1.35</td>\n",
       "      <td>0.01</td>\n",
       "      <td>1.35</td>\n",
       "      <td>0.01</td>\n",
       "      <td>1.40</td>\n",
       "      <td>0.01</td>\n",
       "    </tr>\n",
       "    <tr>\n",
       "      <th>2</th>\n",
       "      <td>Mean Annual Return</td>\n",
       "      <td>1.14</td>\n",
       "      <td>0.01</td>\n",
       "      <td>1.11</td>\n",
       "      <td>0.01</td>\n",
       "      <td>0.89</td>\n",
       "      <td>0.01</td>\n",
       "    </tr>\n",
       "    <tr>\n",
       "      <th>3</th>\n",
       "      <td>R-squared</td>\n",
       "      <td>99.16</td>\n",
       "      <td>0.98</td>\n",
       "      <td>98.97</td>\n",
       "      <td>0.98</td>\n",
       "      <td>98.20</td>\n",
       "      <td>0.97</td>\n",
       "    </tr>\n",
       "    <tr>\n",
       "      <th>4</th>\n",
       "      <td>Standard Deviation</td>\n",
       "      <td>15.39</td>\n",
       "      <td>0.15</td>\n",
       "      <td>12.42</td>\n",
       "      <td>0.13</td>\n",
       "      <td>12.01</td>\n",
       "      <td>0.12</td>\n",
       "    </tr>\n",
       "    <tr>\n",
       "      <th>5</th>\n",
       "      <td>Sharpe Ratio</td>\n",
       "      <td>0.81</td>\n",
       "      <td>0.01</td>\n",
       "      <td>0.98</td>\n",
       "      <td>0.01</td>\n",
       "      <td>0.84</td>\n",
       "      <td>0.01</td>\n",
       "    </tr>\n",
       "    <tr>\n",
       "      <th>6</th>\n",
       "      <td>Treynor Ratio</td>\n",
       "      <td>8.96</td>\n",
       "      <td>0.09</td>\n",
       "      <td>9.00</td>\n",
       "      <td>0.09</td>\n",
       "      <td>7.00</td>\n",
       "      <td>0.07</td>\n",
       "    </tr>\n",
       "  </tbody>\n",
       "</table>\n",
       "</div>"
      ],
      "text/plain": [
       "      Risk_Statistics  VFORX_3yrs  Category_Average_3yrs  VFORX_5yrs  \\\n",
       "0               Alpha       -1.11                  -0.01       -0.13   \n",
       "1                Beta        1.35                   0.01        1.35   \n",
       "2  Mean Annual Return        1.14                   0.01        1.11   \n",
       "3           R-squared       99.16                   0.98       98.97   \n",
       "4  Standard Deviation       15.39                   0.15       12.42   \n",
       "5        Sharpe Ratio        0.81                   0.01        0.98   \n",
       "6       Treynor Ratio        8.96                   0.09        9.00   \n",
       "\n",
       "   Category_Average_5yrs  VFORX_10yrs  Category_Average_10yrs  \n",
       "0                  -0.01        -0.43                   -0.01  \n",
       "1                   0.01         1.40                    0.01  \n",
       "2                   0.01         0.89                    0.01  \n",
       "3                   0.98        98.20                    0.97  \n",
       "4                   0.13        12.01                    0.12  \n",
       "5                   0.01         0.84                    0.01  \n",
       "6                   0.09         7.00                    0.07  "
      ]
     },
     "execution_count": 34,
     "metadata": {},
     "output_type": "execute_result"
    }
   ],
   "source": [
    "# Set the path to fetch risk Statistics for Vanguard 2040(VFORX)\n",
    "file_path = Path('./Resources/vanguard_2040_riskstatistics.csv')\n",
    "\n",
    "# Read in the CSV as a DataFrame\n",
    "vanguard_2040_riskstatistics = pd.read_csv(file_path)\n",
    "# Display\n",
    "vanguard_2040_riskstatistics"
   ]
  },
  {
   "cell_type": "markdown",
   "id": "06d3eeda-e53a-45b9-badc-74796f15d9e5",
   "metadata": {},
   "source": [
    "### Vanguard SP500 Risk Statistics for 3yrs, 5yrs & 10 yrs"
   ]
  },
  {
   "cell_type": "code",
   "execution_count": 35,
   "id": "f671b30d-0933-4d00-b4ad-3df0a02fe3cf",
   "metadata": {},
   "outputs": [
    {
     "data": {
      "text/html": [
       "<div>\n",
       "<style scoped>\n",
       "    .dataframe tbody tr th:only-of-type {\n",
       "        vertical-align: middle;\n",
       "    }\n",
       "\n",
       "    .dataframe tbody tr th {\n",
       "        vertical-align: top;\n",
       "    }\n",
       "\n",
       "    .dataframe thead th {\n",
       "        text-align: right;\n",
       "    }\n",
       "</style>\n",
       "<table border=\"1\" class=\"dataframe\">\n",
       "  <thead>\n",
       "    <tr style=\"text-align: right;\">\n",
       "      <th></th>\n",
       "      <th>Risk_Statistics</th>\n",
       "      <th>VOO_3yrs</th>\n",
       "      <th>Category_Average_3yrs</th>\n",
       "      <th>VOO_5yrs</th>\n",
       "      <th>Category_Average_5yrs</th>\n",
       "      <th>VOO_10yrs</th>\n",
       "      <th>Category_Average_10yrs</th>\n",
       "    </tr>\n",
       "  </thead>\n",
       "  <tbody>\n",
       "    <tr>\n",
       "      <th>0</th>\n",
       "      <td>Alpha</td>\n",
       "      <td>-0.03</td>\n",
       "      <td>-0.65</td>\n",
       "      <td>-0.04</td>\n",
       "      <td>-0.48</td>\n",
       "      <td>-0.04</td>\n",
       "      <td>0.15</td>\n",
       "    </tr>\n",
       "    <tr>\n",
       "      <th>1</th>\n",
       "      <td>Beta</td>\n",
       "      <td>1.00</td>\n",
       "      <td>0.98</td>\n",
       "      <td>1.00</td>\n",
       "      <td>1.00</td>\n",
       "      <td>1.00</td>\n",
       "      <td>1.00</td>\n",
       "    </tr>\n",
       "    <tr>\n",
       "      <th>2</th>\n",
       "      <td>Mean Annual Return</td>\n",
       "      <td>1.58</td>\n",
       "      <td>0.86</td>\n",
       "      <td>1.45</td>\n",
       "      <td>1.28</td>\n",
       "      <td>1.23</td>\n",
       "      <td>0.69</td>\n",
       "    </tr>\n",
       "    <tr>\n",
       "      <th>3</th>\n",
       "      <td>R-squared</td>\n",
       "      <td>100.00</td>\n",
       "      <td>94.06</td>\n",
       "      <td>100.00</td>\n",
       "      <td>95.34</td>\n",
       "      <td>100.00</td>\n",
       "      <td>96.99</td>\n",
       "    </tr>\n",
       "    <tr>\n",
       "      <th>4</th>\n",
       "      <td>Standard Deviation</td>\n",
       "      <td>18.53</td>\n",
       "      <td>10.90</td>\n",
       "      <td>14.99</td>\n",
       "      <td>11.38</td>\n",
       "      <td>13.59</td>\n",
       "      <td>15.42</td>\n",
       "    </tr>\n",
       "    <tr>\n",
       "      <th>5</th>\n",
       "      <td>Sharpe Ratio</td>\n",
       "      <td>0.95</td>\n",
       "      <td>0.94</td>\n",
       "      <td>1.08</td>\n",
       "      <td>1.34</td>\n",
       "      <td>1.04</td>\n",
       "      <td>0.48</td>\n",
       "    </tr>\n",
       "    <tr>\n",
       "      <th>6</th>\n",
       "      <td>Treynor Ratio</td>\n",
       "      <td>17.41</td>\n",
       "      <td>10.38</td>\n",
       "      <td>16.46</td>\n",
       "      <td>15.73</td>\n",
       "      <td>14.19</td>\n",
       "      <td>6.54</td>\n",
       "    </tr>\n",
       "  </tbody>\n",
       "</table>\n",
       "</div>"
      ],
      "text/plain": [
       "      Risk_Statistics  VOO_3yrs  Category_Average_3yrs  VOO_5yrs  \\\n",
       "0               Alpha     -0.03                  -0.65     -0.04   \n",
       "1                Beta      1.00                   0.98      1.00   \n",
       "2  Mean Annual Return      1.58                   0.86      1.45   \n",
       "3           R-squared    100.00                  94.06    100.00   \n",
       "4  Standard Deviation     18.53                  10.90     14.99   \n",
       "5        Sharpe Ratio      0.95                   0.94      1.08   \n",
       "6       Treynor Ratio     17.41                  10.38     16.46   \n",
       "\n",
       "   Category_Average_5yrs  VOO_10yrs  Category_Average_10yrs  \n",
       "0                  -0.48      -0.04                    0.15  \n",
       "1                   1.00       1.00                    1.00  \n",
       "2                   1.28       1.23                    0.69  \n",
       "3                  95.34     100.00                   96.99  \n",
       "4                  11.38      13.59                   15.42  \n",
       "5                   1.34       1.04                    0.48  \n",
       "6                  15.73      14.19                    6.54  "
      ]
     },
     "execution_count": 35,
     "metadata": {},
     "output_type": "execute_result"
    }
   ],
   "source": [
    "# Set the path to fetch risk Statistics for Vanguard SP500 ETF(VOO)\n",
    "file_path = Path('./Resources/vanguard_SP500_riskstatistics.csv')\n",
    "\n",
    "# Read in the CSV as a DataFrame\n",
    "vanguard_SP500_riskstatistics = pd.read_csv(file_path)\n",
    "# Display\n",
    "vanguard_SP500_riskstatistics"
   ]
  },
  {
   "cell_type": "markdown",
   "id": "3782ff69-53b8-4213-8315-12117d6bcb1e",
   "metadata": {},
   "source": [
    "### Plot the graph for the Risk Statistics of vanguard_sp500(VOO)"
   ]
  },
  {
   "cell_type": "code",
   "execution_count": 36,
   "id": "7044c60d-29db-4757-89fa-d607d9bb49c9",
   "metadata": {},
   "outputs": [
    {
     "data": {
      "text/html": [
       "<div>\n",
       "<style scoped>\n",
       "    .dataframe tbody tr th:only-of-type {\n",
       "        vertical-align: middle;\n",
       "    }\n",
       "\n",
       "    .dataframe tbody tr th {\n",
       "        vertical-align: top;\n",
       "    }\n",
       "\n",
       "    .dataframe thead th {\n",
       "        text-align: right;\n",
       "    }\n",
       "</style>\n",
       "<table border=\"1\" class=\"dataframe\">\n",
       "  <thead>\n",
       "    <tr style=\"text-align: right;\">\n",
       "      <th></th>\n",
       "      <th>Risk</th>\n",
       "      <th>3</th>\n",
       "      <th>5</th>\n",
       "      <th>10</th>\n",
       "    </tr>\n",
       "  </thead>\n",
       "  <tbody>\n",
       "    <tr>\n",
       "      <th>0</th>\n",
       "      <td>Alpha</td>\n",
       "      <td>-0.03</td>\n",
       "      <td>-0.04</td>\n",
       "      <td>-0.04</td>\n",
       "    </tr>\n",
       "    <tr>\n",
       "      <th>1</th>\n",
       "      <td>Beta</td>\n",
       "      <td>1.00</td>\n",
       "      <td>1.00</td>\n",
       "      <td>1.00</td>\n",
       "    </tr>\n",
       "    <tr>\n",
       "      <th>2</th>\n",
       "      <td>Mean Annual Return</td>\n",
       "      <td>1.58</td>\n",
       "      <td>1.45</td>\n",
       "      <td>1.23</td>\n",
       "    </tr>\n",
       "    <tr>\n",
       "      <th>3</th>\n",
       "      <td>R-squared</td>\n",
       "      <td>100.00</td>\n",
       "      <td>100.00</td>\n",
       "      <td>100.00</td>\n",
       "    </tr>\n",
       "    <tr>\n",
       "      <th>4</th>\n",
       "      <td>Standard Deviation</td>\n",
       "      <td>18.53</td>\n",
       "      <td>14.99</td>\n",
       "      <td>13.59</td>\n",
       "    </tr>\n",
       "    <tr>\n",
       "      <th>5</th>\n",
       "      <td>Sharpe Ratio</td>\n",
       "      <td>0.95</td>\n",
       "      <td>1.08</td>\n",
       "      <td>1.04</td>\n",
       "    </tr>\n",
       "    <tr>\n",
       "      <th>6</th>\n",
       "      <td>Treynor Ratio</td>\n",
       "      <td>17.41</td>\n",
       "      <td>16.46</td>\n",
       "      <td>14.19</td>\n",
       "    </tr>\n",
       "  </tbody>\n",
       "</table>\n",
       "</div>"
      ],
      "text/plain": [
       "                 Risk       3       5      10\n",
       "0               Alpha   -0.03   -0.04   -0.04\n",
       "1                Beta    1.00    1.00    1.00\n",
       "2  Mean Annual Return    1.58    1.45    1.23\n",
       "3           R-squared  100.00  100.00  100.00\n",
       "4  Standard Deviation   18.53   14.99   13.59\n",
       "5        Sharpe Ratio    0.95    1.08    1.04\n",
       "6       Treynor Ratio   17.41   16.46   14.19"
      ]
     },
     "execution_count": 36,
     "metadata": {},
     "output_type": "execute_result"
    }
   ],
   "source": [
    "## Set the X & Y axis \n",
    "vanguard_sp500 = pd.DataFrame({'Risk':vanguard_SP500_riskstatistics.Risk_Statistics,'3': vanguard_SP500_riskstatistics.VOO_3yrs,'5': vanguard_SP500_riskstatistics.VOO_5yrs,'10': vanguard_SP500_riskstatistics.VOO_10yrs })\n",
    "vanguard_sp500"
   ]
  },
  {
   "cell_type": "code",
   "execution_count": 37,
   "id": "456be017-8593-439d-b981-3f28b1523e1e",
   "metadata": {},
   "outputs": [
    {
     "data": {
      "text/html": [
       "<div>\n",
       "<style scoped>\n",
       "    .dataframe tbody tr th:only-of-type {\n",
       "        vertical-align: middle;\n",
       "    }\n",
       "\n",
       "    .dataframe tbody tr th {\n",
       "        vertical-align: top;\n",
       "    }\n",
       "\n",
       "    .dataframe thead th {\n",
       "        text-align: right;\n",
       "    }\n",
       "</style>\n",
       "<table border=\"1\" class=\"dataframe\">\n",
       "  <thead>\n",
       "    <tr style=\"text-align: right;\">\n",
       "      <th></th>\n",
       "      <th>3</th>\n",
       "      <th>5</th>\n",
       "      <th>10</th>\n",
       "    </tr>\n",
       "    <tr>\n",
       "      <th>Risk</th>\n",
       "      <th></th>\n",
       "      <th></th>\n",
       "      <th></th>\n",
       "    </tr>\n",
       "  </thead>\n",
       "  <tbody>\n",
       "    <tr>\n",
       "      <th>Alpha</th>\n",
       "      <td>-0.03</td>\n",
       "      <td>-0.04</td>\n",
       "      <td>-0.04</td>\n",
       "    </tr>\n",
       "    <tr>\n",
       "      <th>Beta</th>\n",
       "      <td>1.00</td>\n",
       "      <td>1.00</td>\n",
       "      <td>1.00</td>\n",
       "    </tr>\n",
       "    <tr>\n",
       "      <th>Mean Annual Return</th>\n",
       "      <td>1.58</td>\n",
       "      <td>1.45</td>\n",
       "      <td>1.23</td>\n",
       "    </tr>\n",
       "    <tr>\n",
       "      <th>R-squared</th>\n",
       "      <td>100.00</td>\n",
       "      <td>100.00</td>\n",
       "      <td>100.00</td>\n",
       "    </tr>\n",
       "    <tr>\n",
       "      <th>Standard Deviation</th>\n",
       "      <td>18.53</td>\n",
       "      <td>14.99</td>\n",
       "      <td>13.59</td>\n",
       "    </tr>\n",
       "    <tr>\n",
       "      <th>Sharpe Ratio</th>\n",
       "      <td>0.95</td>\n",
       "      <td>1.08</td>\n",
       "      <td>1.04</td>\n",
       "    </tr>\n",
       "    <tr>\n",
       "      <th>Treynor Ratio</th>\n",
       "      <td>17.41</td>\n",
       "      <td>16.46</td>\n",
       "      <td>14.19</td>\n",
       "    </tr>\n",
       "  </tbody>\n",
       "</table>\n",
       "</div>"
      ],
      "text/plain": [
       "                         3       5      10\n",
       "Risk                                      \n",
       "Alpha                -0.03   -0.04   -0.04\n",
       "Beta                  1.00    1.00    1.00\n",
       "Mean Annual Return    1.58    1.45    1.23\n",
       "R-squared           100.00  100.00  100.00\n",
       "Standard Deviation   18.53   14.99   13.59\n",
       "Sharpe Ratio          0.95    1.08    1.04\n",
       "Treynor Ratio        17.41   16.46   14.19"
      ]
     },
     "execution_count": 37,
     "metadata": {},
     "output_type": "execute_result"
    }
   ],
   "source": [
    "# Set Index\n",
    "vanguard_sp500.set_index('Risk')"
   ]
  },
  {
   "cell_type": "code",
   "execution_count": 38,
   "id": "6311b82e-38ff-46e8-9579-52b8c685a09a",
   "metadata": {},
   "outputs": [
    {
     "data": {
      "text/html": [
       "<div>\n",
       "<style scoped>\n",
       "    .dataframe tbody tr th:only-of-type {\n",
       "        vertical-align: middle;\n",
       "    }\n",
       "\n",
       "    .dataframe tbody tr th {\n",
       "        vertical-align: top;\n",
       "    }\n",
       "\n",
       "    .dataframe thead th {\n",
       "        text-align: right;\n",
       "    }\n",
       "</style>\n",
       "<table border=\"1\" class=\"dataframe\">\n",
       "  <thead>\n",
       "    <tr style=\"text-align: right;\">\n",
       "      <th></th>\n",
       "      <th>3</th>\n",
       "      <th>5</th>\n",
       "      <th>10</th>\n",
       "    </tr>\n",
       "    <tr>\n",
       "      <th>Risk</th>\n",
       "      <th></th>\n",
       "      <th></th>\n",
       "      <th></th>\n",
       "    </tr>\n",
       "  </thead>\n",
       "  <tbody>\n",
       "    <tr>\n",
       "      <th>Alpha</th>\n",
       "      <td>-0.03</td>\n",
       "      <td>-0.04</td>\n",
       "      <td>-0.04</td>\n",
       "    </tr>\n",
       "    <tr>\n",
       "      <th>Beta</th>\n",
       "      <td>1.00</td>\n",
       "      <td>1.00</td>\n",
       "      <td>1.00</td>\n",
       "    </tr>\n",
       "    <tr>\n",
       "      <th>Mean Annual Return</th>\n",
       "      <td>1.58</td>\n",
       "      <td>1.45</td>\n",
       "      <td>1.23</td>\n",
       "    </tr>\n",
       "    <tr>\n",
       "      <th>R-squared</th>\n",
       "      <td>100.00</td>\n",
       "      <td>100.00</td>\n",
       "      <td>100.00</td>\n",
       "    </tr>\n",
       "    <tr>\n",
       "      <th>Standard Deviation</th>\n",
       "      <td>18.53</td>\n",
       "      <td>14.99</td>\n",
       "      <td>13.59</td>\n",
       "    </tr>\n",
       "    <tr>\n",
       "      <th>Sharpe Ratio</th>\n",
       "      <td>0.95</td>\n",
       "      <td>1.08</td>\n",
       "      <td>1.04</td>\n",
       "    </tr>\n",
       "    <tr>\n",
       "      <th>Treynor Ratio</th>\n",
       "      <td>17.41</td>\n",
       "      <td>16.46</td>\n",
       "      <td>14.19</td>\n",
       "    </tr>\n",
       "  </tbody>\n",
       "</table>\n",
       "</div>"
      ],
      "text/plain": [
       "                         3       5      10\n",
       "Risk                                      \n",
       "Alpha                -0.03   -0.04   -0.04\n",
       "Beta                  1.00    1.00    1.00\n",
       "Mean Annual Return    1.58    1.45    1.23\n",
       "R-squared           100.00  100.00  100.00\n",
       "Standard Deviation   18.53   14.99   13.59\n",
       "Sharpe Ratio          0.95    1.08    1.04\n",
       "Treynor Ratio        17.41   16.46   14.19"
      ]
     },
     "execution_count": 38,
     "metadata": {},
     "output_type": "execute_result"
    }
   ],
   "source": [
    "# Set Index\n",
    "vanguard_sp500.set_index('Risk')"
   ]
  },
  {
   "cell_type": "code",
   "execution_count": 39,
   "id": "fabb5f3d-ed54-4263-9d56-522bbcca4a55",
   "metadata": {},
   "outputs": [
    {
     "data": {},
     "metadata": {},
     "output_type": "display_data"
    },
    {
     "data": {
      "application/vnd.holoviews_exec.v0+json": "",
      "text/html": [
       "<div id='1604'>\n",
       "\n",
       "\n",
       "\n",
       "\n",
       "\n",
       "  <div class=\"bk-root\" id=\"8745f1ec-3f84-40dd-b073-60a321bfb94e\" data-root-id=\"1604\"></div>\n",
       "</div>\n",
       "<script type=\"application/javascript\">(function(root) {\n",
       "  function embed_document(root) {\n",
       "  var docs_json = {\"028312a8-29e3-4d35-86ab-51e3882ff401\":{\"roots\":{\"references\":[{\"attributes\":{},\"id\":\"1628\",\"type\":\"PanTool\"},{\"attributes\":{},\"id\":\"1616\",\"type\":\"CategoricalScale\"},{\"attributes\":{\"axis\":{\"id\":\"1620\"},\"ticker\":{\"id\":\"1621\"}},\"id\":\"1622\",\"type\":\"Grid\"},{\"attributes\":{},\"id\":\"1621\",\"type\":\"CategoricalTicker\"},{\"attributes\":{\"line_alpha\":0.1,\"line_color\":\"#1f77b3\",\"line_width\":2,\"x\":{\"field\":\"Risk\"},\"y\":{\"field\":\"value\"}},\"id\":\"1650\",\"type\":\"Line\"},{\"attributes\":{\"margin\":[5,5,5,5],\"name\":\"HSpacer03027\",\"sizing_mode\":\"stretch_width\"},\"id\":\"1605\",\"type\":\"Spacer\"},{\"attributes\":{\"below\":[{\"id\":\"1620\"}],\"center\":[{\"id\":\"1622\"},{\"id\":\"1626\"}],\"left\":[{\"id\":\"1623\"}],\"margin\":null,\"min_border_bottom\":10,\"min_border_left\":10,\"min_border_right\":10,\"min_border_top\":10,\"plot_width\":800,\"renderers\":[{\"id\":\"1652\"},{\"id\":\"1668\"},{\"id\":\"1685\"}],\"right\":[{\"id\":\"1660\"}],\"sizing_mode\":\"fixed\",\"title\":{\"id\":\"1612\"},\"toolbar\":{\"id\":\"1633\"},\"x_range\":{\"id\":\"1606\"},\"x_scale\":{\"id\":\"1616\"},\"y_range\":{\"id\":\"1607\"},\"y_scale\":{\"id\":\"1618\"}},\"id\":\"1611\",\"subtype\":\"Figure\",\"type\":\"Plot\"},{\"attributes\":{\"children\":[{\"id\":\"1605\"},{\"id\":\"1611\"},{\"id\":\"1794\"}],\"margin\":[0,0,0,0],\"name\":\"Row03023\",\"tags\":[\"embedded\"]},\"id\":\"1604\",\"type\":\"Row\"},{\"attributes\":{},\"id\":\"1629\",\"type\":\"WheelZoomTool\"},{\"attributes\":{},\"id\":\"1695\",\"type\":\"UnionRenderers\"},{\"attributes\":{\"line_color\":\"#ff7e0e\",\"line_width\":2,\"x\":{\"field\":\"Risk\"},\"y\":{\"field\":\"value\"}},\"id\":\"1665\",\"type\":\"Line\"},{\"attributes\":{\"axis_label\":\"Risk Value\",\"bounds\":\"auto\",\"formatter\":{\"id\":\"1642\"},\"major_label_orientation\":\"horizontal\",\"ticker\":{\"id\":\"1624\"}},\"id\":\"1623\",\"type\":\"LinearAxis\"},{\"attributes\":{},\"id\":\"1627\",\"type\":\"SaveTool\"},{\"attributes\":{\"axis_label\":\"Time Period 3 yrs, 5yrs & 10yrs\",\"bounds\":\"auto\",\"formatter\":{\"id\":\"1640\"},\"major_label_orientation\":\"horizontal\",\"ticker\":{\"id\":\"1621\"}},\"id\":\"1620\",\"type\":\"CategoricalAxis\"},{\"attributes\":{},\"id\":\"1676\",\"type\":\"UnionRenderers\"},{\"attributes\":{},\"id\":\"1624\",\"type\":\"BasicTicker\"},{\"attributes\":{\"data\":{\"Risk\":[\"Alpha\",\"Beta\",\"Mean Annual Return\",\"R-squared\",\"Standard Deviation\",\"Sharpe Ratio\",\"Treynor Ratio\"],\"Variable\":[\"3\",\"3\",\"3\",\"3\",\"3\",\"3\",\"3\"],\"value\":{\"__ndarray__\":\"uB6F61G4nr8AAAAAAADwP0jhehSuR/k/AAAAAAAAWUBI4XoUrocyQGZmZmZmZu4/KVyPwvVoMUA=\",\"dtype\":\"float64\",\"shape\":[7]}},\"selected\":{\"id\":\"1647\"},\"selection_policy\":{\"id\":\"1676\"}},\"id\":\"1646\",\"type\":\"ColumnDataSource\"},{\"attributes\":{\"axis\":{\"id\":\"1623\"},\"dimension\":1,\"ticker\":{\"id\":\"1624\"}},\"id\":\"1626\",\"type\":\"Grid\"},{\"attributes\":{\"overlay\":{\"id\":\"1632\"}},\"id\":\"1630\",\"type\":\"BoxZoomTool\"},{\"attributes\":{\"line_color\":\"#2ba02b\",\"line_width\":2,\"x\":{\"field\":\"Risk\"},\"y\":{\"field\":\"value\"}},\"id\":\"1682\",\"type\":\"Line\"},{\"attributes\":{},\"id\":\"1631\",\"type\":\"ResetTool\"},{\"attributes\":{},\"id\":\"1640\",\"type\":\"CategoricalTickFormatter\"},{\"attributes\":{\"active_drag\":\"auto\",\"active_inspect\":\"auto\",\"active_multi\":null,\"active_scroll\":\"auto\",\"active_tap\":\"auto\",\"tools\":[{\"id\":\"1608\"},{\"id\":\"1627\"},{\"id\":\"1628\"},{\"id\":\"1629\"},{\"id\":\"1630\"},{\"id\":\"1631\"}]},\"id\":\"1633\",\"type\":\"Toolbar\"},{\"attributes\":{\"data_source\":{\"id\":\"1679\"},\"glyph\":{\"id\":\"1682\"},\"hover_glyph\":null,\"muted_glyph\":{\"id\":\"1684\"},\"nonselection_glyph\":{\"id\":\"1683\"},\"selection_glyph\":null,\"view\":{\"id\":\"1686\"}},\"id\":\"1685\",\"type\":\"GlyphRenderer\"},{\"attributes\":{\"line_alpha\":0.2,\"line_color\":\"#ff7e0e\",\"line_width\":2,\"x\":{\"field\":\"Risk\"},\"y\":{\"field\":\"value\"}},\"id\":\"1667\",\"type\":\"Line\"},{\"attributes\":{\"label\":{\"value\":\"10\"},\"renderers\":[{\"id\":\"1685\"}]},\"id\":\"1697\",\"type\":\"LegendItem\"},{\"attributes\":{\"data_source\":{\"id\":\"1662\"},\"glyph\":{\"id\":\"1665\"},\"hover_glyph\":null,\"muted_glyph\":{\"id\":\"1667\"},\"nonselection_glyph\":{\"id\":\"1666\"},\"selection_glyph\":null,\"view\":{\"id\":\"1669\"}},\"id\":\"1668\",\"type\":\"GlyphRenderer\"},{\"attributes\":{\"label\":{\"value\":\"3\"},\"renderers\":[{\"id\":\"1652\"}]},\"id\":\"1661\",\"type\":\"LegendItem\"},{\"attributes\":{\"line_alpha\":0.1,\"line_color\":\"#2ba02b\",\"line_width\":2,\"x\":{\"field\":\"Risk\"},\"y\":{\"field\":\"value\"}},\"id\":\"1683\",\"type\":\"Line\"},{\"attributes\":{\"click_policy\":\"mute\",\"items\":[{\"id\":\"1661\"},{\"id\":\"1678\"},{\"id\":\"1697\"}],\"location\":[0,0],\"title\":\"Variable\"},\"id\":\"1660\",\"type\":\"Legend\"},{\"attributes\":{\"line_alpha\":0.1,\"line_color\":\"#ff7e0e\",\"line_width\":2,\"x\":{\"field\":\"Risk\"},\"y\":{\"field\":\"value\"}},\"id\":\"1666\",\"type\":\"Line\"},{\"attributes\":{\"line_alpha\":0.2,\"line_color\":\"#2ba02b\",\"line_width\":2,\"x\":{\"field\":\"Risk\"},\"y\":{\"field\":\"value\"}},\"id\":\"1684\",\"type\":\"Line\"},{\"attributes\":{\"end\":100,\"reset_end\":100,\"reset_start\":-2,\"start\":-2,\"tags\":[[[\"value\",\"value\",null]]]},\"id\":\"1607\",\"type\":\"Range1d\"},{\"attributes\":{\"source\":{\"id\":\"1679\"}},\"id\":\"1686\",\"type\":\"CDSView\"},{\"attributes\":{},\"id\":\"1618\",\"type\":\"LinearScale\"},{\"attributes\":{\"label\":{\"value\":\"5\"},\"renderers\":[{\"id\":\"1668\"}]},\"id\":\"1678\",\"type\":\"LegendItem\"},{\"attributes\":{},\"id\":\"1647\",\"type\":\"Selection\"},{\"attributes\":{},\"id\":\"1680\",\"type\":\"Selection\"},{\"attributes\":{\"line_alpha\":0.2,\"line_color\":\"#1f77b3\",\"line_width\":2,\"x\":{\"field\":\"Risk\"},\"y\":{\"field\":\"value\"}},\"id\":\"1651\",\"type\":\"Line\"},{\"attributes\":{},\"id\":\"1708\",\"type\":\"UnionRenderers\"},{\"attributes\":{\"margin\":[5,5,5,5],\"name\":\"HSpacer03028\",\"sizing_mode\":\"stretch_width\"},\"id\":\"1794\",\"type\":\"Spacer\"},{\"attributes\":{\"data_source\":{\"id\":\"1646\"},\"glyph\":{\"id\":\"1649\"},\"hover_glyph\":null,\"muted_glyph\":{\"id\":\"1651\"},\"nonselection_glyph\":{\"id\":\"1650\"},\"selection_glyph\":null,\"view\":{\"id\":\"1653\"}},\"id\":\"1652\",\"type\":\"GlyphRenderer\"},{\"attributes\":{\"source\":{\"id\":\"1662\"}},\"id\":\"1669\",\"type\":\"CDSView\"},{\"attributes\":{},\"id\":\"1642\",\"type\":\"BasicTickFormatter\"},{\"attributes\":{},\"id\":\"1663\",\"type\":\"Selection\"},{\"attributes\":{\"source\":{\"id\":\"1646\"}},\"id\":\"1653\",\"type\":\"CDSView\"},{\"attributes\":{\"factors\":[\"Alpha\",\"Beta\",\"Mean Annual Return\",\"R-squared\",\"Standard Deviation\",\"Sharpe Ratio\",\"Treynor Ratio\"],\"tags\":[[[\"Risk\",\"Risk\",null]]]},\"id\":\"1606\",\"type\":\"FactorRange\"},{\"attributes\":{\"data\":{\"Risk\":[\"Alpha\",\"Beta\",\"Mean Annual Return\",\"R-squared\",\"Standard Deviation\",\"Sharpe Ratio\",\"Treynor Ratio\"],\"Variable\":[\"10\",\"10\",\"10\",\"10\",\"10\",\"10\",\"10\"],\"value\":{\"__ndarray__\":\"exSuR+F6pL8AAAAAAADwP65H4XoUrvM/AAAAAAAAWUCuR+F6FC4rQKRwPQrXo/A/4XoUrkdhLEA=\",\"dtype\":\"float64\",\"shape\":[7]}},\"selected\":{\"id\":\"1680\"},\"selection_policy\":{\"id\":\"1708\"}},\"id\":\"1679\",\"type\":\"ColumnDataSource\"},{\"attributes\":{\"callback\":null,\"renderers\":[{\"id\":\"1652\"},{\"id\":\"1668\"},{\"id\":\"1685\"}],\"tags\":[\"hv_created\"],\"tooltips\":[[\"Variable\",\"@{Variable}\"],[\"Risk\",\"@{Risk}\"],[\"value\",\"@{value}\"]]},\"id\":\"1608\",\"type\":\"HoverTool\"},{\"attributes\":{\"bottom_units\":\"screen\",\"fill_alpha\":0.5,\"fill_color\":\"lightgrey\",\"left_units\":\"screen\",\"level\":\"overlay\",\"line_alpha\":1.0,\"line_color\":\"black\",\"line_dash\":[4,4],\"line_width\":2,\"render_mode\":\"css\",\"right_units\":\"screen\",\"top_units\":\"screen\"},\"id\":\"1632\",\"type\":\"BoxAnnotation\"},{\"attributes\":{\"data\":{\"Risk\":[\"Alpha\",\"Beta\",\"Mean Annual Return\",\"R-squared\",\"Standard Deviation\",\"Sharpe Ratio\",\"Treynor Ratio\"],\"Variable\":[\"5\",\"5\",\"5\",\"5\",\"5\",\"5\",\"5\"],\"value\":{\"__ndarray__\":\"exSuR+F6pL8AAAAAAADwPzMzMzMzM/c/AAAAAAAAWUB7FK5H4fotQEjhehSuR/E/9ihcj8J1MEA=\",\"dtype\":\"float64\",\"shape\":[7]}},\"selected\":{\"id\":\"1663\"},\"selection_policy\":{\"id\":\"1695\"}},\"id\":\"1662\",\"type\":\"ColumnDataSource\"},{\"attributes\":{\"line_color\":\"#1f77b3\",\"line_width\":2,\"x\":{\"field\":\"Risk\"},\"y\":{\"field\":\"value\"}},\"id\":\"1649\",\"type\":\"Line\"},{\"attributes\":{\"text\":\"Risk Statistics Vanguard S&P 500 ETF\",\"text_color\":{\"value\":\"black\"},\"text_font_size\":{\"value\":\"12pt\"}},\"id\":\"1612\",\"type\":\"Title\"}],\"root_ids\":[\"1604\"]},\"title\":\"Bokeh Application\",\"version\":\"2.0.2\"}};\n",
       "  var render_items = [{\"docid\":\"028312a8-29e3-4d35-86ab-51e3882ff401\",\"root_ids\":[\"1604\"],\"roots\":{\"1604\":\"8745f1ec-3f84-40dd-b073-60a321bfb94e\"}}];\n",
       "  root.Bokeh.embed.embed_items_notebook(docs_json, render_items);\n",
       "  }\n",
       "if (root.Bokeh !== undefined) {\n",
       "    embed_document(root);\n",
       "  } else {\n",
       "    var attempts = 0;\n",
       "    var timer = setInterval(function(root) {\n",
       "      if (root.Bokeh !== undefined) {\n",
       "        clearInterval(timer);\n",
       "        embed_document(root);\n",
       "      } else if (document.readyState == \"complete\") {\n",
       "        attempts++;\n",
       "        if (attempts > 100) {\n",
       "          clearInterval(timer);\n",
       "          console.log(\"Bokeh: ERROR: Unable to run BokehJS code because BokehJS library is missing\");\n",
       "        }\n",
       "      }\n",
       "    }, 10, root)\n",
       "  }\n",
       "})(window);</script>"
      ],
      "text/plain": [
       ":NdOverlay   [Variable]\n",
       "   :Curve   [Risk]   (value)"
      ]
     },
     "execution_count": 39,
     "metadata": {
      "application/vnd.holoviews_exec.v0+json": {
       "id": "1604"
      }
     },
     "output_type": "execute_result"
    }
   ],
   "source": [
    "## Plot the vanguard sp500 Risk line graph for 3,5 & 10 yrs\n",
    "vanguard_sp500.hvplot.line(x='Risk', \n",
    "                    y=['3', '5', '10'], \n",
    "                    width=800, \n",
    "                    height=600,  \n",
    "                    title='Risk Statistics Vanguard S&P 500 ETF',\n",
    "                    ylim=(-2,100),\n",
    "                    xlabel='Time Period 3 yrs, 5yrs & 10yrs',\n",
    "                    ylabel='Risk Value',\n",
    "                    grid=True)"
   ]
  },
  {
   "cell_type": "code",
   "execution_count": 40,
   "id": "3d37de0e-e3f0-42f1-8040-943ffac1537c",
   "metadata": {
    "tags": []
   },
   "outputs": [
    {
     "data": {},
     "metadata": {},
     "output_type": "display_data"
    },
    {
     "data": {
      "application/vnd.holoviews_exec.v0+json": "",
      "text/html": [
       "<div id='1856'>\n",
       "\n",
       "\n",
       "\n",
       "\n",
       "\n",
       "  <div class=\"bk-root\" id=\"0c1c0306-33c1-426b-9e01-bcc29a1888f0\" data-root-id=\"1856\"></div>\n",
       "</div>\n",
       "<script type=\"application/javascript\">(function(root) {\n",
       "  function embed_document(root) {\n",
       "  var docs_json = {\"b73caa55-0505-42b9-8a8a-5906725c0785\":{\"roots\":{\"references\":[{\"attributes\":{},\"id\":\"1868\",\"type\":\"LinearScale\"},{\"attributes\":{\"data\":{\"Risk\":[\"Alpha\",\"Beta\",\"Mean Annual Return\",\"R-squared\",\"Standard Deviation\",\"Sharpe Ratio\",\"Treynor Ratio\",\"Alpha\",\"Beta\",\"Mean Annual Return\",\"R-squared\",\"Standard Deviation\",\"Sharpe Ratio\",\"Treynor Ratio\",\"Alpha\",\"Beta\",\"Mean Annual Return\",\"R-squared\",\"Standard Deviation\",\"Sharpe Ratio\",\"Treynor Ratio\"],\"Variable\":[\"3\",\"3\",\"3\",\"3\",\"3\",\"3\",\"3\",\"5\",\"5\",\"5\",\"5\",\"5\",\"5\",\"5\",\"10\",\"10\",\"10\",\"10\",\"10\",\"10\",\"10\"],\"value\":{\"__ndarray__\":\"uB6F61G4nr8AAAAAAADwP0jhehSuR/k/AAAAAAAAWUBI4XoUrocyQGZmZmZmZu4/KVyPwvVoMUB7FK5H4XqkvwAAAAAAAPA/MzMzMzMz9z8AAAAAAABZQHsUrkfh+i1ASOF6FK5H8T/2KFyPwnUwQHsUrkfheqS/AAAAAAAA8D+uR+F6FK7zPwAAAAAAAFlArkfhehQuK0CkcD0K16PwP+F6FK5HYSxA\",\"dtype\":\"float64\",\"shape\":[21]},\"xoffsets\":[[\"Alpha\",\"3\"],[\"Beta\",\"3\"],[\"Mean Annual Return\",\"3\"],[\"R-squared\",\"3\"],[\"Standard Deviation\",\"3\"],[\"Sharpe Ratio\",\"3\"],[\"Treynor Ratio\",\"3\"],[\"Alpha\",\"5\"],[\"Beta\",\"5\"],[\"Mean Annual Return\",\"5\"],[\"R-squared\",\"5\"],[\"Standard Deviation\",\"5\"],[\"Sharpe Ratio\",\"5\"],[\"Treynor Ratio\",\"5\"],[\"Alpha\",\"10\"],[\"Beta\",\"10\"],[\"Mean Annual Return\",\"10\"],[\"R-squared\",\"10\"],[\"Standard Deviation\",\"10\"],[\"Sharpe Ratio\",\"10\"],[\"Treynor Ratio\",\"10\"]]},\"selected\":{\"id\":\"1892\"},\"selection_policy\":{\"id\":\"1911\"}},\"id\":\"1891\",\"type\":\"ColumnDataSource\"},{\"attributes\":{},\"id\":\"1877\",\"type\":\"SaveTool\"},{\"attributes\":{\"margin\":[5,5,5,5],\"name\":\"HSpacer03584\",\"sizing_mode\":\"stretch_width\"},\"id\":\"1857\",\"type\":\"Spacer\"},{\"attributes\":{},\"id\":\"1878\",\"type\":\"PanTool\"},{\"attributes\":{\"fill_alpha\":{\"value\":0.2},\"fill_color\":{\"field\":\"Variable\",\"transform\":{\"id\":\"1890\"}},\"line_alpha\":{\"value\":0.2},\"top\":{\"field\":\"value\"},\"width\":{\"value\":0.8},\"x\":{\"field\":\"xoffsets\"}},\"id\":\"1896\",\"type\":\"VBar\"},{\"attributes\":{\"margin\":[5,5,5,5],\"name\":\"HSpacer03585\",\"sizing_mode\":\"stretch_width\"},\"id\":\"1913\",\"type\":\"Spacer\"},{\"attributes\":{},\"id\":\"1879\",\"type\":\"WheelZoomTool\"},{\"attributes\":{\"factors\":[[\"Alpha\",\"10\"],[\"Alpha\",\"5\"],[\"Alpha\",\"3\"],[\"Beta\",\"10\"],[\"Beta\",\"5\"],[\"Beta\",\"3\"],[\"Mean Annual Return\",\"10\"],[\"Mean Annual Return\",\"5\"],[\"Mean Annual Return\",\"3\"],[\"R-squared\",\"10\"],[\"R-squared\",\"5\"],[\"R-squared\",\"3\"],[\"Standard Deviation\",\"10\"],[\"Standard Deviation\",\"5\"],[\"Standard Deviation\",\"3\"],[\"Sharpe Ratio\",\"10\"],[\"Sharpe Ratio\",\"5\"],[\"Sharpe Ratio\",\"3\"],[\"Treynor Ratio\",\"10\"],[\"Treynor Ratio\",\"5\"],[\"Treynor Ratio\",\"3\"]],\"tags\":[[[\"Risk\",\"Risk\",null],[\"Variable\",\"Variable\",null]]]},\"id\":\"1858\",\"type\":\"FactorRange\"},{\"attributes\":{},\"id\":\"1881\",\"type\":\"ResetTool\"},{\"attributes\":{\"fill_alpha\":{\"value\":0.1},\"fill_color\":{\"field\":\"Variable\",\"transform\":{\"id\":\"1890\"}},\"line_alpha\":{\"value\":0.1},\"top\":{\"field\":\"value\"},\"width\":{\"value\":0.8},\"x\":{\"field\":\"xoffsets\"}},\"id\":\"1895\",\"type\":\"VBar\"},{\"attributes\":{\"overlay\":{\"id\":\"1882\"}},\"id\":\"1880\",\"type\":\"BoxZoomTool\"},{\"attributes\":{\"below\":[{\"id\":\"1870\"}],\"center\":[{\"id\":\"1872\"},{\"id\":\"1876\"}],\"left\":[{\"id\":\"1873\"}],\"margin\":null,\"min_border_bottom\":10,\"min_border_left\":10,\"min_border_right\":10,\"min_border_top\":10,\"plot_height\":400,\"plot_width\":700,\"renderers\":[{\"id\":\"1897\"}],\"sizing_mode\":\"fixed\",\"title\":{\"id\":\"1862\"},\"toolbar\":{\"id\":\"1883\"},\"x_range\":{\"id\":\"1858\"},\"x_scale\":{\"id\":\"1866\"},\"y_range\":{\"id\":\"1859\"},\"y_scale\":{\"id\":\"1868\"}},\"id\":\"1861\",\"subtype\":\"Figure\",\"type\":\"Plot\"},{\"attributes\":{\"active_drag\":\"auto\",\"active_inspect\":\"auto\",\"active_multi\":null,\"active_scroll\":\"auto\",\"active_tap\":\"auto\",\"tools\":[{\"id\":\"1860\"},{\"id\":\"1877\"},{\"id\":\"1878\"},{\"id\":\"1879\"},{\"id\":\"1880\"},{\"id\":\"1881\"}]},\"id\":\"1883\",\"type\":\"Toolbar\"},{\"attributes\":{},\"id\":\"1901\",\"type\":\"BasicTickFormatter\"},{\"attributes\":{\"fill_color\":{\"field\":\"Variable\",\"transform\":{\"id\":\"1890\"}},\"top\":{\"field\":\"value\"},\"width\":{\"value\":0.8},\"x\":{\"field\":\"xoffsets\"}},\"id\":\"1894\",\"type\":\"VBar\"},{\"attributes\":{},\"id\":\"1874\",\"type\":\"BasicTicker\"},{\"attributes\":{\"children\":[{\"id\":\"1857\"},{\"id\":\"1861\"},{\"id\":\"1913\"}],\"margin\":[0,0,0,0],\"name\":\"Row03580\",\"tags\":[\"embedded\"]},\"id\":\"1856\",\"type\":\"Row\"},{\"attributes\":{},\"id\":\"1899\",\"type\":\"CategoricalTickFormatter\"},{\"attributes\":{\"source\":{\"id\":\"1891\"}},\"id\":\"1898\",\"type\":\"CDSView\"},{\"attributes\":{\"data_source\":{\"id\":\"1891\"},\"glyph\":{\"id\":\"1894\"},\"hover_glyph\":null,\"muted_glyph\":{\"id\":\"1896\"},\"nonselection_glyph\":{\"id\":\"1895\"},\"selection_glyph\":null,\"view\":{\"id\":\"1898\"}},\"id\":\"1897\",\"type\":\"GlyphRenderer\"},{\"attributes\":{\"end\":100,\"reset_end\":100,\"reset_start\":-2,\"start\":-2,\"tags\":[[[\"value\",\"value\",null]]]},\"id\":\"1859\",\"type\":\"Range1d\"},{\"attributes\":{},\"id\":\"1871\",\"type\":\"CategoricalTicker\"},{\"attributes\":{\"bottom_units\":\"screen\",\"fill_alpha\":0.5,\"fill_color\":\"lightgrey\",\"left_units\":\"screen\",\"level\":\"overlay\",\"line_alpha\":1.0,\"line_color\":\"black\",\"line_dash\":[4,4],\"line_width\":2,\"render_mode\":\"css\",\"right_units\":\"screen\",\"top_units\":\"screen\"},\"id\":\"1882\",\"type\":\"BoxAnnotation\"},{\"attributes\":{},\"id\":\"1892\",\"type\":\"Selection\"},{\"attributes\":{},\"id\":\"1911\",\"type\":\"UnionRenderers\"},{\"attributes\":{\"text\":\"Risk Statistics Vanguard S&P 500 ETF\",\"text_color\":{\"value\":\"black\"},\"text_font_size\":{\"value\":\"12pt\"}},\"id\":\"1862\",\"type\":\"Title\"},{\"attributes\":{\"factors\":[\"3\",\"5\",\"10\"],\"palette\":[\"#1f77b3\",\"#ff7e0e\",\"#2ba02b\"]},\"id\":\"1890\",\"type\":\"CategoricalColorMapper\"},{\"attributes\":{},\"id\":\"1866\",\"type\":\"CategoricalScale\"},{\"attributes\":{\"axis_label\":\"Risk Value\",\"bounds\":\"auto\",\"formatter\":{\"id\":\"1901\"},\"major_label_orientation\":\"horizontal\",\"ticker\":{\"id\":\"1874\"}},\"id\":\"1873\",\"type\":\"LinearAxis\"},{\"attributes\":{\"callback\":null,\"renderers\":[{\"id\":\"1897\"}],\"tags\":[\"hv_created\"],\"tooltips\":[[\"Risk\",\"@{Risk}\"],[\"Variable\",\"@{Variable}\"],[\"value\",\"@{value}\"]]},\"id\":\"1860\",\"type\":\"HoverTool\"},{\"attributes\":{\"axis_label\":\"Time Period 3 yrs, 5yrs & 10yrs \",\"bounds\":\"auto\",\"formatter\":{\"id\":\"1899\"},\"major_label_orientation\":\"horizontal\",\"ticker\":{\"id\":\"1871\"}},\"id\":\"1870\",\"type\":\"CategoricalAxis\"},{\"attributes\":{\"axis\":{\"id\":\"1870\"},\"ticker\":{\"id\":\"1871\"}},\"id\":\"1872\",\"type\":\"Grid\"},{\"attributes\":{\"axis\":{\"id\":\"1873\"},\"dimension\":1,\"ticker\":{\"id\":\"1874\"}},\"id\":\"1876\",\"type\":\"Grid\"}],\"root_ids\":[\"1856\"]},\"title\":\"Bokeh Application\",\"version\":\"2.0.2\"}};\n",
       "  var render_items = [{\"docid\":\"b73caa55-0505-42b9-8a8a-5906725c0785\",\"root_ids\":[\"1856\"],\"roots\":{\"1856\":\"0c1c0306-33c1-426b-9e01-bcc29a1888f0\"}}];\n",
       "  root.Bokeh.embed.embed_items_notebook(docs_json, render_items);\n",
       "  }\n",
       "if (root.Bokeh !== undefined) {\n",
       "    embed_document(root);\n",
       "  } else {\n",
       "    var attempts = 0;\n",
       "    var timer = setInterval(function(root) {\n",
       "      if (root.Bokeh !== undefined) {\n",
       "        clearInterval(timer);\n",
       "        embed_document(root);\n",
       "      } else if (document.readyState == \"complete\") {\n",
       "        attempts++;\n",
       "        if (attempts > 100) {\n",
       "          clearInterval(timer);\n",
       "          console.log(\"Bokeh: ERROR: Unable to run BokehJS code because BokehJS library is missing\");\n",
       "        }\n",
       "      }\n",
       "    }, 10, root)\n",
       "  }\n",
       "})(window);</script>"
      ],
      "text/plain": [
       ":Bars   [Risk,Variable]   (value)"
      ]
     },
     "execution_count": 40,
     "metadata": {
      "application/vnd.holoviews_exec.v0+json": {
       "id": "1856"
      }
     },
     "output_type": "execute_result"
    }
   ],
   "source": [
    "## Plot the vanguard sp500 Risk bar graph for 3,5,10 yrs\n",
    "vanguard_sp500.hvplot.bar(x='Risk', \n",
    "                    y=['3', '5', '10'], \n",
    "                    width=700, \n",
    "                    height=400,  \n",
    "                    title='Risk Statistics Vanguard S&P 500 ETF',\n",
    "                    ylim=(-2,100),\n",
    "                    xlabel='Time Period 3 yrs, 5yrs & 10yrs ',\n",
    "                    ylabel='Risk Value',\n",
    "                    grid=True)"
   ]
  },
  {
   "cell_type": "markdown",
   "id": "ad4ca408-c864-498d-b725-a1aedd4c848f",
   "metadata": {
    "tags": []
   },
   "source": [
    "### Plot the graph for the Risk Statistics of vanguard_2040(VFORX)"
   ]
  },
  {
   "cell_type": "code",
   "execution_count": 41,
   "id": "f5a0a013-f252-4558-8bdf-e1dda7945676",
   "metadata": {},
   "outputs": [
    {
     "data": {
      "text/html": [
       "<div>\n",
       "<style scoped>\n",
       "    .dataframe tbody tr th:only-of-type {\n",
       "        vertical-align: middle;\n",
       "    }\n",
       "\n",
       "    .dataframe tbody tr th {\n",
       "        vertical-align: top;\n",
       "    }\n",
       "\n",
       "    .dataframe thead th {\n",
       "        text-align: right;\n",
       "    }\n",
       "</style>\n",
       "<table border=\"1\" class=\"dataframe\">\n",
       "  <thead>\n",
       "    <tr style=\"text-align: right;\">\n",
       "      <th></th>\n",
       "      <th>Risk</th>\n",
       "      <th>3</th>\n",
       "      <th>5</th>\n",
       "      <th>10</th>\n",
       "    </tr>\n",
       "  </thead>\n",
       "  <tbody>\n",
       "    <tr>\n",
       "      <th>0</th>\n",
       "      <td>Alpha</td>\n",
       "      <td>-1.11</td>\n",
       "      <td>-0.13</td>\n",
       "      <td>-0.43</td>\n",
       "    </tr>\n",
       "    <tr>\n",
       "      <th>1</th>\n",
       "      <td>Beta</td>\n",
       "      <td>1.35</td>\n",
       "      <td>1.35</td>\n",
       "      <td>1.40</td>\n",
       "    </tr>\n",
       "    <tr>\n",
       "      <th>2</th>\n",
       "      <td>Mean Annual Return</td>\n",
       "      <td>1.14</td>\n",
       "      <td>1.11</td>\n",
       "      <td>0.89</td>\n",
       "    </tr>\n",
       "    <tr>\n",
       "      <th>3</th>\n",
       "      <td>R-squared</td>\n",
       "      <td>99.16</td>\n",
       "      <td>98.97</td>\n",
       "      <td>98.20</td>\n",
       "    </tr>\n",
       "    <tr>\n",
       "      <th>4</th>\n",
       "      <td>Standard Deviation</td>\n",
       "      <td>15.39</td>\n",
       "      <td>12.42</td>\n",
       "      <td>12.01</td>\n",
       "    </tr>\n",
       "    <tr>\n",
       "      <th>5</th>\n",
       "      <td>Sharpe Ratio</td>\n",
       "      <td>0.81</td>\n",
       "      <td>0.98</td>\n",
       "      <td>0.84</td>\n",
       "    </tr>\n",
       "    <tr>\n",
       "      <th>6</th>\n",
       "      <td>Treynor Ratio</td>\n",
       "      <td>8.96</td>\n",
       "      <td>9.00</td>\n",
       "      <td>7.00</td>\n",
       "    </tr>\n",
       "  </tbody>\n",
       "</table>\n",
       "</div>"
      ],
      "text/plain": [
       "                 Risk      3      5     10\n",
       "0               Alpha  -1.11  -0.13  -0.43\n",
       "1                Beta   1.35   1.35   1.40\n",
       "2  Mean Annual Return   1.14   1.11   0.89\n",
       "3           R-squared  99.16  98.97  98.20\n",
       "4  Standard Deviation  15.39  12.42  12.01\n",
       "5        Sharpe Ratio   0.81   0.98   0.84\n",
       "6       Treynor Ratio   8.96   9.00   7.00"
      ]
     },
     "execution_count": 41,
     "metadata": {},
     "output_type": "execute_result"
    }
   ],
   "source": [
    "## Set the X & Y axis \n",
    "vanguard_2040 = pd.DataFrame({'Risk':vanguard_2040_riskstatistics.Risk_Statistics,'3': vanguard_2040_riskstatistics.VFORX_3yrs,'5': vanguard_2040_riskstatistics.VFORX_5yrs,'10': vanguard_2040_riskstatistics.VFORX_10yrs })\n",
    "vanguard_2040"
   ]
  },
  {
   "cell_type": "code",
   "execution_count": 42,
   "id": "9a603f4a-be7c-42f1-a811-77b2f4ed3bc7",
   "metadata": {},
   "outputs": [
    {
     "data": {
      "text/html": [
       "<div>\n",
       "<style scoped>\n",
       "    .dataframe tbody tr th:only-of-type {\n",
       "        vertical-align: middle;\n",
       "    }\n",
       "\n",
       "    .dataframe tbody tr th {\n",
       "        vertical-align: top;\n",
       "    }\n",
       "\n",
       "    .dataframe thead th {\n",
       "        text-align: right;\n",
       "    }\n",
       "</style>\n",
       "<table border=\"1\" class=\"dataframe\">\n",
       "  <thead>\n",
       "    <tr style=\"text-align: right;\">\n",
       "      <th></th>\n",
       "      <th>3</th>\n",
       "      <th>5</th>\n",
       "      <th>10</th>\n",
       "    </tr>\n",
       "    <tr>\n",
       "      <th>Risk</th>\n",
       "      <th></th>\n",
       "      <th></th>\n",
       "      <th></th>\n",
       "    </tr>\n",
       "  </thead>\n",
       "  <tbody>\n",
       "    <tr>\n",
       "      <th>Alpha</th>\n",
       "      <td>-1.11</td>\n",
       "      <td>-0.13</td>\n",
       "      <td>-0.43</td>\n",
       "    </tr>\n",
       "    <tr>\n",
       "      <th>Beta</th>\n",
       "      <td>1.35</td>\n",
       "      <td>1.35</td>\n",
       "      <td>1.40</td>\n",
       "    </tr>\n",
       "    <tr>\n",
       "      <th>Mean Annual Return</th>\n",
       "      <td>1.14</td>\n",
       "      <td>1.11</td>\n",
       "      <td>0.89</td>\n",
       "    </tr>\n",
       "    <tr>\n",
       "      <th>R-squared</th>\n",
       "      <td>99.16</td>\n",
       "      <td>98.97</td>\n",
       "      <td>98.20</td>\n",
       "    </tr>\n",
       "    <tr>\n",
       "      <th>Standard Deviation</th>\n",
       "      <td>15.39</td>\n",
       "      <td>12.42</td>\n",
       "      <td>12.01</td>\n",
       "    </tr>\n",
       "    <tr>\n",
       "      <th>Sharpe Ratio</th>\n",
       "      <td>0.81</td>\n",
       "      <td>0.98</td>\n",
       "      <td>0.84</td>\n",
       "    </tr>\n",
       "    <tr>\n",
       "      <th>Treynor Ratio</th>\n",
       "      <td>8.96</td>\n",
       "      <td>9.00</td>\n",
       "      <td>7.00</td>\n",
       "    </tr>\n",
       "  </tbody>\n",
       "</table>\n",
       "</div>"
      ],
      "text/plain": [
       "                        3      5     10\n",
       "Risk                                   \n",
       "Alpha               -1.11  -0.13  -0.43\n",
       "Beta                 1.35   1.35   1.40\n",
       "Mean Annual Return   1.14   1.11   0.89\n",
       "R-squared           99.16  98.97  98.20\n",
       "Standard Deviation  15.39  12.42  12.01\n",
       "Sharpe Ratio         0.81   0.98   0.84\n",
       "Treynor Ratio        8.96   9.00   7.00"
      ]
     },
     "execution_count": 42,
     "metadata": {},
     "output_type": "execute_result"
    }
   ],
   "source": [
    "# Set Index\n",
    "vanguard_2040.set_index('Risk')"
   ]
  },
  {
   "cell_type": "code",
   "execution_count": 43,
   "id": "d8cf6ad9-93a3-4cf3-89c9-bfe8896dbdfe",
   "metadata": {},
   "outputs": [
    {
     "data": {},
     "metadata": {},
     "output_type": "display_data"
    },
    {
     "data": {
      "application/vnd.holoviews_exec.v0+json": "",
      "text/html": [
       "<div id='1955'>\n",
       "\n",
       "\n",
       "\n",
       "\n",
       "\n",
       "  <div class=\"bk-root\" id=\"41c5e3d9-5981-4140-a4d4-d987f65e3cf8\" data-root-id=\"1955\"></div>\n",
       "</div>\n",
       "<script type=\"application/javascript\">(function(root) {\n",
       "  function embed_document(root) {\n",
       "  var docs_json = {\"7031c127-6a20-499b-8b33-80e6d6c5ada9\":{\"roots\":{\"references\":[{\"attributes\":{\"axis_label\":\"Time Period 3 yrs, 5yrs & 10yrs\",\"bounds\":\"auto\",\"formatter\":{\"id\":\"1991\"},\"major_label_orientation\":\"horizontal\",\"ticker\":{\"id\":\"1972\"}},\"id\":\"1971\",\"type\":\"CategoricalAxis\"},{\"attributes\":{},\"id\":\"1975\",\"type\":\"BasicTicker\"},{\"attributes\":{\"data\":{\"Risk\":[\"Alpha\",\"Beta\",\"Mean Annual Return\",\"R-squared\",\"Standard Deviation\",\"Sharpe Ratio\",\"Treynor Ratio\"],\"Variable\":[\"5\",\"5\",\"5\",\"5\",\"5\",\"5\",\"5\"],\"value\":{\"__ndarray__\":\"pHA9CtejwL+amZmZmZn1P8P1KFyPwvE/rkfhehS+WEDXo3A9CtcoQFyPwvUoXO8/AAAAAAAAIkA=\",\"dtype\":\"float64\",\"shape\":[7]}},\"selected\":{\"id\":\"2014\"},\"selection_policy\":{\"id\":\"2046\"}},\"id\":\"2013\",\"type\":\"ColumnDataSource\"},{\"attributes\":{},\"id\":\"1991\",\"type\":\"CategoricalTickFormatter\"},{\"attributes\":{\"axis\":{\"id\":\"1974\"},\"dimension\":1,\"ticker\":{\"id\":\"1975\"}},\"id\":\"1977\",\"type\":\"Grid\"},{\"attributes\":{\"line_color\":\"#2ba02b\",\"line_width\":2,\"x\":{\"field\":\"Risk\"},\"y\":{\"field\":\"value\"}},\"id\":\"2033\",\"type\":\"Line\"},{\"attributes\":{\"overlay\":{\"id\":\"1983\"}},\"id\":\"1981\",\"type\":\"BoxZoomTool\"},{\"attributes\":{\"line_alpha\":0.2,\"line_color\":\"#ff7e0e\",\"line_width\":2,\"x\":{\"field\":\"Risk\"},\"y\":{\"field\":\"value\"}},\"id\":\"2018\",\"type\":\"Line\"},{\"attributes\":{\"data_source\":{\"id\":\"2030\"},\"glyph\":{\"id\":\"2033\"},\"hover_glyph\":null,\"muted_glyph\":{\"id\":\"2035\"},\"nonselection_glyph\":{\"id\":\"2034\"},\"selection_glyph\":null,\"view\":{\"id\":\"2037\"}},\"id\":\"2036\",\"type\":\"GlyphRenderer\"},{\"attributes\":{},\"id\":\"1982\",\"type\":\"ResetTool\"},{\"attributes\":{\"label\":{\"value\":\"10\"},\"renderers\":[{\"id\":\"2036\"}]},\"id\":\"2048\",\"type\":\"LegendItem\"},{\"attributes\":{\"line_alpha\":0.1,\"line_color\":\"#2ba02b\",\"line_width\":2,\"x\":{\"field\":\"Risk\"},\"y\":{\"field\":\"value\"}},\"id\":\"2034\",\"type\":\"Line\"},{\"attributes\":{\"data_source\":{\"id\":\"1997\"},\"glyph\":{\"id\":\"2000\"},\"hover_glyph\":null,\"muted_glyph\":{\"id\":\"2002\"},\"nonselection_glyph\":{\"id\":\"2001\"},\"selection_glyph\":null,\"view\":{\"id\":\"2004\"}},\"id\":\"2003\",\"type\":\"GlyphRenderer\"},{\"attributes\":{\"line_color\":\"#ff7e0e\",\"line_width\":2,\"x\":{\"field\":\"Risk\"},\"y\":{\"field\":\"value\"}},\"id\":\"2016\",\"type\":\"Line\"},{\"attributes\":{\"line_alpha\":0.1,\"line_color\":\"#1f77b3\",\"line_width\":2,\"x\":{\"field\":\"Risk\"},\"y\":{\"field\":\"value\"}},\"id\":\"2001\",\"type\":\"Line\"},{\"attributes\":{\"line_alpha\":0.2,\"line_color\":\"#2ba02b\",\"line_width\":2,\"x\":{\"field\":\"Risk\"},\"y\":{\"field\":\"value\"}},\"id\":\"2035\",\"type\":\"Line\"},{\"attributes\":{\"label\":{\"value\":\"3\"},\"renderers\":[{\"id\":\"2003\"}]},\"id\":\"2012\",\"type\":\"LegendItem\"},{\"attributes\":{\"data\":{\"Risk\":[\"Alpha\",\"Beta\",\"Mean Annual Return\",\"R-squared\",\"Standard Deviation\",\"Sharpe Ratio\",\"Treynor Ratio\"],\"Variable\":[\"3\",\"3\",\"3\",\"3\",\"3\",\"3\",\"3\"],\"value\":{\"__ndarray__\":\"w/UoXI/C8b+amZmZmZn1Pz0K16NwPfI/CtejcD3KWEBI4XoUrscuQOxRuB6F6+k/7FG4HoXrIUA=\",\"dtype\":\"float64\",\"shape\":[7]}},\"selected\":{\"id\":\"1998\"},\"selection_policy\":{\"id\":\"2027\"}},\"id\":\"1997\",\"type\":\"ColumnDataSource\"},{\"attributes\":{\"source\":{\"id\":\"1997\"}},\"id\":\"2004\",\"type\":\"CDSView\"},{\"attributes\":{\"source\":{\"id\":\"2030\"}},\"id\":\"2037\",\"type\":\"CDSView\"},{\"attributes\":{},\"id\":\"2031\",\"type\":\"Selection\"},{\"attributes\":{\"click_policy\":\"mute\",\"items\":[{\"id\":\"2012\"},{\"id\":\"2029\"},{\"id\":\"2048\"}],\"location\":[0,0],\"title\":\"Variable\"},\"id\":\"2011\",\"type\":\"Legend\"},{\"attributes\":{},\"id\":\"2059\",\"type\":\"UnionRenderers\"},{\"attributes\":{},\"id\":\"1993\",\"type\":\"BasicTickFormatter\"},{\"attributes\":{\"line_alpha\":0.2,\"line_color\":\"#1f77b3\",\"line_width\":2,\"x\":{\"field\":\"Risk\"},\"y\":{\"field\":\"value\"}},\"id\":\"2002\",\"type\":\"Line\"},{\"attributes\":{\"source\":{\"id\":\"2013\"}},\"id\":\"2020\",\"type\":\"CDSView\"},{\"attributes\":{},\"id\":\"1998\",\"type\":\"Selection\"},{\"attributes\":{},\"id\":\"2014\",\"type\":\"Selection\"},{\"attributes\":{\"margin\":[5,5,5,5],\"name\":\"HSpacer03868\",\"sizing_mode\":\"stretch_width\"},\"id\":\"2145\",\"type\":\"Spacer\"},{\"attributes\":{\"data\":{\"Risk\":[\"Alpha\",\"Beta\",\"Mean Annual Return\",\"R-squared\",\"Standard Deviation\",\"Sharpe Ratio\",\"Treynor Ratio\"],\"Variable\":[\"10\",\"10\",\"10\",\"10\",\"10\",\"10\",\"10\"],\"value\":{\"__ndarray__\":\"hetRuB6F279mZmZmZmb2P3sUrkfheuw/zczMzMyMWECF61G4HgUoQOF6FK5H4eo/AAAAAAAAHEA=\",\"dtype\":\"float64\",\"shape\":[7]}},\"selected\":{\"id\":\"2031\"},\"selection_policy\":{\"id\":\"2059\"}},\"id\":\"2030\",\"type\":\"ColumnDataSource\"},{\"attributes\":{\"line_alpha\":0.1,\"line_color\":\"#ff7e0e\",\"line_width\":2,\"x\":{\"field\":\"Risk\"},\"y\":{\"field\":\"value\"}},\"id\":\"2017\",\"type\":\"Line\"},{\"attributes\":{},\"id\":\"1980\",\"type\":\"WheelZoomTool\"},{\"attributes\":{\"bottom_units\":\"screen\",\"fill_alpha\":0.5,\"fill_color\":\"lightgrey\",\"left_units\":\"screen\",\"level\":\"overlay\",\"line_alpha\":1.0,\"line_color\":\"black\",\"line_dash\":[4,4],\"line_width\":2,\"render_mode\":\"css\",\"right_units\":\"screen\",\"top_units\":\"screen\"},\"id\":\"1983\",\"type\":\"BoxAnnotation\"},{\"attributes\":{},\"id\":\"2027\",\"type\":\"UnionRenderers\"},{\"attributes\":{\"children\":[{\"id\":\"1956\"},{\"id\":\"1962\"},{\"id\":\"2145\"}],\"margin\":[0,0,0,0],\"name\":\"Row03863\",\"tags\":[\"embedded\"]},\"id\":\"1955\",\"type\":\"Row\"},{\"attributes\":{\"data_source\":{\"id\":\"2013\"},\"glyph\":{\"id\":\"2016\"},\"hover_glyph\":null,\"muted_glyph\":{\"id\":\"2018\"},\"nonselection_glyph\":{\"id\":\"2017\"},\"selection_glyph\":null,\"view\":{\"id\":\"2020\"}},\"id\":\"2019\",\"type\":\"GlyphRenderer\"},{\"attributes\":{\"line_color\":\"#1f77b3\",\"line_width\":2,\"x\":{\"field\":\"Risk\"},\"y\":{\"field\":\"value\"}},\"id\":\"2000\",\"type\":\"Line\"},{\"attributes\":{\"callback\":null,\"renderers\":[{\"id\":\"2003\"},{\"id\":\"2019\"},{\"id\":\"2036\"}],\"tags\":[\"hv_created\"],\"tooltips\":[[\"Variable\",\"@{Variable}\"],[\"Risk\",\"@{Risk}\"],[\"value\",\"@{value}\"]]},\"id\":\"1959\",\"type\":\"HoverTool\"},{\"attributes\":{\"label\":{\"value\":\"5\"},\"renderers\":[{\"id\":\"2019\"}]},\"id\":\"2029\",\"type\":\"LegendItem\"},{\"attributes\":{\"active_drag\":\"auto\",\"active_inspect\":\"auto\",\"active_multi\":null,\"active_scroll\":\"auto\",\"active_tap\":\"auto\",\"tools\":[{\"id\":\"1959\"},{\"id\":\"1978\"},{\"id\":\"1979\"},{\"id\":\"1980\"},{\"id\":\"1981\"},{\"id\":\"1982\"}]},\"id\":\"1984\",\"type\":\"Toolbar\"},{\"attributes\":{\"axis_label\":\"Risk Value\",\"bounds\":\"auto\",\"formatter\":{\"id\":\"1993\"},\"major_label_orientation\":\"horizontal\",\"ticker\":{\"id\":\"1975\"}},\"id\":\"1974\",\"type\":\"LinearAxis\"},{\"attributes\":{},\"id\":\"1969\",\"type\":\"LinearScale\"},{\"attributes\":{\"text\":\"Risk Statistics of Vanguard Target Retirement 2040 Fund\",\"text_color\":{\"value\":\"black\"},\"text_font_size\":{\"value\":\"12pt\"}},\"id\":\"1963\",\"type\":\"Title\"},{\"attributes\":{},\"id\":\"1979\",\"type\":\"PanTool\"},{\"attributes\":{},\"id\":\"2046\",\"type\":\"UnionRenderers\"},{\"attributes\":{\"axis\":{\"id\":\"1971\"},\"ticker\":{\"id\":\"1972\"}},\"id\":\"1973\",\"type\":\"Grid\"},{\"attributes\":{\"margin\":[5,5,5,5],\"name\":\"HSpacer03867\",\"sizing_mode\":\"stretch_width\"},\"id\":\"1956\",\"type\":\"Spacer\"},{\"attributes\":{\"factors\":[\"Alpha\",\"Beta\",\"Mean Annual Return\",\"R-squared\",\"Standard Deviation\",\"Sharpe Ratio\",\"Treynor Ratio\"],\"tags\":[[[\"Risk\",\"Risk\",null]]]},\"id\":\"1957\",\"type\":\"FactorRange\"},{\"attributes\":{},\"id\":\"1967\",\"type\":\"CategoricalScale\"},{\"attributes\":{\"below\":[{\"id\":\"1971\"}],\"center\":[{\"id\":\"1973\"},{\"id\":\"1977\"}],\"left\":[{\"id\":\"1974\"}],\"margin\":null,\"min_border_bottom\":10,\"min_border_left\":10,\"min_border_right\":10,\"min_border_top\":10,\"plot_width\":800,\"renderers\":[{\"id\":\"2003\"},{\"id\":\"2019\"},{\"id\":\"2036\"}],\"right\":[{\"id\":\"2011\"}],\"sizing_mode\":\"fixed\",\"title\":{\"id\":\"1963\"},\"toolbar\":{\"id\":\"1984\"},\"x_range\":{\"id\":\"1957\"},\"x_scale\":{\"id\":\"1967\"},\"y_range\":{\"id\":\"1958\"},\"y_scale\":{\"id\":\"1969\"}},\"id\":\"1962\",\"subtype\":\"Figure\",\"type\":\"Plot\"},{\"attributes\":{\"end\":100,\"reset_end\":100,\"reset_start\":-2,\"start\":-2,\"tags\":[[[\"value\",\"value\",null]]]},\"id\":\"1958\",\"type\":\"Range1d\"},{\"attributes\":{},\"id\":\"1972\",\"type\":\"CategoricalTicker\"},{\"attributes\":{},\"id\":\"1978\",\"type\":\"SaveTool\"}],\"root_ids\":[\"1955\"]},\"title\":\"Bokeh Application\",\"version\":\"2.0.2\"}};\n",
       "  var render_items = [{\"docid\":\"7031c127-6a20-499b-8b33-80e6d6c5ada9\",\"root_ids\":[\"1955\"],\"roots\":{\"1955\":\"41c5e3d9-5981-4140-a4d4-d987f65e3cf8\"}}];\n",
       "  root.Bokeh.embed.embed_items_notebook(docs_json, render_items);\n",
       "  }\n",
       "if (root.Bokeh !== undefined) {\n",
       "    embed_document(root);\n",
       "  } else {\n",
       "    var attempts = 0;\n",
       "    var timer = setInterval(function(root) {\n",
       "      if (root.Bokeh !== undefined) {\n",
       "        clearInterval(timer);\n",
       "        embed_document(root);\n",
       "      } else if (document.readyState == \"complete\") {\n",
       "        attempts++;\n",
       "        if (attempts > 100) {\n",
       "          clearInterval(timer);\n",
       "          console.log(\"Bokeh: ERROR: Unable to run BokehJS code because BokehJS library is missing\");\n",
       "        }\n",
       "      }\n",
       "    }, 10, root)\n",
       "  }\n",
       "})(window);</script>"
      ],
      "text/plain": [
       ":NdOverlay   [Variable]\n",
       "   :Curve   [Risk]   (value)"
      ]
     },
     "execution_count": 43,
     "metadata": {
      "application/vnd.holoviews_exec.v0+json": {
       "id": "1955"
      }
     },
     "output_type": "execute_result"
    }
   ],
   "source": [
    "## Plot the vanguard Target Retirement 2040 fund Risk statistics line graph for 3,5 & 10 yrs\n",
    "vanguard_2040.hvplot.line(x='Risk', \n",
    "                    y=['3', '5', '10'], \n",
    "                    width=800, \n",
    "                    height=600,  \n",
    "                    title='Risk Statistics of Vanguard Target Retirement 2040 Fund',\n",
    "                    ylim=(-2,100),\n",
    "                    xlabel='Time Period 3 yrs, 5yrs & 10yrs',\n",
    "                    ylabel='Risk Value',\n",
    "                    grid=True)"
   ]
  },
  {
   "cell_type": "code",
   "execution_count": 44,
   "id": "559800a7-80fc-4b73-ab55-cca908850a2b",
   "metadata": {},
   "outputs": [
    {
     "data": {},
     "metadata": {},
     "output_type": "display_data"
    },
    {
     "data": {
      "application/vnd.holoviews_exec.v0+json": "",
      "text/html": [
       "<div id='2207'>\n",
       "\n",
       "\n",
       "\n",
       "\n",
       "\n",
       "  <div class=\"bk-root\" id=\"44a04af7-f882-42a4-9137-440966374f7d\" data-root-id=\"2207\"></div>\n",
       "</div>\n",
       "<script type=\"application/javascript\">(function(root) {\n",
       "  function embed_document(root) {\n",
       "  var docs_json = {\"e5029d62-c054-4d6f-813c-460040869748\":{\"roots\":{\"references\":[{\"attributes\":{},\"id\":\"2229\",\"type\":\"PanTool\"},{\"attributes\":{\"overlay\":{\"id\":\"2233\"}},\"id\":\"2231\",\"type\":\"BoxZoomTool\"},{\"attributes\":{},\"id\":\"2243\",\"type\":\"Selection\"},{\"attributes\":{\"end\":100,\"reset_end\":100,\"reset_start\":-2,\"start\":-2,\"tags\":[[[\"value\",\"value\",null]]]},\"id\":\"2210\",\"type\":\"Range1d\"},{\"attributes\":{},\"id\":\"2232\",\"type\":\"ResetTool\"},{\"attributes\":{\"data\":{\"Risk\":[\"Alpha\",\"Beta\",\"Mean Annual Return\",\"R-squared\",\"Standard Deviation\",\"Sharpe Ratio\",\"Treynor Ratio\",\"Alpha\",\"Beta\",\"Mean Annual Return\",\"R-squared\",\"Standard Deviation\",\"Sharpe Ratio\",\"Treynor Ratio\",\"Alpha\",\"Beta\",\"Mean Annual Return\",\"R-squared\",\"Standard Deviation\",\"Sharpe Ratio\",\"Treynor Ratio\"],\"Variable\":[\"3\",\"3\",\"3\",\"3\",\"3\",\"3\",\"3\",\"5\",\"5\",\"5\",\"5\",\"5\",\"5\",\"5\",\"10\",\"10\",\"10\",\"10\",\"10\",\"10\",\"10\"],\"value\":{\"__ndarray__\":\"w/UoXI/C8b+amZmZmZn1Pz0K16NwPfI/CtejcD3KWEBI4XoUrscuQOxRuB6F6+k/7FG4HoXrIUCkcD0K16PAv5qZmZmZmfU/w/UoXI/C8T+uR+F6FL5YQNejcD0K1yhAXI/C9Shc7z8AAAAAAAAiQIXrUbgehdu/ZmZmZmZm9j97FK5H4XrsP83MzMzMjFhAhetRuB4FKEDhehSuR+HqPwAAAAAAABxA\",\"dtype\":\"float64\",\"shape\":[21]},\"xoffsets\":[[\"Alpha\",\"3\"],[\"Beta\",\"3\"],[\"Mean Annual Return\",\"3\"],[\"R-squared\",\"3\"],[\"Standard Deviation\",\"3\"],[\"Sharpe Ratio\",\"3\"],[\"Treynor Ratio\",\"3\"],[\"Alpha\",\"5\"],[\"Beta\",\"5\"],[\"Mean Annual Return\",\"5\"],[\"R-squared\",\"5\"],[\"Standard Deviation\",\"5\"],[\"Sharpe Ratio\",\"5\"],[\"Treynor Ratio\",\"5\"],[\"Alpha\",\"10\"],[\"Beta\",\"10\"],[\"Mean Annual Return\",\"10\"],[\"R-squared\",\"10\"],[\"Standard Deviation\",\"10\"],[\"Sharpe Ratio\",\"10\"],[\"Treynor Ratio\",\"10\"]]},\"selected\":{\"id\":\"2243\"},\"selection_policy\":{\"id\":\"2262\"}},\"id\":\"2242\",\"type\":\"ColumnDataSource\"},{\"attributes\":{\"fill_alpha\":{\"value\":0.1},\"fill_color\":{\"field\":\"Variable\",\"transform\":{\"id\":\"2241\"}},\"line_alpha\":{\"value\":0.1},\"top\":{\"field\":\"value\"},\"width\":{\"value\":0.8},\"x\":{\"field\":\"xoffsets\"}},\"id\":\"2246\",\"type\":\"VBar\"},{\"attributes\":{},\"id\":\"2250\",\"type\":\"CategoricalTickFormatter\"},{\"attributes\":{},\"id\":\"2262\",\"type\":\"UnionRenderers\"},{\"attributes\":{\"data_source\":{\"id\":\"2242\"},\"glyph\":{\"id\":\"2245\"},\"hover_glyph\":null,\"muted_glyph\":{\"id\":\"2247\"},\"nonselection_glyph\":{\"id\":\"2246\"},\"selection_glyph\":null,\"view\":{\"id\":\"2249\"}},\"id\":\"2248\",\"type\":\"GlyphRenderer\"},{\"attributes\":{\"factors\":[[\"Alpha\",\"10\"],[\"Alpha\",\"5\"],[\"Alpha\",\"3\"],[\"Beta\",\"10\"],[\"Beta\",\"5\"],[\"Beta\",\"3\"],[\"Mean Annual Return\",\"10\"],[\"Mean Annual Return\",\"5\"],[\"Mean Annual Return\",\"3\"],[\"R-squared\",\"10\"],[\"R-squared\",\"5\"],[\"R-squared\",\"3\"],[\"Standard Deviation\",\"10\"],[\"Standard Deviation\",\"5\"],[\"Standard Deviation\",\"3\"],[\"Sharpe Ratio\",\"10\"],[\"Sharpe Ratio\",\"5\"],[\"Sharpe Ratio\",\"3\"],[\"Treynor Ratio\",\"10\"],[\"Treynor Ratio\",\"5\"],[\"Treynor Ratio\",\"3\"]],\"tags\":[[[\"Risk\",\"Risk\",null],[\"Variable\",\"Variable\",null]]]},\"id\":\"2209\",\"type\":\"FactorRange\"},{\"attributes\":{\"callback\":null,\"renderers\":[{\"id\":\"2248\"}],\"tags\":[\"hv_created\"],\"tooltips\":[[\"Risk\",\"@{Risk}\"],[\"Variable\",\"@{Variable}\"],[\"value\",\"@{value}\"]]},\"id\":\"2211\",\"type\":\"HoverTool\"},{\"attributes\":{\"axis_label\":\"Time Period 3 yrs, 5yrs & 10yrs\",\"bounds\":\"auto\",\"formatter\":{\"id\":\"2250\"},\"major_label_orientation\":\"horizontal\",\"ticker\":{\"id\":\"2222\"}},\"id\":\"2221\",\"type\":\"CategoricalAxis\"},{\"attributes\":{},\"id\":\"2252\",\"type\":\"BasicTickFormatter\"},{\"attributes\":{\"factors\":[\"3\",\"5\",\"10\"],\"palette\":[\"#1f77b3\",\"#ff7e0e\",\"#2ba02b\"]},\"id\":\"2241\",\"type\":\"CategoricalColorMapper\"},{\"attributes\":{\"active_drag\":\"auto\",\"active_inspect\":\"auto\",\"active_multi\":null,\"active_scroll\":\"auto\",\"active_tap\":\"auto\",\"tools\":[{\"id\":\"2211\"},{\"id\":\"2228\"},{\"id\":\"2229\"},{\"id\":\"2230\"},{\"id\":\"2231\"},{\"id\":\"2232\"}]},\"id\":\"2234\",\"type\":\"Toolbar\"},{\"attributes\":{\"source\":{\"id\":\"2242\"}},\"id\":\"2249\",\"type\":\"CDSView\"},{\"attributes\":{\"bottom_units\":\"screen\",\"fill_alpha\":0.5,\"fill_color\":\"lightgrey\",\"left_units\":\"screen\",\"level\":\"overlay\",\"line_alpha\":1.0,\"line_color\":\"black\",\"line_dash\":[4,4],\"line_width\":2,\"render_mode\":\"css\",\"right_units\":\"screen\",\"top_units\":\"screen\"},\"id\":\"2233\",\"type\":\"BoxAnnotation\"},{\"attributes\":{\"margin\":[5,5,5,5],\"name\":\"HSpacer04424\",\"sizing_mode\":\"stretch_width\"},\"id\":\"2208\",\"type\":\"Spacer\"},{\"attributes\":{\"fill_alpha\":{\"value\":0.2},\"fill_color\":{\"field\":\"Variable\",\"transform\":{\"id\":\"2241\"}},\"line_alpha\":{\"value\":0.2},\"top\":{\"field\":\"value\"},\"width\":{\"value\":0.8},\"x\":{\"field\":\"xoffsets\"}},\"id\":\"2247\",\"type\":\"VBar\"},{\"attributes\":{\"text\":\"Risk Statistics of Vanguard Target Retirement 2040 Fund\",\"text_color\":{\"value\":\"black\"},\"text_font_size\":{\"value\":\"12pt\"}},\"id\":\"2213\",\"type\":\"Title\"},{\"attributes\":{\"children\":[{\"id\":\"2208\"},{\"id\":\"2212\"},{\"id\":\"2264\"}],\"margin\":[0,0,0,0],\"name\":\"Row04420\",\"tags\":[\"embedded\"]},\"id\":\"2207\",\"type\":\"Row\"},{\"attributes\":{},\"id\":\"2217\",\"type\":\"CategoricalScale\"},{\"attributes\":{},\"id\":\"2230\",\"type\":\"WheelZoomTool\"},{\"attributes\":{},\"id\":\"2219\",\"type\":\"LinearScale\"},{\"attributes\":{\"below\":[{\"id\":\"2221\"}],\"center\":[{\"id\":\"2223\"},{\"id\":\"2227\"}],\"left\":[{\"id\":\"2224\"}],\"margin\":null,\"min_border_bottom\":10,\"min_border_left\":10,\"min_border_right\":10,\"min_border_top\":10,\"plot_width\":800,\"renderers\":[{\"id\":\"2248\"}],\"sizing_mode\":\"fixed\",\"title\":{\"id\":\"2213\"},\"toolbar\":{\"id\":\"2234\"},\"x_range\":{\"id\":\"2209\"},\"x_scale\":{\"id\":\"2217\"},\"y_range\":{\"id\":\"2210\"},\"y_scale\":{\"id\":\"2219\"}},\"id\":\"2212\",\"subtype\":\"Figure\",\"type\":\"Plot\"},{\"attributes\":{\"axis_label\":\"Risk Value\",\"bounds\":\"auto\",\"formatter\":{\"id\":\"2252\"},\"major_label_orientation\":\"horizontal\",\"ticker\":{\"id\":\"2225\"}},\"id\":\"2224\",\"type\":\"LinearAxis\"},{\"attributes\":{\"fill_color\":{\"field\":\"Variable\",\"transform\":{\"id\":\"2241\"}},\"top\":{\"field\":\"value\"},\"width\":{\"value\":0.8},\"x\":{\"field\":\"xoffsets\"}},\"id\":\"2245\",\"type\":\"VBar\"},{\"attributes\":{},\"id\":\"2225\",\"type\":\"BasicTicker\"},{\"attributes\":{\"axis\":{\"id\":\"2221\"},\"ticker\":{\"id\":\"2222\"}},\"id\":\"2223\",\"type\":\"Grid\"},{\"attributes\":{\"axis\":{\"id\":\"2224\"},\"dimension\":1,\"ticker\":{\"id\":\"2225\"}},\"id\":\"2227\",\"type\":\"Grid\"},{\"attributes\":{},\"id\":\"2222\",\"type\":\"CategoricalTicker\"},{\"attributes\":{\"margin\":[5,5,5,5],\"name\":\"HSpacer04425\",\"sizing_mode\":\"stretch_width\"},\"id\":\"2264\",\"type\":\"Spacer\"},{\"attributes\":{},\"id\":\"2228\",\"type\":\"SaveTool\"}],\"root_ids\":[\"2207\"]},\"title\":\"Bokeh Application\",\"version\":\"2.0.2\"}};\n",
       "  var render_items = [{\"docid\":\"e5029d62-c054-4d6f-813c-460040869748\",\"root_ids\":[\"2207\"],\"roots\":{\"2207\":\"44a04af7-f882-42a4-9137-440966374f7d\"}}];\n",
       "  root.Bokeh.embed.embed_items_notebook(docs_json, render_items);\n",
       "  }\n",
       "if (root.Bokeh !== undefined) {\n",
       "    embed_document(root);\n",
       "  } else {\n",
       "    var attempts = 0;\n",
       "    var timer = setInterval(function(root) {\n",
       "      if (root.Bokeh !== undefined) {\n",
       "        clearInterval(timer);\n",
       "        embed_document(root);\n",
       "      } else if (document.readyState == \"complete\") {\n",
       "        attempts++;\n",
       "        if (attempts > 100) {\n",
       "          clearInterval(timer);\n",
       "          console.log(\"Bokeh: ERROR: Unable to run BokehJS code because BokehJS library is missing\");\n",
       "        }\n",
       "      }\n",
       "    }, 10, root)\n",
       "  }\n",
       "})(window);</script>"
      ],
      "text/plain": [
       ":Bars   [Risk,Variable]   (value)"
      ]
     },
     "execution_count": 44,
     "metadata": {
      "application/vnd.holoviews_exec.v0+json": {
       "id": "2207"
      }
     },
     "output_type": "execute_result"
    }
   ],
   "source": [
    "## Plot the vanguard Target Retirement 2040 fund  Risk Statistics bar graph for 3,5 & 10 yrs\n",
    "vanguard_2040.hvplot.bar(x='Risk', \n",
    "                    y=['3', '5', '10'], \n",
    "                    width=800, \n",
    "                    height=600,  \n",
    "                    title='Risk Statistics of Vanguard Target Retirement 2040 Fund',\n",
    "                    ylim=(-2,100),\n",
    "                    xlabel='Time Period 3 yrs, 5yrs & 10yrs',\n",
    "                    ylabel='Risk Value',\n",
    "                    grid=True)"
   ]
  },
  {
   "cell_type": "code",
   "execution_count": 66,
   "id": "13c5abdd-50e7-4ee5-8f54-25df1591b244",
   "metadata": {},
   "outputs": [
    {
     "data": {
      "image/png": "[encoded data removed]",
      "text/plain": [
       "<Figure size 432x288 with 1 Axes>"
      ]
     },
     "metadata": {},
     "output_type": "display_data"
    }
   ],
   "source": [
    "# Pie chart, Asset Allocation for vanguard Target Retirement fund 2040\n",
    "labels = 'Stocks', 'Bonds', 'Short-term reserves'\n",
    "sizes = [79.83, 18.87, 1.30]\n",
    "#explode = (0.1, 0, 0, 0)  # only \"explode\" the 1st slice (i.e. 'Stocks')\n",
    "\n",
    "fig1, ax1 = plt.subplots()\n",
    "#ax1.pie(sizes, explode=explode, labels=labels, autopct='%1.1f%%',\n",
    " #       shadow=True, startangle=90)\n",
    "ax1.pie(sizes,labels=labels, autopct='%1.1f%%',\n",
    "        shadow=True, startangle=90)\n",
    "ax1.axis('equal')  # Equal aspect ratio ensures that pie is drawn as a circle.\n",
    "\n",
    "plt.show()"
   ]
  },
  {
   "cell_type": "markdown",
   "id": "3302b07f-d868-450a-bcbf-bc187ef29643",
   "metadata": {},
   "source": [
    "### Vanguard S&P 500 Predictions"
   ]
  },
  {
   "cell_type": "code",
   "execution_count": 45,
   "id": "8a69fb23-080a-4121-888c-e8a2c0c94369",
   "metadata": {},
   "outputs": [],
   "source": [
    "## Obtain the vangauard sp500 ETF from the CSV\n",
    "vanguard_sp500_path = Path('./Resources/vanguard_SP500_daily_returs.csv')\n",
    "vanguard_sp500_df = pd.read_csv(vanguard_sp500_path, parse_dates=True, index_col='Date')"
   ]
  },
  {
   "cell_type": "code",
   "execution_count": 46,
   "id": "91d4b916-c8e7-4185-a61d-8bdfa9416d0c",
   "metadata": {},
   "outputs": [
    {
     "data": {
      "text/html": [
       "<div>\n",
       "<style scoped>\n",
       "    .dataframe tbody tr th:only-of-type {\n",
       "        vertical-align: middle;\n",
       "    }\n",
       "\n",
       "    .dataframe tbody tr th {\n",
       "        vertical-align: top;\n",
       "    }\n",
       "\n",
       "    .dataframe thead th {\n",
       "        text-align: right;\n",
       "    }\n",
       "</style>\n",
       "<table border=\"1\" class=\"dataframe\">\n",
       "  <thead>\n",
       "    <tr style=\"text-align: right;\">\n",
       "      <th></th>\n",
       "      <th>Open</th>\n",
       "      <th>High</th>\n",
       "      <th>Low</th>\n",
       "      <th>Close</th>\n",
       "      <th>Adj Close</th>\n",
       "      <th>Volume</th>\n",
       "      <th>Return</th>\n",
       "      <th>Lagged_Return</th>\n",
       "    </tr>\n",
       "    <tr>\n",
       "      <th>Date</th>\n",
       "      <th></th>\n",
       "      <th></th>\n",
       "      <th></th>\n",
       "      <th></th>\n",
       "      <th></th>\n",
       "      <th></th>\n",
       "      <th></th>\n",
       "      <th></th>\n",
       "    </tr>\n",
       "  </thead>\n",
       "  <tbody>\n",
       "    <tr>\n",
       "      <th>2016-01-06</th>\n",
       "      <td>181.929993</td>\n",
       "      <td>183.380005</td>\n",
       "      <td>181.190002</td>\n",
       "      <td>182.300003</td>\n",
       "      <td>163.637115</td>\n",
       "      <td>2755100</td>\n",
       "      <td>-1.267329</td>\n",
       "      <td>0.179047</td>\n",
       "    </tr>\n",
       "    <tr>\n",
       "      <th>2016-01-07</th>\n",
       "      <td>179.149994</td>\n",
       "      <td>181.000000</td>\n",
       "      <td>177.500000</td>\n",
       "      <td>177.860001</td>\n",
       "      <td>159.651657</td>\n",
       "      <td>4952500</td>\n",
       "      <td>-2.435547</td>\n",
       "      <td>-1.267329</td>\n",
       "    </tr>\n",
       "    <tr>\n",
       "      <th>2016-01-08</th>\n",
       "      <td>178.970001</td>\n",
       "      <td>179.529999</td>\n",
       "      <td>175.649994</td>\n",
       "      <td>175.970001</td>\n",
       "      <td>157.955139</td>\n",
       "      <td>7357300</td>\n",
       "      <td>-1.062633</td>\n",
       "      <td>-2.435547</td>\n",
       "    </tr>\n",
       "    <tr>\n",
       "      <th>2016-01-11</th>\n",
       "      <td>177.039993</td>\n",
       "      <td>177.320007</td>\n",
       "      <td>174.059998</td>\n",
       "      <td>175.990005</td>\n",
       "      <td>157.973083</td>\n",
       "      <td>4493300</td>\n",
       "      <td>0.011368</td>\n",
       "      <td>-1.062633</td>\n",
       "    </tr>\n",
       "    <tr>\n",
       "      <th>2016-01-12</th>\n",
       "      <td>177.750000</td>\n",
       "      <td>178.360001</td>\n",
       "      <td>175.259995</td>\n",
       "      <td>177.449997</td>\n",
       "      <td>159.283646</td>\n",
       "      <td>2998800</td>\n",
       "      <td>0.829588</td>\n",
       "      <td>0.011368</td>\n",
       "    </tr>\n",
       "  </tbody>\n",
       "</table>\n",
       "</div>"
      ],
      "text/plain": [
       "                  Open        High         Low       Close   Adj Close  \\\n",
       "Date                                                                     \n",
       "2016-01-06  181.929993  183.380005  181.190002  182.300003  163.637115   \n",
       "2016-01-07  179.149994  181.000000  177.500000  177.860001  159.651657   \n",
       "2016-01-08  178.970001  179.529999  175.649994  175.970001  157.955139   \n",
       "2016-01-11  177.039993  177.320007  174.059998  175.990005  157.973083   \n",
       "2016-01-12  177.750000  178.360001  175.259995  177.449997  159.283646   \n",
       "\n",
       "             Volume    Return  Lagged_Return  \n",
       "Date                                          \n",
       "2016-01-06  2755100 -1.267329       0.179047  \n",
       "2016-01-07  4952500 -2.435547      -1.267329  \n",
       "2016-01-08  7357300 -1.062633      -2.435547  \n",
       "2016-01-11  4493300  0.011368      -1.062633  \n",
       "2016-01-12  2998800  0.829588       0.011368  "
      ]
     },
     "execution_count": 46,
     "metadata": {},
     "output_type": "execute_result"
    }
   ],
   "source": [
    "vanguard_sp500_df['Return'] = vanguard_sp500_df.Close.pct_change() * 100\n",
    "vanguard_sp500_df['Lagged_Return'] = vanguard_sp500_df.Return.shift()\n",
    "vanguard_sp500_df = vanguard_sp500_df.dropna()\n",
    "vanguard_sp500_df.head()"
   ]
  },
  {
   "cell_type": "markdown",
   "id": "f239dbc9-e122-45bf-b15e-6c0d80fda662",
   "metadata": {},
   "source": [
    "### Slice the data into Training and Testing data"
   ]
  },
  {
   "cell_type": "code",
   "execution_count": 47,
   "id": "a032cf8b-34d0-4ed8-9176-57eb4e477ff5",
   "metadata": {
    "tags": []
   },
   "outputs": [],
   "source": [
    "train_vanguard_sp500 = vanguard_sp500_df.loc['2016':'2020']\n",
    "\n",
    "test_vanguard_sp500 = vanguard_sp500_df.loc['2021']"
   ]
  },
  {
   "cell_type": "code",
   "execution_count": 48,
   "id": "e64b0a16-c8f8-469a-a446-31d59279ff79",
   "metadata": {},
   "outputs": [],
   "source": [
    "# Create dataframes for X_train and X_test\n",
    "# Create series for y_train and y_test\n",
    "# X_train (training set using just the independent variables), X_test (test set of of just the independent variables)\n",
    "# Y_train (training set using just the \"y\" variable, i.e., \"Futures Return\"), Y_test (test set of just the \"y\" variable):\n",
    "X_vanguard_sp500_train = train_vanguard_sp500[\"Lagged_Return\"].to_frame()\n",
    "X_vanguard_sp500_test = test_vanguard_sp500[\"Lagged_Return\"].to_frame()\n",
    "y_vanguard_sp500_train = train_vanguard_sp500[\"Return\"]\n",
    "y_vanguard_sp500_test = test_vanguard_sp500[\"Return\"]"
   ]
  },
  {
   "cell_type": "code",
   "execution_count": 49,
   "id": "c02fa537-57c9-40a0-9ccc-31dc7130c57f",
   "metadata": {},
   "outputs": [
    {
     "data": {
      "text/html": [
       "<div>\n",
       "<style scoped>\n",
       "    .dataframe tbody tr th:only-of-type {\n",
       "        vertical-align: middle;\n",
       "    }\n",
       "\n",
       "    .dataframe tbody tr th {\n",
       "        vertical-align: top;\n",
       "    }\n",
       "\n",
       "    .dataframe thead th {\n",
       "        text-align: right;\n",
       "    }\n",
       "</style>\n",
       "<table border=\"1\" class=\"dataframe\">\n",
       "  <thead>\n",
       "    <tr style=\"text-align: right;\">\n",
       "      <th></th>\n",
       "      <th>Lagged_Return</th>\n",
       "    </tr>\n",
       "    <tr>\n",
       "      <th>Date</th>\n",
       "      <th></th>\n",
       "    </tr>\n",
       "  </thead>\n",
       "  <tbody>\n",
       "    <tr>\n",
       "      <th>2016-01-06</th>\n",
       "      <td>0.179047</td>\n",
       "    </tr>\n",
       "    <tr>\n",
       "      <th>2016-01-07</th>\n",
       "      <td>-1.267329</td>\n",
       "    </tr>\n",
       "    <tr>\n",
       "      <th>2016-01-08</th>\n",
       "      <td>-2.435547</td>\n",
       "    </tr>\n",
       "    <tr>\n",
       "      <th>2016-01-11</th>\n",
       "      <td>-1.062633</td>\n",
       "    </tr>\n",
       "    <tr>\n",
       "      <th>2016-01-12</th>\n",
       "      <td>0.011368</td>\n",
       "    </tr>\n",
       "  </tbody>\n",
       "</table>\n",
       "</div>"
      ],
      "text/plain": [
       "            Lagged_Return\n",
       "Date                     \n",
       "2016-01-06       0.179047\n",
       "2016-01-07      -1.267329\n",
       "2016-01-08      -2.435547\n",
       "2016-01-11      -1.062633\n",
       "2016-01-12       0.011368"
      ]
     },
     "execution_count": 49,
     "metadata": {},
     "output_type": "execute_result"
    }
   ],
   "source": [
    "X_vanguard_sp500_train.head()"
   ]
  },
  {
   "cell_type": "code",
   "execution_count": 50,
   "id": "63ef3880-2578-4155-af0b-6dc5be76c20a",
   "metadata": {},
   "outputs": [
    {
     "data": {
      "text/plain": [
       "Date\n",
       "2016-01-06   -1.267329\n",
       "2016-01-07   -2.435547\n",
       "2016-01-08   -1.062633\n",
       "2016-01-11    0.011368\n",
       "2016-01-12    0.829588\n",
       "Name: Return, dtype: float64"
      ]
     },
     "execution_count": 50,
     "metadata": {},
     "output_type": "execute_result"
    }
   ],
   "source": [
    "y_vanguard_sp500_train.head()"
   ]
  },
  {
   "cell_type": "markdown",
   "id": "9eea93dc-3061-4b65-ada0-b4ab5c49f0b7",
   "metadata": {},
   "source": [
    "### Fit the model to the Training Data"
   ]
  },
  {
   "cell_type": "code",
   "execution_count": 51,
   "id": "1e7f9e11-fd68-4d61-9fff-33abbae59942",
   "metadata": {
    "tags": []
   },
   "outputs": [
    {
     "data": {
      "text/plain": [
       "LinearRegression()"
      ]
     },
     "execution_count": 51,
     "metadata": {},
     "output_type": "execute_result"
    }
   ],
   "source": [
    "#Fit a SKLearn linear regression using  just the training set (X_train, Y_train):\n",
    "model = LinearRegression()\n",
    "model.fit(X_vanguard_sp500_train, y_vanguard_sp500_train)"
   ]
  },
  {
   "cell_type": "markdown",
   "id": "380f170d-6495-46e0-93a4-2408b8472158",
   "metadata": {},
   "source": [
    "### Make predictions using the Testing Data"
   ]
  },
  {
   "cell_type": "code",
   "execution_count": 52,
   "id": "87e3148f-c6b2-4c0b-8c56-61087832b491",
   "metadata": {},
   "outputs": [],
   "source": [
    "# And make a prediction of \"y\" values for just the test dataset\n",
    "predictions = model.predict(X_vanguard_sp500_test)"
   ]
  },
  {
   "cell_type": "code",
   "execution_count": 53,
   "id": "f8d24023-4ffd-4233-b01a-26e1af96f9d7",
   "metadata": {},
   "outputs": [],
   "source": [
    "# Assemble actual y data (Y_test) with predicted y data (from just above) into two columns in a dataframe:\n",
    "Results_vanguard_sp500 = y_vanguard_sp500_test.to_frame()\n",
    "Results_vanguard_sp500[\"Predicted Return\"] = predictions"
   ]
  },
  {
   "cell_type": "code",
   "execution_count": 54,
   "id": "a36d3946-b72a-4722-89f4-2c2054170dcd",
   "metadata": {},
   "outputs": [
    {
     "data": {
      "text/html": [
       "<div>\n",
       "<style scoped>\n",
       "    .dataframe tbody tr th:only-of-type {\n",
       "        vertical-align: middle;\n",
       "    }\n",
       "\n",
       "    .dataframe tbody tr th {\n",
       "        vertical-align: top;\n",
       "    }\n",
       "\n",
       "    .dataframe thead th {\n",
       "        text-align: right;\n",
       "    }\n",
       "</style>\n",
       "<table border=\"1\" class=\"dataframe\">\n",
       "  <thead>\n",
       "    <tr style=\"text-align: right;\">\n",
       "      <th></th>\n",
       "      <th>Return</th>\n",
       "      <th>Predicted Return</th>\n",
       "    </tr>\n",
       "    <tr>\n",
       "      <th>Date</th>\n",
       "      <th></th>\n",
       "      <th></th>\n",
       "    </tr>\n",
       "  </thead>\n",
       "  <tbody>\n",
       "    <tr>\n",
       "      <th>2021-01-04</th>\n",
       "      <td>-1.355874</td>\n",
       "      <td>-0.056438</td>\n",
       "    </tr>\n",
       "    <tr>\n",
       "      <th>2021-01-05</th>\n",
       "      <td>0.657762</td>\n",
       "      <td>0.388844</td>\n",
       "    </tr>\n",
       "    <tr>\n",
       "      <th>2021-01-06</th>\n",
       "      <td>0.606569</td>\n",
       "      <td>-0.084535</td>\n",
       "    </tr>\n",
       "    <tr>\n",
       "      <th>2021-01-07</th>\n",
       "      <td>1.494191</td>\n",
       "      <td>-0.072500</td>\n",
       "    </tr>\n",
       "    <tr>\n",
       "      <th>2021-01-08</th>\n",
       "      <td>0.562481</td>\n",
       "      <td>-0.281168</td>\n",
       "    </tr>\n",
       "    <tr>\n",
       "      <th>2021-01-11</th>\n",
       "      <td>-0.653504</td>\n",
       "      <td>-0.062135</td>\n",
       "    </tr>\n",
       "    <tr>\n",
       "      <th>2021-01-12</th>\n",
       "      <td>0.008617</td>\n",
       "      <td>0.223727</td>\n",
       "    </tr>\n",
       "    <tr>\n",
       "      <th>2021-01-13</th>\n",
       "      <td>0.249884</td>\n",
       "      <td>0.068071</td>\n",
       "    </tr>\n",
       "    <tr>\n",
       "      <th>2021-01-14</th>\n",
       "      <td>-0.338078</td>\n",
       "      <td>0.011352</td>\n",
       "    </tr>\n",
       "    <tr>\n",
       "      <th>2021-01-15</th>\n",
       "      <td>-0.712954</td>\n",
       "      <td>0.149574</td>\n",
       "    </tr>\n",
       "  </tbody>\n",
       "</table>\n",
       "</div>"
      ],
      "text/plain": [
       "              Return  Predicted Return\n",
       "Date                                  \n",
       "2021-01-04 -1.355874         -0.056438\n",
       "2021-01-05  0.657762          0.388844\n",
       "2021-01-06  0.606569         -0.084535\n",
       "2021-01-07  1.494191         -0.072500\n",
       "2021-01-08  0.562481         -0.281168\n",
       "2021-01-11 -0.653504         -0.062135\n",
       "2021-01-12  0.008617          0.223727\n",
       "2021-01-13  0.249884          0.068071\n",
       "2021-01-14 -0.338078          0.011352\n",
       "2021-01-15 -0.712954          0.149574"
      ]
     },
     "execution_count": 54,
     "metadata": {},
     "output_type": "execute_result"
    }
   ],
   "source": [
    "Results_vanguard_sp500.head(10)"
   ]
  },
  {
   "cell_type": "code",
   "execution_count": 58,
   "id": "923b3cc2-b2fd-444f-94c0-f0a1c1db2498",
   "metadata": {},
   "outputs": [
    {
     "data": {
      "text/plain": [
       "array([<matplotlib.axes._subplots.AxesSubplot object at 0x7fd8fb43d340>,\n",
       "       <matplotlib.axes._subplots.AxesSubplot object at 0x7fd8fb4490d0>],\n",
       "      dtype=object)"
      ]
     },
     "execution_count": 58,
     "metadata": {},
     "output_type": "execute_result"
    },
    {
     "data": {
      "image/png": "[encoded data removed]",
      "text/plain": [
       "<Figure size 432x288 with 2 Axes>"
      ]
     },
     "metadata": {
      "needs_background": "light"
     },
     "output_type": "display_data"
    }
   ],
   "source": [
    "# Plot the post 40 predictions and actual returns separetely\n",
    "# The trends lines should be similar\n",
    "Results_vanguard_sp500[:20].plot(subplots=True)"
   ]
  },
  {
   "cell_type": "code",
   "execution_count": 60,
   "id": "d246a172-9aec-47f3-8bd8-4ea5f98c5d03",
   "metadata": {},
   "outputs": [
    {
     "data": {
      "text/plain": [
       "<matplotlib.axes._subplots.AxesSubplot at 0x7fd8fb50ee80>"
      ]
     },
     "execution_count": 60,
     "metadata": {},
     "output_type": "execute_result"
    },
    {
     "data": {
      "image/png": "[encoded data removed]",
      "text/plain": [
       "<Figure size 432x288 with 1 Axes>"
      ]
     },
     "metadata": {
      "needs_background": "light"
     },
     "output_type": "display_data"
    }
   ],
   "source": [
    "# Plot the post 40 predictions against the true values in the same plot to see how it performed\n",
    "# The lines should be as close as possible\n",
    "Results_vanguard_sp500[:20].plot()"
   ]
  },
  {
   "cell_type": "code",
   "execution_count": 182,
   "id": "8e65d22c-ae28-414d-89c3-7f3bb3f00d7a",
   "metadata": {},
   "outputs": [
    {
     "name": "stdout",
     "output_type": "stream",
     "text": [
      "Out-of-Sample Root Mean Squared Error (RMSE): 0.8024427377848183\n"
     ]
    }
   ],
   "source": [
    "# Calculate the mean_squared_error (MSE) on actual versus predicted test \"y\" \n",
    "# (Hint: use the dataframe above)\n",
    "mse = mean_squared_error(\n",
    "    Results_vanguard_sp500[\"Return\"],\n",
    "    Results_vanguard_sp500[\"Predicted Return\"]\n",
    ")\n",
    "\n",
    "# Using that mean-squared-error, calculate the root-mean-squared error (RMSE):\n",
    "rmse = np.sqrt(mse)\n",
    "print(f\"Out-of-Sample Root Mean Squared Error (RMSE): {rmse}\")"
   ]
  },
  {
   "cell_type": "code",
   "execution_count": 183,
   "id": "61f27567-4199-4bde-bd89-180c89c3e188",
   "metadata": {
    "tags": []
   },
   "outputs": [
    {
     "name": "stdout",
     "output_type": "stream",
     "text": [
      "In-sample Root Mean Squared Error (RMSE): 1.175842035824281\n"
     ]
    }
   ],
   "source": [
    "# Construct a dataframe using just the \"y\" training data:\n",
    "in_sample_results = y_vanguard_sp500_train.to_frame()\n",
    "\n",
    "# Add a column of \"in-sample\" predictions to that DataFrame:  \n",
    "in_sample_results[\"In-sample Predictions\"] = model.predict(X_vanguard_sp500_train)\n",
    "\n",
    "# Calculate in-sample mean_squared_error (for comparison to out-of-sample)\n",
    "in_sample_mse = mean_squared_error(\n",
    "    in_sample_results[\"Return\"],\n",
    "    in_sample_results[\"In-sample Predictions\"]\n",
    ")\n",
    "\n",
    "# Calculate in-sample root mean_squared_error (for comparison to out-of-sample)\n",
    "in_sample_rmse = np.sqrt(in_sample_mse)\n",
    "print(f\"In-sample Root Mean Squared Error (RMSE): {in_sample_rmse}\")"
   ]
  },
  {
   "cell_type": "code",
   "execution_count": 184,
   "id": "a32594f4-af38-4331-96ba-4eef78da4aa0",
   "metadata": {
    "tags": []
   },
   "outputs": [],
   "source": [
    "##hvplot.help('bar')"
   ]
  },
  {
   "cell_type": "markdown",
   "id": "64f1d5dd-2f40-4d45-9f07-4b37090079f5",
   "metadata": {},
   "source": [
    "## Vanguard Target Retirement 2040 fund Predictions"
   ]
  },
  {
   "cell_type": "code",
   "execution_count": 185,
   "id": "49b8cf2b-cc6b-4c7f-8ef6-ba395c674066",
   "metadata": {},
   "outputs": [],
   "source": [
    "## Obtain the vangauard Target Retirement 2040 fund from the CSV\n",
    "vanguard_2040_path = Path('./Resources/vanguard_2040_daily_returs.csv')\n",
    "vanguard_2040_df = pd.read_csv(vanguard_2040_path, parse_dates=True, index_col='Date')"
   ]
  },
  {
   "cell_type": "code",
   "execution_count": 186,
   "id": "83143235-9c14-4c7a-848d-09d5f36b7b8c",
   "metadata": {
    "tags": []
   },
   "outputs": [
    {
     "data": {
      "text/html": [
       "<div>\n",
       "<style scoped>\n",
       "    .dataframe tbody tr th:only-of-type {\n",
       "        vertical-align: middle;\n",
       "    }\n",
       "\n",
       "    .dataframe tbody tr th {\n",
       "        vertical-align: top;\n",
       "    }\n",
       "\n",
       "    .dataframe thead th {\n",
       "        text-align: right;\n",
       "    }\n",
       "</style>\n",
       "<table border=\"1\" class=\"dataframe\">\n",
       "  <thead>\n",
       "    <tr style=\"text-align: right;\">\n",
       "      <th></th>\n",
       "      <th>Open</th>\n",
       "      <th>High</th>\n",
       "      <th>Low</th>\n",
       "      <th>Close</th>\n",
       "      <th>Adj Close</th>\n",
       "      <th>Volume</th>\n",
       "      <th>Return</th>\n",
       "      <th>Lagged_Return</th>\n",
       "    </tr>\n",
       "    <tr>\n",
       "      <th>Date</th>\n",
       "      <th></th>\n",
       "      <th></th>\n",
       "      <th></th>\n",
       "      <th></th>\n",
       "      <th></th>\n",
       "      <th></th>\n",
       "      <th></th>\n",
       "      <th></th>\n",
       "    </tr>\n",
       "  </thead>\n",
       "  <tbody>\n",
       "    <tr>\n",
       "      <th>2015-01-06</th>\n",
       "      <td>29.010000</td>\n",
       "      <td>29.010000</td>\n",
       "      <td>29.010000</td>\n",
       "      <td>29.010000</td>\n",
       "      <td>25.196285</td>\n",
       "      <td>0</td>\n",
       "      <td>-0.820512</td>\n",
       "      <td>-1.614529</td>\n",
       "    </tr>\n",
       "    <tr>\n",
       "      <th>2015-01-07</th>\n",
       "      <td>29.290001</td>\n",
       "      <td>29.290001</td>\n",
       "      <td>29.290001</td>\n",
       "      <td>29.290001</td>\n",
       "      <td>25.439478</td>\n",
       "      <td>0</td>\n",
       "      <td>0.965187</td>\n",
       "      <td>-0.820512</td>\n",
       "    </tr>\n",
       "    <tr>\n",
       "      <th>2015-01-08</th>\n",
       "      <td>29.730000</td>\n",
       "      <td>29.730000</td>\n",
       "      <td>29.730000</td>\n",
       "      <td>29.730000</td>\n",
       "      <td>25.821632</td>\n",
       "      <td>0</td>\n",
       "      <td>1.502214</td>\n",
       "      <td>0.965187</td>\n",
       "    </tr>\n",
       "    <tr>\n",
       "      <th>2015-01-09</th>\n",
       "      <td>29.540001</td>\n",
       "      <td>29.540001</td>\n",
       "      <td>29.540001</td>\n",
       "      <td>29.540001</td>\n",
       "      <td>25.656612</td>\n",
       "      <td>0</td>\n",
       "      <td>-0.639080</td>\n",
       "      <td>1.502214</td>\n",
       "    </tr>\n",
       "    <tr>\n",
       "      <th>2015-01-12</th>\n",
       "      <td>29.389999</td>\n",
       "      <td>29.389999</td>\n",
       "      <td>29.389999</td>\n",
       "      <td>29.389999</td>\n",
       "      <td>25.526329</td>\n",
       "      <td>0</td>\n",
       "      <td>-0.507791</td>\n",
       "      <td>-0.639080</td>\n",
       "    </tr>\n",
       "  </tbody>\n",
       "</table>\n",
       "</div>"
      ],
      "text/plain": [
       "                 Open       High        Low      Close  Adj Close  Volume  \\\n",
       "Date                                                                        \n",
       "2015-01-06  29.010000  29.010000  29.010000  29.010000  25.196285       0   \n",
       "2015-01-07  29.290001  29.290001  29.290001  29.290001  25.439478       0   \n",
       "2015-01-08  29.730000  29.730000  29.730000  29.730000  25.821632       0   \n",
       "2015-01-09  29.540001  29.540001  29.540001  29.540001  25.656612       0   \n",
       "2015-01-12  29.389999  29.389999  29.389999  29.389999  25.526329       0   \n",
       "\n",
       "              Return  Lagged_Return  \n",
       "Date                                 \n",
       "2015-01-06 -0.820512      -1.614529  \n",
       "2015-01-07  0.965187      -0.820512  \n",
       "2015-01-08  1.502214       0.965187  \n",
       "2015-01-09 -0.639080       1.502214  \n",
       "2015-01-12 -0.507791      -0.639080  "
      ]
     },
     "execution_count": 186,
     "metadata": {},
     "output_type": "execute_result"
    }
   ],
   "source": [
    "## Calculate and Add the return & Lagged Return column to the dataframe\n",
    "vanguard_2040_df['Return'] = vanguard_2040_df.Close.pct_change() * 100\n",
    "vanguard_2040_df['Lagged_Return'] = vanguard_2040_df.Return.shift()\n",
    "vanguard_2040_df = vanguard_2040_df.dropna()\n",
    "vanguard_2040_df.head()"
   ]
  },
  {
   "cell_type": "markdown",
   "id": "5e823460-3407-4961-b689-4148db8ae5b2",
   "metadata": {},
   "source": [
    "### Slice the data into Training and Testing data"
   ]
  },
  {
   "cell_type": "code",
   "execution_count": 187,
   "id": "8a43c087-1bb3-4f72-b0c2-9078775acaa7",
   "metadata": {},
   "outputs": [],
   "source": [
    "train_vanguard_2040 = vanguard_2040_df.loc['2016':'2020']\n",
    "\n",
    "test_vanguard_2040 = vanguard_2040_df.loc['2021']"
   ]
  },
  {
   "cell_type": "code",
   "execution_count": 188,
   "id": "cfdbf5ac-6179-4b6a-8fa0-cd696948a333",
   "metadata": {},
   "outputs": [],
   "source": [
    "# Create dataframes for X_train and X_test\n",
    "# Create series for y_train and y_test\n",
    "# X_train (training set using just the independent variables), X_test (test set of of just the independent variables)\n",
    "# Y_train (training set using just the \"y\" variable, i.e., \"Futures Return\"), Y_test (test set of just the \"y\" variable):\n",
    "X_vanguard_2040_train = train_vanguard_2040[\"Lagged_Return\"].to_frame()\n",
    "X_vanguard_2040_test = test_vanguard_2040[\"Lagged_Return\"].to_frame()\n",
    "y_vanguard_2040_train = train_vanguard_2040[\"Return\"]\n",
    "y_vanguard_2040_test = test_vanguard_2040[\"Return\"]"
   ]
  },
  {
   "cell_type": "code",
   "execution_count": 189,
   "id": "29ac44b5-cbae-46ce-be79-821881d41e7e",
   "metadata": {},
   "outputs": [
    {
     "data": {
      "text/html": [
       "<div>\n",
       "<style scoped>\n",
       "    .dataframe tbody tr th:only-of-type {\n",
       "        vertical-align: middle;\n",
       "    }\n",
       "\n",
       "    .dataframe tbody tr th {\n",
       "        vertical-align: top;\n",
       "    }\n",
       "\n",
       "    .dataframe thead th {\n",
       "        text-align: right;\n",
       "    }\n",
       "</style>\n",
       "<table border=\"1\" class=\"dataframe\">\n",
       "  <thead>\n",
       "    <tr style=\"text-align: right;\">\n",
       "      <th></th>\n",
       "      <th>Lagged_Return</th>\n",
       "    </tr>\n",
       "    <tr>\n",
       "      <th>Date</th>\n",
       "      <th></th>\n",
       "    </tr>\n",
       "  </thead>\n",
       "  <tbody>\n",
       "    <tr>\n",
       "      <th>2016-01-04</th>\n",
       "      <td>-0.767350</td>\n",
       "    </tr>\n",
       "    <tr>\n",
       "      <th>2016-01-05</th>\n",
       "      <td>-1.476274</td>\n",
       "    </tr>\n",
       "    <tr>\n",
       "      <th>2016-01-06</th>\n",
       "      <td>0.035677</td>\n",
       "    </tr>\n",
       "    <tr>\n",
       "      <th>2016-01-07</th>\n",
       "      <td>-1.176897</td>\n",
       "    </tr>\n",
       "    <tr>\n",
       "      <th>2016-01-08</th>\n",
       "      <td>-2.020929</td>\n",
       "    </tr>\n",
       "  </tbody>\n",
       "</table>\n",
       "</div>"
      ],
      "text/plain": [
       "            Lagged_Return\n",
       "Date                     \n",
       "2016-01-04      -0.767350\n",
       "2016-01-05      -1.476274\n",
       "2016-01-06       0.035677\n",
       "2016-01-07      -1.176897\n",
       "2016-01-08      -2.020929"
      ]
     },
     "execution_count": 189,
     "metadata": {},
     "output_type": "execute_result"
    }
   ],
   "source": [
    "X_vanguard_2040_train.head()"
   ]
  },
  {
   "cell_type": "code",
   "execution_count": 174,
   "id": "c1c6e43a-19c2-442d-9c3f-04b219ee91af",
   "metadata": {},
   "outputs": [
    {
     "data": {
      "text/plain": [
       "Date\n",
       "2016-01-04   -1.476274\n",
       "2016-01-05    0.035677\n",
       "2016-01-06   -1.176897\n",
       "2016-01-07   -2.020929\n",
       "2016-01-08   -0.957644\n",
       "Name: Return, dtype: float64"
      ]
     },
     "execution_count": 174,
     "metadata": {},
     "output_type": "execute_result"
    }
   ],
   "source": [
    "y_vanguard_2040_train.head()"
   ]
  },
  {
   "cell_type": "markdown",
   "id": "f571e866-e53b-449c-9430-6d01aa103c23",
   "metadata": {},
   "source": [
    "### Fit the model to the Training Data"
   ]
  },
  {
   "cell_type": "code",
   "execution_count": 190,
   "id": "2244f141-38f8-43e0-8687-4a27ee39bc8c",
   "metadata": {},
   "outputs": [
    {
     "data": {
      "text/plain": [
       "LinearRegression()"
      ]
     },
     "execution_count": 190,
     "metadata": {},
     "output_type": "execute_result"
    }
   ],
   "source": [
    "#Fit a SKLearn linear regression using  just the training set (X_train, Y_train):\n",
    "model = LinearRegression()\n",
    "model.fit(X_vanguard_2040_train, y_vanguard_2040_train)"
   ]
  },
  {
   "cell_type": "markdown",
   "id": "3eef67cf-5dae-4d5f-aaa5-773752d4d707",
   "metadata": {},
   "source": [
    "### Make predictions using the Testing Data"
   ]
  },
  {
   "cell_type": "code",
   "execution_count": 191,
   "id": "602354e1-441f-4d23-92d6-1a4bcc7a975f",
   "metadata": {},
   "outputs": [],
   "source": [
    "# And make a prediction of \"y\" values for just the test dataset\n",
    "predictions = model.predict(X_vanguard_2040_test)"
   ]
  },
  {
   "cell_type": "code",
   "execution_count": 192,
   "id": "a5b42e92-d527-4dfa-83ca-8df83b73a3d9",
   "metadata": {},
   "outputs": [],
   "source": [
    "# Assemble actual y data (Y_test) with predicted y data (from just above) into two columns in a dataframe:\n",
    "Results_vanguard_2040 = y_vanguard_2040_test.to_frame()\n",
    "Results_vanguard_2040[\"Predicted Return\"] = predictions"
   ]
  },
  {
   "cell_type": "code",
   "execution_count": 193,
   "id": "0ea77095-fb3e-4bac-9bdb-eaca40d3fde7",
   "metadata": {},
   "outputs": [
    {
     "data": {
      "text/html": [
       "<div>\n",
       "<style scoped>\n",
       "    .dataframe tbody tr th:only-of-type {\n",
       "        vertical-align: middle;\n",
       "    }\n",
       "\n",
       "    .dataframe tbody tr th {\n",
       "        vertical-align: top;\n",
       "    }\n",
       "\n",
       "    .dataframe thead th {\n",
       "        text-align: right;\n",
       "    }\n",
       "</style>\n",
       "<table border=\"1\" class=\"dataframe\">\n",
       "  <thead>\n",
       "    <tr style=\"text-align: right;\">\n",
       "      <th></th>\n",
       "      <th>Return</th>\n",
       "      <th>Predicted Return</th>\n",
       "    </tr>\n",
       "    <tr>\n",
       "      <th>Date</th>\n",
       "      <th></th>\n",
       "      <th></th>\n",
       "    </tr>\n",
       "  </thead>\n",
       "  <tbody>\n",
       "    <tr>\n",
       "      <th>2021-01-04</th>\n",
       "      <td>-0.632480</td>\n",
       "      <td>0.015030</td>\n",
       "    </tr>\n",
       "    <tr>\n",
       "      <th>2021-01-05</th>\n",
       "      <td>0.841098</td>\n",
       "      <td>0.156428</td>\n",
       "    </tr>\n",
       "    <tr>\n",
       "      <th>2021-01-06</th>\n",
       "      <td>0.450858</td>\n",
       "      <td>-0.099695</td>\n",
       "    </tr>\n",
       "    <tr>\n",
       "      <th>2021-01-07</th>\n",
       "      <td>0.964992</td>\n",
       "      <td>-0.031868</td>\n",
       "    </tr>\n",
       "    <tr>\n",
       "      <th>2021-01-08</th>\n",
       "      <td>0.600126</td>\n",
       "      <td>-0.121230</td>\n",
       "    </tr>\n",
       "    <tr>\n",
       "      <th>2021-01-11</th>\n",
       "      <td>-0.640736</td>\n",
       "      <td>-0.057812</td>\n",
       "    </tr>\n",
       "    <tr>\n",
       "      <th>2021-01-12</th>\n",
       "      <td>0.355792</td>\n",
       "      <td>0.157863</td>\n",
       "    </tr>\n",
       "    <tr>\n",
       "      <th>2021-01-13</th>\n",
       "      <td>0.088626</td>\n",
       "      <td>-0.015344</td>\n",
       "    </tr>\n",
       "    <tr>\n",
       "      <th>2021-01-14</th>\n",
       "      <td>0.154978</td>\n",
       "      <td>0.031092</td>\n",
       "    </tr>\n",
       "    <tr>\n",
       "      <th>2021-01-15</th>\n",
       "      <td>-0.839967</td>\n",
       "      <td>0.019560</td>\n",
       "    </tr>\n",
       "  </tbody>\n",
       "</table>\n",
       "</div>"
      ],
      "text/plain": [
       "              Return  Predicted Return\n",
       "Date                                  \n",
       "2021-01-04 -0.632480          0.015030\n",
       "2021-01-05  0.841098          0.156428\n",
       "2021-01-06  0.450858         -0.099695\n",
       "2021-01-07  0.964992         -0.031868\n",
       "2021-01-08  0.600126         -0.121230\n",
       "2021-01-11 -0.640736         -0.057812\n",
       "2021-01-12  0.355792          0.157863\n",
       "2021-01-13  0.088626         -0.015344\n",
       "2021-01-14  0.154978          0.031092\n",
       "2021-01-15 -0.839967          0.019560"
      ]
     },
     "execution_count": 193,
     "metadata": {},
     "output_type": "execute_result"
    }
   ],
   "source": [
    "Results_vanguard_2040.head(10)"
   ]
  },
  {
   "cell_type": "code",
   "execution_count": 194,
   "id": "a0ffaa9a-eda4-455c-84a8-d2fb6e3083cb",
   "metadata": {},
   "outputs": [
    {
     "data": {
      "text/plain": [
       "array([<matplotlib.axes._subplots.AxesSubplot object at 0x7fd004c2f400>,\n",
       "       <matplotlib.axes._subplots.AxesSubplot object at 0x7fd01feb4cd0>],\n",
       "      dtype=object)"
      ]
     },
     "execution_count": 194,
     "metadata": {},
     "output_type": "execute_result"
    },
    {
     "data": {
      "image/png": "[encoded data removed]",
      "text/plain": [
       "<Figure size 432x288 with 2 Axes>"
      ]
     },
     "metadata": {
      "needs_background": "light"
     },
     "output_type": "display_data"
    }
   ],
   "source": [
    "# Plot the post 40 predictions and actual returns separetely\n",
    "# The trends lines should be similar\n",
    "Results_vanguard_2040[40:].plot(subplots=True)"
   ]
  },
  {
   "cell_type": "code",
   "execution_count": 195,
   "id": "7f21f8f3-e9f7-4bac-a5b5-f58bde4a439f",
   "metadata": {},
   "outputs": [
    {
     "data": {
      "text/plain": [
       "<matplotlib.axes._subplots.AxesSubplot at 0x7fd00494ed60>"
      ]
     },
     "execution_count": 195,
     "metadata": {},
     "output_type": "execute_result"
    },
    {
     "data": {
      "image/png": "[encoded data removed]",
      "text/plain": [
       "<Figure size 432x288 with 1 Axes>"
      ]
     },
     "metadata": {
      "needs_background": "light"
     },
     "output_type": "display_data"
    }
   ],
   "source": [
    "# Plot the post 40 predictions against the true values in the same plot to see how it performed\n",
    "# The lines should be as close as possible\n",
    "Results_vanguard_2040[40:].plot()"
   ]
  },
  {
   "cell_type": "code",
   "execution_count": 196,
   "id": "51ecec6b-bdca-4b29-b6c0-57d2fd1938de",
   "metadata": {
    "tags": []
   },
   "outputs": [
    {
     "name": "stdout",
     "output_type": "stream",
     "text": [
      "Out-of-Sample Root Mean Squared Error (RMSE): 0.6386845307976418\n"
     ]
    }
   ],
   "source": [
    "# Calculate the mean_squared_error (MSE) on actual versus predicted test \"y\" \n",
    "# (Hint: use the dataframe above)\n",
    "mse = mean_squared_error(\n",
    "    Results_vanguard_2040[\"Return\"],\n",
    "    Results_vanguard_2040[\"Predicted Return\"]\n",
    ")\n",
    "\n",
    "# Using that mean-squared-error, calculate the root-mean-squared error (RMSE):\n",
    "rmse = np.sqrt(mse)\n",
    "print(f\"Out-of-Sample Root Mean Squared Error (RMSE): {rmse}\")"
   ]
  },
  {
   "cell_type": "code",
   "execution_count": 197,
   "id": "65e7a3b4-0a07-4536-955a-e610e8b60232",
   "metadata": {},
   "outputs": [
    {
     "name": "stdout",
     "output_type": "stream",
     "text": [
      "In-sample Root Mean Squared Error (RMSE): 0.9400404842482671\n"
     ]
    }
   ],
   "source": [
    "# Construct a dataframe using just the \"y\" training data:\n",
    "in_sample_results = y_vanguard_2040_train.to_frame()\n",
    "\n",
    "# Add a column of \"in-sample\" predictions to that DataFrame:  \n",
    "in_sample_results[\"In-sample Predictions\"] = model.predict(X_vanguard_2040_train)\n",
    "\n",
    "# Calculate in-sample mean_squared_error (for comparison to out-of-sample)\n",
    "in_sample_mse = mean_squared_error(\n",
    "    in_sample_results[\"Return\"],\n",
    "    in_sample_results[\"In-sample Predictions\"]\n",
    ")\n",
    "\n",
    "# Calculate in-sample root mean_squared_error (for comparison to out-of-sample)\n",
    "in_sample_rmse = np.sqrt(in_sample_mse)\n",
    "print(f\"In-sample Root Mean Squared Error (RMSE): {in_sample_rmse}\")"
   ]
  }
 ],
 "metadata": {
  "kernelspec": {
   "display_name": "Python 3 (ipykernel)",
   "language": "python",
   "name": "python3"
  },
  "language_info": {
   "codemirror_mode": {
    "name": "ipython",
    "version": 3
   },
   "file_extension": ".py",
   "mimetype": "text/x-python",
   "name": "python",
   "nbconvert_exporter": "python",
   "pygments_lexer": "ipython3",
   "version": "3.8.2"
  }
 },
 "nbformat": 4,
 "nbformat_minor": 5
}
